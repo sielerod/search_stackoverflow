{
  "cells": [
    {
      "cell_type": "markdown",
      "metadata": {
        "id": "view-in-github",
        "colab_type": "text"
      },
      "source": [
        "<a href=\"https://colab.research.google.com/github/sielerod/search_stackoverflow/blob/master/Read_Stackoverflow.ipynb\" target=\"_parent\"><img src=\"https://colab.research.google.com/assets/colab-badge.svg\" alt=\"Open In Colab\"/></a>"
      ]
    },
    {
      "cell_type": "markdown",
      "metadata": {},
      "source": [
        "TESTES"
      ]
    },
    {
      "cell_type": "code",
      "execution_count": 1,
      "metadata": {},
      "outputs": [],
      "source": [
        "def cleanhtml(raw_html):\n",
        "  cleanr = re.compile('<.*?>|&[.*?]')\n",
        "  cleantext = re.sub(cleanr, '', raw_html)\n",
        "  return cleantext\n",
        "\n"
      ]
    },
    {
      "cell_type": "markdown",
      "metadata": {
        "id": "OhI60Te7lUP1",
        "colab_type": "text"
      },
      "source": [
        "#**Objetivo:**   \n",
        "* Capturar as perguntas mais frequentes sobre Python no stackoverflow\n",
        "* Armazenar para cada pergunta: link, breve descrição da pergunta, quantidade de votos e visualizações, pergunta, respostas com melhor avaliação\n",
        "\n",
        "\n",
        "**Fonte:** https://stackoverflow.com/questions/\n"
      ]
    },
    {
      "cell_type": "code",
      "metadata": {
        "id": "wTKKIbRrd_fr",
        "colab_type": "code",
        "colab": {},
        "tags": []
      },
      "source": [
        "import numpy as np \n",
        "import pandas as pd\n",
        "import streamlit as st\n",
        "import plotly.express as px\n",
        "\n",
        "import requests # Getting Webpage content\n",
        "from requests.exceptions import HTTPError\n",
        "from bs4 import BeautifulSoup as bs # Scraping webpages\n",
        "from time import sleep\n",
        "\n",
        "import re #biblioteca para trabalhar com regular expressions - regex\n",
        "import string\n",
        "import unidecode\n",
        "\n",
        "import nltk\n",
        "#nltk.download('punkt')\n",
        "#nltk.download('stopwords')\n",
        "#from nltk.stem import RSLPStemmer #Stemming Portugues\n",
        "#from nltk.stem import PorterStemmer #Stemming Ingles com algoritmo de Porter > the least aggressive algorithm\n",
        "from nltk.stem import SnowballStemmer #Stemming: Porter2 >  more aggressive than the Porter stemmer, Slightly faster, \n",
        "#from nltk.stem import WordNetLemmatizer\n",
        "from nltk.tokenize import word_tokenize\n",
        "from nltk.tokenize import RegexpTokenizer\n",
        "from nltk.corpus import stopwords\n"
      ],
      "execution_count": 3,
      "outputs": []
    },
    {
      "cell_type": "markdown",
      "metadata": {
        "id": "3pe2opv4SYoR",
        "colab_type": "text"
      },
      "source": [
        "#Leitura do dado cru no Stackoverflow\n",
        "**read_stackoverflow_overview(tags=[], tab='Frequent', pages)**\n",
        "\n",
        "Leitura do resumo das perguntas mais frequentes no stackoverflow com base em alguns parâmetros de busca. \n",
        "\n",
        "Retorna um objeto requests contendo o resultado de requests.get\n",
        "\n",
        "* tags: argumento opcional com lista  de strings contendo os tipos de pergunta para seleação. Ex.: ['python', 'php', 'javascript']\n",
        ">ex. de URL para página com mais de 1 tag: https://stackoverflow.com/questions/tagged/sql+sql-server?tab=Frequent\n",
        "\n",
        "* tab: string com tipo de ordenação a ser aplicado, pode ser:\n",
        "'Frequent' (opção default), 'Votes', 'Unanswered', 'Bounties', 'Active', 'Newest'\n",
        "\n",
        "* Selector: seleção dos trechos do html a serem retornados. Por default, será question-summary\n",
        "\n",
        "* pages: número de páginas para leitura\n",
        "\n"
      ]
    },
    {
      "cell_type": "code",
      "metadata": {
        "id": "XYnP7RwH0h9O",
        "colab_type": "code",
        "colab": {}
      },
      "source": [
        "def read_stackoverflow_overview(tags=[], tab='Frequent', pages=5):\n",
        "  link = 'https://stackoverflow.com/questions'\n",
        "  selector='question-summary'\n",
        "  \n",
        "  if tags:\n",
        "    tags_link = '/tagged/'\n",
        "    pre=''\n",
        "    for t in tags:\n",
        "      tags_link += pre + t\n",
        "      pre = '+' \n",
        "    link += tags_link\n",
        "\n",
        "  link += '?tab='+tab\n",
        "\n",
        "  questions_text = ''\n",
        "  soup_selection = []\n",
        "  for page in range(1,pages+1):\n",
        "    page_link = '&page='+str(page)\n",
        "\n",
        "    try:\n",
        "      request = requests.get(link+page_link)\n",
        "      request.raise_for_status()\n",
        "      #questions_text += request.text\n",
        "      try:\n",
        "        soup = bs(request.text, 'html.parser')\n",
        "        soup_selection.append(soup.select('.'+selector))\n",
        "      except: print (\"Could not transform to soup object by selecting \",selector)\n",
        "    except HTTPError:\n",
        "      print (\"Could not download page \", page)\n",
        "\n",
        "    sleep(0.05)\n",
        "\n",
        "  return soup_selection\n"
      ],
      "execution_count": 4,
      "outputs": []
    },
    {
      "cell_type": "code",
      "metadata": {
        "id": "s_R5A2tBAqrW",
        "colab_type": "code",
        "colab": {
          "base_uri": "https://localhost:8080/",
          "height": 34
        },
        "outputId": "8619f248-a44d-41b7-8c9f-59fa83a71b87"
      },
      "source": [
        "questions_overview_raw = read_stackoverflow_overview(tags=['python','django'],tab='Frequent',pages=2)\n",
        "type(questions_overview_raw)"
      ],
      "execution_count": 5,
      "outputs": [
        {
          "output_type": "execute_result",
          "data": {
            "text/plain": "list"
          },
          "metadata": {},
          "execution_count": 5
        }
      ]
    },
    {
      "cell_type": "markdown",
      "metadata": {
        "id": "21u58D6xwFkU",
        "colab_type": "text"
      },
      "source": [
        "#Transformação do dado cru coletado do Stackoverflow em dicionário\n",
        "**questions_overview(questions_overview_raw)**\n",
        "\n",
        "O dicionário deve conter a visão geral das perguntas do stackoverflow, com:\n",
        "\n",
        "* link\n",
        "* brief_description\n",
        "* votes\n",
        "* views"
      ]
    },
    {
      "cell_type": "markdown",
      "metadata": {
        "id": "6Fj83JnZmFtH",
        "colab_type": "text"
      },
      "source": [
        "###Análise do padrão da página HTML para captura de informações relevantes:\n",
        "\n",
        "Em \"question-summary\", temos as seguintes informações relevantes:\n",
        "\n",
        "1.   class = statscontainer, com:\n",
        "*   Número de votos em class=\"vote-count-post \"\n",
        ">```<span class=\"vote-count-post high-scored-post\"><strong>2473</strong></span>```\n",
        "\n",
        "*   Número de respostas aceitas em class=\"status answered-accepted\" \n",
        ">```<div class=\"status answered-accepted\"><strong>23</strong>answers</div>```\n",
        "\n",
        "*   Conteúdo e Title contendo quantidade de views em class=\"views supernova\" \n",
        ">```<div class=\"views supernova\" title=\"307,292 views\">307k views</div>```\n",
        "\n",
        "2.   class = summary, com:\n",
        "* class=\"question-hyperlink\" contendo em *href* parte do link para compor link de acesso à página detalhada da pergunta e Título da pergunta\n",
        ">``` <a href=\"/questions/15112125/how-to-test-multiple-variables-against-a-value\" class=\"question-hyperlink\">How to test multiple variables against a value?</a>```\n",
        "\n",
        "*   Breve resumo em class=\"excerpt\"\n",
        ">```<div class=\"excerpt\"> brief description of the question ...</div>```\n",
        "\n",
        "*   Tags em class=\"post-tag\"\n",
        ">```<a href=\"/questions/tagged/python\" class=\"post-tag\" title=\"show questions tagged 'python'\" rel=\"tag\">python</a>```\n",
        "\n",
        "\n",
        "\n"
      ]
    },
    {
      "cell_type": "code",
      "metadata": {
        "id": "Dn7tUYRxBHT6",
        "colab_type": "code",
        "colab": {}
      },
      "source": [
        "questions_overview_raw"
      ],
      "execution_count": 6,
      "outputs": [
        {
          "output_type": "execute_result",
          "data": {
            "text/plain": "\"relativetime\" title=\"2009-08-23 03:52:07Z\">Aug 23 '09 at 3:52</span>\n  </div>\n  <div class=\"user-gravatar32\">\n  <a href=\"/users/153445/xidobix\"><div class=\"gravatar-wrapper-32\"><img alt=\"\" class=\"bar-sm\" height=\"32\" src=\"https://www.gravatar.com/avatar/0fb1bc68e6116cf69286944b9e5a5694?s=32&amp;d=identicon&amp;r=PG\" width=\"32\"/></div></a>\n  </div>\n  <div class=\"user-details\">\n  <a href=\"/users/153445/xidobix\">Xidobix</a>\n  <div class=\"-flair\">\n  <span class=\"reputation-score\" dir=\"ltr\" title=\"reputation score \">2,028</span><span aria-hidden=\"true\" title=\"3 gold badges\"><span class=\"badge1\"></span><span class=\"badgecount\">3</span></span><span class=\"v-visible-sr\">3 gold badges</span><span aria-hidden=\"true\" title=\"15 silver badges\"><span class=\"badge2\"></span><span class=\"badgecount\">15</span></span><span class=\"v-visible-sr\">15 silver badges</span><span aria-hidden=\"true\" title=\"10 bronze badges\"><span class=\"badge3\"></span><span class=\"badgecount\">10</span></span><span class=\"v-visible-sr\">10 bronze badges</span>\n  </div>\n  </div>\n  </div>\n  </div>\n  </div>\n  </div>, <div class=\"question-summary\" id=\"question-summary-275174\">\n  <div class=\"statscontainer\">\n  <div class=\"stats\">\n  <div class=\"vote\">\n  <div class=\"votes\">\n  <span class=\"vote-count-post\"><strong>128</strong></span>\n  <div class=\"viewcount\">votes</div>\n  </div>\n  </div>\n  <div class=\"status answered-accepted\">\n  <strong>15</strong>answers\n              </div>\n  </div>\n  <div class=\"views supernova\" title=\"173,859 views\">\n      174k views\n  </div>\n  </div>\n  <div class=\"summary\">\n  <h3><a class=\"question-hyperlink\" href=\"/questions/275174/how-do-i-perform-html-decoding-encoding-using-python-django\">How do I perform HTML decoding/encoding using Python/Django?</a></h3>\n  <div class=\"excerpt\">\n              I have a string that is HTML encoded: \n  \n  '''&amp;lt;img class=&amp;quot;size-medium wp-image-113&amp;quot;\\\n   style=&amp;quot;margin-left: 15px;&amp;quot; title=&amp;quot;su1&amp;quot;\\\n   src=&amp;quot;...\n          </div>\n  <div class=\"tags t-python t-django t-html-encode\">\n  <a class=\"post-tag\" href=\"/questions/tagged/python\" rel=\"tag\" title=\"show questions tagged 'python'\">python</a> <a class=\"post-tag\" href=\"/questions/tagged/django\" rel=\"tag\" title=\"show questions tagged 'django'\">django</a> <a class=\"post-tag\" href=\"/questions/tagged/html-encode\" rel=\"tag\" title=\"show questions tagged 'html-encode'\">html-encode</a>\n  </div>\n  <div class=\"started fr\">\n  <div class=\"user-info\">\n  <div class=\"user-action-time\">\n          asked <span class=\"relativetime\" title=\"2008-11-08 20:44:30Z\">Nov 8 '08 at 20:44</span>\n  </div>\n  <div class=\"user-gravatar32\">\n  <a href=\"/users/23695/rksprst\"><div class=\"gravatar-wrapper-32\"><img alt=\"\" class=\"bar-sm\" height=\"32\" src=\"https://www.gravatar.com/avatar/0e452395000a93c90a1858f2e791882d?s=32&amp;d=identicon&amp;r=PG\" width=\"32\"/></div></a>\n  </div>\n  <div class=\"user-details\">\n  <a href=\"/users/23695/rksprst\">rksprst</a>\n  <div class=\"-flair\">\n  <span class=\"reputation-score\" dir=\"ltr\" title=\"reputation score \">5,971</span><span aria-hidden=\"true\" title=\"18 gold badges\"><span class=\"badge1\"></span><span class=\"badgecount\">18</span></span><span class=\"v-visible-sr\">18 gold badges</span><span aria-hidden=\"true\" title=\"49 silver badges\"><span class=\"badge2\"></span><span class=\"badgecount\">49</span></span><span class=\"v-visible-sr\">49 silver badges</span><span aria-hidden=\"true\" title=\"79 bronze badges\"><span class=\"badge3\"></span><span class=\"badgecount\">79</span></span><span class=\"v-visible-sr\">79 bronze badges</span>\n  </div>\n  </div>\n  </div>\n  </div>\n  </div>\n  </div>, <div class=\"question-summary\" id=\"question-summary-2922874\">\n  <div class=\"statscontainer\">\n  <div class=\"stats\">\n  <div class=\"vote\">\n  <div class=\"votes\">\n  <span class=\"vote-count-post\"><strong>56</strong></span>\n  <div class=\"viewcount\">votes</div>\n  </div>\n  </div>\n  <div class=\"status answered-accepted\">\n  <strong>2</strong>answers\n              </div>\n  </div>\n  <div class=\"views hot\" title=\"40,470 views\">\n      40k views\n  </div>\n  </div>\n  <div class=\"summary\">\n  <h3><a class=\"question-hyperlink\" href=\"/questions/2922874/how-to-stream-an-httpresponse-with-django\">How to stream an HttpResponse with Django</a></h3>\n  <div class=\"excerpt\">\n              I'm trying to get the 'hello world' of streaming responses working for Django (1.2).  I figured out how to use a generator and the yield function.  But the response still not streaming.  I suspect ...\n          </div>\n  <div class=\"tags t-python t-django t-streaming\">\n  <a class=\"post-tag\" href=\"/questions/tagged/python\" rel=\"tag\" title=\"show questions tagged 'python'\">python</a> <a class=\"post-tag\" href=\"/questions/tagged/django\" rel=\"tag\" title=\"show questions tagged 'django'\">django</a> <a class=\"post-tag\" href=\"/questions/tagged/streaming\" rel=\"tag\" title=\"show questions tagged 'streaming'\">streaming</a>\n  </div>\n  <div class=\"started fr\">\n  <div class=\"user-info user-hover\">\n  <div class=\"user-action-time\">\n          asked <span class=\"relativetime\" title=\"2010-05-27 16:21:20Z\">May 27 '10 at 16:21</span>\n  </div>\n  <div class=\"user-gravatar32\">\n  <a href=\"/users/288843/muudscope\"><div class=\"gravatar-wrapper-32\"><img alt=\"\" class=\"bar-sm\" height=\"32\" src=\"https://www.gravatar.com/avatar/b26ee05a6a9da528a55da851e726d950?s=32&amp;d=identicon&amp;r=PG\" width=\"32\"/></div></a>\n  </div>\n  <div class=\"user-details\">\n  <a href=\"/users/288843/muudscope\">muudscope</a>\n  <div class=\"-flair\">\n  <span class=\"reputation-score\" dir=\"ltr\" title=\"reputation score \">5,636</span><span aria-hidden=\"true\" title=\"4 gold badges\"><span class=\"badge1\"></span><span class=\"badgecount\">4</span></span><span class=\"v-visible-sr\">4 gold badges</span><span aria-hidden=\"true\" title=\"17 silver badges\"><span class=\"badge2\"></span><span class=\"badgecount\">17</span></span><span class=\"v-visible-sr\">17 silver badges</span><span aria-hidden=\"true\" title=\"19 bronze badges\"><span class=\"badge3\"></span><span class=\"badgecount\">19</span></span><span class=\"v-visible-sr\">19 bronze badges</span>\n  </div>\n  </div>\n  </div>\n  </div>\n  </div>\n  </div>, <div class=\"question-summary\" id=\"question-summary-28036404\">\n  <div class=\"statscontainer\">\n  <div class=\"stats\">\n  <div class=\"vote\">\n  <div class=\"votes\">\n  <span class=\"vote-count-post\"><strong>46</strong></span>\n  <div class=\"viewcount\">votes</div>\n  </div>\n  </div>\n  <div class=\"status answered-accepted\">\n  <strong>2</strong>answers\n              </div>\n  </div>\n  <div class=\"views hot\" title=\"44,146 views\">\n      44k views\n  </div>\n  </div>\n  <div class=\"summary\">\n  <h3><a class=\"question-hyperlink\" href=\"/questions/28036404/django-rest-framework-upload-image-the-submitted-data-was-not-a-file\">Django REST Framework upload image: “The submitted data was not a file”</a></h3>\n  <div class=\"excerpt\">\n              I am leaning how to upload file in Django, and here I encounter a should-be-trivial problem, with the error:\n    The submitted data was not a file. Check the encoding type on the form.\n  Below is the ...\n          </div>\n  <div class=\"tags t-python t-angularjs t-django t-django-rest-framework\">\n  <a class=\"post-tag\" href=\"/questions/tagged/python\" rel=\"tag\" title=\"show questions tagged 'python'\">python</a> <a class=\"post-tag\" href=\"/questions/tagged/angularjs\" rel=\"tag\" title=\"show questions tagged 'angularjs'\">angularjs</a> <a class=\"post-tag\" href=\"/questions/tagged/django\" rel=\"tag\" title=\"show questions tagged 'django'\">django</a> <a class=\"post-tag\" href=\"/questions/tagged/django-rest-framework\" rel=\"tag\" title=\"show questions tagged 'django-rest-framework'\">django-rest-framework</a>\n  </div>\n  <div class=\"started fr\">\n  <div class=\"user-info user-hover\">\n  <div class=\"user-action-time\">\n          asked <span class=\"relativetime\" title=\"2015-01-20 01:34:44Z\">Jan 20 '15 at 1:34</span>\n  </div>\n  <div class=\"user-gravatar32\">\n  <a href=\"/users/2975510/lelouch\"><div class=\"gravatar-wrapper-32\"><img alt=\"\" class=\"bar-sm\" height=\"32\" src=\"https://www.gravatar.com/avatar/0055e3fbb5ec0dc3e9e5a9be21d34ae8?s=32&amp;d=identicon&amp;r=PG\" width=\"32\"/></div></a>\n  </div>\n  <div class=\"user-details\">\n  <a href=\"/users/2975510/lelouch\">Lelouch</a>\n  <div class=\"-flair\">\n  <span class=\"reputation-score\" dir=\"ltr\" title=\"reputation score \">1,621</span><span aria-hidden=\"true\" title=\"2 gold badges\"><span class=\"badge1\"></span><span class=\"badgecount\">2</span></span><span class=\"v-visible-sr\">2 gold badges</span><span aria-hidden=\"true\" title=\"19 silver badges\"><span class=\"badge2\"></span><span class=\"badgecount\">19</span></span><span class=\"v-visible-sr\">19 silver badges</span><span aria-hidden=\"true\" title=\"32 bronze badges\"><span class=\"badge3\"></span><span class=\"badgecount\">32</span></span><span class=\"v-visible-sr\">32 bronze badges</span>\n  </div>\n  </div>\n  </div>\n  </div>\n  </div>\n  </div>, <div class=\"question-summary\" id=\"question-summary-17716624\">\n  <div class=\"statscontainer\">\n  <div class=\"stats\">\n  <div class=\"vote\">\n  <div class=\"votes\">\n  <span class=\"vote-count-post\"><strong>81</strong></span>\n  <div class=\"viewcount\">votes</div>\n  </div>\n  </div>\n  <div class=\"status answered-accepted\">\n  <strong>18</strong>answers\n              </div>\n  </div>\n  <div class=\"views supernova\" title=\"113,991 views\">\n      114k views\n  </div>\n  </div>\n  <div class=\"summary\">\n  <h3><a class=\"question-hyperlink\" href=\"/questions/17716624/django-csrf-cookie-not-set\">Django CSRF Cookie Not Set</a></h3>\n  <div class=\"excerpt\">\n              I have some problem for a while now, I'm experiencing CSRF Cookie not set. Please look at the codes below\n  \n  Python\n  \n  def deposit(request,account_num):\n  if request.method == 'POST':\n      account = ...\n          </div>\n  <div class=\"tags t-python t-django\">\n  <a class=\"post-tag\" href=\"/questions/tagged/python\" rel=\"tag\" title=\"show questions tagged 'python'\">python</a> <a class=\"post-tag\" href=\"/questions/tagged/django\" rel=\"tag\" title=\"show questions tagged 'django'\">django</a>\n  </div>\n  <div class=\"started fr\">\n  <div class=\"user-info\">\n  <div class=\"user-action-time\">\n          asked <span class=\"relativetime\" title=\"2013-07-18 06:58:55Z\">Jul 18 '13 at 6:58</span>\n  </div>\n  <div class=\"user-gravatar32\">\n  <span class=\"anonymous-gravatar\"></span>\n  </div>\n  <div class=\"user-details\">\n          user2389182\n          <div class=\"-flair\">\n  </div>\n  </div>\n  </div>\n  </div>\n  </div>\n  </div>, <div class=\"question-summary\" id=\"question-summary-26697565\">\n  <div class=\"statscontainer\">\n  <div class=\"stats\">\n  <div class=\"vote\">\n  <div class=\"votes\">\n  <span class=\"vote-count-post\"><strong>27</strong></span>\n  <div class=\"viewcount\">votes</div>\n  </div>\n  </div>\n  <div class=\"status answered-accepted\">\n  <strong>11</strong>answers\n              </div>\n  </div>\n  <div class=\"views hot\" title=\"37,079 views\">\n      37k views\n  </div>\n  </div>\n  <div class=\"summary\">\n  <h3><a class=\"question-hyperlink\" href=\"/questions/26697565/django-smtpauthenticationerror\">Django SMTPAuthenticationError</a></h3>\n  <div class=\"excerpt\">\n              I am new in django and developing a web application using django. I have successfully set the Signup functionality using Userena in my web application and can Register as a user with Verification ...\n          </div>\n  <div class=\"tags t-python t-django\">\n  <a class=\"post-tag\" href=\"/questions/tagged/python\" rel=\"tag\" title=\"show questions tagged 'python'\">python</a> <a class=\"post-tag\" href=\"/questions/tagged/django\" rel=\"tag\" title=\"show questions tagged 'django'\">django</a>\n  </div>\n  <div class=\"started fr\">\n  <div class=\"user-info user-hover\">\n  <div class=\"user-action-time\">\n          asked <span class=\"relativetime\" title=\"2014-11-02 08:46:33Z\">Nov 2 '14 at 8:46</span>\n  </div>\n  <div class=\"user-gravatar32\">\n  <a href=\"/users/2971215/md-tanvir-raihan\"><div class=\"gravatar-wrapper-32\"><img alt=\"\" class=\"bar-sm\" height=\"32\" src=\"https://www.gravatar.com/avatar/daebe0c7b2a5dc4b08ffb87bd92fbead?s=32&amp;d=identicon&amp;r=PG&amp;f=1\" width=\"32\"/></div></a>\n  </div>\n  <div class=\"user-details\">\n  <a href=\"/users/2971215/md-tanvir-raihan\">Md. Tanvir Raihan</a>\n  <div class=\"-flair\">\n  <span class=\"reputation-score\" dir=\"ltr\" title=\"reputation score \">2,740</span><span aria-hidden=\"true\" title=\"5 gold badges\"><span class=\"badge1\"></span><span class=\"badgecount\">5</span></span><span class=\"v-visible-sr\">5 gold badges</span><span aria-hidden=\"true\" title=\"27 silver badges\"><span class=\"badge2\"></span><span class=\"badgecount\">27</span></span><span class=\"v-visible-sr\">27 silver badges</span><span aria-hidden=\"true\" title=\"54 bronze badges\"><span class=\"badge3\"></span><span class=\"badgecount\">54</span></span><span class=\"v-visible-sr\">54 bronze badges</span>\n  </div>\n  </div>\n  </div>\n  </div>\n  </div>\n  </div>, <div class=\"question-summary\" id=\"question-summary-6367014\">\n  <div class=\"statscontainer\">\n  <div class=\"stats\">\n  <div class=\"vote\">\n  <div class=\"votes\">\n  <span class=\"vote-count-post\"><strong>153</strong></span>\n  <div class=\"viewcount\">votes</div>\n  </div>\n  </div>\n  <div class=\"status answered-accepted\">\n  <strong>11</strong>answers\n              </div>\n  </div>\n  <div class=\"views supernova\" title=\"168,971 views\">\n      169k views\n  </div>\n  </div>\n  <div class=\"summary\">\n  <h3><a class=\"question-hyperlink\" href=\"/questions/6367014/how-to-send-email-via-django\">How to send email via Django?</a></h3>\n  <div class=\"excerpt\">\n              In my settings.py, I have the following: \n  \n  EMAIL_BACKEND = 'django.core.mail.backends.smtp.EmailBackend'\n  \n  # Host for sending e-mail.\n  EMAIL_HOST = 'localhost'\n  \n  # Port for sending e-mail.\n  EMAIL_PORT = ...\n          </div>\n  <div class=\"tags t-python t-django t-email t-smtp\">\n  <a class=\"post-tag\" href=\"/questions/tagged/python\" rel=\"tag\" title=\"show questions tagged 'python'\">python</a> <a class=\"post-tag\" href=\"/questions/tagged/django\" rel=\"tag\" title=\"show questions tagged 'django'\">django</a> <a class=\"post-tag\" href=\"/questions/tagged/email\" rel=\"tag\" title=\"show questions tagged 'email'\">email</a> <a class=\"post-tag\" href=\"/questions/tagged/smtp\" rel=\"tag\" title=\"show questions tagged 'smtp'\">smtp</a>\n  </div>\n  <div class=\"started fr\">\n  <div class=\"user-info\">\n  <div class=\"user-action-time\">\n          asked <span class=\"relativetime\" title=\"2011-06-16 04:11:12Z\">Jun 16 '11 at 4:11</span>\n  </div>\n  <div class=\"user-gravatar32\">\n  <a href=\"/users/749477/derek\"><div class=\"gravatar-wrapper-32\"><img alt=\"\" class=\"bar-sm\" height=\"32\" src=\"https://www.gravatar.com/avatar/6845c6b2318e02258cc1dc56fe620482?s=32&amp;d=identicon&amp;r=PG\" width=\"32\"/></div></a>\n  </div>\n  <div class=\"user-details\">\n  <a href=\"/users/749477/derek\">Derek</a>\n  <div class=\"-flair\">\n  <span class=\"reputation-score\" dir=\"ltr\" title=\"reputation score 10,236\">10.2k</span><span aria-hidden=\"true\" title=\"23 gold badges\"><span class=\"badge1\"></span><span class=\"badgecount\">23</span></span><span class=\"v-visible-sr\">23 gold badges</span><span aria-hidden=\"true\" title=\"86 silver badges\"><span class=\"badge2\"></span><span class=\"badgecount\">86</span></span><span class=\"v-visible-sr\">86 silver badges</span><span aria-hidden=\"true\" title=\"144 bronze badges\"><span class=\"badge3\"></span><span class=\"badgecount\">144</span></span><span class=\"v-visible-sr\">144 bronze badges</span>\n  </div>\n  </div>\n  </div>\n  </div>\n  </div>\n  </div>, <div class=\"question-summary\" id=\"question-summary-2201598\">\n  <div class=\"statscontainer\">\n  <div class=\"stats\">\n  <div class=\"vote\">\n  <div class=\"votes\">\n  <span class=\"vote-count-post\"><strong>392</strong></span>\n  <div class=\"viewcount\">votes</div>\n  </div>\n  </div>\n  <div class=\"status answered-accepted\">\n  <strong>2</strong>answers\n              </div>\n  </div>\n  <div class=\"views supernova\" title=\"114,171 views\">\n      114k views\n  </div>\n  </div>\n  <div class=\"summary\">\n  <h3><a class=\"question-hyperlink\" href=\"/questions/2201598/how-to-define-two-fields-unique-as-couple\">How to define two fields “unique” as couple</a></h3>\n  <div class=\"excerpt\">\n              Is there a way to define a couple of fields as unique in Django?\n  \n  I have a table of volumes (of journals) and I don't want more then one volume number for the same journal.\n  \n  class Volume(models.Model):...\n          </div>\n  <div class=\"tags t-python t-django t-django-models\">\n  <a class=\"post-tag\" href=\"/questions/tagged/python\" rel=\"tag\" title=\"show questions tagged 'python'\">python</a> <a class=\"post-tag\" href=\"/questions/tagged/django\" rel=\"tag\" title=\"show questions tagged 'django'\">django</a> <a class=\"post-tag\" href=\"/questions/tagged/django-models\" rel=\"tag\" title=\"show questions tagged 'django-models'\">django-models</a>\n  </div>\n  <div class=\"started fr\">\n  <div class=\"user-info\">\n  <div class=\"user-action-time\">\n          asked <span class=\"relativetime\" title=\"2010-02-04 17:04:30Z\">Feb 4 '10 at 17:04</span>\n  </div>\n  <div class=\"user-gravatar32\">\n  <a href=\"/users/257092/giovanni-di-milia\"><div class=\"gravatar-wrapper-32\"><img alt=\"\" class=\"bar-sm\" height=\"32\" src=\"https://www.gravatar.com/avatar/5abf82f5bdad70b7e9d977dccb55bd80?s=32&amp;d=identicon&amp;r=PG\" width=\"32\"/></div></a>\n  </div>\n  <div class=\"user-details\">\n  <a href=\"/users/257092/giovanni-di-milia\">Giovanni Di Milia</a>\n  <div class=\"-flair\">\n  <span class=\"reputation-score\" dir=\"ltr\" title=\"reputation score 10,182\">10.2k</span><span aria-hidden=\"true\" title=\"11 gold badges\"><span class=\"badge1\"></span><span class=\"badgecount\">11</span></span><span class=\"v-visible-sr\">11 gold badges</span><span aria-hidden=\"true\" title=\"44 silver badges\"><span class=\"badge2\"></span><span class=\"badgecount\">44</span></span><span class=\"v-visible-sr\">44 silver badges</span><span aria-hidden=\"true\" title=\"65 bronze badges\"><span class=\"badge3\"></span><span class=\"badgecount\">65</span></span><span class=\"v-visible-sr\">65 bronze badges</span>\n  </div>\n  </div>\n  </div>\n  </div>\n  </div>\n  </div>, <div class=\"question-summary\" id=\"question-summary-1208067\">\n  <div class=\"statscontainer\">\n  <div class=\"stats\">\n  <div class=\"vote\">\n  <div class=\"votes\">\n  <span class=\"vote-count-post\"><strong>160</strong></span>\n  <div class=\"viewcount\">votes</div>\n  </div>\n  </div>\n  <div class=\"status answered-accepted\">\n  <strong>12</strong>answers\n              </div>\n  </div>\n  <div class=\"views supernova\" title=\"182,794 views\">\n      183k views\n  </div>\n  </div>\n  <div class=\"summary\">\n  <h3><a class=\"question-hyperlink\" href=\"/questions/1208067/wheres-my-json-data-in-my-incoming-django-request\">Where's my JSON data in my incoming Django request?</a></h3>\n  <div class=\"excerpt\">\n              I'm trying to process incoming JSON/Ajax requests with Django/Python.\n  \n  request.is_ajax() is True on the request, but I have no idea where the payload is with the JSON data.\n  \n  request.POST.dir contains ...\n          </div>\n  <div class=\"tags t-python t-ajax t-json t-django t-content-type\">\n  <a class=\"post-tag\" href=\"/questions/tagged/python\" rel=\"tag\" title=\"show questions tagged 'python'\">python</a> <a class=\"post-tag\" href=\"/questions/tagged/ajax\" rel=\"tag\" title=\"show questions tagged 'ajax'\">ajax</a> <a class=\"post-tag\" href=\"/questions/tagged/json\" rel=\"tag\" title=\"show questions tagged 'json'\">json</a> <a class=\"post-tag\" href=\"/questions/tagged/django\" rel=\"tag\" title=\"show questions tagged 'django'\">django</a> <a class=\"post-tag\" href=\"/questions/tagged/content-type\" rel=\"tag\" title=\"show questions tagged 'content-type'\">content-type</a>\n  </div>\n  <div class=\"started fr\">\n  <div class=\"user-info\">\n  <div class=\"user-action-time\">\n          asked <span class=\"relativetime\" title=\"2009-07-30 17:22:53Z\">Jul 30 '09 at 17:22</span>\n  </div>\n  <div class=\"user-gravatar32\">\n  <span class=\"anonymous-gravatar\"></span>\n  </div>\n  <div class=\"user-details\">\n          user122299\n          <div class=\"-flair\">\n  </div>\n  </div>\n  </div>\n  </div>\n  </div>\n  </div>]]"
          },
          "metadata": {},
          "execution_count": 6
        }
      ]
    },
    {
      "cell_type": "code",
      "execution_count": 7,
      "metadata": {},
      "outputs": [],
      "source": [
        "def clean_text (text):\n",
        "    text = text.translate(str.maketrans('', '', string.punctuation)) #remove all punctuation marks\n",
        "    text = text.replace('\\n',' ').strip()\n",
        "    text = text.lower()\n",
        "    text = unidecode.unidecode(text)\n",
        "    return text"
      ]
    },
    {
      "cell_type": "markdown",
      "metadata": {},
      "source": [
        "Teste do funcionamento da biblioteca re no tratamento de regular expressions:"
      ]
    },
    {
      "cell_type": "code",
      "execution_count": 8,
      "metadata": {},
      "outputs": [
        {
          "output_type": "execute_result",
          "data": {
            "text/plain": "0"
          },
          "metadata": {},
          "execution_count": 8
        }
      ],
      "source": [
        "answers_count = '0answer'\n",
        "int(re.sub('answer*','',answers_count))"
      ]
    },
    {
      "cell_type": "markdown",
      "metadata": {},
      "source": [
        "Teste do funcionamento da biblioteca beautifulsoup"
      ]
    },
    {
      "cell_type": "code",
      "execution_count": 9,
      "metadata": {
        "tags": []
      },
      "outputs": [
        {
          "output_type": "stream",
          "name": "stdout",
          "text": "12\n"
        }
      ],
      "source": [
        "rel_soup = bs('<div class=\"status answered-accepted\"><strong>12</strong>answers</div>')\n",
        "rel_soup = int(rel_soup.select_one('.answered-accepted').next_element.getText())\n",
        "\n",
        "print(rel_soup)"
      ]
    },
    {
      "cell_type": "code",
      "metadata": {
        "id": "DEQEhGyPCfX2",
        "colab_type": "code",
        "colab": {}
      },
      "source": [
        "def questions_overview(questions_overview_raw):\n",
        "  questions_overview = { 'questions':[]}\n",
        "\n",
        "  for soups in questions_overview_raw:\n",
        "    for soup in soups:\n",
        "      title = soup.select_one('.question-hyperlink').getText()\n",
        "      link = 'https://stackoverflow.com'+soup.select_one('.question-hyperlink').get('href')\n",
        "      summary = soup.select_one('.excerpt').getText()\n",
        "      vote_count =  soup.select_one('.vote-count-post').getText()\n",
        "      answers_count = soup.select_one('.answered-accepted')\n",
        "      answers_count = re.sub('\\D','',answers_count.getText('')) if answers_count else '0'\n",
        "      views =  re.sub('views','',soup.select_one('.views').attrs['title'])\n",
        "      views = re.sub(',','',views)\n",
        "      tags = []\n",
        "      for tag in soup.select('.post-tag'): tags.append(tag.getText())\n",
        "\n",
        "      questions_overview['questions'].append({\n",
        "          'title': title,\n",
        "          'link': link,\n",
        "          'summary': summary,\n",
        "          'vote_count': int(vote_count),\n",
        "          'answers_count': int(answers_count),\n",
        "          'views': int(views),\n",
        "          'tags': tags,\n",
        "          'full_question': '',\n",
        "          'best_answer': '',\n",
        "      })\n",
        "\n",
        "  questions_df = pd.DataFrame(questions_overview['questions'])\n",
        "  \n",
        "  return questions_df"
      ],
      "execution_count": 10,
      "outputs": []
    },
    {
      "cell_type": "markdown",
      "metadata": {
        "id": "2u-c-nhmVWvv",
        "colab_type": "text"
      },
      "source": [
        "#Trasformação de dicionário em dataframe"
      ]
    },
    {
      "cell_type": "code",
      "metadata": {
        "id": "NzPT8KArDl4e",
        "colab_type": "code",
        "colab": {
          "base_uri": "https://localhost:8080/",
          "height": 34
        },
        "outputId": "f9dc45e4-1fdd-4a17-e462-6cbc70c598a9",
        "tags": []
      },
      "source": [
        "questions_df = questions_overview(questions_overview_raw)\n",
        "type(questions_df)"
      ],
      "execution_count": 11,
      "outputs": [
        {
          "output_type": "execute_result",
          "data": {
            "text/plain": "pandas.core.frame.DataFrame"
          },
          "metadata": {},
          "execution_count": 11
        }
      ]
    },
    {
      "cell_type": "markdown",
      "metadata": {
        "id": "feA0REYGN3cg",
        "colab_type": "text"
      },
      "source": [
        "#Exemplos de como acessar a informação no dataframe:"
      ]
    },
    {
      "cell_type": "code",
      "metadata": {
        "id": "YhPPA_TmYceK",
        "colab_type": "code",
        "colab": {
          "base_uri": "https://localhost:8080/",
          "height": 554
        },
        "outputId": "5495d8d7-1bef-407f-c954-26d4c19ca3a9",
        "tags": []
      },
      "source": [
        "print('Lista com links:\\n',questions_df['link'])\n",
        "\n",
        "print('\\n Acesso a dados de um link específico\\n--- Link: ',questions_df['link'][0])\n",
        "\n",
        "print('\\n--- Título: ', questions_df['title'][0])\n",
        "\n",
        "print('\\n--- Breve Descrição: ', questions_df['summary'][0])\n",
        "\n",
        "print('\\n--- Contagem de votos: ', questions_df['vote_count'][0])\n",
        "\n",
        "print('\\n--- Contagem de respostas: ', questions_df['answers_count'][0])\n",
        "\n",
        "print('\\n--- Contagem de visualizações: ', questions_df['views'][0])\n",
        "\n",
        "print('\\n--- Lista como tags: ', questions_df['tags'][0])\n"
      ],
      "execution_count": 12,
      "outputs": [
        {
          "output_type": "stream",
          "name": "stdout",
          "text": "Lista com links:\n 0     https://stackoverflow.com/questions/23708898/p...\n1     https://stackoverflow.com/questions/573618/set...\n2     https://stackoverflow.com/questions/8000022/dj...\n3     https://stackoverflow.com/questions/5100539/dj...\n4     https://stackoverflow.com/questions/8609192/di...\n5     https://stackoverflow.com/questions/1156246/ha...\n6     https://stackoverflow.com/questions/2642613/wh...\n7     https://stackoverflow.com/questions/2428092/cr...\n8     https://stackoverflow.com/questions/629551/how...\n9     https://stackoverflow.com/questions/7446187/no...\n10    https://stackoverflow.com/questions/298772/dja...\n11    https://stackoverflow.com/questions/20306981/h...\n12    https://stackoverflow.com/questions/7933596/dj...\n13    https://stackoverflow.com/questions/1395807/pr...\n14    https://stackoverflow.com/questions/291945/how...\n15    https://stackoverflow.com/questions/6583877/ho...\n16    https://stackoverflow.com/questions/1626326/ho...\n17    https://stackoverflow.com/questions/4668619/ho...\n18    https://stackoverflow.com/questions/6791911/ex...\n19    https://stackoverflow.com/questions/5895588/dj...\n20    https://stackoverflow.com/questions/38744285/d...\n21    https://stackoverflow.com/questions/427102/wha...\n22    https://stackoverflow.com/questions/13866926/i...\n23    https://stackoverflow.com/questions/4581789/ho...\n24    https://stackoverflow.com/questions/26646362/n...\n25    https://stackoverflow.com/questions/29950956/d...\n26    https://stackoverflow.com/questions/2170228/it...\n27    https://stackoverflow.com/questions/454854/no-...\n28    https://stackoverflow.com/questions/4269605/dj...\n29    https://stackoverflow.com/questions/35760943/h...\n                            ...                        \n70    https://stackoverflow.com/questions/15556499/d...\n71    https://stackoverflow.com/questions/962619/how...\n72    https://stackoverflow.com/questions/4733609/ho...\n73    https://stackoverflow.com/questions/3346124/ho...\n74    https://stackoverflow.com/questions/53939751/p...\n75    https://stackoverflow.com/questions/18156452/d...\n76    https://stackoverflow.com/questions/42708389/h...\n77    https://stackoverflow.com/questions/34114427/d...\n78    https://stackoverflow.com/questions/12165636/d...\n79    https://stackoverflow.com/questions/12578908/s...\n80    https://stackoverflow.com/questions/16853649/h...\n81    https://stackoverflow.com/questions/866272/how...\n82    https://stackoverflow.com/questions/2771676/dj...\n83    https://stackoverflow.com/questions/1393202/dj...\n84    https://stackoverflow.com/questions/25459386/m...\n85    https://stackoverflow.com/questions/2770810/mu...\n86    https://stackoverflow.com/questions/14351048/d...\n87    https://stackoverflow.com/questions/4651172/re...\n88    https://stackoverflow.com/questions/2216974/dj...\n89    https://stackoverflow.com/questions/3748295/ge...\n90    https://stackoverflow.com/questions/908258/gen...\n91    https://stackoverflow.com/questions/1317714/ho...\n92    https://stackoverflow.com/questions/275174/how...\n93    https://stackoverflow.com/questions/2922874/ho...\n94    https://stackoverflow.com/questions/28036404/d...\n95    https://stackoverflow.com/questions/17716624/d...\n96    https://stackoverflow.com/questions/26697565/d...\n97    https://stackoverflow.com/questions/6367014/ho...\n98    https://stackoverflow.com/questions/2201598/ho...\n99    https://stackoverflow.com/questions/1208067/wh...\nName: link, Length: 100, dtype: object\n\n Acesso a dados de um link específico\n--- Link:  https://stackoverflow.com/questions/23708898/pip-is-not-recognized-as-an-internal-or-external-command\n\n--- Título:  'pip' is not recognized as an internal or external command\n\n--- Breve Descrição:  \n            I'm running into a weird error when trying to install Django on my computer.\nThis is the sequence that I typed into my command line:\nC:\\Python34> python get-pip.py\nRequirement already up-to-date: ...\n        \n\n--- Contagem de votos:  341\n\n--- Contagem de respostas:  32\n\n--- Contagem de visualizações:  1055685\n\n--- Lista como tags:  ['python', 'django', 'windows', 'pip']\n"
        }
      ]
    },
    {
      "cell_type": "markdown",
      "metadata": {
        "id": "_rFjl4HKL2is",
        "colab_type": "text"
      },
      "source": [
        "Próximos passos:\n",
        "\n",
        "\n",
        "1.   Enriquecer questions_df com a informação detalhada da pergunta e conteúdo da resposta com melhor avaliação\n",
        "2.   Limpar dados em questions_dic para remover caracteres irrelevantes, como: \\n, \\t, artigos, pronomes\n",
        "\n"
      ]
    },
    {
      "cell_type": "code",
      "metadata": {
        "id": "6I2PouNgMTo-",
        "colab_type": "code",
        "colab": {
          "base_uri": "https://localhost:8080/",
          "height": 279
        },
        "outputId": "f8ff9355-7484-41b5-9b13-4ae7138f767f"
      },
      "source": [
        "questions_df.head()"
      ],
      "execution_count": 13,
      "outputs": [
        {
          "output_type": "execute_result",
          "data": {
            "text/plain": "   answers_count best_answer full_question  \\\n0             32                             \n1             24                             \n2              8                             \n3             18                             \n4             17                             \n\n                                                link  \\\n0  https://stackoverflow.com/questions/23708898/p...   \n1  https://stackoverflow.com/questions/573618/set...   \n2  https://stackoverflow.com/questions/8000022/dj...   \n3  https://stackoverflow.com/questions/5100539/dj...   \n4  https://stackoverflow.com/questions/8609192/di...   \n\n                                             summary  \\\n0  \\r\\n            I'm running into a weird error...   \n1  \\r\\n            I've been working on a web app...   \n2  \\r\\n            mydict = {\"key1\":\"value1\", \"ke...   \n3  \\r\\n            I could use some help complyin...   \n4  \\r\\n            When we add a database field i...   \n\n                                                tags  \\\n0                     [python, django, windows, pip]   \n1  [python, django, web-applications, scheduled-t...   \n2            [python, django, templates, dictionary]   \n3                       [python, ajax, django, csrf]   \n4                    [python, django, django-models]   \n\n                                               title    views  vote_count  \n0  'pip' is not recognized as an internal or exte...  1055685         341  \n1                            Set up a scheduled job?   170025         522  \n2  Django template how to look up a dictionary va...   143108         235  \n3  Django CSRF check failing with an Ajax POST re...   151819         180  \n4      differentiate null=True, blank=True in django   259446         922  ",
            "text/html": "<div>\n<style scoped>\n    .dataframe tbody tr th:only-of-type {\n        vertical-align: middle;\n    }\n\n    .dataframe tbody tr th {\n        vertical-align: top;\n    }\n\n    .dataframe thead th {\n        text-align: right;\n    }\n</style>\n<table border=\"1\" class=\"dataframe\">\n  <thead>\n    <tr style=\"text-align: right;\">\n      <th></th>\n      <th>answers_count</th>\n      <th>best_answer</th>\n      <th>full_question</th>\n      <th>link</th>\n      <th>summary</th>\n      <th>tags</th>\n      <th>title</th>\n      <th>views</th>\n      <th>vote_count</th>\n    </tr>\n  </thead>\n  <tbody>\n    <tr>\n      <th>0</th>\n      <td>32</td>\n      <td></td>\n      <td></td>\n      <td>https://stackoverflow.com/questions/23708898/p...</td>\n      <td>\\r\\n            I'm running into a weird error...</td>\n      <td>[python, django, windows, pip]</td>\n      <td>'pip' is not recognized as an internal or exte...</td>\n      <td>1055685</td>\n      <td>341</td>\n    </tr>\n    <tr>\n      <th>1</th>\n      <td>24</td>\n      <td></td>\n      <td></td>\n      <td>https://stackoverflow.com/questions/573618/set...</td>\n      <td>\\r\\n            I've been working on a web app...</td>\n      <td>[python, django, web-applications, scheduled-t...</td>\n      <td>Set up a scheduled job?</td>\n      <td>170025</td>\n      <td>522</td>\n    </tr>\n    <tr>\n      <th>2</th>\n      <td>8</td>\n      <td></td>\n      <td></td>\n      <td>https://stackoverflow.com/questions/8000022/dj...</td>\n      <td>\\r\\n            mydict = {\"key1\":\"value1\", \"ke...</td>\n      <td>[python, django, templates, dictionary]</td>\n      <td>Django template how to look up a dictionary va...</td>\n      <td>143108</td>\n      <td>235</td>\n    </tr>\n    <tr>\n      <th>3</th>\n      <td>18</td>\n      <td></td>\n      <td></td>\n      <td>https://stackoverflow.com/questions/5100539/dj...</td>\n      <td>\\r\\n            I could use some help complyin...</td>\n      <td>[python, ajax, django, csrf]</td>\n      <td>Django CSRF check failing with an Ajax POST re...</td>\n      <td>151819</td>\n      <td>180</td>\n    </tr>\n    <tr>\n      <th>4</th>\n      <td>17</td>\n      <td></td>\n      <td></td>\n      <td>https://stackoverflow.com/questions/8609192/di...</td>\n      <td>\\r\\n            When we add a database field i...</td>\n      <td>[python, django, django-models]</td>\n      <td>differentiate null=True, blank=True in django</td>\n      <td>259446</td>\n      <td>922</td>\n    </tr>\n  </tbody>\n</table>\n</div>"
          },
          "metadata": {},
          "execution_count": 13
        }
      ]
    },
    {
      "cell_type": "code",
      "metadata": {
        "id": "7pncNTKawYOt",
        "colab_type": "code",
        "colab": {}
      },
      "source": [
        "\n",
        "def read_question_detail(questions_df):\n",
        "  \n",
        "  idx = 0\n",
        "  for link in questions_df['link']:\n",
        "    question = []\n",
        "    answer = []\n",
        "    try:\n",
        "      request = requests.get(link)\n",
        "      request.raise_for_status()\n",
        "      try:\n",
        "        soup = bs(request.text, 'html.parser')\n",
        "        questions_df['full_question'][idx] = soup.find(\"div\", {\"id\": \"question\"}).select_one('.post-text').getText()\n",
        "        questions_df['best_answer'][idx] = soup.find(\"div\", {\"id\": \"answers\"}).select_one('.post-text').getText()\n",
        "\n",
        "      except: \n",
        "        print (\"Could not transform to soup object by selecting\")\n",
        "\n",
        "    except HTTPError:\n",
        "      print (\"Could not download page\")\n",
        "\n",
        "    idx += 1\n",
        "\n",
        "    sleep(0.05)\n",
        "\n",
        "  return questions_df\n",
        "\n"
      ],
      "execution_count": 14,
      "outputs": []
    },
    {
      "cell_type": "markdown",
      "metadata": {},
      "source": [
        "Testes:"
      ]
    },
    {
      "cell_type": "code",
      "execution_count": 15,
      "metadata": {
        "tags": []
      },
      "outputs": [
        {
          "output_type": "stream",
          "name": "stdout",
          "text": "\nI'm running into a weird error when trying to install Django on my computer.\nThis is the sequence that I typed into my command line:\nC:\\Python34> python get-pip.py\nRequirement already up-to-date: pip in c:\\python34\\lib\\site-packages\nCleaning up...\n\nC:\\Python34> pip install Django\n'pip' is not recognized as an internal or external command,\noperable program or batch file.\n\nC:\\Python34> lib\\site-packages\\pip install Django\n'lib\\site-packages\\pip' is not recognized as an internal or external command,\noperable program or batch file.\n\nWhat could be causing this?\nThis is what I get when I type in echo %PATH%:\nC:\\Python34>echo %PATH%\nC:\\Program Files\\ImageMagick-6.8.8-Q16;C:\\Program Files (x86)\\Intel\\iCLS Client\\\n;C:\\Program Files\\Intel\\iCLS Client\\;C:\\Windows\\system32;C:\\Windows;C:\\Windows\\S\nystem32\\Wbem;C:\\Windows\\System32\\WindowsPowerShell\\v1.0\\;C:\\Program Files (x86)\\\nWindows Live\\Shared;C:\\Program Files (x86)\\Intel\\OpenCL SDK\\2.0\\bin\\x86;C:\\Progr\nam Files (x86)\\Intel\\OpenCL SDK\\2.0\\bin\\x64;C:\\Program Files\\Intel\\Intel(R) Mana\ngement Engine Components\\DAL;C:\\Program Files\\Intel\\Intel(R) Management Engine C\nomponents\\IPT;C:\\Program Files (x86)\\Intel\\Intel(R) Management Engine Components\n\\DAL;C:\\Program Files (x86)\\Intel\\Intel(R) Management Engine Components\\IPT;C:\\P\nrogram Files (x86)\\nodejs\\;C:\\Program Files (x86)\\Heroku\\bin;C:\\Program Files (x\n86)\\git\\cmd;C:\\RailsInstaller\\Ruby2.0.0\\bin;C:\\RailsInstaller\\Git\\cmd;C:\\RailsIn\nstaller\\Ruby1.9.3\\bin;C:\\Users\\Javi\\AppData\\Roaming\\npm\n\n\n"
        }
      ],
      "source": [
        "request = requests.get('https://stackoverflow.com/questions/23708898/pip-is-not-recognized-as-an-internal-or-external-command')\n",
        "request.raise_for_status()\n",
        "rel_soup = bs(request.text, 'html.parser')\n",
        "#rel_soup = rel_soup.find(\"div\", {\"id\": \"answers\"}).select_one('.post-text').getText()\n",
        "rel_soup = rel_soup.find(\"div\", {\"id\": \"question\"}).select_one('.post-text').getText()\n",
        "\n",
        "print(rel_soup)"
      ]
    },
    {
      "cell_type": "markdown",
      "metadata": {},
      "source": [
        "Testes - clean Text:"
      ]
    },
    {
      "cell_type": "code",
      "execution_count": 71,
      "metadata": {
        "tags": []
      },
      "outputs": [
        {
          "output_type": "stream",
          "name": "stdout",
          "text": "i am facing some issues with nonascii chars in c i have one file containg nonascii chars which i am reading in c via file handling after reading the filesay 1txt i am storing the data into string stream and writing it into another filesay 2txt assume 1txt contains acao  in 2txt i should get same ouyput but nonascii chars are printed as their hex value in 2txt also i am quite sure that c is handling ascii chars as ascii only  please help on how to print these chars correctly in 2txt edit firstly psuedocode for whole process 1shell script to read from db one value and stores in 11txt 2cpp codeacpp reading 11txt and writing to ftxt  data present in db which is being read instalacao file 11txt contains instalaaSSaPSo file ftxt contains instalaaSSaPSo ouput of acpp on screen instalacao acpp include iterator include iostream include algorithm include sstream includefstream include iomanip  using namespace std int main      ifstream myreadfile     ofstream f2     myreadfileopen11txt     f2openf2txt     string output     if myreadfileisopen               while myreadfileeof                      myreadfile  output                 coutoutput              coutn              stdstringstream tempdummylineitem             tempdummylineitem output             couttempdummylineitemstr             f2tempdummylineitemstr                   myreadfileclose     return 0   locale says this langenusutf8 lcctypeenusutf8 lcnumericenusutf8 lctimeenusutf8 lccollateenusutf8 lcmonetaryenusutf8 lcmessagesenusutf8 lcpaperenusutf8 lcnameenusutf8 lcaddressenusutf8 lctelephoneenusutf8 lcmeasurementenusutf8 lcidentificationenusutf8 lcall\n"
        }
      ],
      "source": [
        "request = requests.get('https://stackoverflow.com/questions/17648966/handling-non-ascii-chars-in-c')\n",
        "request.raise_for_status()\n",
        "rel_soup = bs(request.text, 'html.parser')\n",
        "#rel_soup = rel_soup.find(\"div\", {\"id\": \"answers\"}).select_one('.post-text').getText()\n",
        "rel_soup = rel_soup.find(\"div\", {\"id\": \"question\"}).select_one('.post-text').getText()\n",
        "\n",
        "print(clean_text(rel_soup))"
      ]
    },
    {
      "cell_type": "code",
      "metadata": {
        "id": "SCsMerWlwhjU",
        "colab_type": "code",
        "colab": {
          "base_uri": "https://localhost:8080/",
          "height": 538
        },
        "outputId": "ca1ec92b-1fa9-41ac-bf90-c9e99905c553",
        "tags": []
      },
      "source": [
        "questions_df = read_question_detail(questions_df)"
      ],
      "execution_count": 16,
      "outputs": []
    },
    {
      "cell_type": "code",
      "metadata": {
        "id": "RduKqf0uUpuD",
        "colab_type": "code",
        "colab": {},
        "tags": []
      },
      "source": [
        "#print(questions_df['full_question'][0])\n",
        "len(questions_df)"
      ],
      "execution_count": 17,
      "outputs": [
        {
          "output_type": "execute_result",
          "data": {
            "text/plain": "100"
          },
          "metadata": {},
          "execution_count": 17
        }
      ]
    },
    {
      "cell_type": "code",
      "execution_count": 18,
      "metadata": {},
      "outputs": [
        {
          "output_type": "execute_result",
          "data": {
            "text/plain": "Index(['answers_count', 'best_answer', 'full_question', 'link', 'summary',\n       'tags', 'title', 'views', 'vote_count'],\n      dtype='object')"
          },
          "metadata": {},
          "execution_count": 18
        }
      ],
      "source": [
        "questions_df.columns"
      ]
    },
    {
      "cell_type": "code",
      "execution_count": 26,
      "metadata": {
        "tags": []
      },
      "outputs": [
        {
          "output_type": "execute_result",
          "data": {
            "text/plain": "'\\nReal solution\\nOk, I managed to trace the problem down. It lies in the Javascript (as I suggested below) code.\\nWhat you need is this:\\n$.ajaxSetup({ \\n     beforeSend: function(xhr, settings) {\\n         function getCookie(name) {\\n             var cookieValue = null;\\n             if (document.cookie && document.cookie != \\'\\') {\\n                 var cookies = document.cookie.split(\\';\\');\\n                 for (var i = 0; i < cookies.length; i++) {\\n                     var cookie = jQuery.trim(cookies[i]);\\n                     // Does this cookie string begin with the name we want?\\n                     if (cookie.substring(0, name.length + 1) == (name + \\'=\\')) {\\n                         cookieValue = decodeURIComponent(cookie.substring(name.length + 1));\\n                         break;\\n                     }\\n                 }\\n             }\\n             return cookieValue;\\n         }\\n         if (!(/^http:.*/.test(settings.url) || /^https:.*/.test(settings.url))) {\\n             // Only send the token to relative URLs i.e. locally.\\n             xhr.setRequestHeader(\"X-CSRFToken\", getCookie(\\'csrftoken\\'));\\n         }\\n     } \\n});\\n\\ninstead of the code posted in the official docs:\\nhttps://docs.djangoproject.com/en/2.2/ref/csrf/\\nThe working code, comes from this Django entry: http://www.djangoproject.com/weblog/2011/feb/08/security/\\nSo the general solution is: \"use ajaxSetup handler instead of ajaxSend handler\". I don\\'t know why it works. But it works for me :)\\nPrevious post (without answer)\\nI\\'m experiencing the same problem actually.\\nIt occurs after updating to Django 1.2.5 - there were no errors with AJAX POST requests in Django 1.2.4 (AJAX wasn\\'t protected in any way, but it worked just fine).\\nJust like OP, I have tried the JavaScript snippet posted in Django documentation. I\\'m using jQuery 1.5. I\\'m also using the \"django.middleware.csrf.CsrfViewMiddleware\" middleware.\\nI tried to follow the the middleware code and I know that it fails on this:\\nrequest_csrf_token = request.META.get(\\'HTTP_X_CSRFTOKEN\\', \\'\\')\\n\\nand then\\nif request_csrf_token != csrf_token:\\n    return self._reject(request, REASON_BAD_TOKEN)\\n\\nthis \"if\" is true, because \"request_csrf_token\" is empty.\\nBasically it means that the header is NOT set. So is there anything wrong with this JS line:\\nxhr.setRequestHeader(\"X-CSRFToken\", getCookie(\\'csrftoken\\'));\\n\\n?\\nI hope that provided details will help us in resolving the issue :)\\n'"
          },
          "metadata": {},
          "execution_count": 26
        }
      ],
      "source": [
        "#questions_df['link'][3]\n",
        "#questions_df['title'][3]\n",
        "#questions_df['summary'][3]\n",
        "#questions_df['full_question'][3]\n",
        "questions_df['best_answer'][3]\n"
      ]
    },
    {
      "cell_type": "code",
      "execution_count": 25,
      "metadata": {},
      "outputs": [
        {
          "output_type": "execute_result",
          "data": {
            "text/plain": "['How', 'Django', 'install']"
          },
          "metadata": {},
          "execution_count": 25
        }
      ],
      "source": [
        "test = [\"How\", 'install','install','install','Django']\n",
        "wordsunique = set(test)\n",
        "list(wordsunique)"
      ]
    },
    {
      "cell_type": "code",
      "execution_count": 29,
      "metadata": {},
      "outputs": [],
      "source": [
        "#tokenize words in all DOCS \n",
        "set_stem_words = [[]] * len(questions_df)\n",
        "stop_words = stopwords.words('english')\n",
        "snowball_stemmer = SnowballStemmer(\"english\")\n",
        "\n",
        "for index in range(len(questions_df)):\n",
        "    text = questions_df['title'][index] + questions_df['full_question'][index] + questions_df['best_answer'][index] \n",
        "    tokentext = word_tokenize(clean_text(text))\n",
        "    #keywords    = [word for word in tokentext if not word in stop_words and len(word) > 2 and word not in string.punctuation]\n",
        "    stem_words  = [snowball_stemmer.stem(word) for word in tokentext if not word in stop_words and len(word) > 2 and word not in string.punctuation]\n",
        "    set_stem_words[index].append(stem_words)\n"
      ]
    },
    {
      "cell_type": "code",
      "execution_count": 34,
      "metadata": {},
      "outputs": [
        {
          "output_type": "execute_result",
          "data": {
            "text/plain": "\"\\r\\n            I could use some help complying with Django's CSRF protection mechanism via my AJAX post. I've followed the directions here:\\n\\nhttp://docs.djangoproject.com/en/dev/ref/contrib/csrf/\\n\\nI've copied the ...\\r\\n        \""
          },
          "metadata": {},
          "execution_count": 34
        }
      ],
      "source": [
        "questions_df['summary'][3]"
      ]
    },
    {
      "cell_type": "markdown",
      "metadata": {},
      "source": [
        "Testes"
      ]
    },
    {
      "cell_type": "code",
      "execution_count": 37,
      "metadata": {},
      "outputs": [
        {
          "output_type": "execute_result",
          "data": {
            "text/plain": "['i',\n 'could',\n 'use',\n 'some',\n 'help',\n 'complying',\n 'with',\n 'djangos',\n 'csrf',\n 'protection',\n 'mechanism',\n 'via',\n 'my',\n 'ajax',\n 'post',\n 'ive',\n 'followed',\n 'the',\n 'directions',\n 'here',\n 'httpdocsdjangoprojectcomendevrefcontribcsrf',\n 'ive',\n 'copied',\n 'the']"
          },
          "metadata": {},
          "execution_count": 37
        }
      ],
      "source": [
        "test_token = word_tokenize(clean_text(questions_df['summary'][3]))\n",
        "test_token"
      ]
    },
    {
      "cell_type": "code",
      "execution_count": 36,
      "metadata": {},
      "outputs": [
        {
          "output_type": "execute_result",
          "data": {
            "text/plain": "['could',\n 'use',\n 'help',\n 'compli',\n 'django',\n 'csrf',\n 'protect',\n 'mechan',\n 'via',\n 'ajax',\n 'post',\n 'ive',\n 'follow',\n 'direct',\n 'httpdocsdjangoprojectcomendevrefcontribcsrf',\n 'ive',\n 'copi']"
          },
          "metadata": {},
          "execution_count": 36
        }
      ],
      "source": [
        "test_stem_words  = [snowball_stemmer.stem(word) for word in test_token if not word in stop_words and len(word) > 2 and word not in string.punctuation]\n",
        "\n",
        "test_stem_words"
      ]
    },
    {
      "cell_type": "code",
      "execution_count": null,
      "metadata": {},
      "outputs": [],
      "source": []
    },
    {
      "cell_type": "code",
      "execution_count": 48,
      "metadata": {},
      "outputs": [
        {
          "output_type": "execute_result",
          "data": {
            "text/plain": "['where',\n 'json',\n 'data',\n 'incom',\n 'django',\n 'request',\n 'tri',\n 'process',\n 'incom',\n 'jsonajax']"
          },
          "metadata": {},
          "execution_count": 48
        }
      ],
      "source": [
        "set_stem_words[0][99][0:10]"
      ]
    },
    {
      "cell_type": "code",
      "execution_count": 49,
      "metadata": {},
      "outputs": [],
      "source": [
        "docs = set_stem_words[0]\n",
        "flatten = [word for word_list in docs for word in word_list]\n",
        "words = flatten\n",
        "wordsunique = set(words)\n",
        "wordsunique = list(wordsunique)"
      ]
    },
    {
      "cell_type": "code",
      "execution_count": 50,
      "metadata": {},
      "outputs": [
        {
          "output_type": "execute_result",
          "data": {
            "text/plain": "['beforesend',\n 'asiamuscat',\n 'getlist',\n 'attributeobjectscreatenameag',\n 'inheritancecastmodelmodelsmodel',\n 'djangodbmodelsbasemodelst',\n 'alter',\n 'consid',\n 'djangosnippetsorg',\n 'selfrequest']"
          },
          "metadata": {},
          "execution_count": 50
        }
      ],
      "source": [
        "wordsunique[0:10]"
      ]
    },
    {
      "cell_type": "code",
      "execution_count": 52,
      "metadata": {},
      "outputs": [
        {
          "output_type": "execute_result",
          "data": {
            "text/plain": "['teste', 3, 10]"
          },
          "metadata": {},
          "execution_count": 52
        }
      ],
      "source": [
        "\n",
        "worddic = {\n",
        "          'title': 'a',\n",
        "          'link': 'b',\n",
        "          'summary': 'c',\n",
        "          'vote_count': int(3),\n",
        "          'answers_count': int(4),\n",
        "      }\n",
        "\n",
        "worddic['nova'] = [\"teste\",3,10]\n",
        "worddic['nova']"
      ]
    },
    {
      "cell_type": "code",
      "execution_count": 77,
      "metadata": {},
      "outputs": [],
      "source": [
        "# create functions for TD-IDF / BM25\n",
        "import math\n",
        "from textblob import TextBlob as tb\n",
        "\n",
        "def tf(word, doc):\n",
        "    return doc.count(word) / len(doc)\n",
        "\n",
        "def n_containing(word, doclist):\n",
        "    return sum(1 for doc in doclist if word in doc)\n",
        "\n",
        "def idf(word, doclist):\n",
        "    return math.log(len(doclist) / (0.01 + n_containing(word, doclist)))\n",
        "\n",
        "def tfidf(word, doc, doclist):\n",
        "    return (tf(word, doc) * idf(word, doclist))"
      ]
    },
    {
      "cell_type": "code",
      "execution_count": 89,
      "metadata": {},
      "outputs": [],
      "source": [
        "from sklearn.feature_extraction.text import TfidfVectorizer #TF-IDF\n",
        "\n",
        "worddic = {}\n",
        "\n",
        "for index in range(len(set_stem_words)):\n",
        "    for word in wordsunique:\n",
        "        if word in set_stem_words[0][index]:\n",
        "            word = str(word)\n",
        "            positions = list(np.where(np.array(set_stem_words[0][index]) == word)[0])\n",
        "            idfs = tfidf(word,set_stem_words[0][index],set_stem_words)\n",
        "\n",
        "            try:\n",
        "                worddic[word] = [index,positions,idfs]\n",
        "            except:\n",
        "                worddic[word] = []\n",
        "                worddic[word] = [index,positions,idfs]\n",
        "    index += 1"
      ]
    },
    {
      "cell_type": "code",
      "execution_count": 90,
      "metadata": {},
      "outputs": [
        {
          "output_type": "execute_result",
          "data": {
            "text/plain": "[84,\n [6, 44, 56, 60, 64, 86, 99, 102, 108, 111, 183, 186, 204, 217, 227],\n 0.5233147938622832]"
          },
          "metadata": {},
          "execution_count": 90
        }
      ],
      "source": [
        "worddic['instal']"
      ]
    },
    {
      "cell_type": "code",
      "execution_count": 91,
      "metadata": {
        "tags": []
      },
      "outputs": [
        {
          "output_type": "stream",
          "name": "stdout",
          "text": "\nI want users on the site to be able to download files whose paths are obscured so they cannot be directly downloaded.\nFor instance, I'd like the URL to be something like this: http://example.com/download/?f=somefile.txt\nAnd on the server, I know that all downloadable files reside in the folder /home/user/files/.\nIs there a way to make Django serve that file for download as opposed to trying to find a URL and View to display it?\n\n"
        }
      ],
      "source": [
        "print(questions_df['full_question'][5])"
      ]
    },
    {
      "cell_type": "code",
      "execution_count": 92,
      "metadata": {
        "tags": []
      },
      "outputs": [
        {
          "output_type": "stream",
          "name": "stdout",
          "text": "\nFor the \"best of both worlds\" you could combine S.Lott's solution with the xsendfile module: django generates the path to the file (or the file itself), but the actual file serving is handled by Apache/Lighttpd. Once you've set up mod_xsendfile, integrating with your view takes a few lines of code:\nfrom django.utils.encoding import smart_str\n\nresponse = HttpResponse(mimetype='application/force-download') # mimetype is replaced by content_type for django 1.7\nresponse['Content-Disposition'] = 'attachment; filename=%s' % smart_str(file_name)\nresponse['X-Sendfile'] = smart_str(path_to_file)\n# It's usually a good idea to set the 'Content-Length' header too.\n# You can also set any other required headers: Cache-Control, etc.\nreturn response\n\nOf course, this will only work if you have control over your server, or your hosting company has mod_xsendfile already set up.\nEDIT:\n\nmimetype is replaced by content_type for django 1.7\n\nresponse = HttpResponse(content_type='application/force-download')  \n\nEDIT:\n For nginx check this, it uses X-Accel-Redirect instead of apache X-Sendfile header.\n\n"
        }
      ],
      "source": [
        "print(questions_df['best_answer'][5])"
      ]
    },
    {
      "cell_type": "code",
      "execution_count": 75,
      "metadata": {
        "tags": []
      },
      "outputs": [
        {
          "output_type": "stream",
          "name": "stdout",
          "text": "(1, 1)\n<class 'scipy.sparse.csr.csr_matrix'>\n[[1.]]\n"
        }
      ],
      "source": [
        "\n",
        "tfidfvectorizer = TfidfVectorizer()\n",
        "tfidfvectorizer.fit(['django'])\n",
        "vectortfidf = tfidfvectorizer.transform(['django'])\n",
        "# summarize encoded vector\n",
        "print(vectortfidf.shape)\n",
        "print(type(vectortfidf))\n",
        "print(vectortfidf.toarray())"
      ]
    },
    {
      "cell_type": "code",
      "execution_count": 106,
      "metadata": {
        "tags": []
      },
      "outputs": [
        {
          "output_type": "stream",
          "name": "stdout",
          "text": "running weird error trying install django computer sequence typed command line cpython34 python getpippy requirement already uptodate pip cpython34libsitepackages cleaning cpython34 pip install django pip recognized internal external command operable program batch file cpython34 libsitepackagespip install django libsitepackagespip recognized internal external command operable program batch file could causing get type echo path cpython34echo path cprogram filesimagemagick688q16cprogram files x86intelicls client cprogram filesintelicls clientcwindowssystem32cwindowscwindowss ystem32wbemcwindowssystem32windowspowershellv10cprogram files x86 windows livesharedcprogram files x86intelopencl sdk20binx86cprogr files x86intelopencl sdk20binx64cprogram filesintelintelr mana gement engine componentsdalcprogram filesintelintelr management engine omponentsiptcprogram files x86intelintelr management engine components dalcprogram files x86intelintelr management engine componentsiptcp rogram files x86nodejscprogram files x86herokubincprogram files 86gitcmdcrailsinstallerruby200bincrailsinstallergitcmdcrailsin stallerruby193bincusersjaviappdataroamingnpmyou need add path pip installation path system variable default pip installed cpython34scriptspip pip comes bundled new versions python path cpython34scripts needs added path variable check already path variable type echo path cmd prompt add path pip installation path variable use control panel setx command example setx path pathcpython34scripts note according official documentation variables set setx variables available future command windows current command window particular need start new cmdexe instance entering command order utilize new environment variable thanks scott bartell pointing outsuccess success success\n"
        }
      ],
      "source": [
        "from sklearn.feature_extraction.text import CountVectorizer #TF\n",
        "\n",
        "text = ' '.join([word for word in keywords])\n",
        "print(text)\n",
        "\n",
        "set()"
      ]
    },
    {
      "cell_type": "code",
      "execution_count": 107,
      "metadata": {
        "tags": []
      },
      "outputs": [
        {
          "output_type": "stream",
          "name": "stdout",
          "text": "(1, 113)\n<class 'scipy.sparse.csr.csr_matrix'>\n[[ 1  1  2  1  2  1  1  2  1  1  1  1  1  1  1  1  1  7  1  1  1  1  1  1\n   2  3  1  1  1  1  1  1  1  3  1  2  4  1  1  1  1  2  2  9  1  1  2  1\n   1  1  1  3  2  1  1  2  2  1  1  1  3  2  1  3  1  1  1  2  1  1  1  1\n  11  1  7  1  2  1  2  2  1  1  1  1  1  1  1  1  3  1  1  2  1  1  1  2\n   1  1  1  1  5  2  1  1  1  2  1  1  1  2  2  1  1]]\n"
        }
      ],
      "source": [
        "vectorizer = CountVectorizer()\n",
        "vectorizer.fit([text])\n",
        "vector = vectorizer.transform([text])\n",
        "# summarize encoded vector\n",
        "print(vector.shape)\n",
        "print(type(vector))\n",
        "print(vector.toarray())"
      ]
    },
    {
      "cell_type": "code",
      "execution_count": 111,
      "metadata": {
        "tags": []
      },
      "outputs": [
        {
          "output_type": "stream",
          "name": "stdout",
          "text": "[[0 0 0 0 0 0 0 0 0 0 0 0 0 0 0 0 0 0 0 0 0 0 0 0 0 0 0 0 0 0 0 0 0 4 0 0\n  0 0 0 0 0 0 0 0 0 0 0 0 0 0 0 5 0 0 0 0 0 0 0 0 0 0 0 0 0 0 0 0 0 0 0 0\n  0 0 0 0 0 0 0 0 0 0 0 0 0 0 0 0 0 0 0 3 0 0 0 0 0 0 0 0 0 0 0 0 0 0 0 0\n  0 0 0 0 0]]\n"
        }
      ],
      "source": [
        "\n",
        "#Vetoriza um texto novo\n",
        "text2 = [\"How can I install install install install  install Django? No success success success with django so far... django django\"]\n",
        "vector2 = vectorizer.transform(text2)\n",
        "print(vector2.toarray())"
      ]
    },
    {
      "cell_type": "code",
      "execution_count": 109,
      "metadata": {
        "tags": []
      },
      "outputs": [
        {
          "output_type": "stream",
          "name": "stdout",
          "text": "(1, 113)\n<class 'scipy.sparse.csr.csr_matrix'>\n[[0.04218245 0.04218245 0.08436491 0.04218245 0.08436491 0.04218245\n  0.04218245 0.08436491 0.04218245 0.04218245 0.04218245 0.04218245\n  0.04218245 0.04218245 0.04218245 0.04218245 0.04218245 0.29527718\n  0.04218245 0.04218245 0.04218245 0.04218245 0.04218245 0.04218245\n  0.08436491 0.12654736 0.04218245 0.04218245 0.04218245 0.04218245\n  0.04218245 0.04218245 0.04218245 0.12654736 0.04218245 0.08436491\n  0.16872982 0.04218245 0.04218245 0.04218245 0.04218245 0.08436491\n  0.08436491 0.37964209 0.04218245 0.04218245 0.08436491 0.04218245\n  0.04218245 0.04218245 0.04218245 0.12654736 0.08436491 0.04218245\n  0.04218245 0.08436491 0.08436491 0.04218245 0.04218245 0.04218245\n  0.12654736 0.08436491 0.04218245 0.12654736 0.04218245 0.04218245\n  0.04218245 0.08436491 0.04218245 0.04218245 0.04218245 0.04218245\n  0.46400699 0.04218245 0.29527718 0.04218245 0.08436491 0.04218245\n  0.08436491 0.08436491 0.04218245 0.04218245 0.04218245 0.04218245\n  0.04218245 0.04218245 0.04218245 0.04218245 0.12654736 0.04218245\n  0.04218245 0.08436491 0.04218245 0.04218245 0.04218245 0.08436491\n  0.04218245 0.04218245 0.04218245 0.04218245 0.21091227 0.08436491\n  0.04218245 0.04218245 0.04218245 0.08436491 0.04218245 0.04218245\n  0.04218245 0.08436491 0.08436491 0.04218245 0.04218245]]\n"
        }
      ],
      "source": [
        "\n",
        "from sklearn.feature_extraction.text import TfidfVectorizer #TF-IDF\n",
        "tfidfvectorizer = TfidfVectorizer()\n",
        "tfidfvectorizer.fit([text])\n",
        "vectortfidf = tfidfvectorizer.transform([text])\n",
        "# summarize encoded vector\n",
        "print(vectortfidf.shape)\n",
        "print(type(vectortfidf))\n",
        "print(vectortfidf.toarray())"
      ]
    },
    {
      "cell_type": "code",
      "execution_count": 112,
      "metadata": {
        "tags": []
      },
      "outputs": [
        {
          "output_type": "stream",
          "name": "stdout",
          "text": "[[0.         0.         0.         0.         0.         0.\n  0.         0.         0.         0.         0.         0.\n  0.         0.         0.         0.         0.         0.\n  0.         0.         0.         0.         0.         0.\n  0.         0.         0.         0.         0.         0.\n  0.         0.         0.         0.56568542 0.         0.\n  0.         0.         0.         0.         0.         0.\n  0.         0.         0.         0.         0.         0.\n  0.         0.         0.         0.70710678 0.         0.\n  0.         0.         0.         0.         0.         0.\n  0.         0.         0.         0.         0.         0.\n  0.         0.         0.         0.         0.         0.\n  0.         0.         0.         0.         0.         0.\n  0.         0.         0.         0.         0.         0.\n  0.         0.         0.         0.         0.         0.\n  0.         0.42426407 0.         0.         0.         0.\n  0.         0.         0.         0.         0.         0.\n  0.         0.         0.         0.         0.         0.\n  0.         0.         0.         0.         0.        ]]\n"
        }
      ],
      "source": [
        "\n",
        "#Vetoriza um texto novo\n",
        "vectortfidf2 = tfidfvectorizer.transform(text2)\n",
        "print(vectortfidf2.toarray())"
      ]
    },
    {
      "cell_type": "code",
      "execution_count": 113,
      "metadata": {
        "tags": []
      },
      "outputs": [
        {
          "output_type": "stream",
          "name": "stdout",
          "text": "TF  [[0.1968615]]\nTF-IDF:  [[0.1968615]]\n"
        }
      ],
      "source": [
        "from sklearn.metrics.pairwise import cosine_similarity\n",
        "print(\"TF \", cosine_similarity(vector, vector2))\n",
        "print(\"TF-IDF: \", cosine_similarity(vectortfidf, vectortfidf2))"
      ]
    },
    {
      "cell_type": "code",
      "execution_count": null,
      "metadata": {},
      "outputs": [],
      "source": []
    }
  ],
  "metadata": {
    "colab": {
      "name": "Read_Stackoverflow.ipynb",
      "provenance": [],
      "collapsed_sections": [],
      "authorship_tag": "ABX9TyNmUrBHkx90se+IXEtbfA+9",
      "include_colab_link": true
    },
    "kernelspec": {
      "name": "python3",
      "display_name": "Python 3"
    }
  },
  "nbformat": 4,
  "nbformat_minor": 0
}