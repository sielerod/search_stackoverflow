{
  "cells": [
    {
      "cell_type": "markdown",
      "metadata": {
        "id": "view-in-github",
        "colab_type": "text"
      },
      "source": [
        "<a href=\"https://colab.research.google.com/github/sielerod/search_stackoverflow/blob/master/Read_Stackoverflow.ipynb\" target=\"_parent\"><img src=\"https://colab.research.google.com/assets/colab-badge.svg\" alt=\"Open In Colab\"/></a>"
      ]
    },
    {
      "cell_type": "markdown",
      "metadata": {
        "id": "OhI60Te7lUP1",
        "colab_type": "text"
      },
      "source": [
        "#**Objetivo:**   \n",
        "* Capturar as perguntas mais frequentes sobre Python no stackoverflow\n",
        "* Armazenar para cada pergunta: link, breve descrição da pergunta, quantidade de votos e visualizações, pergunta, respostas com melhor avaliação\n",
        "\n",
        "\n",
        "**Fonte:** https://stackoverflow.com/questions/\n"
      ]
    },
    {
      "cell_type": "code",
      "metadata": {
        "id": "wTKKIbRrd_fr",
        "colab_type": "code",
        "colab": {},
        "tags": []
      },
      "source": [
        "import numpy as np \n",
        "import pandas as pd\n",
        "\n",
        "import requests # Coleta de conteúdo em Webpage\n",
        "from requests.exceptions import HTTPError\n",
        "from bs4 import BeautifulSoup as bs # Scraping webpages\n",
        "from time import sleep\n",
        "\n",
        "import re #biblioteca para trabalhar com regular expressions - regex\n",
        "import string\n",
        "import unidecode\n",
        "\n",
        "import nltk\n",
        "#nltk.download('punkt')\n",
        "#nltk.download('stopwords')\n",
        "#from nltk.stem import RSLPStemmer #Stemming Portugues\n",
        "#from nltk.stem import PorterStemmer #Stemming Ingles com algoritmo de Porter: algoritmo menos agressivo nas reduções\n",
        "from nltk.stem import SnowballStemmer #Stemming Porter2: mais agressivo nas reduções do que Porter stemmer e um pouco mais rápido \n",
        "#from nltk.stem import WordNetLemmatizer\n",
        "from nltk.tokenize import word_tokenize\n",
        "from nltk.tokenize import RegexpTokenizer\n",
        "from nltk.corpus import stopwords\n"
      ],
      "execution_count": 2,
      "outputs": []
    },
    {
      "cell_type": "code",
      "execution_count": 1,
      "metadata": {},
      "outputs": [],
      "source": [
        "def cleanhtml(raw_html):\n",
        "  cleanr = re.compile('<.*?>|&[.*?]')\n",
        "  cleantext = re.sub(cleanr, '', raw_html)\n",
        "  return cleantext"
      ]
    },
    {
      "cell_type": "markdown",
      "metadata": {
        "id": "3pe2opv4SYoR",
        "colab_type": "text"
      },
      "source": [
        "#Leitura do dado cru no Stackoverflow\n",
        "**read_stackoverflow_overview(tags=[], tab='Frequent', pages)**\n",
        "\n",
        "Leitura do resumo das perguntas mais frequentes no stackoverflow com base em alguns parâmetros de busca. \n",
        "\n",
        "Retorna um objeto requests contendo o resultado de requests.get\n",
        "\n",
        "* tags: argumento opcional com lista  de strings contendo os tipos de pergunta para seleação. Ex.: ['python', 'php', 'javascript']\n",
        ">ex. de URL para página com mais de 1 tag: https://stackoverflow.com/questions/tagged/sql+sql-server?tab=Frequent\n",
        "\n",
        "* tab: string com tipo de ordenação a ser aplicado, pode ser:\n",
        "'Frequent' (opção default), 'Votes', 'Unanswered', 'Bounties', 'Active', 'Newest'\n",
        "\n",
        "* Selector: seleção dos trechos do html a serem retornados. Por default, será question-summary\n",
        "\n",
        "* pages: número de páginas para leitura\n",
        "\n"
      ]
    },
    {
      "cell_type": "code",
      "metadata": {
        "id": "XYnP7RwH0h9O",
        "colab_type": "code",
        "colab": {}
      },
      "source": [
        "def read_stackoverflow_overview(tags=[], tab='Frequent', pages=5):\n",
        "  link = 'https://stackoverflow.com/questions'\n",
        "  selector='question-summary'\n",
        "  \n",
        "  if tags:\n",
        "    tags_link = '/tagged/'\n",
        "    pre=''\n",
        "    for t in tags:\n",
        "      tags_link += pre + t\n",
        "      pre = '+' \n",
        "    link += tags_link\n",
        "\n",
        "  link += '?tab='+tab\n",
        "\n",
        "  questions_text = ''\n",
        "  soup_selection = []\n",
        "  for page in range(1,pages+1):\n",
        "    page_link = '&page='+str(page)\n",
        "\n",
        "    try:\n",
        "      request = requests.get(link+page_link)\n",
        "      request.raise_for_status()\n",
        "      try:\n",
        "        soup = bs(request.text, 'html.parser')\n",
        "        soup_selection.append(soup.select('.'+selector))\n",
        "      except: print (\"Could not transform to soup object by selecting \",selector)\n",
        "    except HTTPError:\n",
        "      print (\"Could not download page \", page)\n",
        "\n",
        "    sleep(0.05)\n",
        "\n",
        "  return soup_selection\n"
      ],
      "execution_count": 3,
      "outputs": []
    },
    {
      "cell_type": "code",
      "execution_count": 8,
      "metadata": {},
      "outputs": [
        {
          "output_type": "execute_result",
          "data": {
            "text/plain": "list"
          },
          "metadata": {},
          "execution_count": 8
        }
      ],
      "source": [
        "questions_overview_raw = read_stackoverflow_overview(tags=['python','django'],tab='Frequent',pages=2)\n",
        "type(questions_overview_raw)"
      ]
    },
    {
      "cell_type": "markdown",
      "metadata": {
        "id": "21u58D6xwFkU",
        "colab_type": "text"
      },
      "source": [
        "#Transformação do dado cru coletado do Stackoverflow em dataframe\n",
        "**questions_overview(questions_overview_raw)**\n",
        "\n",
        "O dataframe deve conter a visão geral das perguntas do stackoverflow, com:\n",
        "\n",
        "* link\n",
        "* brief_description\n",
        "* votes\n",
        "* views"
      ]
    },
    {
      "cell_type": "markdown",
      "metadata": {
        "id": "6Fj83JnZmFtH",
        "colab_type": "text"
      },
      "source": [
        "###Análise do padrão da página HTML para captura de informações relevantes:\n",
        "\n",
        "Em \"question-summary\", temos as seguintes informações relevantes:\n",
        "\n",
        "1.   class = statscontainer, com:\n",
        "*   Número de votos em class=\"vote-count-post \"\n",
        ">```<span class=\"vote-count-post high-scored-post\"><strong>2473</strong></span>```\n",
        "\n",
        "*   Número de respostas aceitas em class=\"status answered-accepted\" \n",
        ">```<div class=\"status answered-accepted\"><strong>23</strong>answers</div>```\n",
        "\n",
        "*   Conteúdo e Title contendo quantidade de views em class=\"views supernova\" \n",
        ">```<div class=\"views supernova\" title=\"307,292 views\">307k views</div>```\n",
        "\n",
        "2.   class = summary, com:\n",
        "* class=\"question-hyperlink\" contendo em *href* parte do link para compor link de acesso à página detalhada da pergunta e Título da pergunta\n",
        ">``` <a href=\"/questions/15112125/how-to-test-multiple-variables-against-a-value\" class=\"question-hyperlink\">How to test multiple variables against a value?</a>```\n",
        "\n",
        "*   Breve resumo em class=\"excerpt\"\n",
        ">```<div class=\"excerpt\"> brief description of the question ...</div>```\n",
        "\n",
        "*   Tags em class=\"post-tag\"\n",
        ">```<a href=\"/questions/tagged/python\" class=\"post-tag\" title=\"show questions tagged 'python'\" rel=\"tag\">python</a>```\n",
        "\n",
        "\n",
        "\n"
      ]
    },
    {
      "cell_type": "code",
      "metadata": {
        "id": "DEQEhGyPCfX2",
        "colab_type": "code",
        "colab": {}
      },
      "source": [
        "def questions_overview(questions_overview_raw):\n",
        "  questions_overview = { 'questions':[]}\n",
        "\n",
        "  for soups in questions_overview_raw:\n",
        "    for soup in soups:\n",
        "      title = soup.select_one('.question-hyperlink').getText()\n",
        "      link = 'https://stackoverflow.com'+soup.select_one('.question-hyperlink').get('href')\n",
        "      summary = soup.select_one('.excerpt').getText()\n",
        "      vote_count =  soup.select_one('.vote-count-post').getText()\n",
        "      answers_count = soup.select_one('.answered-accepted')\n",
        "      answers_count = re.sub('\\D','',answers_count.getText('')) if answers_count else '0'\n",
        "      views =  re.sub('views','',soup.select_one('.views').attrs['title'])\n",
        "      views = re.sub(',','',views)\n",
        "      tags = []\n",
        "      for tag in soup.select('.post-tag'): tags.append(tag.getText())\n",
        "\n",
        "      questions_overview['questions'].append({\n",
        "          'title': title,\n",
        "          'link': link,\n",
        "          'summary': summary,\n",
        "          'vote_count': int(vote_count),\n",
        "          'answers_count': int(answers_count),\n",
        "          'views': int(views),\n",
        "          'tags': tags,\n",
        "          'full_question': '',\n",
        "          'best_answer': '',\n",
        "      })\n",
        "\n",
        "  questions_df = pd.DataFrame(questions_overview['questions'])\n",
        "  \n",
        "  return questions_df"
      ],
      "execution_count": 9,
      "outputs": []
    },
    {
      "cell_type": "code",
      "metadata": {
        "id": "NzPT8KArDl4e",
        "colab_type": "code",
        "colab": {
          "base_uri": "https://localhost:8080/",
          "height": 34
        },
        "outputId": "f9dc45e4-1fdd-4a17-e462-6cbc70c598a9",
        "tags": []
      },
      "source": [
        "questions_df = questions_overview(questions_overview_raw)\n",
        "type(questions_df)"
      ],
      "execution_count": 10,
      "outputs": [
        {
          "output_type": "execute_result",
          "data": {
            "text/plain": "pandas.core.frame.DataFrame"
          },
          "metadata": {},
          "execution_count": 10
        }
      ]
    },
    {
      "cell_type": "markdown",
      "metadata": {
        "id": "feA0REYGN3cg",
        "colab_type": "text"
      },
      "source": [
        "#Exemplos de como acessar a informação no dataframe:"
      ]
    },
    {
      "cell_type": "code",
      "metadata": {
        "id": "YhPPA_TmYceK",
        "colab_type": "code",
        "colab": {
          "base_uri": "https://localhost:8080/",
          "height": 554
        },
        "outputId": "5495d8d7-1bef-407f-c954-26d4c19ca3a9",
        "tags": []
      },
      "source": [
        "print('Lista com links:\\n',questions_df['link'][0:3])\n",
        "print('\\n Acesso a dados de um link específico\\n--- Link: ',questions_df['link'][0])\n",
        "print('\\n--- Título: ', questions_df['title'][0])\n",
        "print('\\n--- Breve Descrição: ', questions_df['summary'][0])\n",
        "print('\\n--- Contagem de votos: ', questions_df['vote_count'][0])\n",
        "print('\\n--- Contagem de respostas: ', questions_df['answers_count'][0])\n",
        "print('\\n--- Contagem de visualizações: ', questions_df['views'][0])\n",
        "print('\\n--- Lista como tags: ', questions_df['tags'][0])\n",
        "questions_df.head(3)"
      ],
      "execution_count": 13,
      "outputs": [
        {
          "output_type": "stream",
          "name": "stdout",
          "text": "Lista com links:\n 0    https://stackoverflow.com/questions/23708898/p...\n1    https://stackoverflow.com/questions/573618/set...\n2    https://stackoverflow.com/questions/8000022/dj...\nName: link, dtype: object\n\n Acesso a dados de um link específico\n--- Link:  https://stackoverflow.com/questions/23708898/pip-is-not-recognized-as-an-internal-or-external-command\n\n--- Título:  'pip' is not recognized as an internal or external command\n\n--- Breve Descrição:  \n            I'm running into a weird error when trying to install Django on my computer.\nThis is the sequence that I typed into my command line:\nC:\\Python34> python get-pip.py\nRequirement already up-to-date: ...\n        \n\n--- Contagem de votos:  343\n\n--- Contagem de respostas:  32\n\n--- Contagem de visualizações:  1060830\n\n--- Lista como tags:  ['python', 'django', 'windows', 'pip']\n"
        },
        {
          "output_type": "execute_result",
          "data": {
            "text/plain": "   answers_count best_answer full_question  \\\n0             32                             \n1             24                             \n2              8                             \n\n                                                link  \\\n0  https://stackoverflow.com/questions/23708898/p...   \n1  https://stackoverflow.com/questions/573618/set...   \n2  https://stackoverflow.com/questions/8000022/dj...   \n\n                                             summary  \\\n0  \\r\\n            I'm running into a weird error...   \n1  \\r\\n            I've been working on a web app...   \n2  \\r\\n            mydict = {\"key1\":\"value1\", \"ke...   \n\n                                                tags  \\\n0                     [python, django, windows, pip]   \n1  [python, django, web-applications, scheduled-t...   \n2            [python, django, templates, dictionary]   \n\n                                               title    views  vote_count  \n0  'pip' is not recognized as an internal or exte...  1060830         343  \n1                            Set up a scheduled job?   170303         523  \n2  Django template how to look up a dictionary va...   143481         236  ",
            "text/html": "<div>\n<style scoped>\n    .dataframe tbody tr th:only-of-type {\n        vertical-align: middle;\n    }\n\n    .dataframe tbody tr th {\n        vertical-align: top;\n    }\n\n    .dataframe thead th {\n        text-align: right;\n    }\n</style>\n<table border=\"1\" class=\"dataframe\">\n  <thead>\n    <tr style=\"text-align: right;\">\n      <th></th>\n      <th>answers_count</th>\n      <th>best_answer</th>\n      <th>full_question</th>\n      <th>link</th>\n      <th>summary</th>\n      <th>tags</th>\n      <th>title</th>\n      <th>views</th>\n      <th>vote_count</th>\n    </tr>\n  </thead>\n  <tbody>\n    <tr>\n      <th>0</th>\n      <td>32</td>\n      <td></td>\n      <td></td>\n      <td>https://stackoverflow.com/questions/23708898/p...</td>\n      <td>\\r\\n            I'm running into a weird error...</td>\n      <td>[python, django, windows, pip]</td>\n      <td>'pip' is not recognized as an internal or exte...</td>\n      <td>1060830</td>\n      <td>343</td>\n    </tr>\n    <tr>\n      <th>1</th>\n      <td>24</td>\n      <td></td>\n      <td></td>\n      <td>https://stackoverflow.com/questions/573618/set...</td>\n      <td>\\r\\n            I've been working on a web app...</td>\n      <td>[python, django, web-applications, scheduled-t...</td>\n      <td>Set up a scheduled job?</td>\n      <td>170303</td>\n      <td>523</td>\n    </tr>\n    <tr>\n      <th>2</th>\n      <td>8</td>\n      <td></td>\n      <td></td>\n      <td>https://stackoverflow.com/questions/8000022/dj...</td>\n      <td>\\r\\n            mydict = {\"key1\":\"value1\", \"ke...</td>\n      <td>[python, django, templates, dictionary]</td>\n      <td>Django template how to look up a dictionary va...</td>\n      <td>143481</td>\n      <td>236</td>\n    </tr>\n  </tbody>\n</table>\n</div>"
          },
          "metadata": {},
          "execution_count": 13
        }
      ]
    },
    {
      "cell_type": "markdown",
      "metadata": {
        "id": "_rFjl4HKL2is",
        "colab_type": "text"
      },
      "source": [
        "Próximos passos:\n",
        "\n",
        "\n",
        "1.   Enriquecer questions_df com a informação detalhada da pergunta e conteúdo da resposta com melhor avaliação\n",
        "2.   Limpar dados em questions_df para remover caracteres irrelevantes, como: \\n, \\t, artigos, pronomes\n",
        "\n"
      ]
    },
    {
      "cell_type": "code",
      "metadata": {
        "id": "7pncNTKawYOt",
        "colab_type": "code",
        "colab": {}
      },
      "source": [
        "\n",
        "def read_question_detail(questions_df):\n",
        "  \n",
        "  idx = 0\n",
        "  for link in questions_df['link']:\n",
        "    question = []\n",
        "    answer = []\n",
        "    try:\n",
        "      request = requests.get(link)\n",
        "      request.raise_for_status()\n",
        "      try:\n",
        "        soup = bs(request.text, 'html.parser')\n",
        "        questions_df['full_question'][idx] = soup.find(\"div\", {\"id\": \"question\"}).select_one('.post-text').getText()\n",
        "        questions_df['best_answer'][idx] = soup.find(\"div\", {\"id\": \"answers\"}).select_one('.post-text').getText()\n",
        "\n",
        "      except: \n",
        "        print (\"Could not transform to soup object by selecting\")\n",
        "\n",
        "    except HTTPError:\n",
        "      print (\"Could not download page\")\n",
        "\n",
        "    idx += 1\n",
        "\n",
        "    sleep(0.05)\n",
        "\n",
        "  return questions_df"
      ],
      "execution_count": 15,
      "outputs": []
    },
    {
      "cell_type": "code",
      "metadata": {
        "id": "SCsMerWlwhjU",
        "colab_type": "code",
        "colab": {
          "base_uri": "https://localhost:8080/",
          "height": 538
        },
        "outputId": "ca1ec92b-1fa9-41ac-bf90-c9e99905c553",
        "tags": []
      },
      "source": [
        "questions_df = read_question_detail(questions_df)"
      ],
      "execution_count": 16,
      "outputs": []
    },
    {
      "cell_type": "code",
      "execution_count": 17,
      "metadata": {},
      "outputs": [
        {
          "output_type": "execute_result",
          "data": {
            "text/plain": "Index(['answers_count', 'best_answer', 'full_question', 'link', 'summary',\n       'tags', 'title', 'views', 'vote_count'],\n      dtype='object')"
          },
          "metadata": {},
          "execution_count": 17
        }
      ],
      "source": [
        "questions_df.columns"
      ]
    },
    {
      "cell_type": "code",
      "execution_count": 20,
      "metadata": {},
      "outputs": [],
      "source": [
        "#remove todas as pontuações e retorna lista de palavras\n",
        "def clean_text (text):\n",
        "    text = text.translate(str.maketrans('', '', string.punctuation)) #remove todas as pontuações: '!\"#$%&\\'()*+,-./:;<=>?@[\\\\]^_`{|}~'\n",
        "    text = text.replace('\\n',' ').strip() \n",
        "    text = text.lower()\n",
        "    text = unidecode.unidecode(text)\n",
        "    return text"
      ]
    },
    {
      "cell_type": "code",
      "execution_count": 23,
      "metadata": {},
      "outputs": [],
      "source": [
        "#redução das palavras para sua raiz (stemming), remoção de stopwords e palavras com menos de 2 caracteres, e criação do vocabulário com a quantidade de ocorrência de cada palavra em todos os documentos\n",
        "\n",
        "def vocabulary_questions_stackoverflow(questions_df):\n",
        "    docs_stem_words = []\n",
        "    vocabulary = {}\n",
        "    stop_words = stopwords.words('english')\n",
        "    snowball_stemmer = SnowballStemmer(\"english\")\n",
        "\n",
        "    for index in range(len(questions_df)):\n",
        "        text = questions_df['title'][index] + questions_df['full_question'][index] + questions_df['best_answer'][index] \n",
        "        tokentext = word_tokenize(clean_text(text))\n",
        "        stem_words  = [snowball_stemmer.stem(word) for word in tokentext if not word in stop_words and len(word) > 2 and word not in string.punctuation]\n",
        "        docs_stem_words.append(stem_words)\n",
        "\n",
        "        #Inicializa vocabulário sem repetição de palavras\n",
        "        for word in stem_words:\n",
        "            vocabulary[word] = 0\n",
        "\n",
        "    #Contabiliza ocorrência de cada palavra em todos os documentos\n",
        "    for words in docs_stem_words:\n",
        "        for word in words:\n",
        "            vocabulary[word] += 1\n",
        "    \n",
        "    return vocabulary, docs_stem_words\n",
        "\n",
        "vocabulary, docs_stem_words = vocabulary_questions_stackoverflow(questions_df)\n"
      ]
    },
    {
      "cell_type": "code",
      "execution_count": 31,
      "metadata": {},
      "outputs": [
        {
          "output_type": "execute_result",
          "data": {
            "text/plain": "8, 1]]), ('appreci', [[78, 1]]), ('unusu', [[78, 1]]), ('layer', [[78, 1]]), ('hedd', [[78, 1]]), ('servicespi', [[78, 2]]), ('activateuseruserid', [[78, 1]]), ('userobjectsgetpkuserid', [[78, 2]]), ('useract', [[78, 3]]), ('sendmail', [[78, 2], [99, 1]]), ('aspect', [[78, 1]]), ('activateuserformformsform', [[78, 3]]), ('userid', [[78, 4]]), ('integerfieldwidget', [[78, 1]]), ('usernameselectwidget', [[78, 1]]), ('verbosenameselect', [[78, 1]]), ('cleanuseridself', [[78, 1]]), ('selfcleaneddatauserid', [[78, 2]]), ('userobjectsgetpkuseridact', [[78, 1]]), ('validationerrorthi', [[78, 1]]), ('executeself', [[78, 3]]), ('extractdatafromforminviewanddostuff', [[78, 1]]), ('testabl', [[78, 1]]), ('took', [[78, 1]]), ('liberti', [[78, 1]]), ('terminolog', [[78, 1]]), ('geograph', [[78, 1]]), ('embark', [[78, 1]]), ('tie', [[78, 1]]), ('mere', [[78, 4]]), ('analyt', [[78, 1]]), ('looser', [[78, 1]]), ('mutual', [[78, 1]]), ('exclus', [[78, 1]]), ('outcom', [[78, 1]]), ('userobjectsfilteractivetru', [[78, 1]]), ('templatehtml', [[78, 1]]), ('h1welcom', [[78, 1]]), ('userfriendlynam', [[78, 1]]), ('templatetagspi', [[78, 1]]), ('friendlynameus', [[78, 1]]), ('remoteapigetcachednameuserid', [[78, 2]]), ('introduc', [[78, 1]]), ('queriespi', [[78, 2]]), ('inactiveus', [[78, 1]]), ('userobjectsfilteractivefals', [[78, 1]]), ('userscalledpublysh', [[78, 1]]), ('userobjectsal', [[78, 1]]), ('publysh', [[78, 1]]), ('yield', [[78, 1], [94, 6]]), ('enhanc', [[78, 1]]), ('managergetqueryset', [[78, 1]]), ('inactiveusermanagermodelsmanag', [[78, 1]]), ('superinactiveusermanag', [[78, 1]]), ('selfgetqueryset', [[78, 1]]), ('querysetfilteractivefals', [[78, 1]]), ('inactiveuserus', [[78, 1]]), ('inactiveuserobjectsal', [[78, 1]]), ('assert', [[78, 1]]), ('inactiveusermanag', [[78, 1]]), ('inher', [[78, 1]]), ('denorm', [[78, 2]]), ('sync', [[78, 2]]), ('inactiveuserdistributionmodelsmodel', [[78, 2]]), ('countri', [[78, 1]]), ('charfieldmaxlength200', [[78, 1]]), ('inactiveusercount', [[78, 1]]), ('integerfielddefault0', [[78, 1]]), ('querymodel', [[78, 2]]), ('inactiveuserdistributionobjectsgetorcreatecountryusercountri', [[78, 2]]), ('querymodelinactiveusercount', [[78, 2]]), ('querymodelsav', [[78, 2]]), ('signal', [[78, 5]]), ('emit', [[78, 1]]), ('offload', [[78, 1]]), ('signalspi', [[78, 1]]), ('useractiv', [[78, 1]]), ('signalprovidingarg', [[78, 2]]), ('userdeactiv', [[78, 1]]), ('useractivatedsendrobustsenderself', [[78, 1]]), ('receiveruseractiv', [[78, 1]]), ('onuseractivatedsend', [[78, 1]]), ('kwargsus', [[78, 1]]), ('ridicul', [[78, 1]]), ('extract', [[78, 4]]), ('architectur', [[78, 1]]), ('pdf', [[79, 3]]), ('chart', [[79, 1]]), ('graph', [[79, 1]]), ('reportlab', [[79, 1]]), ('setuppi', [[79, 1], [84, 1]]), ('xhtml2pdf', [[79, 2]]), ('html5lib', [[79, 1]]), ('pypdf', [[79, 1]]), ('cstringio', [[79, 1], [90, 1]]), ('stringio', [[79, 1], [90, 2]]), ('pisa', [[79, 1]]), ('gettempl', [[79, 1]]), ('cgi', [[79, 1]]), ('escap', [[79, 1], [93, 3]]), ('rendertopdftemplatesrc', [[79, 1]]), ('contextdict', [[79, 1]]), ('gettemplatetemplatesrc', [[79, 1]]), ('contextcontextdict', [[79, 1]]), ('templaterendercontext', [[79, 1]]), ('stringiostringio', [[79, 1], [90, 1]]), ('pisapisadocumentstringiostringiohtmlencodeiso88591', [[79, 1]]), ('pdferr', [[79, 1]]), ('httpresponseresultgetvalu', [[79, 1]]), ('contenttypeapplicationpdf', [[79, 1]]), ('httpresponsew', [[79, 1]]), ('errorsprespr', [[79, 1]]), ('escapehtml', [[79, 1], [93, 1]]), ('rendertopdf', [[79, 1]]), ('mytemplatehtml', [[79, 1]]), ('pagesizea4', [[79, 1]]), ('mylist', [[79, 2]]), ('doctyp', [[79, 1]]), ('public', [[79, 1]]), ('w3cdtd', [[79, 1]]), ('401', [[79, 1]]), ('transitionalen', [[79, 1]]), ('httpwwww3orgtrhtml4loosedtd', [[79, 1]]), ('titlemi', [[79, 1]]), ('titletitl', [[79, 1]]), ('pages', [[79, 1]]), ('margin', [[79, 1]]), ('1cm', [[79, 2]]), ('frame', [[79, 1]]), ('footer', [[79, 1]]), ('pdfframecont', [[79, 1]]), ('footercont', [[79, 1]]), ('bottom', [[79, 1]]), ('0cm', [[79, 1]]), ('marginleft', [[79, 1]]), ('9cm', [[79, 2]]), ('marginright', [[79, 1]]), ('height', [[79, 1]]), ('idfootercont', [[79, 1]]), ('pagefoot', [[79, 1]]), ('pdfpagenumb', [[79, 1]]), ('myscriptpi', [[80, 2]]), ('execfilemyscriptpi', [[80, 1]]), ('execopenmyscriptpyread', [[80, 1]]), ('subscrib', [[81, 2]]), ('unsubscrib', [[81, 2]]), ('newslett', [[81, 2]]), ('formnewslett', [[81, 1]]), ('namenewslettersub', [[81, 1]]), ('valuesubscrib', [[81, 1]]), ('namenewsletterunsub', [[81, 1]]), ('valueunsubscrib', [[81, 1]]), ('newsletterformformsmodelform', [[81, 1]]), ('cleanemail', [[81, 2]]), ('selfcleaneddata', [[81, 1]]), ('selfdata', [[81, 3]]), ('newslettersub', [[81, 2]]), ('newsletterunsub', [[81, 2]]), ('press', [[81, 1]]), ('defaultdatetimenow', [[82, 1]]), ('termpaymentmodelsmodel', [[82, 1]]), ('modelsdatetimefielddefaultdatetimenow', [[82, 2]]), ('termpaymentobjectscreatekwarg', [[82, 1]]), ('payment', [[82, 1]]), ('restart', [[82, 1]]), ('5125', [[82, 1]]), ('v111', [[82, 1]]), ('accomplish', [[82, 1]]), ('lack', [[82, 1]]), ('parenthes', [[82, 2]]), ('excus', [[83, 1]]), ('english', [[83, 1]]), ('imagin', [[83, 1]]), ('modelsimagefieldlabel', [[83, 1]]), ('uploadtopath', [[83, 1]]), ('imgurl', [[83, 2]]), ('httpwwwsitecomimagejpg', [[83, 1]]), ('urlliburlopenimgurl', [[83, 1]]), ('photoobjectscreateimageimag', [[83, 1]]), ('urllib2', [[83, 1]]), ('httpiytimgcomvigppn5yundeidefaultjpg', [[83, 1]]), ('urlparseimgurlpathsplit1', [[83, 1]]), ('urllib2urlopenimgurlread', [[83, 1]]), ('photoimagesavenam', [[83, 1]]), ('savetru', [[83, 1]]), ('httpwwwdjangosnippetsorgsnippets1890', [[83, 1]]), ('pithyless', [[83, 1]]), ('urllib2urlopen', [[83, 1]]), ('404500', [[83, 1]]), ('callback', [[83, 1]]), ('urlopen', [[83, 1]]), ('temp', [[83, 1]]), ('djangocorefilestemp', [[83, 1]]), ('namedtemporaryfil', [[83, 1]]), ('imgtemp', [[83, 1]]), ('namedtemporaryfiledeletetru', [[83, 1]]), ('imgtempwriteurllib2urlopenurlread', [[83, 1]]), ('imgtempflush', [[83, 1]]), ('imfilesaveimgfilenam', [[83, 1]]), ('fileimgtemp', [[83, 1]]), ('mac', [[84, 2]]), ('environmenterror', [[84, 4]]), ('mysqlconfig', [[84, 7]]), ('due', [[84, 1]]), ('improperlyconfigurederror', [[84, 1]]), ('whenev', [[84, 1]]), ('mysqlconfigpath', [[84, 1]]), ('pathpathusrlocalmysqlbin', [[84, 2]]), ('brew', [[84, 1]]), ('pip3', [[84, 1]]), ('gete', [[84, 1], [91, 1]]), ('mysqlconnectorpython', [[84, 2]]), ('mysqlbin', [[84, 1]]), ('macport', [[84, 1]]), ('mysqlconfig5', [[84, 1]]), ('pathpathoptlocallibmysql5bin', [[84, 1]]), ('note1', [[84, 1]]), ('pythondev', [[84, 1]]), ('libmysqlclientdev', [[84, 1]]), ('note2', [[84, 1]]), ('besid', [[84, 1]]), ('brain', [[84, 1]]), ('happi', [[84, 1]]), ('luck', [[84, 1]]), ('userprofil', [[85, 2]]), ('usereditformmodelform', [[85, 1]]), ('userprofileformmodelform', [[85, 1]]), ('homephon', [[85, 1]]), ('workphon', [[85, 1]]), ('cellphon', [[85, 1]]), ('consolid', [[85, 1]]), ('shouldnt', [[85, 1]]), ('rprojectconfigpproductwpprojectidw', [[86, 1]]), ('toolviewsprojectconfig', [[86, 1]]), ('nameprojectconfig', [[86, 1]]), ('projectconfigrequest', [[86, 1]]), ('projectidnon', [[86, 1]]), ('templatenameprojecthtml', [[86, 1]]), ('projectid', [[86, 3]]), ('projectconfig', [[86, 1]]), ('projectconfig12345abdc', [[86, 1]]), ('equal', [[86, 1]]), ('noncaptur', [[86, 1]]), ('regex', [[86, 2]]), ('ptitleazaz', [[86, 1]]), ('rule', [[86, 1]]), ('urlrprojectconfig', [[86, 1]]), ('viewsfoo', [[86, 3]]), ('urlrprojectconfigpproductw', [[86, 1]]), ('urlrprojectconfigpproductwpprojectidw', [[86, 1]]), ('foorequest', [[86, 1]]), ('optionalparamet', [[86, 1]]), ('data0', [[87, 2]]), ('pizzamodelsmodel', [[88, 1]]), ('toppingmodelsmodel', [[88, 1]]), ('ison', [[88, 1]]), ('modelsmanytomanyfieldpizza', [[88, 1]]), ('toppingformformsmodelform', [[88, 1]]), ('toppingform', [[88, 1]]), ('pizza', [[88, 9]]), ('dandi', [[88, 1]]), ('modelmultiplechoicefield', [[88, 2]]), ('pizzaform', [[88, 4]]), ('pizzaformformsmodelform', [[88, 1]]), ('formsmodelmultiplechoicefieldquerysettoppingobjectsal', [[88, 1]]), ('kwargsgetinst', [[88, 1]]), ('kwargssetdefaultiniti', [[88, 1]]), ('initialtop', [[88, 1]]), ('tpk', [[88, 1]]), ('kwargsinstancetoppingsetal', [[88, 1]]), ('formsmodelforminitself', [[88, 1]]), ('committru', [[88, 1]]), ('unsav', [[88, 1]]), ('formsmodelformsaveself', [[88, 2]]), ('prepar', [[88, 1]]), ('savem2m', [[88, 3]]), ('oldsavem2m', [[88, 2]]), ('selfsavem2m', [[88, 3]]), ('instancetoppingsetclear', [[88, 2]]), ('instancetoppingsetaddselfcleaneddatatop', [[88, 2]]), ('commit', [[88, 1]]), ('everywher', [[88, 1]]), ('yourappadminpi', [[88, 1]]), ('yourappmodel', [[88, 1]]), ('yourappform', [[88, 1]]), ('pizzaadminmodeladmin', [[88, 1]]), ('siteregisterpizza', [[88, 1]]), ('pizzaadmin', [[88, 1]]), ('simplifi', [[88, 1]]), ('commitfals', [[88, 1]]), ('situat', [[88, 1]]), ('raw', [[89, 1], [95, 2]]), ('strang', [[89, 1]]), ('mymodelobjectsal', [[89, 1]]), ('printquerysetqueri', [[89, 1]]), ('myappmymodelid', [[89, 1]]), ('myappmymodel', [[89, 1]]), ('zip', [[90, 1]]), ('archiv', [[90, 1]]), ('drive', [[90, 1]]), ('contentdisposit', [[90, 1]]), ('wsgirefutil', [[90, 1]]), ('filewrapp', [[90, 1]]), ('httpresponsefilewrappermyfilegetvalu', [[90, 1]]), ('contenttypeapplicationzip', [[90, 1]]), ('filenamemyfilezip', [[90, 1]]), ('disk', [[90, 1]]), ('myfil', [[90, 1]]), ('notfinish', [[90, 1]]), ('chunk', [[90, 1], [94, 1]]), ('myfilewritechunk', [[90, 1]]), ('responsecontentlength', [[90, 1]]), ('myfiletel', [[90, 1]]), ('intermediari', [[91, 1]]), ('membermodelsmodel', [[91, 1]]), ('modelscharfieldmaxlength', [[91, 2]]), ('modelsmanytomanyfieldgroup', [[91, 1]]), ('membership', [[91, 6]]), ('groupmodelsmodel', [[91, 1]]), ('membershipmodelsmodel', [[91, 1]]), ('modelsforeignkeymemb', [[91, 1]]), ('modelsforeignkeygroup', [[91, 1]]), ('joindat', [[91, 6]]), ('serializerspi', [[91, 1], [95, 2]]), ('memberserializermodelseri', [[91, 1]]), ('groupserializermodelseri', [[91, 1]]), ('memberviewsetmodelviewset', [[91, 1]]), ('memberobjectsal', [[91, 1]]), ('serializerclass', [[91, 2]]), ('memberseri', [[91, 2]]), ('groupviewsetmodelviewset', [[91, 1]]), ('groupobjectsal', [[91, 1]]), ('groupseri', [[91, 1]]), ('34151564', [[91, 1]]), ('11200299', [[91, 1]]), ('djangotastypi', [[91, 1]]), ('membershipserializersourcemembershipset', [[91, 1]]), ('manytru', [[91, 1]]), ('membershipserializerserializershyperlinkedmodelseri', [[91, 2]]), ('serializersfieldsourcegroupid', [[91, 1]]), ('serializersfieldsourcegroupnam', [[91, 1]]), ('overal', [[91, 1]]), ('bryanph', [[91, 1]]), ('serializersfield', [[91, 1]]), ('serializersreadonlyfield', [[91, 1]]), ('serializersreadonlyfieldsourcegroupid', [[91, 1]]), ('serializersreadonlyfieldsourcegroupnam', [[91, 1]]), ('compar', [[92, 2]]), ('myobjectobjectsfilterdatetimeattrdatetimedate2009822', [[92, 1]]), ('0000', [[92, 1]]), ('djangoviewsgenericdatebas', [[92, 1]]), ('datetimefieldrang', [[92, 1]]), ('datetimedatetimecombined', [[92, 2]]), ('datetimetimemin', [[92, 1]]), ('datetimetimemax', [[92, 1]]), ('plan', [[92, 1]]), ('9596', [[92, 1]]), ('decodingencod', [[93, 1]]), ('pythondjango', [[93, 1]]), ('ltimg', [[93, 1]]), ('classquotsizemedium', [[93, 1]]), ('wpimage113quot', [[93, 1]]), ('stylequotmarginleft', [[93, 1]]), ('15pxquot', [[93, 1]]), ('titlequotsu1quot', [[93, 1]]), ('srcquothttpblahorgwpcontentuploads200810su1300x194jpgquot', [[93, 1]]), ('altquotquot', [[93, 1]]), ('widthquot300quot', [[93, 1]]), ('heightquot194quot', [[93, 1]]), ('classsizemedium', [[93, 1]]), ('wpimage113', [[93, 1]]), ('stylemarginleft', [[93, 1]]), ('15px', [[93, 1]]), ('titlesu1', [[93, 1]]), ('srchttpblahorgwpcontentuploads200810su1300x194jpg', [[93, 1]]), ('alt', [[93, 1]]), ('width300', [[93, 1]]), ('height194', [[93, 1]]), ('webscrap', [[93, 1]]), ('beautifulsoup', [[93, 2]]), ('scan', [[93, 1]]), ('xmlhtml', [[93, 1]]), ('unicod', [[93, 1]]), ('djangoutilshtmlescap', [[93, 2]]), ('ampersand', [[93, 1]]), ('quot', [[93, 2]]), ('caret', [[93, 1]]), ('marksafeforceunicodehtmlreplac', [[93, 1]]), ('ampreplac', [[93, 1]]), ('treplac', [[93, 1]]), ('gtreplac', [[93, 1]]), ('quotreplac', [[93, 1]]), ('cheetah', [[93, 1]]), ('jake', [[93, 1]]), ('singlequot', [[93, 1]]), ('symmetr', [[93, 1]]), ('htmldecod', [[93, 1]]), ('ascii', [[93, 1]]), ('decod', [[93, 1], [95, 2]]), ('htmlcode', [[93, 2]]), ('amp', [[93, 1]]), ('sreplacecode1', [[93, 1]]), ('code0', [[93, 1]]), ('unescap', [[93, 7]]), ('htmldecodemystr', [[93, 1]]), ('htmlparser', [[93, 4]]), ('htmlparserhtmlpars', [[93, 2]]), ('htmlparserunescapemystr', [[93, 2]]), ('unescapemystr', [[93, 1]]), ('itd', [[93, 1]]), ('contextvarsaf', [[93, 1]]), ('autoescap', [[93, 1]]), ('contextvar', [[93, 1]]), ('endautoescap', [[93, 1]]), ('stream', [[94, 7]]), ('suspect', [[94, 1]]), ('muck', [[94, 1]]), ('etag', [[94, 2]]), ('disabl', [[94, 2]]), ('somebodi', [[94, 1]]), ('streamresponserequest', [[94, 2]]), ('resp', [[94, 4]]), ('streamresponsegener', [[94, 4]]), ('range111', [[94, 2]]), ('timesleep1', [[94, 2]]), ('whitespac', [[94, 1]]), ('pipe', [[94, 1]]), ('djangoviewsdecoratorshttp', [[94, 1]]), ('conditionetagfuncnon', [[94, 1]]), ('contenttypetexthtml', [[94, 1]]), ('htmlbodyn', [[94, 1]]), ('divsdivn', [[94, 1]]), ('1024', [[94, 1]]), ('bodyhtmln', [[94, 1]]), ('lean', [[95, 1]]), ('shouldbetrivi', [[95, 1]]), ('imageserializerdatarequestdata', [[95, 1]]), ('filesrequestfil', [[95, 1]]), ('modelsimagefielduploadtoitemimag', [[95, 1]]), ('owner', [[95, 5]]), ('modelsforeignkey', [[95, 1]]), ('relatednameuploadeditemimag', [[95, 1]]), ('timecr', [[95, 3]]), ('imageserializerserializersmodelseri', [[95, 2]]), ('serializersimagefield', [[95, 1]]), ('maxlengthnon', [[95, 2]]), ('useurltru', [[95, 2]]), ('defaultparserclass', [[95, 1]]), ('restframeworkparsersjsonpars', [[95, 1]]), ('restframeworkparsersformpars', [[95, 1]]), ('restframeworkparsersmultipartpars', [[95, 1]]), ('angularrestmod', [[95, 2]]), ('resourc', [[95, 1]]), ('dataimagejpegbase649j4qqdrxhpzgaatu0a', [[95, 1]]), ('requestdata', [[95, 1]]), ('uowner', [[95, 1]]), ('uimag', [[95, 1]]), ('udataimagejpegbase649j4qqdrxhpzgaatu0akgaaa', [[95, 1]]), ('imageserializerdatarequestdataerror', [[95, 1]]), ('returndictimag', [[95, 1]]), ('uth', [[95, 1]]), ('angularfilednd', [[95, 2]]), ('drop', [[95, 3]]), ('crud', [[95, 1]]), ('scopeimag', [[95, 2]]), ('filedropzoneimagepng', [[95, 1]]), ('imagejpeg', [[95, 1]]), ('imagegif', [[95, 1]]), ('fileimag', [[95, 1]]), ('classmethod', [[95, 1]]), ('datamaxfilesize3', [[95, 1]]), ('filenameimagefilenam', [[95, 1]]), ('layoutrow', [[95, 1]]), ('layoutaligncent', [[95, 1]]), ('classfa', [[95, 1]]), ('faupload', [[95, 1]]), ('stylefontsize50pxi', [[95, 1]]), ('classtextlargedrap', [[95, 1]]), ('herediv', [[95, 1]]), ('scopeimageresourc', [[95, 1]]), ('imagebuild', [[95, 1]]), ('scopeupload', [[95, 1]]), ('consolelogupload', [[95, 1]]), ('scopeimageresourceimag', [[95, 1]]), ('scopeimageresourceown', [[95, 1]]), ('authgetprofileuserid', [[95, 1]]), ('scopeimageresourcesav', [[95, 1]]), ('ngfileupload', [[95, 1]]), ('multipart', [[95, 1]]), ('blob', [[95, 2]]), ('base64', [[95, 7]]), ('base64imagefield', [[95, 2]]), ('base64imagefieldserializersimagefield', [[95, 1]]), ('imageupload', [[95, 1]]), ('httpsgithubcomtomchristiedjangorestframeworkpull1268', [[95, 1]]), ('tointernalvalueself', [[95, 1]]), ('djangocorefilesbas', [[95, 1]]), ('contentfil', [[95, 1]]), ('six', [[95, 1]]), ('uuid', [[95, 1]]), ('isinstancedata', [[95, 1]]), ('sixstringtyp', [[95, 1]]), ('datasplitbase64', [[95, 1]]), ('decodedfil', [[95, 4]]), ('base64b64decodedata', [[95, 1]]), ('selffailinvalidimag', [[95, 1]]), ('struuiduuid412', [[95, 1]]), ('charact', [[95, 1]]), ('fileextens', [[95, 2]]), ('selfgetfileextensionfilenam', [[95, 1]]), ('completefilenam', [[95, 1]]), ('contentfiledecodedfil', [[95, 1]]), ('namecompletefilenam', [[95, 1]]), ('superbase64imagefield', [[95, 1]]), ('selftointernalvaluedata', [[95, 1]]), ('getfileextensionself', [[95, 1]]), ('imghdr', [[95, 1]]), ('imghdrwhatfilenam', [[95, 1]]), ('jpg', [[95, 1]]), ('jpeg', [[95, 1]]), ('base64encod', [[95, 1]]), ('depositrequestaccountnum', [[96, 1]]), ('getobjector404accountinfoacctnumberaccountnum', [[96, 1]]), ('formaccountformrequestpost', [[96, 1]]), ('instanceaccount', [[96, 1]]), ('balanceformrequestpost', [[96, 1]]), ('straccountinfoobjectsfilteracctnumberaccountnum', [[96, 1]]), ('infinfosplit', [[96, 1]]), ('cdformcleaneddata', [[96, 1]]), ('cmodel', [[96, 1]]), ('cmodelacctnumberaccountnum', [[96, 1]]), ('representsintcmodelacctnumb', [[96, 1]]), ('cmodelbalchange02f', [[96, 1]]), ('floatcmodelbalchang', [[96, 2]]), ('cmodeltotalbalance02f', [[96, 2]]), ('floatinf1', [[96, 1]]), ('accountbalance02f', [[96, 1]]), ('floatcmodeltotalbal', [[96, 2]]), ('cmodelbalchangecmodelbalchang', [[96, 1]]), ('cmodelissuednowstrftimemdi', [[96, 1]]), ('im', [[96, 1]]), ('accountrecentchangecmodelissu', [[96, 1]]), ('cmodelsav', [[96, 1]]), ('accountsav', [[96, 1]]), ('httpresponseredirecthistori', [[96, 1]]), ('accountnum', [[96, 2]]), ('rendertoresponsehistoryhtml', [[96, 1]]), ('accountform', [[96, 1]]), ('actiondeposit', [[96, 1]]), ('accountformbalchang', [[96, 1]]), ('nbsp', [[96, 1]]), ('valuedeposit', [[96, 1]]), ('csrfcookiesecur', [[96, 1]]), ('nonsecur', [[96, 1]]), ('csrfcookiehttpon', [[96, 1]]), ('smtpauthenticationerror', [[97, 2]]), ('signup', [[97, 1]]), ('userena', [[97, 1]]), ('verif', [[97, 1]]), ('smtp', [[97, 1], [99, 2]]), ('emailbackend', [[97, 1], [99, 1]]), ('djangocoremailbackendssmtpemailbackend', [[97, 1], [99, 1]]), ('emailusetl', [[97, 1], [99, 1]]), ('emailhost', [[97, 1], [99, 2]]), ('smtpgmailcom', [[97, 1]]), ('emailport', [[97, 1], [99, 1]]), ('587', [[97, 1]]), ('emailhostus', [[97, 1], [99, 1]]), ('raihncsegmailcom', [[97, 3]]), ('defaultfromemail', [[97, 1]]), ('serveremail', [[97, 2]]), ('emailhostpassword', [[97, 3], [99, 1]]), ('infact', [[97, 1]]), ('serveremailraihncsegmailcom', [[97, 1]]), ('accountssignup', [[97, 1]]), ('534', [[97, 1]]), ('5714', [[97, 1]]), ('httpsaccountsgooglecomcontinuesigninsarp1scc1pltakgnsbvnqn5714', [[97, 1]]), ('s3l1pfxenupdasdpphnhrnzelpuoyf6o0l1s31w7huarx11p89axpeez6xbi2keqrjswn5714', [[97, 1]]), ('nvpxzhpvv771w9ljedyewnqpqv3nakupo36bel3ilyj9qvujnb5cm0tyff9lqaxrjfddan5714', [[97, 1]]), ('xhy5spa9ziqondsvrrgn3e0dxoikgxto3mu75iaacixlvftffpbiq81gurbzphzsbmhn5714', [[97, 1]]), ('ajssfflnemosydyotndmwdb08', [[97, 1]]), ('andn5714', [[97, 1]]), ('againn5714', [[97, 1]]), ('atn5714', [[97, 1]]), ('httpssupportgooglecommailbinanswerpyanswer78754', [[97, 1]]), ('40sm12125121qgi47', [[97, 1]]), ('gsmtp', [[97, 1]]), ('authent', [[97, 1], [99, 1]]), ('secur', [[97, 4]]), ('httpssupportgooglecommailanswer78754', [[97, 1]]), ('unlock', [[97, 1]]), ('captcha', [[97, 1]]), ('gain', [[97, 1]]), ('templatesindex', [[98, 1]]), ('nameofmynewappset', [[98, 1]]), ('syspath', [[98, 1]]), ('clue', [[98, 1]]), ('djangocontenttyp', [[98, 3]]), ('applabelnewappnam', [[98, 1]]), ('applabeloldappnam', [[98, 2]]), ('oldappnamemodelnam', [[98, 1]]), ('newappnamemodelnam', [[98, 1]]), ('nullradix', [[98, 1]]), ('djangomigr', [[98, 2]]), ('rerun', [[98, 1]]), ('appnewappnam', [[98, 1]]), ('appoldappnam', [[98, 1]]), ('debat', [[98, 1]]), ('appnam', [[98, 1]]), ('oldappstaticoldapp', [[98, 1]]), ('newappstaticnewapp', [[98, 1]]), ('djangocontenttypenam', [[98, 1]]), ('namenewmodelnam', [[98, 1]]), ('nameoldmodelnam', [[98, 1]]), ('culprit', [[98, 1]]), ('danyamachin', [[98, 1]]), ('backward', [[98, 1]]), ('djangosouth', [[98, 1]]), ('araouf', [[98, 1]]), ('autom', [[98, 2]]), ('untest', [[98, 2]]), ('rafaponieman', [[98, 1]]), ('djangocoremail', [[99, 1]]), ('emailmessag', [[99, 1]]), ('emailmessagehello', [[99, 1]]), ('tousergmailcom', [[99, 1]]), ('emailsend', [[99, 1]]), ('smtpd', [[99, 1]]), ('debuggingserv', [[99, 1]]), ('localhost1025', [[99, 1]]), ('usergmailcom', [[99, 1]]), ('straight', [[99, 1]]), ('localhostsimpl', [[99, 1]]), ('emailmessagesend', [[99, 1]])])"
          },
          "metadata": {},
          "execution_count": 31
        }
      ],
      "source": [
        "#Criar índice invertido para viabilizar buscas\n",
        "def create_InvertedIndex(vocabulary, docs_stem_words): \n",
        "    invertedList = dict()\n",
        "    for term in vocabulary:\n",
        "        invertedList[term] = list()\n",
        "        index = 0\n",
        "        for stem_words in docs_stem_words:\n",
        "            frequencia = 0\n",
        "            for word in stem_words:\n",
        "                if word == term:\n",
        "                    frequencia += 1\n",
        "            if frequencia > 0:\n",
        "                invertedList[term].append([index, frequencia])\n",
        "            index += 1\n",
        "    return invertedList\n",
        "\n",
        "invertedList = create_InvertedIndex(vocabulary, docs_stem_words)\n",
        "invertedList.items()"
      ]
    },
    {
      "cell_type": "code",
      "execution_count": 32,
      "metadata": {
        "tags": [
          "outputPrepend"
        ]
      },
      "outputs": [
        {
          "output_type": "stream",
          "name": "stdout",
          "text": "527    djangocorefilestemp1       [[83, 1]]\n3528    namedtemporaryfil1       [[83, 1]]\n3529    imgtemp        1       [[83, 1]]\n3530    namedtemporaryfiledeletetru1       [[83, 1]]\n3531    imgtempwriteurllib2urlopenurlread1       [[83, 1]]\n3532    imgtempflush   1       [[83, 1]]\n3533    imfilesaveimgfilenam1       [[83, 1]]\n3534    fileimgtemp    1       [[83, 1]]\n3535    mac            2       [[84, 2]]\n3536    environmenterror4       [[84, 4]]\n3537    mysqlconfig    7       [[84, 7]]\n3538    due            1       [[84, 1]]\n3539    improperlyconfigurederror1       [[84, 1]]\n3540    whenev         1       [[84, 1]]\n3541    mysqlconfigpath1       [[84, 1]]\n3542    pathpathusrlocalmysqlbin2       [[84, 2]]\n3543    brew           1       [[84, 1]]\n3544    pip3           1       [[84, 1]]\n3545    gete           2       [[84, 1], [91, 1]]\n3546    mysqlconnectorpython2       [[84, 2]]\n3547    mysqlbin       1       [[84, 1]]\n3548    macport        1       [[84, 1]]\n3549    mysqlconfig5   1       [[84, 1]]\n3550    pathpathoptlocallibmysql5bin1       [[84, 1]]\n3551    note1          1       [[84, 1]]\n3552    pythondev      1       [[84, 1]]\n3553    libmysqlclientdev1       [[84, 1]]\n3554    note2          1       [[84, 1]]\n3555    besid          1       [[84, 1]]\n3556    brain          1       [[84, 1]]\n3557    happi          1       [[84, 1]]\n3558    luck           1       [[84, 1]]\n3559    userprofil     2       [[85, 2]]\n3560    usereditformmodelform1       [[85, 1]]\n3561    userprofileformmodelform1       [[85, 1]]\n3562    homephon       1       [[85, 1]]\n3563    workphon       1       [[85, 1]]\n3564    cellphon       1       [[85, 1]]\n3565    consolid       1       [[85, 1]]\n3566    shouldnt       1       [[85, 1]]\n3567    rprojectconfigpproductwpprojectidw1       [[86, 1]]\n3568    toolviewsprojectconfig1       [[86, 1]]\n3569    nameprojectconfig1       [[86, 1]]\n3570    projectconfigrequest1       [[86, 1]]\n3571    projectidnon   1       [[86, 1]]\n3572    templatenameprojecthtml1       [[86, 1]]\n3573    projectid      3       [[86, 3]]\n3574    projectconfig  1       [[86, 1]]\n3575    projectconfig12345abdc1       [[86, 1]]\n3576    equal          1       [[86, 1]]\n3577    noncaptur      1       [[86, 1]]\n3578    regex          2       [[86, 2]]\n3579    ptitleazaz     1       [[86, 1]]\n3580    rule           1       [[86, 1]]\n3581    urlrprojectconfig1       [[86, 1]]\n3582    viewsfoo       3       [[86, 3]]\n3583    urlrprojectconfigpproductw1       [[86, 1]]\n3584    urlrprojectconfigpproductwpprojectidw1       [[86, 1]]\n3585    foorequest     1       [[86, 1]]\n3586    optionalparamet1       [[86, 1]]\n3587    data0          2       [[87, 2]]\n3588    pizzamodelsmodel1       [[88, 1]]\n3589    toppingmodelsmodel1       [[88, 1]]\n3590    ison           1       [[88, 1]]\n3591    modelsmanytomanyfieldpizza1       [[88, 1]]\n3592    toppingformformsmodelform1       [[88, 1]]\n3593    toppingform    1       [[88, 1]]\n3594    pizza          9       [[88, 9]]\n3595    dandi          1       [[88, 1]]\n3596    modelmultiplechoicefield2       [[88, 2]]\n3597    pizzaform      4       [[88, 4]]\n3598    pizzaformformsmodelform1       [[88, 1]]\n3599    formsmodelmultiplechoicefieldquerysettoppingobjectsal1       [[88, 1]]\n3600    kwargsgetinst  1       [[88, 1]]\n3601    kwargssetdefaultiniti1       [[88, 1]]\n3602    initialtop     1       [[88, 1]]\n3603    tpk            1       [[88, 1]]\n3604    kwargsinstancetoppingsetal1       [[88, 1]]\n3605    formsmodelforminitself1       [[88, 1]]\n3606    committru      1       [[88, 1]]\n3607    unsav          1       [[88, 1]]\n3608    formsmodelformsaveself2       [[88, 2]]\n3609    prepar         1       [[88, 1]]\n3610    savem2m        3       [[88, 3]]\n3611    oldsavem2m     2       [[88, 2]]\n3612    selfsavem2m    3       [[88, 3]]\n3613    instancetoppingsetclear2       [[88, 2]]\n3614    instancetoppingsetaddselfcleaneddatatop2       [[88, 2]]\n3615    commit         1       [[88, 1]]\n3616    everywher      1       [[88, 1]]\n3617    yourappadminpi 1       [[88, 1]]\n3618    yourappmodel   1       [[88, 1]]\n3619    yourappform    1       [[88, 1]]\n3620    pizzaadminmodeladmin1       [[88, 1]]\n3621    siteregisterpizza1       [[88, 1]]\n3622    pizzaadmin     1       [[88, 1]]\n3623    simplifi       1       [[88, 1]]\n3624    commitfals     1       [[88, 1]]\n3625    situat         1       [[88, 1]]\n3626    raw            3       [[89, 1], [95, 2]]\n3627    strang         1       [[89, 1]]\n3628    mymodelobjectsal1       [[89, 1]]\n3629    printquerysetqueri1       [[89, 1]]\n3630    myappmymodelid 1       [[89, 1]]\n3631    myappmymodel   1       [[89, 1]]\n3632    zip            1       [[90, 1]]\n3633    archiv         1       [[90, 1]]\n3634    drive          1       [[90, 1]]\n3635    contentdisposit1       [[90, 1]]\n3636    wsgirefutil    1       [[90, 1]]\n3637    filewrapp      1       [[90, 1]]\n3638    httpresponsefilewrappermyfilegetvalu1       [[90, 1]]\n3639    contenttypeapplicationzip1       [[90, 1]]\n3640    filenamemyfilezip1       [[90, 1]]\n3641    disk           1       [[90, 1]]\n3642    myfil          1       [[90, 1]]\n3643    notfinish      1       [[90, 1]]\n3644    chunk          2       [[90, 1], [94, 1]]\n3645    myfilewritechunk1       [[90, 1]]\n3646    responsecontentlength1       [[90, 1]]\n3647    myfiletel      1       [[90, 1]]\n3648    intermediari   1       [[91, 1]]\n3649    membermodelsmodel1       [[91, 1]]\n3650    modelscharfieldmaxlength2       [[91, 2]]\n3651    modelsmanytomanyfieldgroup1       [[91, 1]]\n3652    membership     6       [[91, 6]]\n3653    groupmodelsmodel1       [[91, 1]]\n3654    membershipmodelsmodel1       [[91, 1]]\n3655    modelsforeignkeymemb1       [[91, 1]]\n3656    modelsforeignkeygroup1       [[91, 1]]\n3657    joindat        6       [[91, 6]]\n3658    serializerspi  3       [[91, 1], [95, 2]]\n3659    memberserializermodelseri1       [[91, 1]]\n3660    groupserializermodelseri1       [[91, 1]]\n3661    memberviewsetmodelviewset1       [[91, 1]]\n3662    memberobjectsal1       [[91, 1]]\n3663    serializerclass2       [[91, 2]]\n3664    memberseri     2       [[91, 2]]\n3665    groupviewsetmodelviewset1       [[91, 1]]\n3666    groupobjectsal 1       [[91, 1]]\n3667    groupseri      1       [[91, 1]]\n3668    34151564       1       [[91, 1]]\n3669    11200299       1       [[91, 1]]\n3670    djangotastypi  1       [[91, 1]]\n3671    membershipserializersourcemembershipset1       [[91, 1]]\n3672    manytru        1       [[91, 1]]\n3673    membershipserializerserializershyperlinkedmodelseri2       [[91, 2]]\n3674    serializersfieldsourcegroupid1       [[91, 1]]\n3675    serializersfieldsourcegroupnam1       [[91, 1]]\n3676    overal         1       [[91, 1]]\n3677    bryanph        1       [[91, 1]]\n3678    serializersfield1       [[91, 1]]\n3679    serializersreadonlyfield1       [[91, 1]]\n3680    serializersreadonlyfieldsourcegroupid1       [[91, 1]]\n3681    serializersreadonlyfieldsourcegroupnam1       [[91, 1]]\n3682    compar         2       [[92, 2]]\n3683    myobjectobjectsfilterdatetimeattrdatetimedate20098221       [[92, 1]]\n3684    0000           1       [[92, 1]]\n3685    djangoviewsgenericdatebas1       [[92, 1]]\n3686    datetimefieldrang1       [[92, 1]]\n3687    datetimedatetimecombined2       [[92, 2]]\n3688    datetimetimemin1       [[92, 1]]\n3689    datetimetimemax1       [[92, 1]]\n3690    plan           1       [[92, 1]]\n3691    9596           1       [[92, 1]]\n3692    decodingencod  1       [[93, 1]]\n3693    pythondjango   1       [[93, 1]]\n3694    ltimg          1       [[93, 1]]\n3695    classquotsizemedium1       [[93, 1]]\n3696    wpimage113quot 1       [[93, 1]]\n3697    stylequotmarginleft1       [[93, 1]]\n3698    15pxquot       1       [[93, 1]]\n3699    titlequotsu1quot1       [[93, 1]]\n3700    srcquothttpblahorgwpcontentuploads200810su1300x194jpgquot1       [[93, 1]]\n3701    altquotquot    1       [[93, 1]]\n3702    widthquot300quot1       [[93, 1]]\n3703    heightquot194quot1       [[93, 1]]\n3704    classsizemedium1       [[93, 1]]\n3705    wpimage113     1       [[93, 1]]\n3706    stylemarginleft1       [[93, 1]]\n3707    15px           1       [[93, 1]]\n3708    titlesu1       1       [[93, 1]]\n3709    srchttpblahorgwpcontentuploads200810su1300x194jpg1       [[93, 1]]\n3710    alt            1       [[93, 1]]\n3711    width300       1       [[93, 1]]\n3712    height194      1       [[93, 1]]\n3713    webscrap       1       [[93, 1]]\n3714    beautifulsoup  2       [[93, 2]]\n3715    scan           1       [[93, 1]]\n3716    xmlhtml        1       [[93, 1]]\n3717    unicod         1       [[93, 1]]\n3718    djangoutilshtmlescap2       [[93, 2]]\n3719    ampersand      1       [[93, 1]]\n3720    quot           2       [[93, 2]]\n3721    caret          1       [[93, 1]]\n3722    marksafeforceunicodehtmlreplac1       [[93, 1]]\n3723    ampreplac      1       [[93, 1]]\n3724    treplac        1       [[93, 1]]\n3725    gtreplac       1       [[93, 1]]\n3726    quotreplac     1       [[93, 1]]\n3727    cheetah        1       [[93, 1]]\n3728    jake           1       [[93, 1]]\n3729    singlequot     1       [[93, 1]]\n3730    symmetr        1       [[93, 1]]\n3731    htmldecod      1       [[93, 1]]\n3732    ascii          1       [[93, 1]]\n3733    decod          3       [[93, 1], [95, 2]]\n3734    htmlcode       2       [[93, 2]]\n3735    amp            1       [[93, 1]]\n3736    sreplacecode1  1       [[93, 1]]\n3737    code0          1       [[93, 1]]\n3738    unescap        7       [[93, 7]]\n3739    htmldecodemystr1       [[93, 1]]\n3740    htmlparser     4       [[93, 4]]\n3741    htmlparserhtmlpars2       [[93, 2]]\n3742    htmlparserunescapemystr2       [[93, 2]]\n3743    unescapemystr  1       [[93, 1]]\n3744    itd            1       [[93, 1]]\n3745    contextvarsaf  1       [[93, 1]]\n3746    autoescap      1       [[93, 1]]\n3747    contextvar     1       [[93, 1]]\n3748    endautoescap   1       [[93, 1]]\n3749    stream         7       [[94, 7]]\n3750    suspect        1       [[94, 1]]\n3751    muck           1       [[94, 1]]\n3752    etag           2       [[94, 2]]\n3753    disabl         2       [[94, 2]]\n3754    somebodi       1       [[94, 1]]\n3755    streamresponserequest2       [[94, 2]]\n3756    resp           4       [[94, 4]]\n3757    streamresponsegener4       [[94, 4]]\n3758    range111       2       [[94, 2]]\n3759    timesleep1     2       [[94, 2]]\n3760    whitespac      1       [[94, 1]]\n3761    pipe           1       [[94, 1]]\n3762    djangoviewsdecoratorshttp1       [[94, 1]]\n3763    conditionetagfuncnon1       [[94, 1]]\n3764    contenttypetexthtml1       [[94, 1]]\n3765    htmlbodyn      1       [[94, 1]]\n3766    divsdivn       1       [[94, 1]]\n3767    1024           1       [[94, 1]]\n3768    bodyhtmln      1       [[94, 1]]\n3769    lean           1       [[95, 1]]\n3770    shouldbetrivi  1       [[95, 1]]\n3771    imageserializerdatarequestdata1       [[95, 1]]\n3772    filesrequestfil1       [[95, 1]]\n3773    modelsimagefielduploadtoitemimag1       [[95, 1]]\n3774    owner          5       [[95, 5]]\n3775    modelsforeignkey1       [[95, 1]]\n3776    relatednameuploadeditemimag1       [[95, 1]]\n3777    timecr         3       [[95, 3]]\n3778    imageserializerserializersmodelseri2       [[95, 2]]\n3779    serializersimagefield1       [[95, 1]]\n3780    maxlengthnon   2       [[95, 2]]\n3781    useurltru      2       [[95, 2]]\n3782    defaultparserclass1       [[95, 1]]\n3783    restframeworkparsersjsonpars1       [[95, 1]]\n3784    restframeworkparsersformpars1       [[95, 1]]\n3785    restframeworkparsersmultipartpars1       [[95, 1]]\n3786    angularrestmod 2       [[95, 2]]\n3787    resourc        1       [[95, 1]]\n3788    dataimagejpegbase649j4qqdrxhpzgaatu0a1       [[95, 1]]\n3789    requestdata    1       [[95, 1]]\n3790    uowner         1       [[95, 1]]\n3791    uimag          1       [[95, 1]]\n3792    udataimagejpegbase649j4qqdrxhpzgaatu0akgaaa1       [[95, 1]]\n3793    imageserializerdatarequestdataerror1       [[95, 1]]\n3794    returndictimag 1       [[95, 1]]\n3795    uth            1       [[95, 1]]\n3796    angularfilednd 2       [[95, 2]]\n3797    drop           3       [[95, 3]]\n3798    crud           1       [[95, 1]]\n3799    scopeimag      2       [[95, 2]]\n3800    filedropzoneimagepng1       [[95, 1]]\n3801    imagejpeg      1       [[95, 1]]\n3802    imagegif       1       [[95, 1]]\n3803    fileimag       1       [[95, 1]]\n3804    classmethod    1       [[95, 1]]\n3805    datamaxfilesize31       [[95, 1]]\n3806    filenameimagefilenam1       [[95, 1]]\n3807    layoutrow      1       [[95, 1]]\n3808    layoutaligncent1       [[95, 1]]\n3809    classfa        1       [[95, 1]]\n3810    faupload       1       [[95, 1]]\n3811    stylefontsize50pxi1       [[95, 1]]\n3812    classtextlargedrap1       [[95, 1]]\n3813    herediv        1       [[95, 1]]\n3814    scopeimageresourc1       [[95, 1]]\n3815    imagebuild     1       [[95, 1]]\n3816    scopeupload    1       [[95, 1]]\n3817    consolelogupload1       [[95, 1]]\n3818    scopeimageresourceimag1       [[95, 1]]\n3819    scopeimageresourceown1       [[95, 1]]\n3820    authgetprofileuserid1       [[95, 1]]\n3821    scopeimageresourcesav1       [[95, 1]]\n3822    ngfileupload   1       [[95, 1]]\n3823    multipart      1       [[95, 1]]\n3824    blob           2       [[95, 2]]\n3825    base64         7       [[95, 7]]\n3826    base64imagefield2       [[95, 2]]\n3827    base64imagefieldserializersimagefield1       [[95, 1]]\n3828    imageupload    1       [[95, 1]]\n3829    httpsgithubcomtomchristiedjangorestframeworkpull12681       [[95, 1]]\n3830    tointernalvalueself1       [[95, 1]]\n3831    djangocorefilesbas1       [[95, 1]]\n3832    contentfil     1       [[95, 1]]\n3833    six            1       [[95, 1]]\n3834    uuid           1       [[95, 1]]\n3835    isinstancedata 1       [[95, 1]]\n3836    sixstringtyp   1       [[95, 1]]\n3837    datasplitbase641       [[95, 1]]\n3838    decodedfil     4       [[95, 4]]\n3839    base64b64decodedata1       [[95, 1]]\n3840    selffailinvalidimag1       [[95, 1]]\n3841    struuiduuid412 1       [[95, 1]]\n3842    charact        1       [[95, 1]]\n3843    fileextens     2       [[95, 2]]\n3844    selfgetfileextensionfilenam1       [[95, 1]]\n3845    completefilenam1       [[95, 1]]\n3846    contentfiledecodedfil1       [[95, 1]]\n3847    namecompletefilenam1       [[95, 1]]\n3848    superbase64imagefield1       [[95, 1]]\n3849    selftointernalvaluedata1       [[95, 1]]\n3850    getfileextensionself1       [[95, 1]]\n3851    imghdr         1       [[95, 1]]\n3852    imghdrwhatfilenam1       [[95, 1]]\n3853    jpg            1       [[95, 1]]\n3854    jpeg           1       [[95, 1]]\n3855    base64encod    1       [[95, 1]]\n3856    depositrequestaccountnum1       [[96, 1]]\n3857    getobjector404accountinfoacctnumberaccountnum1       [[96, 1]]\n3858    formaccountformrequestpost1       [[96, 1]]\n3859    instanceaccount1       [[96, 1]]\n3860    balanceformrequestpost1       [[96, 1]]\n3861    straccountinfoobjectsfilteracctnumberaccountnum1       [[96, 1]]\n3862    infinfosplit   1       [[96, 1]]\n3863    cdformcleaneddata1       [[96, 1]]\n3864    cmodel         1       [[96, 1]]\n3865    cmodelacctnumberaccountnum1       [[96, 1]]\n3866    representsintcmodelacctnumb1       [[96, 1]]\n3867    cmodelbalchange02f1       [[96, 1]]\n3868    floatcmodelbalchang2       [[96, 2]]\n3869    cmodeltotalbalance02f2       [[96, 2]]\n3870    floatinf1      1       [[96, 1]]\n3871    accountbalance02f1       [[96, 1]]\n3872    floatcmodeltotalbal2       [[96, 2]]\n3873    cmodelbalchangecmodelbalchang1       [[96, 1]]\n3874    cmodelissuednowstrftimemdi1       [[96, 1]]\n3875    im             1       [[96, 1]]\n3876    accountrecentchangecmodelissu1       [[96, 1]]\n3877    cmodelsav      1       [[96, 1]]\n3878    accountsav     1       [[96, 1]]\n3879    httpresponseredirecthistori1       [[96, 1]]\n3880    accountnum     2       [[96, 2]]\n3881    rendertoresponsehistoryhtml1       [[96, 1]]\n3882    accountform    1       [[96, 1]]\n3883    actiondeposit  1       [[96, 1]]\n3884    accountformbalchang1       [[96, 1]]\n3885    nbsp           1       [[96, 1]]\n3886    valuedeposit   1       [[96, 1]]\n3887    csrfcookiesecur1       [[96, 1]]\n3888    nonsecur       1       [[96, 1]]\n3889    csrfcookiehttpon1       [[96, 1]]\n3890    smtpauthenticationerror2       [[97, 2]]\n3891    signup         1       [[97, 1]]\n3892    userena        1       [[97, 1]]\n3893    verif          1       [[97, 1]]\n3894    smtp           3       [[97, 1], [99, 2]]\n3895    emailbackend   2       [[97, 1], [99, 1]]\n3896    djangocoremailbackendssmtpemailbackend2       [[97, 1], [99, 1]]\n3897    emailusetl     2       [[97, 1], [99, 1]]\n3898    emailhost      3       [[97, 1], [99, 2]]\n3899    smtpgmailcom   1       [[97, 1]]\n3900    emailport      2       [[97, 1], [99, 1]]\n3901    587            1       [[97, 1]]\n3902    emailhostus    2       [[97, 1], [99, 1]]\n3903    raihncsegmailcom3       [[97, 3]]\n3904    defaultfromemail1       [[97, 1]]\n3905    serveremail    2       [[97, 2]]\n3906    emailhostpassword4       [[97, 3], [99, 1]]\n3907    infact         1       [[97, 1]]\n3908    serveremailraihncsegmailcom1       [[97, 1]]\n3909    accountssignup 1       [[97, 1]]\n3910    534            1       [[97, 1]]\n3911    5714           1       [[97, 1]]\n3912    httpsaccountsgooglecomcontinuesigninsarp1scc1pltakgnsbvnqn57141       [[97, 1]]\n3913    s3l1pfxenupdasdpphnhrnzelpuoyf6o0l1s31w7huarx11p89axpeez6xbi2keqrjswn57141       [[97, 1]]\n3914    nvpxzhpvv771w9ljedyewnqpqv3nakupo36bel3ilyj9qvujnb5cm0tyff9lqaxrjfddan57141       [[97, 1]]\n3915    xhy5spa9ziqondsvrrgn3e0dxoikgxto3mu75iaacixlvftffpbiq81gurbzphzsbmhn57141       [[97, 1]]\n3916    ajssfflnemosydyotndmwdb081       [[97, 1]]\n3917    andn5714       1       [[97, 1]]\n3918    againn5714     1       [[97, 1]]\n3919    atn5714        1       [[97, 1]]\n3920    httpssupportgooglecommailbinanswerpyanswer787541       [[97, 1]]\n3921    40sm12125121qgi471       [[97, 1]]\n3922    gsmtp          1       [[97, 1]]\n3923    authent        2       [[97, 1], [99, 1]]\n3924    secur          4       [[97, 4]]\n3925    httpssupportgooglecommailanswer787541       [[97, 1]]\n3926    unlock         1       [[97, 1]]\n3927    captcha        1       [[97, 1]]\n3928    gain           1       [[97, 1]]\n3929    templatesindex 1       [[98, 1]]\n3930    nameofmynewappset1       [[98, 1]]\n3931    syspath        1       [[98, 1]]\n3932    clue           1       [[98, 1]]\n3933    djangocontenttyp3       [[98, 3]]\n3934    applabelnewappnam1       [[98, 1]]\n3935    applabeloldappnam2       [[98, 2]]\n3936    oldappnamemodelnam1       [[98, 1]]\n3937    newappnamemodelnam1       [[98, 1]]\n3938    nullradix      1       [[98, 1]]\n3939    djangomigr     2       [[98, 2]]\n3940    rerun          1       [[98, 1]]\n3941    appnewappnam   1       [[98, 1]]\n3942    appoldappnam   1       [[98, 1]]\n3943    debat          1       [[98, 1]]\n3944    appnam         1       [[98, 1]]\n3945    oldappstaticoldapp1       [[98, 1]]\n3946    newappstaticnewapp1       [[98, 1]]\n3947    djangocontenttypenam1       [[98, 1]]\n3948    namenewmodelnam1       [[98, 1]]\n3949    nameoldmodelnam1       [[98, 1]]\n3950    culprit        1       [[98, 1]]\n3951    danyamachin    1       [[98, 1]]\n3952    backward       1       [[98, 1]]\n3953    djangosouth    1       [[98, 1]]\n3954    araouf         1       [[98, 1]]\n3955    autom          2       [[98, 2]]\n3956    untest         2       [[98, 2]]\n3957    rafaponieman   1       [[98, 1]]\n3958    djangocoremail 1       [[99, 1]]\n3959    emailmessag    1       [[99, 1]]\n3960    emailmessagehello1       [[99, 1]]\n3961    tousergmailcom 1       [[99, 1]]\n3962    emailsend      1       [[99, 1]]\n3963    smtpd          1       [[99, 1]]\n3964    debuggingserv  1       [[99, 1]]\n3965    localhost1025  1       [[99, 1]]\n3966    usergmailcom   1       [[99, 1]]\n3967    straight       1       [[99, 1]]\n3968    localhostsimpl 1       [[99, 1]]\n3969    emailmessagesend1       [[99, 1]]\n"
        }
      ],
      "source": [
        "#Exibe os dados formatados\n",
        "fmt = '{:<8}{:<15}{:<8}{}'\n",
        "\n",
        "print(fmt.format('', 'Vocabulary', 'ni', 'Inverted Lists'))\n",
        "for i, (vocab, ni, ocurrencies) in enumerate(zip(vocabulary.keys(), vocabulary.values(), invertedList.values())):\n",
        "    print(fmt.format(i, vocab, ni, ocurrencies))"
      ]
    },
    {
      "cell_type": "code",
      "execution_count": null,
      "metadata": {},
      "outputs": [],
      "source": []
    },
    {
      "cell_type": "code",
      "execution_count": null,
      "metadata": {},
      "outputs": [],
      "source": []
    },
    {
      "cell_type": "code",
      "execution_count": null,
      "metadata": {},
      "outputs": [],
      "source": []
    },
    {
      "cell_type": "code",
      "execution_count": null,
      "metadata": {},
      "outputs": [],
      "source": []
    },
    {
      "cell_type": "code",
      "execution_count": null,
      "metadata": {},
      "outputs": [],
      "source": []
    },
    {
      "cell_type": "code",
      "execution_count": 77,
      "metadata": {},
      "outputs": [],
      "source": [
        "# create functions for TD-IDF / BM25\n",
        "import math\n",
        "from textblob import TextBlob as tb\n",
        "\n",
        "def tf(word, doc):\n",
        "    return doc.count(word) / len(doc)\n",
        "\n",
        "def n_containing(word, doclist):\n",
        "    return sum(1 for doc in doclist if word in doc)\n",
        "\n",
        "def idf(word, doclist):\n",
        "    return math.log(len(doclist) / (0.01 + n_containing(word, doclist)))\n",
        "\n",
        "def tfidf(word, doc, doclist):\n",
        "    return (tf(word, doc) * idf(word, doclist))"
      ]
    },
    {
      "cell_type": "code",
      "execution_count": 89,
      "metadata": {},
      "outputs": [],
      "source": [
        "from sklearn.feature_extraction.text import TfidfVectorizer #TF-IDF\n",
        "\n",
        "worddic = {}\n",
        "\n",
        "for index in range(len(set_stem_words)):\n",
        "    for word in wordsunique:\n",
        "        if word in set_stem_words[0][index]:\n",
        "            word = str(word)\n",
        "            positions = list(np.where(np.array(set_stem_words[0][index]) == word)[0])\n",
        "            idfs = tfidf(word,set_stem_words[0][index],set_stem_words)\n",
        "\n",
        "            try:\n",
        "                worddic[word] = [index,positions,idfs]\n",
        "            except:\n",
        "                worddic[word] = []\n",
        "                worddic[word] = [index,positions,idfs]\n",
        "    index += 1"
      ]
    },
    {
      "cell_type": "code",
      "execution_count": 90,
      "metadata": {},
      "outputs": [
        {
          "output_type": "execute_result",
          "data": {
            "text/plain": "[84,\n [6, 44, 56, 60, 64, 86, 99, 102, 108, 111, 183, 186, 204, 217, 227],\n 0.5233147938622832]"
          },
          "metadata": {},
          "execution_count": 90
        }
      ],
      "source": [
        "worddic['instal']"
      ]
    },
    {
      "cell_type": "code",
      "execution_count": 91,
      "metadata": {
        "tags": []
      },
      "outputs": [
        {
          "output_type": "stream",
          "name": "stdout",
          "text": "\nI want users on the site to be able to download files whose paths are obscured so they cannot be directly downloaded.\nFor instance, I'd like the URL to be something like this: http://example.com/download/?f=somefile.txt\nAnd on the server, I know that all downloadable files reside in the folder /home/user/files/.\nIs there a way to make Django serve that file for download as opposed to trying to find a URL and View to display it?\n\n"
        }
      ],
      "source": [
        "print(questions_df['full_question'][5])"
      ]
    },
    {
      "cell_type": "code",
      "execution_count": 92,
      "metadata": {
        "tags": []
      },
      "outputs": [
        {
          "output_type": "stream",
          "name": "stdout",
          "text": "\nFor the \"best of both worlds\" you could combine S.Lott's solution with the xsendfile module: django generates the path to the file (or the file itself), but the actual file serving is handled by Apache/Lighttpd. Once you've set up mod_xsendfile, integrating with your view takes a few lines of code:\nfrom django.utils.encoding import smart_str\n\nresponse = HttpResponse(mimetype='application/force-download') # mimetype is replaced by content_type for django 1.7\nresponse['Content-Disposition'] = 'attachment; filename=%s' % smart_str(file_name)\nresponse['X-Sendfile'] = smart_str(path_to_file)\n# It's usually a good idea to set the 'Content-Length' header too.\n# You can also set any other required headers: Cache-Control, etc.\nreturn response\n\nOf course, this will only work if you have control over your server, or your hosting company has mod_xsendfile already set up.\nEDIT:\n\nmimetype is replaced by content_type for django 1.7\n\nresponse = HttpResponse(content_type='application/force-download')  \n\nEDIT:\n For nginx check this, it uses X-Accel-Redirect instead of apache X-Sendfile header.\n\n"
        }
      ],
      "source": [
        "print(questions_df['best_answer'][5])"
      ]
    },
    {
      "cell_type": "code",
      "execution_count": 75,
      "metadata": {
        "tags": []
      },
      "outputs": [
        {
          "output_type": "stream",
          "name": "stdout",
          "text": "(1, 1)\n<class 'scipy.sparse.csr.csr_matrix'>\n[[1.]]\n"
        }
      ],
      "source": [
        "\n",
        "tfidfvectorizer = TfidfVectorizer()\n",
        "tfidfvectorizer.fit(['django'])\n",
        "vectortfidf = tfidfvectorizer.transform(['django'])\n",
        "# summarize encoded vector\n",
        "print(vectortfidf.shape)\n",
        "print(type(vectortfidf))\n",
        "print(vectortfidf.toarray())"
      ]
    },
    {
      "cell_type": "code",
      "execution_count": 106,
      "metadata": {
        "tags": []
      },
      "outputs": [
        {
          "output_type": "stream",
          "name": "stdout",
          "text": "running weird error trying install django computer sequence typed command line cpython34 python getpippy requirement already uptodate pip cpython34libsitepackages cleaning cpython34 pip install django pip recognized internal external command operable program batch file cpython34 libsitepackagespip install django libsitepackagespip recognized internal external command operable program batch file could causing get type echo path cpython34echo path cprogram filesimagemagick688q16cprogram files x86intelicls client cprogram filesintelicls clientcwindowssystem32cwindowscwindowss ystem32wbemcwindowssystem32windowspowershellv10cprogram files x86 windows livesharedcprogram files x86intelopencl sdk20binx86cprogr files x86intelopencl sdk20binx64cprogram filesintelintelr mana gement engine componentsdalcprogram filesintelintelr management engine omponentsiptcprogram files x86intelintelr management engine components dalcprogram files x86intelintelr management engine componentsiptcp rogram files x86nodejscprogram files x86herokubincprogram files 86gitcmdcrailsinstallerruby200bincrailsinstallergitcmdcrailsin stallerruby193bincusersjaviappdataroamingnpmyou need add path pip installation path system variable default pip installed cpython34scriptspip pip comes bundled new versions python path cpython34scripts needs added path variable check already path variable type echo path cmd prompt add path pip installation path variable use control panel setx command example setx path pathcpython34scripts note according official documentation variables set setx variables available future command windows current command window particular need start new cmdexe instance entering command order utilize new environment variable thanks scott bartell pointing outsuccess success success\n"
        }
      ],
      "source": [
        "from sklearn.feature_extraction.text import CountVectorizer #TF\n",
        "\n",
        "text = ' '.join([word for word in keywords])\n",
        "print(text)\n",
        "\n",
        "set()"
      ]
    },
    {
      "cell_type": "code",
      "execution_count": 107,
      "metadata": {
        "tags": []
      },
      "outputs": [
        {
          "output_type": "stream",
          "name": "stdout",
          "text": "(1, 113)\n<class 'scipy.sparse.csr.csr_matrix'>\n[[ 1  1  2  1  2  1  1  2  1  1  1  1  1  1  1  1  1  7  1  1  1  1  1  1\n   2  3  1  1  1  1  1  1  1  3  1  2  4  1  1  1  1  2  2  9  1  1  2  1\n   1  1  1  3  2  1  1  2  2  1  1  1  3  2  1  3  1  1  1  2  1  1  1  1\n  11  1  7  1  2  1  2  2  1  1  1  1  1  1  1  1  3  1  1  2  1  1  1  2\n   1  1  1  1  5  2  1  1  1  2  1  1  1  2  2  1  1]]\n"
        }
      ],
      "source": [
        "vectorizer = CountVectorizer()\n",
        "vectorizer.fit([text])\n",
        "vector = vectorizer.transform([text])\n",
        "# summarize encoded vector\n",
        "print(vector.shape)\n",
        "print(type(vector))\n",
        "print(vector.toarray())"
      ]
    },
    {
      "cell_type": "code",
      "execution_count": 111,
      "metadata": {
        "tags": []
      },
      "outputs": [
        {
          "output_type": "stream",
          "name": "stdout",
          "text": "[[0 0 0 0 0 0 0 0 0 0 0 0 0 0 0 0 0 0 0 0 0 0 0 0 0 0 0 0 0 0 0 0 0 4 0 0\n  0 0 0 0 0 0 0 0 0 0 0 0 0 0 0 5 0 0 0 0 0 0 0 0 0 0 0 0 0 0 0 0 0 0 0 0\n  0 0 0 0 0 0 0 0 0 0 0 0 0 0 0 0 0 0 0 3 0 0 0 0 0 0 0 0 0 0 0 0 0 0 0 0\n  0 0 0 0 0]]\n"
        }
      ],
      "source": [
        "\n",
        "#Vetoriza um texto novo\n",
        "text2 = [\"How can I install install install install  install Django? No success success success with django so far... django django\"]\n",
        "vector2 = vectorizer.transform(text2)\n",
        "print(vector2.toarray())"
      ]
    },
    {
      "cell_type": "code",
      "execution_count": 109,
      "metadata": {
        "tags": []
      },
      "outputs": [
        {
          "output_type": "stream",
          "name": "stdout",
          "text": "(1, 113)\n<class 'scipy.sparse.csr.csr_matrix'>\n[[0.04218245 0.04218245 0.08436491 0.04218245 0.08436491 0.04218245\n  0.04218245 0.08436491 0.04218245 0.04218245 0.04218245 0.04218245\n  0.04218245 0.04218245 0.04218245 0.04218245 0.04218245 0.29527718\n  0.04218245 0.04218245 0.04218245 0.04218245 0.04218245 0.04218245\n  0.08436491 0.12654736 0.04218245 0.04218245 0.04218245 0.04218245\n  0.04218245 0.04218245 0.04218245 0.12654736 0.04218245 0.08436491\n  0.16872982 0.04218245 0.04218245 0.04218245 0.04218245 0.08436491\n  0.08436491 0.37964209 0.04218245 0.04218245 0.08436491 0.04218245\n  0.04218245 0.04218245 0.04218245 0.12654736 0.08436491 0.04218245\n  0.04218245 0.08436491 0.08436491 0.04218245 0.04218245 0.04218245\n  0.12654736 0.08436491 0.04218245 0.12654736 0.04218245 0.04218245\n  0.04218245 0.08436491 0.04218245 0.04218245 0.04218245 0.04218245\n  0.46400699 0.04218245 0.29527718 0.04218245 0.08436491 0.04218245\n  0.08436491 0.08436491 0.04218245 0.04218245 0.04218245 0.04218245\n  0.04218245 0.04218245 0.04218245 0.04218245 0.12654736 0.04218245\n  0.04218245 0.08436491 0.04218245 0.04218245 0.04218245 0.08436491\n  0.04218245 0.04218245 0.04218245 0.04218245 0.21091227 0.08436491\n  0.04218245 0.04218245 0.04218245 0.08436491 0.04218245 0.04218245\n  0.04218245 0.08436491 0.08436491 0.04218245 0.04218245]]\n"
        }
      ],
      "source": [
        "\n",
        "from sklearn.feature_extraction.text import TfidfVectorizer #TF-IDF\n",
        "tfidfvectorizer = TfidfVectorizer()\n",
        "tfidfvectorizer.fit([text])\n",
        "vectortfidf = tfidfvectorizer.transform([text])\n",
        "# summarize encoded vector\n",
        "print(vectortfidf.shape)\n",
        "print(type(vectortfidf))\n",
        "print(vectortfidf.toarray())"
      ]
    },
    {
      "cell_type": "code",
      "execution_count": 112,
      "metadata": {
        "tags": []
      },
      "outputs": [
        {
          "output_type": "stream",
          "name": "stdout",
          "text": "[[0.         0.         0.         0.         0.         0.\n  0.         0.         0.         0.         0.         0.\n  0.         0.         0.         0.         0.         0.\n  0.         0.         0.         0.         0.         0.\n  0.         0.         0.         0.         0.         0.\n  0.         0.         0.         0.56568542 0.         0.\n  0.         0.         0.         0.         0.         0.\n  0.         0.         0.         0.         0.         0.\n  0.         0.         0.         0.70710678 0.         0.\n  0.         0.         0.         0.         0.         0.\n  0.         0.         0.         0.         0.         0.\n  0.         0.         0.         0.         0.         0.\n  0.         0.         0.         0.         0.         0.\n  0.         0.         0.         0.         0.         0.\n  0.         0.         0.         0.         0.         0.\n  0.         0.42426407 0.         0.         0.         0.\n  0.         0.         0.         0.         0.         0.\n  0.         0.         0.         0.         0.         0.\n  0.         0.         0.         0.         0.        ]]\n"
        }
      ],
      "source": [
        "\n",
        "#Vetoriza um texto novo\n",
        "vectortfidf2 = tfidfvectorizer.transform(text2)\n",
        "print(vectortfidf2.toarray())"
      ]
    },
    {
      "cell_type": "code",
      "execution_count": 113,
      "metadata": {
        "tags": []
      },
      "outputs": [
        {
          "output_type": "stream",
          "name": "stdout",
          "text": "TF  [[0.1968615]]\nTF-IDF:  [[0.1968615]]\n"
        }
      ],
      "source": [
        "from sklearn.metrics.pairwise import cosine_similarity\n",
        "print(\"TF \", cosine_similarity(vector, vector2))\n",
        "print(\"TF-IDF: \", cosine_similarity(vectortfidf, vectortfidf2))"
      ]
    },
    {
      "cell_type": "code",
      "execution_count": null,
      "metadata": {},
      "outputs": [],
      "source": []
    },
    {
      "cell_type": "code",
      "execution_count": null,
      "metadata": {},
      "outputs": [],
      "source": [
        "questions_overview_raw = read_stackoverflow_overview(tags=['python','django'],tab='Frequent',pages=2)\n",
        "type(questions_overview_raw)"
      ]
    }
  ],
  "metadata": {
    "colab": {
      "name": "Read_Stackoverflow.ipynb",
      "provenance": [],
      "collapsed_sections": [],
      "authorship_tag": "ABX9TyNmUrBHkx90se+IXEtbfA+9",
      "include_colab_link": true
    },
    "kernelspec": {
      "name": "python3",
      "display_name": "Python 3"
    }
  },
  "nbformat": 4,
  "nbformat_minor": 0
}