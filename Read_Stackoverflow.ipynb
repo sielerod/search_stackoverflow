{
  "cells": [
    {
      "cell_type": "markdown",
      "metadata": {
        "id": "view-in-github",
        "colab_type": "text"
      },
      "source": [
        "<a href=\"https://colab.research.google.com/github/sielerod/search_stackoverflow/blob/master/Read_Stackoverflow.ipynb\" target=\"_parent\"><img src=\"https://colab.research.google.com/assets/colab-badge.svg\" alt=\"Open In Colab\"/></a>"
      ]
    },
    {
      "cell_type": "markdown",
      "metadata": {
        "id": "OhI60Te7lUP1",
        "colab_type": "text"
      },
      "source": [
        "#**Objetivo:**   \n",
        "* Capturar as perguntas mais frequentes sobre Python no stackoverflow\n",
        "* Armazenar para cada pergunta: link, breve descrição da pergunta, quantidade de votos e visualizações, pergunta, respostas com melhor avaliação\n",
        "\n",
        "\n",
        "**Fonte:** https://stackoverflow.com/questions/\n"
      ]
    },
    {
      "cell_type": "code",
      "metadata": {
        "id": "wTKKIbRrd_fr",
        "colab_type": "code",
        "colab": {},
        "tags": []
      },
      "source": [
        "import numpy as np \n",
        "import pandas as pd\n",
        "\n",
        "import requests # Coleta de conteúdo em Webpage\n",
        "from requests.exceptions import HTTPError\n",
        "from bs4 import BeautifulSoup as bs # Scraping webpages\n",
        "from time import sleep\n",
        "import json\n",
        "\n",
        "import re #biblioteca para trabalhar com regular expressions - regex\n",
        "import string\n",
        "import unidecode\n",
        "\n",
        "import nltk\n",
        "#nltk.download('punkt')\n",
        "#nltk.download('stopwords')\n",
        "#from nltk.stem import RSLPStemmer #Stemming Portugues\n",
        "#from nltk.stem import PorterStemmer #Stemming Ingles com algoritmo de Porter: algoritmo menos agressivo nas reduções\n",
        "from nltk.stem import SnowballStemmer #Stemming Porter2: mais agressivo nas reduções do que Porter stemmer e um pouco mais rápido \n",
        "#from nltk.stem import WordNetLemmatizer\n",
        "from nltk.tokenize import word_tokenize\n",
        "from nltk.tokenize import RegexpTokenizer\n",
        "from nltk.corpus import stopwords\n"
      ],
      "execution_count": 33,
      "outputs": []
    },
    {
      "cell_type": "code",
      "execution_count": 1,
      "metadata": {},
      "outputs": [],
      "source": [
        "def cleanhtml(raw_html):\n",
        "  cleanr = re.compile('<.*?>|&[.*?]')\n",
        "  cleantext = re.sub(cleanr, '', raw_html)\n",
        "  return cleantext"
      ]
    },
    {
      "cell_type": "markdown",
      "metadata": {
        "id": "3pe2opv4SYoR",
        "colab_type": "text"
      },
      "source": [
        "#Leitura do dado cru no Stackoverflow\n",
        "**read_stackoverflow_overview(tags=[], tab='Frequent', pages)**\n",
        "\n",
        "Leitura do resumo das perguntas mais frequentes no stackoverflow com base em alguns parâmetros de busca. \n",
        "\n",
        "Retorna um objeto requests contendo o resultado de requests.get\n",
        "\n",
        "* tags: argumento opcional com lista  de strings contendo os tipos de pergunta para seleação. Ex.: ['python', 'php', 'javascript']\n",
        ">ex. de URL para página com mais de 1 tag: https://stackoverflow.com/questions/tagged/sql+sql-server?tab=Frequent\n",
        "\n",
        "* tab: string com tipo de ordenação a ser aplicado, pode ser:\n",
        "'Frequent' (opção default), 'Votes', 'Unanswered', 'Bounties', 'Active', 'Newest'\n",
        "\n",
        "* Selector: seleção dos trechos do html a serem retornados. Por default, será question-summary\n",
        "\n",
        "* pages: número de páginas para leitura\n",
        "\n"
      ]
    },
    {
      "cell_type": "code",
      "metadata": {
        "id": "XYnP7RwH0h9O",
        "colab_type": "code",
        "colab": {}
      },
      "source": [
        "def read_stackoverflow_overview(tags=[], tab='Frequent', pages=5):\n",
        "  link = 'https://stackoverflow.com/questions'\n",
        "  selector='question-summary'\n",
        "  \n",
        "  if tags:\n",
        "    tags_link = '/tagged/'\n",
        "    pre=''\n",
        "    for t in tags:\n",
        "      tags_link += pre + t\n",
        "      pre = '+' \n",
        "    link += tags_link\n",
        "\n",
        "  link += '?tab='+tab\n",
        "\n",
        "  questions_text = ''\n",
        "  soup_selection = []\n",
        "  for page in range(1,pages+1):\n",
        "    page_link = '&page='+str(page)\n",
        "\n",
        "    try:\n",
        "      request = requests.get(link+page_link)\n",
        "      request.raise_for_status()\n",
        "      try:\n",
        "        soup = bs(request.text, 'html.parser')\n",
        "        soup_selection.append(soup.select('.'+selector))\n",
        "      except: print (\"Could not transform to soup object by selecting \",selector)\n",
        "    except HTTPError:\n",
        "      print (\"Could not download page \", page)\n",
        "\n",
        "    sleep(0.05)\n",
        "\n",
        "  return soup_selection\n"
      ],
      "execution_count": 3,
      "outputs": []
    },
    {
      "cell_type": "code",
      "execution_count": 8,
      "metadata": {},
      "outputs": [
        {
          "output_type": "execute_result",
          "data": {
            "text/plain": "list"
          },
          "metadata": {},
          "execution_count": 8
        }
      ],
      "source": [
        "questions_overview_raw = read_stackoverflow_overview(tags=['python','django'],tab='Frequent',pages=2)\n",
        "type(questions_overview_raw)"
      ]
    },
    {
      "cell_type": "markdown",
      "metadata": {
        "id": "21u58D6xwFkU",
        "colab_type": "text"
      },
      "source": [
        "#Transformação do dado cru coletado do Stackoverflow em dataframe\n",
        "**questions_overview(questions_overview_raw)**\n",
        "\n",
        "O dataframe deve conter a visão geral das perguntas do stackoverflow, com:\n",
        "\n",
        "* link\n",
        "* brief_description\n",
        "* votes\n",
        "* views"
      ]
    },
    {
      "cell_type": "markdown",
      "metadata": {
        "id": "6Fj83JnZmFtH",
        "colab_type": "text"
      },
      "source": [
        "###Análise do padrão da página HTML para captura de informações relevantes:\n",
        "\n",
        "Em \"question-summary\", temos as seguintes informações relevantes:\n",
        "\n",
        "1.   class = statscontainer, com:\n",
        "*   Número de votos em class=\"vote-count-post \"\n",
        ">```<span class=\"vote-count-post high-scored-post\"><strong>2473</strong></span>```\n",
        "\n",
        "*   Número de respostas aceitas em class=\"status answered-accepted\" \n",
        ">```<div class=\"status answered-accepted\"><strong>23</strong>answers</div>```\n",
        "\n",
        "*   Conteúdo e Title contendo quantidade de views em class=\"views supernova\" \n",
        ">```<div class=\"views supernova\" title=\"307,292 views\">307k views</div>```\n",
        "\n",
        "2.   class = summary, com:\n",
        "* class=\"question-hyperlink\" contendo em *href* parte do link para compor link de acesso à página detalhada da pergunta e Título da pergunta\n",
        ">``` <a href=\"/questions/15112125/how-to-test-multiple-variables-against-a-value\" class=\"question-hyperlink\">How to test multiple variables against a value?</a>```\n",
        "\n",
        "*   Breve resumo em class=\"excerpt\"\n",
        ">```<div class=\"excerpt\"> brief description of the question ...</div>```\n",
        "\n",
        "*   Tags em class=\"post-tag\"\n",
        ">```<a href=\"/questions/tagged/python\" class=\"post-tag\" title=\"show questions tagged 'python'\" rel=\"tag\">python</a>```\n",
        "\n",
        "\n",
        "\n"
      ]
    },
    {
      "cell_type": "code",
      "metadata": {
        "id": "DEQEhGyPCfX2",
        "colab_type": "code",
        "colab": {}
      },
      "source": [
        "def questions_overview(questions_overview_raw):\n",
        "  questions_overview = { 'questions':[]}\n",
        "\n",
        "  for soups in questions_overview_raw:\n",
        "    for soup in soups:\n",
        "      title = soup.select_one('.question-hyperlink').getText()\n",
        "      link = 'https://stackoverflow.com'+soup.select_one('.question-hyperlink').get('href')\n",
        "      summary = soup.select_one('.excerpt').getText()\n",
        "      vote_count =  soup.select_one('.vote-count-post').getText()\n",
        "      answers_count = soup.select_one('.answered-accepted')\n",
        "      answers_count = re.sub('\\D','',answers_count.getText('')) if answers_count else '0'\n",
        "      views =  re.sub('views','',soup.select_one('.views').attrs['title'])\n",
        "      views = re.sub(',','',views)\n",
        "      tags = []\n",
        "      for tag in soup.select('.post-tag'): tags.append(tag.getText())\n",
        "\n",
        "      questions_overview['questions'].append({\n",
        "          'title': title,\n",
        "          'link': link,\n",
        "          'summary': summary,\n",
        "          'vote_count': int(vote_count),\n",
        "          'answers_count': int(answers_count),\n",
        "          'views': int(views),\n",
        "          'tags': tags,\n",
        "          'full_question': '',\n",
        "          'best_answer': '',\n",
        "      })\n",
        "\n",
        "  questions_df = pd.DataFrame(questions_overview['questions'])\n",
        "  \n",
        "  return questions_df"
      ],
      "execution_count": 9,
      "outputs": []
    },
    {
      "cell_type": "code",
      "metadata": {
        "id": "NzPT8KArDl4e",
        "colab_type": "code",
        "colab": {
          "base_uri": "https://localhost:8080/",
          "height": 34
        },
        "outputId": "f9dc45e4-1fdd-4a17-e462-6cbc70c598a9",
        "tags": []
      },
      "source": [
        "questions_df = questions_overview(questions_overview_raw)\n",
        "type(questions_df)"
      ],
      "execution_count": 10,
      "outputs": [
        {
          "output_type": "execute_result",
          "data": {
            "text/plain": "pandas.core.frame.DataFrame"
          },
          "metadata": {},
          "execution_count": 10
        }
      ]
    },
    {
      "cell_type": "markdown",
      "metadata": {
        "id": "feA0REYGN3cg",
        "colab_type": "text"
      },
      "source": [
        "#Exemplos de como acessar a informação no dataframe:"
      ]
    },
    {
      "cell_type": "code",
      "metadata": {
        "id": "YhPPA_TmYceK",
        "colab_type": "code",
        "colab": {
          "base_uri": "https://localhost:8080/",
          "height": 554
        },
        "outputId": "5495d8d7-1bef-407f-c954-26d4c19ca3a9",
        "tags": []
      },
      "source": [
        "print('Lista com links:\\n',questions_df['link'][0:3])\n",
        "print('\\n Acesso a dados de um link específico\\n--- Link: ',questions_df['link'][0])\n",
        "print('\\n--- Título: ', questions_df['title'][0])\n",
        "print('\\n--- Breve Descrição: ', questions_df['summary'][0])\n",
        "print('\\n--- Contagem de votos: ', questions_df['vote_count'][0])\n",
        "print('\\n--- Contagem de respostas: ', questions_df['answers_count'][0])\n",
        "print('\\n--- Contagem de visualizações: ', questions_df['views'][0])\n",
        "print('\\n--- Lista como tags: ', questions_df['tags'][0])\n",
        "questions_df.head(3)"
      ],
      "execution_count": 13,
      "outputs": [
        {
          "output_type": "stream",
          "name": "stdout",
          "text": "Lista com links:\n 0    https://stackoverflow.com/questions/23708898/p...\n1    https://stackoverflow.com/questions/573618/set...\n2    https://stackoverflow.com/questions/8000022/dj...\nName: link, dtype: object\n\n Acesso a dados de um link específico\n--- Link:  https://stackoverflow.com/questions/23708898/pip-is-not-recognized-as-an-internal-or-external-command\n\n--- Título:  'pip' is not recognized as an internal or external command\n\n--- Breve Descrição:  \n            I'm running into a weird error when trying to install Django on my computer.\nThis is the sequence that I typed into my command line:\nC:\\Python34> python get-pip.py\nRequirement already up-to-date: ...\n        \n\n--- Contagem de votos:  343\n\n--- Contagem de respostas:  32\n\n--- Contagem de visualizações:  1060830\n\n--- Lista como tags:  ['python', 'django', 'windows', 'pip']\n"
        },
        {
          "output_type": "execute_result",
          "data": {
            "text/plain": "   answers_count best_answer full_question  \\\n0             32                             \n1             24                             \n2              8                             \n\n                                                link  \\\n0  https://stackoverflow.com/questions/23708898/p...   \n1  https://stackoverflow.com/questions/573618/set...   \n2  https://stackoverflow.com/questions/8000022/dj...   \n\n                                             summary  \\\n0  \\r\\n            I'm running into a weird error...   \n1  \\r\\n            I've been working on a web app...   \n2  \\r\\n            mydict = {\"key1\":\"value1\", \"ke...   \n\n                                                tags  \\\n0                     [python, django, windows, pip]   \n1  [python, django, web-applications, scheduled-t...   \n2            [python, django, templates, dictionary]   \n\n                                               title    views  vote_count  \n0  'pip' is not recognized as an internal or exte...  1060830         343  \n1                            Set up a scheduled job?   170303         523  \n2  Django template how to look up a dictionary va...   143481         236  ",
            "text/html": "<div>\n<style scoped>\n    .dataframe tbody tr th:only-of-type {\n        vertical-align: middle;\n    }\n\n    .dataframe tbody tr th {\n        vertical-align: top;\n    }\n\n    .dataframe thead th {\n        text-align: right;\n    }\n</style>\n<table border=\"1\" class=\"dataframe\">\n  <thead>\n    <tr style=\"text-align: right;\">\n      <th></th>\n      <th>answers_count</th>\n      <th>best_answer</th>\n      <th>full_question</th>\n      <th>link</th>\n      <th>summary</th>\n      <th>tags</th>\n      <th>title</th>\n      <th>views</th>\n      <th>vote_count</th>\n    </tr>\n  </thead>\n  <tbody>\n    <tr>\n      <th>0</th>\n      <td>32</td>\n      <td></td>\n      <td></td>\n      <td>https://stackoverflow.com/questions/23708898/p...</td>\n      <td>\\r\\n            I'm running into a weird error...</td>\n      <td>[python, django, windows, pip]</td>\n      <td>'pip' is not recognized as an internal or exte...</td>\n      <td>1060830</td>\n      <td>343</td>\n    </tr>\n    <tr>\n      <th>1</th>\n      <td>24</td>\n      <td></td>\n      <td></td>\n      <td>https://stackoverflow.com/questions/573618/set...</td>\n      <td>\\r\\n            I've been working on a web app...</td>\n      <td>[python, django, web-applications, scheduled-t...</td>\n      <td>Set up a scheduled job?</td>\n      <td>170303</td>\n      <td>523</td>\n    </tr>\n    <tr>\n      <th>2</th>\n      <td>8</td>\n      <td></td>\n      <td></td>\n      <td>https://stackoverflow.com/questions/8000022/dj...</td>\n      <td>\\r\\n            mydict = {\"key1\":\"value1\", \"ke...</td>\n      <td>[python, django, templates, dictionary]</td>\n      <td>Django template how to look up a dictionary va...</td>\n      <td>143481</td>\n      <td>236</td>\n    </tr>\n  </tbody>\n</table>\n</div>"
          },
          "metadata": {},
          "execution_count": 13
        }
      ]
    },
    {
      "cell_type": "markdown",
      "metadata": {
        "id": "_rFjl4HKL2is",
        "colab_type": "text"
      },
      "source": [
        "Próximos passos:\n",
        "\n",
        "\n",
        "1.   Enriquecer questions_df com a informação detalhada da pergunta e conteúdo da resposta com melhor avaliação\n",
        "2.   Limpar dados em questions_df para remover caracteres irrelevantes, como: \\n, \\t, artigos, pronomes\n",
        "\n"
      ]
    },
    {
      "cell_type": "code",
      "metadata": {
        "id": "7pncNTKawYOt",
        "colab_type": "code",
        "colab": {}
      },
      "source": [
        "\n",
        "def read_question_detail(questions_df):\n",
        "  \n",
        "  idx = 0\n",
        "  for link in questions_df['link']:\n",
        "    question = []\n",
        "    answer = []\n",
        "    try:\n",
        "      request = requests.get(link)\n",
        "      request.raise_for_status()\n",
        "      try:\n",
        "        soup = bs(request.text, 'html.parser')\n",
        "        questions_df['full_question'][idx] = soup.find(\"div\", {\"id\": \"question\"}).select_one('.post-text').getText()\n",
        "        questions_df['best_answer'][idx] = soup.find(\"div\", {\"id\": \"answers\"}).select_one('.post-text').getText()\n",
        "\n",
        "      except: \n",
        "        print (\"Could not transform to soup object by selecting\")\n",
        "\n",
        "    except HTTPError:\n",
        "      print (\"Could not download page\")\n",
        "\n",
        "    idx += 1\n",
        "\n",
        "    sleep(0.05)\n",
        "\n",
        "  return questions_df"
      ],
      "execution_count": 15,
      "outputs": []
    },
    {
      "cell_type": "code",
      "metadata": {
        "id": "SCsMerWlwhjU",
        "colab_type": "code",
        "colab": {
          "base_uri": "https://localhost:8080/",
          "height": 538
        },
        "outputId": "ca1ec92b-1fa9-41ac-bf90-c9e99905c553",
        "tags": []
      },
      "source": [
        "questions_df = read_question_detail(questions_df)"
      ],
      "execution_count": 16,
      "outputs": []
    },
    {
      "cell_type": "code",
      "execution_count": 17,
      "metadata": {},
      "outputs": [
        {
          "output_type": "execute_result",
          "data": {
            "text/plain": "Index(['answers_count', 'best_answer', 'full_question', 'link', 'summary',\n       'tags', 'title', 'views', 'vote_count'],\n      dtype='object')"
          },
          "metadata": {},
          "execution_count": 17
        }
      ],
      "source": [
        "questions_df.columns"
      ]
    },
    {
      "cell_type": "code",
      "execution_count": 20,
      "metadata": {},
      "outputs": [],
      "source": [
        "#remove todas as pontuações e retorna lista de palavras\n",
        "def clean_text (text):\n",
        "    text = text.translate(str.maketrans('', '', string.punctuation)) #remove todas as pontuações: '!\"#$%&\\'()*+,-./:;<=>?@[\\\\]^_`{|}~'\n",
        "    text = text.replace('\\n',' ').strip() \n",
        "    text = text.lower()\n",
        "    text = unidecode.unidecode(text)\n",
        "    return text"
      ]
    },
    {
      "cell_type": "code",
      "execution_count": 90,
      "metadata": {},
      "outputs": [],
      "source": [
        "#redução das palavras para sua raiz (stemming), remoção de stopwords e palavras com menos de 2 caracteres, e criação do vocabulário com a quantidade de ocorrência de cada palavra em todos os documentos\n",
        "\n",
        "def stackoverflow_vocabulary(questions_df):\n",
        "    docs_stem_words = []\n",
        "    vocabulary = {}\n",
        "    stop_words = stopwords.words('english')\n",
        "    #stop_words.append(['could', 'would', 'might', 'can', 'should'])\n",
        "    snowball_stemmer = SnowballStemmer(\"english\")\n",
        "\n",
        "    for index in range(len(questions_df)):\n",
        "        text = questions_df['title'][index] + questions_df['full_question'][index] + questions_df['best_answer'][index] \n",
        "        tokentext = word_tokenize(clean_text(text))\n",
        "        stem_words  = [snowball_stemmer.stem(word) for word in tokentext if not word in stop_words and len(word) > 2 and word not in string.punctuation]\n",
        "        docs_stem_words.append(stem_words)\n",
        "\n",
        "        #Inicializa vocabulário sem repetição de palavras\n",
        "        for word in stem_words:\n",
        "            vocabulary[word] = 0\n",
        "\n",
        "    #Contabiliza ocorrência de cada palavra em todos os documentos\n",
        "    for words in docs_stem_words:\n",
        "        for word in words:\n",
        "            vocabulary[word] += 1\n",
        "    \n",
        "    return vocabulary, docs_stem_words\n",
        "\n",
        "vocabulary, docs_stem_words = stackoverflow_vocabulary(questions_df)\n"
      ]
    },
    {
      "cell_type": "code",
      "execution_count": 91,
      "metadata": {},
      "outputs": [],
      "source": [
        "#Criar índice invertido para viabilizar buscas\n",
        "def create_InvertedIndex(vocabulary, docs_stem_words): \n",
        "    invertedList = dict()\n",
        "    for term in vocabulary:\n",
        "        invertedList[term] = list()\n",
        "        index = 0\n",
        "        for stem_words in docs_stem_words:\n",
        "            frequencia = 0\n",
        "            for word in stem_words:\n",
        "                if word == term:\n",
        "                    frequencia += 1\n",
        "            if frequencia > 0:\n",
        "                invertedList[term].append([index, frequencia])\n",
        "            index += 1\n",
        "            invertedList[term].sort(key=itemgetter(1), reverse=True)\n",
        "\n",
        "    # Serialize data into file:\n",
        "    json.dump(invertedList, open( \"stackoverflow_InvertedIndex.json\", 'w' ) )\n",
        "\n",
        "    return #invertedList\n",
        "\n",
        "#invertedList = create_InvertedIndex(vocabulary, docs_stem_words)\n",
        "create_InvertedIndex(vocabulary, docs_stem_words)\n",
        "\n",
        "# Read data from file:\n",
        "invertedList = json.load( open( \"stackoverflow_InvertedIndex.json\" ) )\n",
        "#invertedList.items()\n"
      ]
    },
    {
      "cell_type": "code",
      "execution_count": 93,
      "metadata": {},
      "outputs": [
        {
          "output_type": "execute_result",
          "data": {
            "text/plain": "[[69, 10], [9, 7], [70, 6], [73, 6], [31, 5]]"
          },
          "metadata": {},
          "execution_count": 93
        }
      ],
      "source": [
        "invertedList['python'][:5]"
      ]
    },
    {
      "cell_type": "code",
      "execution_count": 94,
      "metadata": {},
      "outputs": [],
      "source": [
        "def simple_stemming_docs(documents):\n",
        "    snowball_stemmer = SnowballStemmer(\"english\")\n",
        "    stop_words = stopwords.words('english')\n",
        "    #stop_words.append('could', 'would', 'might', 'can', 'should')\n",
        "    tokens = sum([word_tokenize(clean_text(document)) for document in documents], [])\n",
        "    stem_words  = [snowball_stemmer.stem(word) for word in tokens if not word in stop_words and len(word) > 2 and word not in string.punctuation]\n",
        "\n",
        "    return stem_words"
      ]
    },
    {
      "cell_type": "code",
      "execution_count": 95,
      "metadata": {},
      "outputs": [],
      "source": [
        "def simple_lookup_query(query, invertedList):\n",
        "    terms = simple_stemming_docs([query])\n",
        "\n",
        "    docs_index = {}\n",
        "\n",
        "    for term in terms:\n",
        "        if term in invertedList.keys():\n",
        "            docs_index[term] = [index[0] for index in invertedList[term]]\n",
        "        else:\n",
        "            docs_index['missingTerm'] = ['']\n",
        "\n",
        "    return docs_index"
      ]
    },
    {
      "cell_type": "code",
      "execution_count": 96,
      "metadata": {},
      "outputs": [],
      "source": [
        "searchTerms = input(\"Digite os termos de busca: \")\n",
        "docs_index = simple_lookup_query(searchTerms,invertedList)"
      ]
    },
    {
      "cell_type": "code",
      "execution_count": 97,
      "metadata": {},
      "outputs": [
        {
          "output_type": "execute_result",
          "data": {
            "text/plain": "{'django': [37,\n  12,\n  69,\n  74,\n  72,\n  95,\n  98,\n  3,\n  78,\n  32,\n  38,\n  68,\n  17,\n  40,\n  45,\n  57,\n  4,\n  5,\n  11,\n  60,\n  70,\n  15,\n  20,\n  39,\n  44,\n  52,\n  55,\n  77,\n  82,\n  0,\n  1,\n  6,\n  7,\n  10,\n  14,\n  21,\n  23,\n  30,\n  35,\n  51,\n  53,\n  54,\n  56,\n  71,\n  76,\n  83,\n  85,\n  86,\n  89,\n  91,\n  97,\n  2,\n  8,\n  13,\n  26,\n  28,\n  29,\n  41,\n  42,\n  46,\n  48,\n  49,\n  64,\n  65,\n  73,\n  79,\n  80,\n  87,\n  88,\n  92,\n  93,\n  94,\n  99,\n  9,\n  16,\n  18,\n  19,\n  24,\n  25,\n  27,\n  31,\n  33,\n  34,\n  36,\n  43,\n  47,\n  50,\n  58,\n  59,\n  61,\n  62,\n  66,\n  67,\n  75,\n  81,\n  84,\n  90,\n  96],\n 'templat': [15,\n  45,\n  42,\n  51,\n  27,\n  2,\n  64,\n  87,\n  93,\n  10,\n  49,\n  66,\n  78,\n  79,\n  13,\n  14,\n  50,\n  68,\n  74,\n  85,\n  95,\n  98]}"
          },
          "metadata": {},
          "execution_count": 97
        }
      ],
      "source": [
        "docs_index"
      ]
    },
    {
      "cell_type": "code",
      "execution_count": 99,
      "metadata": {
        "tags": [
          "outputPrepend"
        ]
      },
      "outputs": [
        {
          "output_type": "stream",
          "name": "stdout",
          "text": "div id=\"footerContent\">\n            {%block page_foot%}\n                Page <pdf:pagenumber>\n            {%endblock%}\n        </div>\n    </body>\n</html>\n\nHope it helps.\n\n81 - \nThe << part is wrong, use < instead:\n$ ./manage.py shell < myscript.py\n\nYou could also do:\n$ ./manage.py shell\n...\n>>> execfile('myscript.py')\n\nFor python3 you would need to use\n>>> exec(open('myscript.py').read())\n\n\n82 - \nYou can use self.data in the clean_email method to access the POST data before validation. It should contain a key called newsletter_sub or newsletter_unsub depending on which button was pressed.\n# in the context of a \u001b[48;5;0m\u001b[38;5;226m django \u001b[0;0m.forms form\n\ndef clean(self):\n    if 'newsletter_sub' in self.data:\n        # do subscribe\n    elif 'newsletter_unsub' in self.data:\n        # do unsubscribe\n\n\n83 - \nit looks like datetime.now() is being evaluated when the model is defined, and not each time you add a record.\nDjango has a feature to accomplish what you are trying to do already:\ndate = models.DateTimeField(auto_now_add=True, blank=True)\n\nor\ndate = models.DateTimeField(default=datetime.now, blank=True)\n\nThe difference between the second example and what you currently have is the lack of parentheses. By passing datetime.now without the parentheses, you are passing the actual function, which will be called each time a record is added. If you pass it datetime.now(), then you are just evaluating the function and passing it the return value.\nMore information is available at Django's model field reference\n\n84 - \nI just created http://www.\u001b[48;5;0m\u001b[38;5;226m django \u001b[0;0msnippets.org/snippets/1890/ for this same problem. The code is similar to pithyless' answer above except it uses urllib2.urlopen because urllib.urlretrieve doesn't perform any error handling by default so it's easy to get the contents of a 404/500 page instead of what you needed. You can create callback function & custom URLOpener subclass but I found it easier just to create my own temp file like this:\nfrom \u001b[48;5;0m\u001b[38;5;226m django \u001b[0;0m.core.files import File\nfrom \u001b[48;5;0m\u001b[38;5;226m django \u001b[0;0m.core.files.temp import NamedTemporaryFile\n\nimg_temp = NamedTemporaryFile(delete=True)\nimg_temp.write(urllib2.urlopen(url).read())\nimg_temp.flush()\n\nim.file.save(img_filename, File(img_temp))\n\n\n85 - \nOk, well, first of all, let me check if I am on the same page as you:\n\nYou installed python\nYou did brew install mysql\nYou did export PATH=$PATH:/usr/local/mysql/bin\nAnd finally, you did pip install MySQL-Python (or pip3 install mysqlclient if using python 3)\n\nIf you did all those steps in the same order, and you still got an error, read on to the end, if, however, you did not follow these exact steps try, following them from the very beginning.\nSo, you followed the steps, and you're still geting an error, well, there are a few things you could try:\n\nTry running which mysql_config from bash. It probably won't be found. That's why the build isn't finding it either. Try running locate mysql_config and see if anything comes back. The path to this binary needs to be either in your shell's $PATH environment variable, or it needs to be explicitly in the setup.py file for the module assuming it's looking in some specific place for that file. \nInstead of using MySQL-Python, try using 'mysql-connector-python', it can be installed using pip install mysql-connector-python. More information on this can be found here and here.\nManually find the location of 'mysql/bin', 'mysql_config', and 'MySQL-Python', and add all these to the $PATH environment variable.\nIf all above steps fail, then you could try installing 'mysql' using MacPorts, in which case the file 'mysql_config' would actually be called 'mysql_config5', and in this case, you would have to do this after installing: export PATH=$PATH:/opt/local/lib/mysql5/bin. You can find more details here.\n\nNote1: I've seen some people saying that installing python-dev and libmysqlclient-dev also helped, however I do not know if these packages are available on Mac OS.\nNote2: Also, make sure to try running the commands as root.\nI got my answers from (besides my brain) these places (maybe you could have a look at them, to see if it would help): 1, 2, 3, 4.\nI hoped I helped, and would be happy to know if any of this worked, or not. Good luck.\n\n86 - \nYou can just show both forms in the \u001b[48;5;0m\u001b[38;5;226m templat \u001b[0;0me inside of one <form> html element. Then just process the forms separately in the view. You'll still be able to use form.save() and not have to process db loading and saving yourself.\nIn this case you shouldn't need it, but if you're going to be using forms with the same field names, look into the prefix kwarg for \u001b[48;5;0m\u001b[38;5;226m django \u001b[0;0m forms. (I answered a question about it here).\n\n87 - \nThere are several approaches.\nOne is to use a non-capturing group in the regex:    (?:/(?P<title>[a-zA-Z]+)/)?\nMaking a Regex Django URL Token Optional\nAnother, easier to follow way is to have multiple rules that matches your needs, all pointing to the same view.\nurlpatterns = patterns('',\n    url(r'^project_config/$', views.foo),\n    url(r'^project_config/(?P<product>\\w+)/$', views.foo),\n    url(r'^project_config/(?P<product>\\w+)/(?P<project_id>\\w+)/$', views.foo),\n)\n\nKeep in mind that in your view you'll also need to set a default for the optional URL parameter, or you'll get an error:\ndef foo(request, optional_parameter=''):\n    # Your code goes here\n\n\n88 - \nIt looks like {{ data.0 }}. See Variables and lookups.\n\n89 - \nI guess you would have here to add a new ModelMultipleChoiceField to your PizzaForm, and manually link that form field with the model field, as Django won't do that automatically for you.\nThe following snippet might be helpful :\nclass PizzaForm(forms.ModelForm):\n    class Meta:\n        model = Pizza\n\n    # Representing the many to many related field in Pizza\n    toppings = forms.ModelMultipleChoiceField(queryset=Topping.objects.all())\n\n    # Overriding __init__ here allows us to provide initial\n    # data for 'toppings' field\n    def __init__(self, *args, **kwargs):\n        # Only in case we build the form from an instance\n        # (otherwise, 'toppings' list should be empty)\n        if kwargs.get('instance'):\n            # We get the 'initial' keyword argument or initialize it\n            # as a dict if it didn't exist.                \n            initial = kwargs.setdefault('initial', {})\n            # The widget for a ModelMultipleChoiceField expects\n            # a list of primary key for the selected data.\n            initial['toppings'] = [t.pk for t in kwargs['instance'].topping_set.all()]\n\n        forms.ModelForm.__init__(self, *args, **kwargs)\n\n    # Overriding save allows us to process the value of 'toppings' field    \n    def save(self, commit=True):\n        # Get the unsave Pizza instance\n        instance = forms.ModelForm.save(self, False)\n\n        # Prepare a 'save_m2m' method for the form,\n        old_save_m2m = self.save_m2m\n        def save_m2m():\n           old_save_m2m()\n           # This is where we actually link the pizza with toppings\n           instance.topping_set.clear()\n           instance.topping_set.add(*self.cleaned_data['toppings'])\n        self.save_m2m = save_m2m\n\n        # Do we need to save all changes now?\n        if commit:\n            instance.save()\n            self.save_m2m()\n\n        return instance\n\nThis PizzaForm can then be used everywhere, even in the admin :\n# yourapp/admin.py\nfrom \u001b[48;5;0m\u001b[38;5;226m django \u001b[0;0m.contrib.admin import site, ModelAdmin\nfrom yourapp.models import Pizza\nfrom yourapp.forms import PizzaForm\n\nclass PizzaAdmin(ModelAdmin):\n  form = PizzaForm\n\nsite.register(Pizza, PizzaAdmin)\n\nNote\nThe save() method might be a bit too verbose, but you can simplify it if you don't need to support the commit=False situation, it will then be like that :\ndef save(self):\n  instance = forms.ModelForm.save(self)\n  instance.topping_set.clear()\n  instance.topping_set.add(*self.cleaned_data['toppings'])\n  return instance\n\n\n90 - \nYou print the queryset's query attribute.\n>>> queryset = MyModel.objects.all()\n>>> print(queryset.query)\nSELECT \"myapp_mymodel\".\"id\", ... FROM \"myapp_mymodel\"\n\n\n91 - \nTo trigger a download you need to set Content-Disposition header:\nfrom \u001b[48;5;0m\u001b[38;5;226m django \u001b[0;0m.http import HttpResponse\nfrom wsgiref.util import FileWrapper\n\n# generate the file\nresponse = HttpResponse(FileWrapper(myfile.getvalue()), content_type='application/zip')\nresponse['Content-Disposition'] = 'attachment; filename=myfile.zip'\nreturn response\n\nIf you don't want the file on disk you need to use StringIO\nimport cStringIO as StringIO\n\nmyfile = StringIO.StringIO()\nwhile not_finished:\n    # generate chunk\n    myfile.write(chunk)\n\nOptionally you can set Content-Length header as well:\nresponse['Content-Length'] = myfile.tell()\n\n\n92 - \nHow about.....\nOn your MemberSerializer, define a field on it like:\ngroups = MembershipSerializer(source='membership_set', many=True)\n\nand then on your membership serializer you can create this:\nclass MembershipSerializer(serializers.HyperlinkedModelSerializer):\n\n    id = serializers.Field(source='group.id')\n    name = serializers.Field(source='group.name')\n\n    class Meta:\n        model = Membership\n\n        fields = ('id', 'name', 'join_date', )\n\nThat has the overall effect of creating a serialized value, groups, that has as its source the membership you want, and then it uses a custom serializer to pull out the bits you want to display.\nEDIT:  as commented by @bryanph, serializers.field was renamed to serializers.ReadOnlyField in DRF 3.0, so this should read:\nclass MembershipSerializer(serializers.HyperlinkedModelSerializer):\n\n    id = serializers.ReadOnlyField(source='group.id')\n    name = serializers.ReadOnlyField(source='group.name')\n\n    class Meta:\n        model = Membership\n\n        fields = ('id', 'name', 'join_date', )\n\nfor any modern implementations\n\n93 - \nSuch lookups are implemented in \u001b[48;5;0m\u001b[38;5;226m django \u001b[0;0m.views.generic.date_based as follows:\n{'date_time_field__range': (datetime.datetime.combine(date, datetime.time.min),\n                            datetime.datetime.combine(date, datetime.time.max))} \n\nBecause it is quite verbose there are plans to improve the syntax using __date operator. Check \"#9596 Comparing a DateTimeField to a date is too hard\" for more details.\n\n94 - \nGiven the Django use case, there are two answers to this.  Here is its \u001b[48;5;0m\u001b[38;5;226m django \u001b[0;0m.utils.html.escape function, for reference:\ndef escape(html):\n    \"\"\"Returns the given HTML with ampersands, quotes and carets encoded.\"\"\"\n    return mark_safe(force_unicode(html).replace('&', '&amp;').replace('<', '&l\nt;').replace('>', '&gt;').replace('\"', '&quot;').replace(\"'\", '&#39;'))\n\nTo reverse this, the Cheetah function described in Jake's answer should work, but is missing the single-quote.  This version includes an updated tuple, with the order of replacement reversed to avoid symmetric problems:\ndef html_decode(s):\n    \"\"\"\n    Returns the ASCII decoded version of the given HTML string. This does\n    NOT remove normal HTML tags like <p>.\n    \"\"\"\n    htmlCodes = (\n            (\"'\", '&#39;'),\n            ('\"', '&quot;'),\n            ('>', '&gt;'),\n            ('<', '&lt;'),\n            ('&', '&amp;')\n        )\n    for code in htmlCodes:\n        s = s.replace(code[1], code[0])\n    return s\n\nunescaped = html_decode(my_string)\n\nThis, however, is not a general solution; it is only appropriate for strings encoded with \u001b[48;5;0m\u001b[38;5;226m django \u001b[0;0m.utils.html.escape.  More generally, it is a good idea to stick with the standard library:\n# Python 2.x:\nimport HTMLParser\nhtml_parser = HTMLParser.HTMLParser()\nunescaped = html_parser.unescape(my_string)\n\n# Python 3.x:\nimport html.parser\nhtml_parser = html.parser.HTMLParser()\nunescaped = html_parser.unescape(my_string)\n\n# >= Python 3.5:\nfrom html import unescape\nunescaped = unescape(my_string)\n\nAs a suggestion: it may make more sense to store the HTML unescaped in your database.  It'd be worth looking into getting unescaped results back from BeautifulSoup if possible, and avoiding this process altogether.\nWith Django, escaping only occurs during \u001b[48;5;0m\u001b[38;5;226m templat \u001b[0;0me rendering; so to prevent escaping you just tell the \u001b[48;5;0m\u001b[38;5;226m templat \u001b[0;0ming engine not to escape your string.  To do that, use one of these options in your \u001b[48;5;0m\u001b[38;5;226m templat \u001b[0;0me:\n{{ context_var|safe }}\n{% autoescape off %}\n    {{ context_var }}\n{% endautoescape %}\n\n\n95 - \nYou can disable the ETAG middleware using the condition decorator.  That will get your response to stream back over HTTP.  You can confirm this with a command-line tool like curl.  But it probably won't be enough to get your browser to show the response as it streams.  To encourage the browser to show the response as it streams, you can push a bunch of whitespace down the pipe to force its buffers to fill.  Example follows:\nfrom \u001b[48;5;0m\u001b[38;5;226m django \u001b[0;0m.views.decorators.http import condition\n\n@condition(etag_func=None)\ndef stream_response(request):\n    resp = HttpResponse( stream_response_generator(), content_type='text/html')\n    return resp\n\ndef stream_response_generator():\n    yield \"<html><body>\\n\"\n    for x in range(1,11):\n        yield \"<div>%s</div>\\n\" % x\n        yield \" \" * 1024  # Encourage browser to render incrementally\n        time.sleep(1)\n    yield \"</body></html>\\n\"\n\n\n96 - \nThe problem that you are hitting is that Django REST framework expects files to be uploaded as multipart form data, through the standard file upload methods. This is typically a file field, but the JavaScript Blob object also works for AJAX.\nYou are looking to upload the files using a base64 encoded string, instead of the raw file, which is not supported by default. There are implementations of a Base64ImageField out there, but the most promising one came by a pull request.\nSince these were mostly designed for Django REST framework 2.x, I've improved upon the one from the pull request and created one that should be compatible with DRF 3.\nserializers.py\nfrom rest_framework import serializers    \n\nclass Base64ImageField(serializers.ImageField):\n    \"\"\"\n    A Django REST framework field for handling image-uploads through raw post data.\n    It uses base64 for encoding and decoding the contents of the file.\n\n    Heavily based on\n    https://github.com/tomchristie/\u001b[48;5;0m\u001b[38;5;226m django \u001b[0;0m-rest-framework/pull/1268\n\n    Updated for Django REST framework 3.\n    \"\"\"\n\n    def to_internal_value(self, data):\n        from \u001b[48;5;0m\u001b[38;5;226m django \u001b[0;0m.core.files.base import ContentFile\n        import base64\n        import six\n        import uuid\n\n        # Check if this is a base64 string\n        if isinstance(data, six.string_types):\n            # Check if the base64 string is in the \"data:\" format\n            if 'data:' in data and ';base64,' in data:\n                # Break out the header from the base64 content\n                header, data = data.split(';base64,')\n\n            # Try to decode the file. Return validation error if it fails.\n            try:\n                decoded_file = base64.b64decode(data)\n            except TypeError:\n                self.fail('invalid_image')\n\n            # Generate file name:\n            file_name = str(uuid.uuid4())[:12] # 12 characters are more than enough.\n            # Get the file name extension:\n            file_extension = self.get_file_extension(file_name, decoded_file)\n\n            complete_file_name = \"%s.%s\" % (file_name, file_extension, )\n\n            data = ContentFile(decoded_file, name=complete_file_name)\n\n        return super(Base64ImageField, self).to_internal_value(data)\n\n    def get_file_extension(self, file_name, decoded_file):\n        import imghdr\n\n        extension = imghdr.what(file_name, decoded_file)\n        extension = \"jpg\" if extension == \"jpeg\" else extension\n\n        return extension\n\nThis should be used in replacement of the standard ImageField provided by Django REST framework. So your serializer would become\nclass ImageSerializer(serializers.ModelSerializer):\n    image = Base64ImageField(\n        max_length=None, use_url=True,\n    )\n\n    class Meta:\n        model = Image\n        fields = (\"id\", 'image', 'owner', 'time_created', )\n\nThis should allow you to either specify a base64-encoded string, or the standard Blob object that Django REST framework typically expects.\n\n97 - \nThis can also occur if CSRF_COOKIE_SECURE = True is set and you are accessing the site non-securely or if CSRF_COOKIE_HTTPONLY = True is set as stated here and here\n\n98 - \nA relatively recent change in Google's authentication system means you're going to have to \"allow less secure app access\" to your Google account, in order for this to work.\nIn your error, you are recommended to visit this link: https://support.google.com/mail/answer/78754\nOn that page:\nStep #2 asks you to try Displaying an Unlock Captcha\nStep #3 explains how to allow less secure app access. In summary:\n\nGo to Allow less secure apps and choose \"Allow\" to let less secure apps access your Google account. We don't recommend this option because it may make it easier for someone to gain access to your account.\n\n\n99 - \nFollow these steps to change an app's name in Django:\n\nRename the folder which is in your project root \nChange any references to your app in their dependencies, i.e. the app's views.py, urls.py , 'manage.py' , and settings.py files.\nEdit the database table \u001b[48;5;0m\u001b[38;5;226m django \u001b[0;0m_content_type with the following command: UPDATE \u001b[48;5;0m\u001b[38;5;226m django \u001b[0;0m_content_type SET app_label='<NewAppName>' WHERE app_label='<OldAppName>' \nAlso if you have models, you will have to rename the model tables. For postgres use ALTER TABLE <oldAppName>_modelName RENAME TO <newAppName>_modelName. For mysql too I think it is the same (as mentioned by @null_radix)\n(For Django >= 1.7) Update the \u001b[48;5;0m\u001b[38;5;226m django \u001b[0;0m_migrations table to avoid having your previous migrations re-run: UPDATE \u001b[48;5;0m\u001b[38;5;226m django \u001b[0;0m_migrations SET app='<NewAppName>' WHERE app='<OldAppName>'. Note: there is some debate (in comments) if this step is required for Django 1.8+; If someone knows for sure please update here.\nIf your models.py 's Meta Class has app_name listed, make sure to rename that too (mentioned by @will).\nIf you've namespaced your static or \u001b[48;5;0m\u001b[38;5;226m templat \u001b[0;0mes folders inside your app, you'll also need to rename those. For example, rename old_app/static/old_app to new_app/static/new_app.\nFor renaming \u001b[48;5;0m\u001b[38;5;226m django \u001b[0;0m models, you'll need to change \u001b[48;5;0m\u001b[38;5;226m django \u001b[0;0m_content_type.name entry in DB. For postgreSQL use UPDATE \u001b[48;5;0m\u001b[38;5;226m django \u001b[0;0m_content_type SET name='<newModelName>' where name='<oldModelName>' AND app_label='<OldAppName>'\n\nMeta point (If using virtualenv): Worth noting, if you are renaming the directory that contains your virtualenv, there will likely be several files in your env that contain an absolute path and will also need to be updated. If you are getting errors such as ImportError: No module named ... this might be the culprit. (thanks to @danyamachine for providing this).\nOther references: you might also want to refer the below links for a more complete picture\n\nRenaming an app with Django and South\nHow do I migrate a model out of one \u001b[48;5;0m\u001b[38;5;226m django \u001b[0;0m app and into a new one?\nHow to change the name of a Django app?\nBackwards migration with Django South\nEasiest way to rename a model using Django/South?\nPython code (thanks to A.Raouf) to automate the above steps (Untested code. You have been warned!)\nPython code (thanks to rafaponieman) to automate the above steps (Untested code. You have been warned!)\n\n\n100 - \nSend the email to a real SMTP server. If you don't want to set up your own then you can find companies that will run one for you, such as Google themselves.\n\n"
        }
      ],
      "source": [
        "def print_search_result(docs_index, questions_df, operator='OR'):\n",
        "    for i, (k, v) in enumerate(docs_index.items()):\n",
        "        print(\"{:<8}key: {:<20} value: {}\".format(i, k, v))\n",
        "\n",
        "    print()\n",
        "\n",
        "    resultList=[lista[1] for lista in docs_index.items()]\n",
        "\n",
        "    responseSet = []\n",
        "\n",
        "    if operator == 'AND' and [''] in resultList:\n",
        "        resultList = []\n",
        "    elif [''] in resultList:\n",
        "        resultList.remove([''])\n",
        "    \n",
        "    if len(resultList) == 1:\n",
        "        responseSet = resultList[0]\n",
        "\n",
        "    #Realiza a interseção entre os conjuntos\n",
        "    for i in range(len(resultList)-1):\n",
        "        #Operador AND\n",
        "        if operator == 'AND':\n",
        "            responseSet.append(list(set(resultList[i]).intersection(resultList[i+1])))\n",
        "        else:\n",
        "            #Operador OR\n",
        "            responseSet.append(list(set(resultList[i]).union(resultList[i+1])))\n",
        "\n",
        "    print(\"Foram encontrados \", len(np.unique(responseSet)), \" documentos com o termo de busca...\")\n",
        "    print()\n",
        "\n",
        "    #Monta o Resultado\n",
        "    lista = []\n",
        "    for doc in np.unique(responseSet):\n",
        "        link = questions_df['link'][doc]\n",
        "        documento = questions_df['best_answer'][doc]\n",
        "        for term in docs_index.keys():\n",
        "            documento = documento.replace(term, \"\\033[48;5;0m\\033[38;5;226m {term} \\033[0;0m\".format(term=term))        \n",
        "        lista.append(str(str(doc+1) + \" - \" + documento))\n",
        "        \n",
        "    #Exibe o Resultado\n",
        "    for resultado in lista:\n",
        "        print(resultado)\n",
        "\n",
        "    return\n",
        "\n",
        "print_search_result(docs_index,questions_df,'OR')"
      ]
    },
    {
      "cell_type": "code",
      "execution_count": null,
      "metadata": {},
      "outputs": [],
      "source": []
    },
    {
      "cell_type": "code",
      "execution_count": null,
      "metadata": {},
      "outputs": [],
      "source": []
    },
    {
      "cell_type": "code",
      "execution_count": 77,
      "metadata": {},
      "outputs": [],
      "source": [
        "# create functions for TD-IDF / BM25\n",
        "import math\n",
        "from textblob import TextBlob as tb\n",
        "\n",
        "def tf(word, doc):\n",
        "    return doc.count(word) / len(doc)\n",
        "\n",
        "def n_containing(word, doclist):\n",
        "    return sum(1 for doc in doclist if word in doc)\n",
        "\n",
        "def idf(word, doclist):\n",
        "    return math.log(len(doclist) / (0.01 + n_containing(word, doclist)))\n",
        "\n",
        "def tfidf(word, doc, doclist):\n",
        "    return (tf(word, doc) * idf(word, doclist))"
      ]
    },
    {
      "cell_type": "code",
      "execution_count": 89,
      "metadata": {},
      "outputs": [],
      "source": [
        "from sklearn.feature_extraction.text import TfidfVectorizer #TF-IDF\n",
        "\n",
        "worddic = {}\n",
        "\n",
        "for index in range(len(set_stem_words)):\n",
        "    for word in wordsunique:\n",
        "        if word in set_stem_words[0][index]:\n",
        "            word = str(word)\n",
        "            positions = list(np.where(np.array(set_stem_words[0][index]) == word)[0])\n",
        "            idfs = tfidf(word,set_stem_words[0][index],set_stem_words)\n",
        "\n",
        "            try:\n",
        "                worddic[word] = [index,positions,idfs]\n",
        "            except:\n",
        "                worddic[word] = []\n",
        "                worddic[word] = [index,positions,idfs]\n",
        "    index += 1"
      ]
    },
    {
      "cell_type": "code",
      "execution_count": 90,
      "metadata": {},
      "outputs": [
        {
          "output_type": "execute_result",
          "data": {
            "text/plain": "[84,\n [6, 44, 56, 60, 64, 86, 99, 102, 108, 111, 183, 186, 204, 217, 227],\n 0.5233147938622832]"
          },
          "metadata": {},
          "execution_count": 90
        }
      ],
      "source": [
        "worddic['instal']"
      ]
    },
    {
      "cell_type": "code",
      "execution_count": 91,
      "metadata": {
        "tags": []
      },
      "outputs": [
        {
          "output_type": "stream",
          "name": "stdout",
          "text": "\nI want users on the site to be able to download files whose paths are obscured so they cannot be directly downloaded.\nFor instance, I'd like the URL to be something like this: http://example.com/download/?f=somefile.txt\nAnd on the server, I know that all downloadable files reside in the folder /home/user/files/.\nIs there a way to make Django serve that file for download as opposed to trying to find a URL and View to display it?\n\n"
        }
      ],
      "source": [
        "print(questions_df['full_question'][5])"
      ]
    },
    {
      "cell_type": "code",
      "execution_count": 92,
      "metadata": {
        "tags": []
      },
      "outputs": [
        {
          "output_type": "stream",
          "name": "stdout",
          "text": "\nFor the \"best of both worlds\" you could combine S.Lott's solution with the xsendfile module: django generates the path to the file (or the file itself), but the actual file serving is handled by Apache/Lighttpd. Once you've set up mod_xsendfile, integrating with your view takes a few lines of code:\nfrom django.utils.encoding import smart_str\n\nresponse = HttpResponse(mimetype='application/force-download') # mimetype is replaced by content_type for django 1.7\nresponse['Content-Disposition'] = 'attachment; filename=%s' % smart_str(file_name)\nresponse['X-Sendfile'] = smart_str(path_to_file)\n# It's usually a good idea to set the 'Content-Length' header too.\n# You can also set any other required headers: Cache-Control, etc.\nreturn response\n\nOf course, this will only work if you have control over your server, or your hosting company has mod_xsendfile already set up.\nEDIT:\n\nmimetype is replaced by content_type for django 1.7\n\nresponse = HttpResponse(content_type='application/force-download')  \n\nEDIT:\n For nginx check this, it uses X-Accel-Redirect instead of apache X-Sendfile header.\n\n"
        }
      ],
      "source": [
        "print(questions_df['best_answer'][5])"
      ]
    },
    {
      "cell_type": "code",
      "execution_count": 75,
      "metadata": {
        "tags": []
      },
      "outputs": [
        {
          "output_type": "stream",
          "name": "stdout",
          "text": "(1, 1)\n<class 'scipy.sparse.csr.csr_matrix'>\n[[1.]]\n"
        }
      ],
      "source": [
        "\n",
        "tfidfvectorizer = TfidfVectorizer()\n",
        "tfidfvectorizer.fit(['django'])\n",
        "vectortfidf = tfidfvectorizer.transform(['django'])\n",
        "# summarize encoded vector\n",
        "print(vectortfidf.shape)\n",
        "print(type(vectortfidf))\n",
        "print(vectortfidf.toarray())"
      ]
    },
    {
      "cell_type": "code",
      "execution_count": 106,
      "metadata": {
        "tags": []
      },
      "outputs": [
        {
          "output_type": "stream",
          "name": "stdout",
          "text": "running weird error trying install django computer sequence typed command line cpython34 python getpippy requirement already uptodate pip cpython34libsitepackages cleaning cpython34 pip install django pip recognized internal external command operable program batch file cpython34 libsitepackagespip install django libsitepackagespip recognized internal external command operable program batch file could causing get type echo path cpython34echo path cprogram filesimagemagick688q16cprogram files x86intelicls client cprogram filesintelicls clientcwindowssystem32cwindowscwindowss ystem32wbemcwindowssystem32windowspowershellv10cprogram files x86 windows livesharedcprogram files x86intelopencl sdk20binx86cprogr files x86intelopencl sdk20binx64cprogram filesintelintelr mana gement engine componentsdalcprogram filesintelintelr management engine omponentsiptcprogram files x86intelintelr management engine components dalcprogram files x86intelintelr management engine componentsiptcp rogram files x86nodejscprogram files x86herokubincprogram files 86gitcmdcrailsinstallerruby200bincrailsinstallergitcmdcrailsin stallerruby193bincusersjaviappdataroamingnpmyou need add path pip installation path system variable default pip installed cpython34scriptspip pip comes bundled new versions python path cpython34scripts needs added path variable check already path variable type echo path cmd prompt add path pip installation path variable use control panel setx command example setx path pathcpython34scripts note according official documentation variables set setx variables available future command windows current command window particular need start new cmdexe instance entering command order utilize new environment variable thanks scott bartell pointing outsuccess success success\n"
        }
      ],
      "source": [
        "from sklearn.feature_extraction.text import CountVectorizer #TF\n",
        "\n",
        "text = ' '.join([word for word in keywords])\n",
        "print(text)\n",
        "\n",
        "set()"
      ]
    },
    {
      "cell_type": "code",
      "execution_count": 107,
      "metadata": {
        "tags": []
      },
      "outputs": [
        {
          "output_type": "stream",
          "name": "stdout",
          "text": "(1, 113)\n<class 'scipy.sparse.csr.csr_matrix'>\n[[ 1  1  2  1  2  1  1  2  1  1  1  1  1  1  1  1  1  7  1  1  1  1  1  1\n   2  3  1  1  1  1  1  1  1  3  1  2  4  1  1  1  1  2  2  9  1  1  2  1\n   1  1  1  3  2  1  1  2  2  1  1  1  3  2  1  3  1  1  1  2  1  1  1  1\n  11  1  7  1  2  1  2  2  1  1  1  1  1  1  1  1  3  1  1  2  1  1  1  2\n   1  1  1  1  5  2  1  1  1  2  1  1  1  2  2  1  1]]\n"
        }
      ],
      "source": [
        "vectorizer = CountVectorizer()\n",
        "vectorizer.fit([text])\n",
        "vector = vectorizer.transform([text])\n",
        "# summarize encoded vector\n",
        "print(vector.shape)\n",
        "print(type(vector))\n",
        "print(vector.toarray())"
      ]
    },
    {
      "cell_type": "code",
      "execution_count": 111,
      "metadata": {
        "tags": []
      },
      "outputs": [
        {
          "output_type": "stream",
          "name": "stdout",
          "text": "[[0 0 0 0 0 0 0 0 0 0 0 0 0 0 0 0 0 0 0 0 0 0 0 0 0 0 0 0 0 0 0 0 0 4 0 0\n  0 0 0 0 0 0 0 0 0 0 0 0 0 0 0 5 0 0 0 0 0 0 0 0 0 0 0 0 0 0 0 0 0 0 0 0\n  0 0 0 0 0 0 0 0 0 0 0 0 0 0 0 0 0 0 0 3 0 0 0 0 0 0 0 0 0 0 0 0 0 0 0 0\n  0 0 0 0 0]]\n"
        }
      ],
      "source": [
        "\n",
        "#Vetoriza um texto novo\n",
        "text2 = [\"How can I install install install install  install Django? No success success success with django so far... django django\"]\n",
        "vector2 = vectorizer.transform(text2)\n",
        "print(vector2.toarray())"
      ]
    },
    {
      "cell_type": "code",
      "execution_count": 109,
      "metadata": {
        "tags": []
      },
      "outputs": [
        {
          "output_type": "stream",
          "name": "stdout",
          "text": "(1, 113)\n<class 'scipy.sparse.csr.csr_matrix'>\n[[0.04218245 0.04218245 0.08436491 0.04218245 0.08436491 0.04218245\n  0.04218245 0.08436491 0.04218245 0.04218245 0.04218245 0.04218245\n  0.04218245 0.04218245 0.04218245 0.04218245 0.04218245 0.29527718\n  0.04218245 0.04218245 0.04218245 0.04218245 0.04218245 0.04218245\n  0.08436491 0.12654736 0.04218245 0.04218245 0.04218245 0.04218245\n  0.04218245 0.04218245 0.04218245 0.12654736 0.04218245 0.08436491\n  0.16872982 0.04218245 0.04218245 0.04218245 0.04218245 0.08436491\n  0.08436491 0.37964209 0.04218245 0.04218245 0.08436491 0.04218245\n  0.04218245 0.04218245 0.04218245 0.12654736 0.08436491 0.04218245\n  0.04218245 0.08436491 0.08436491 0.04218245 0.04218245 0.04218245\n  0.12654736 0.08436491 0.04218245 0.12654736 0.04218245 0.04218245\n  0.04218245 0.08436491 0.04218245 0.04218245 0.04218245 0.04218245\n  0.46400699 0.04218245 0.29527718 0.04218245 0.08436491 0.04218245\n  0.08436491 0.08436491 0.04218245 0.04218245 0.04218245 0.04218245\n  0.04218245 0.04218245 0.04218245 0.04218245 0.12654736 0.04218245\n  0.04218245 0.08436491 0.04218245 0.04218245 0.04218245 0.08436491\n  0.04218245 0.04218245 0.04218245 0.04218245 0.21091227 0.08436491\n  0.04218245 0.04218245 0.04218245 0.08436491 0.04218245 0.04218245\n  0.04218245 0.08436491 0.08436491 0.04218245 0.04218245]]\n"
        }
      ],
      "source": [
        "\n",
        "from sklearn.feature_extraction.text import TfidfVectorizer #TF-IDF\n",
        "tfidfvectorizer = TfidfVectorizer()\n",
        "tfidfvectorizer.fit([text])\n",
        "vectortfidf = tfidfvectorizer.transform([text])\n",
        "# summarize encoded vector\n",
        "print(vectortfidf.shape)\n",
        "print(type(vectortfidf))\n",
        "print(vectortfidf.toarray())"
      ]
    },
    {
      "cell_type": "code",
      "execution_count": 112,
      "metadata": {
        "tags": []
      },
      "outputs": [
        {
          "output_type": "stream",
          "name": "stdout",
          "text": "[[0.         0.         0.         0.         0.         0.\n  0.         0.         0.         0.         0.         0.\n  0.         0.         0.         0.         0.         0.\n  0.         0.         0.         0.         0.         0.\n  0.         0.         0.         0.         0.         0.\n  0.         0.         0.         0.56568542 0.         0.\n  0.         0.         0.         0.         0.         0.\n  0.         0.         0.         0.         0.         0.\n  0.         0.         0.         0.70710678 0.         0.\n  0.         0.         0.         0.         0.         0.\n  0.         0.         0.         0.         0.         0.\n  0.         0.         0.         0.         0.         0.\n  0.         0.         0.         0.         0.         0.\n  0.         0.         0.         0.         0.         0.\n  0.         0.         0.         0.         0.         0.\n  0.         0.42426407 0.         0.         0.         0.\n  0.         0.         0.         0.         0.         0.\n  0.         0.         0.         0.         0.         0.\n  0.         0.         0.         0.         0.        ]]\n"
        }
      ],
      "source": [
        "\n",
        "#Vetoriza um texto novo\n",
        "vectortfidf2 = tfidfvectorizer.transform(text2)\n",
        "print(vectortfidf2.toarray())"
      ]
    },
    {
      "cell_type": "code",
      "execution_count": 113,
      "metadata": {
        "tags": []
      },
      "outputs": [
        {
          "output_type": "stream",
          "name": "stdout",
          "text": "TF  [[0.1968615]]\nTF-IDF:  [[0.1968615]]\n"
        }
      ],
      "source": [
        "from sklearn.metrics.pairwise import cosine_similarity\n",
        "print(\"TF \", cosine_similarity(vector, vector2))\n",
        "print(\"TF-IDF: \", cosine_similarity(vectortfidf, vectortfidf2))"
      ]
    },
    {
      "cell_type": "code",
      "execution_count": null,
      "metadata": {},
      "outputs": [],
      "source": []
    },
    {
      "cell_type": "code",
      "execution_count": null,
      "metadata": {},
      "outputs": [],
      "source": [
        "questions_overview_raw = read_stackoverflow_overview(tags=['python','django'],tab='Frequent',pages=2)\n",
        "type(questions_overview_raw)"
      ]
    }
  ],
  "metadata": {
    "colab": {
      "name": "Read_Stackoverflow.ipynb",
      "provenance": [],
      "collapsed_sections": [],
      "authorship_tag": "ABX9TyNmUrBHkx90se+IXEtbfA+9",
      "include_colab_link": true
    },
    "kernelspec": {
      "name": "python3",
      "display_name": "Python 3"
    }
  },
  "nbformat": 4,
  "nbformat_minor": 0
}