{
  "nbformat": 4,
  "nbformat_minor": 0,
  "metadata": {
    "colab": {
      "name": "Read_Stackoverflow.ipynb",
      "provenance": [],
      "collapsed_sections": [],
      "authorship_tag": "ABX9TyNmUrBHkx90se+IXEtbfA+9",
      "include_colab_link": true
    },
    "kernelspec": {
      "name": "python3",
      "display_name": "Python 3"
    }
  },
  "cells": [
    {
      "cell_type": "markdown",
      "metadata": {
        "id": "view-in-github",
        "colab_type": "text"
      },
      "source": [
        "<a href=\"https://colab.research.google.com/github/sielerod/search_stackoverflow/blob/master/Read_Stackoverflow.ipynb\" target=\"_parent\"><img src=\"https://colab.research.google.com/assets/colab-badge.svg\" alt=\"Open In Colab\"/></a>"
      ]
    },
    {
      "cell_type": "markdown",
      "metadata": {
        "id": "OhI60Te7lUP1",
        "colab_type": "text"
      },
      "source": [
        "#**Objetivo:**   \n",
        "* Capturar as perguntas mais frequentes sobre Python no stackoverflow\n",
        "* Armazenar para cada pergunta: link, breve descrição da pergunta, quantidade de votos e visualizações, pergunta, respostas com melhor avaliação\n",
        "\n",
        "\n",
        "**Fonte:** https://stackoverflow.com/questions/\n"
      ]
    },
    {
      "cell_type": "code",
      "metadata": {
        "id": "wTKKIbRrd_fr",
        "colab_type": "code",
        "colab": {}
      },
      "source": [
        "import requests # Getting Webpage content\n",
        "from requests.exceptions import HTTPError\n",
        "from bs4 import BeautifulSoup as bs # Scraping webpages\n",
        "from time import sleep\n",
        "import pandas as pd"
      ],
      "execution_count": 153,
      "outputs": []
    },
    {
      "cell_type": "markdown",
      "metadata": {
        "id": "3pe2opv4SYoR",
        "colab_type": "text"
      },
      "source": [
        "#Leitura do dado cru no Stackoverflow\n",
        "**read_stackoverflow_overview(tags=[], tab='Frequent', pages)**\n",
        "\n",
        "Leitura do resumo das perguntas mais frequentes no stackoverflow com base em alguns parâmetros de busca. \n",
        "\n",
        "Retorna um objeto requests contendo o resultado de requests.get\n",
        "\n",
        "* tags: argumento opcional com lista  de strings contendo os tipos de pergunta para seleação. Ex.: ['python', 'php', 'javascript']\n",
        ">ex. de URL para página com mais de 1 tag: https://stackoverflow.com/questions/tagged/sql+sql-server?tab=Frequent\n",
        "\n",
        "* tab: string com tipo de ordenação a ser aplicado, pode ser:\n",
        "'Frequent' (opção default), 'Votes', 'Unanswered', 'Bounties', 'Active', 'Newest'\n",
        "\n",
        "* Selector: seleção dos trechos do html a serem retornados. Por default, será question-summary\n",
        "\n",
        "* pages: número de páginas para leitura\n",
        "\n"
      ]
    },
    {
      "cell_type": "code",
      "metadata": {
        "id": "XYnP7RwH0h9O",
        "colab_type": "code",
        "colab": {}
      },
      "source": [
        "def read_stackoverflow_overview(tags=[], tab='Frequent', pages=5):\n",
        "  link = 'https://stackoverflow.com/questions'\n",
        "  selector='question-summary'\n",
        "  \n",
        "  if tags:\n",
        "    tags_link = '/tagged/'\n",
        "    pre=''\n",
        "    for t in tags:\n",
        "      tags_link += pre + t\n",
        "      pre = '+' \n",
        "    link += tags_link\n",
        "\n",
        "  link += '?tab='+tab\n",
        "\n",
        "  questions_text = ''\n",
        "  soup_selection = []\n",
        "  for page in range(1,pages+1):\n",
        "    page_link = '&page='+str(page)\n",
        "\n",
        "    try:\n",
        "      request = requests.get(link+page_link)\n",
        "      request.raise_for_status()\n",
        "      #questions_text += request.text\n",
        "      try:\n",
        "        soup = bs(request.text, 'html.parser')\n",
        "        soup_selection.append(soup.select('.'+selector))\n",
        "      except: print (\"Could not transform to soup object by selecting \",selector)\n",
        "    except HTTPError:\n",
        "      print (\"Could not download page \", page)\n",
        "\n",
        "    sleep(0.05)\n",
        "\n",
        "  return soup_selection\n"
      ],
      "execution_count": 8,
      "outputs": []
    },
    {
      "cell_type": "code",
      "metadata": {
        "id": "s_R5A2tBAqrW",
        "colab_type": "code",
        "colab": {
          "base_uri": "https://localhost:8080/",
          "height": 34
        },
        "outputId": "8619f248-a44d-41b7-8c9f-59fa83a71b87"
      },
      "source": [
        "questions_overview_raw = read_stackoverflow_overview(tags=['python','django'],tab='Frequent',pages=2)\n",
        "type(questions_overview_raw)"
      ],
      "execution_count": 9,
      "outputs": [
        {
          "output_type": "execute_result",
          "data": {
            "text/plain": [
              "list"
            ]
          },
          "metadata": {
            "tags": []
          },
          "execution_count": 9
        }
      ]
    },
    {
      "cell_type": "code",
      "metadata": {
        "id": "Dn7tUYRxBHT6",
        "colab_type": "code",
        "colab": {}
      },
      "source": [
        "questions_overview_raw"
      ],
      "execution_count": null,
      "outputs": []
    },
    {
      "cell_type": "markdown",
      "metadata": {
        "id": "21u58D6xwFkU",
        "colab_type": "text"
      },
      "source": [
        "#Transformação do dado cru coletado do Stackoverflow em dicionário\n",
        "**questions_overview(questions_overview_raw)**\n",
        "\n",
        "O dicionário deve conter a visão geral das perguntas do stackoverflow, com:\n",
        "\n",
        "* link\n",
        "* brief_description\n",
        "* votes\n",
        "* views"
      ]
    },
    {
      "cell_type": "markdown",
      "metadata": {
        "id": "6Fj83JnZmFtH",
        "colab_type": "text"
      },
      "source": [
        "###Análise do padrão da página HTML para captura de informações relevantes:\n",
        "\n",
        "Em \"question-summary\", temos as seguintes informações relevantes:\n",
        "\n",
        "1.   class = statscontainer, com:\n",
        "*   Número de votos em class=\"vote-count-post \"\n",
        ">```<span class=\"vote-count-post high-scored-post\"><strong>2473</strong></span>```\n",
        "\n",
        "*   Número de respostas aceitas em class=\"status answered-accepted\" \n",
        ">```<div class=\"status answered-accepted\"><strong>23</strong>answers</div>```\n",
        "\n",
        "*   Conteúdo e Title contendo quantidade de views em class=\"views supernova\" \n",
        ">```<div class=\"views supernova\" title=\"307,292 views\">307k views</div>```\n",
        "\n",
        "2.   class = summary, com:\n",
        "* class=\"question-hyperlink\" contendo em *href* parte do link para compor link de acesso à página detalhada da pergunta e Título da pergunta\n",
        ">``` <a href=\"/questions/15112125/how-to-test-multiple-variables-against-a-value\" class=\"question-hyperlink\">How to test multiple variables against a value?</a>```\n",
        "\n",
        "*   Breve resumo em class=\"excerpt\"\n",
        ">```<div class=\"excerpt\"> brief description of the question ...</div>```\n",
        "\n",
        "*   Tags em class=\"post-tag\"\n",
        ">```<a href=\"/questions/tagged/python\" class=\"post-tag\" title=\"show questions tagged 'python'\" rel=\"tag\">python</a>```\n",
        "\n",
        "\n",
        "\n"
      ]
    },
    {
      "cell_type": "code",
      "metadata": {
        "id": "DEQEhGyPCfX2",
        "colab_type": "code",
        "colab": {}
      },
      "source": [
        "def questions_overview(questions_overview_raw):\n",
        "  #questions_overview = pd.DataFrame({'questions':[]})\n",
        "  questions_overview = { 'questions':[]}\n",
        "  for soups in questions_overview_raw:\n",
        "    for q in soups:\n",
        "      q_title = q.select_one('.question-hyperlink').getText()\n",
        "      q_link = 'https://stackoverflow.com'+q.select_one('.question-hyperlink').get('href')\n",
        "      q_summary = q.select_one('.excerpt').getText()\n",
        "      q_vote_count =  q.select_one('.vote-count-post').getText()\n",
        "      #q_answered_accepted = q.select_one(\".answered-accepted.mini-counts\").getText()\n",
        "      q_views =  q.select_one('.views').attrs['title']\n",
        "      q_tags = []\n",
        "      for tag in q.select('.post-tag'): q_tags.append(tag.getText())\n",
        "\n",
        "      questions_overview['questions'].append({\n",
        "          'title': q_title,\n",
        "          'link': q_link,\n",
        "          'summary': q_summary,\n",
        "          'vote_count': q_vote_count,\n",
        "          'views': q_views,\n",
        "          'tags': q_tags,\n",
        "          'full_question':\"\",\n",
        "          'best_answer':\"\",\n",
        "      })\n",
        "  \n",
        "  return questions_overview"
      ],
      "execution_count": 124,
      "outputs": []
    },
    {
      "cell_type": "markdown",
      "metadata": {
        "id": "2u-c-nhmVWvv",
        "colab_type": "text"
      },
      "source": [
        "#Trasformação de dicionário em dataframe"
      ]
    },
    {
      "cell_type": "code",
      "metadata": {
        "id": "NzPT8KArDl4e",
        "colab_type": "code",
        "colab": {
          "base_uri": "https://localhost:8080/",
          "height": 34
        },
        "outputId": "f9dc45e4-1fdd-4a17-e462-6cbc70c598a9"
      },
      "source": [
        "questions_df = pd.DataFrame(questions_overview(questions_overview_raw)['questions'])\n",
        "type(questions_df)"
      ],
      "execution_count": 125,
      "outputs": [
        {
          "output_type": "execute_result",
          "data": {
            "text/plain": [
              "pandas.core.frame.DataFrame"
            ]
          },
          "metadata": {
            "tags": []
          },
          "execution_count": 125
        }
      ]
    },
    {
      "cell_type": "markdown",
      "metadata": {
        "id": "feA0REYGN3cg",
        "colab_type": "text"
      },
      "source": [
        "#Exemplos de como acessar a informação no dataframe:"
      ]
    },
    {
      "cell_type": "code",
      "metadata": {
        "id": "YhPPA_TmYceK",
        "colab_type": "code",
        "colab": {
          "base_uri": "https://localhost:8080/",
          "height": 554
        },
        "outputId": "5495d8d7-1bef-407f-c954-26d4c19ca3a9"
      },
      "source": [
        "print('Lista com links:\\n',questions_df['link'])\n",
        "\n",
        "print('\\n Acesso a dados de um link específico\\n--- Link: ',questions_df['link'][3])\n",
        "\n",
        "print('\\n--- Título: ', questions_df['title'][3])\n",
        "\n",
        "print('\\n--- Breve Descrição: ', questions_df['summary'][3])\n",
        "\n",
        "print('\\n--- Contagem de votos: ', questions_df['vote_count'][3])\n",
        "\n",
        "print('\\n--- Contagem de visualizações: ', questions_df['views'][3])\n",
        "\n",
        "print('\\n--- Lista como tags: ', questions_df['tags'][3])\n"
      ],
      "execution_count": 12,
      "outputs": [
        {
          "output_type": "stream",
          "text": [
            "Lista com links:\n",
            " 0     https://stackoverflow.com/questions/23708898/p...\n",
            "1     https://stackoverflow.com/questions/573618/set...\n",
            "2     https://stackoverflow.com/questions/8000022/dj...\n",
            "3     https://stackoverflow.com/questions/5100539/dj...\n",
            "4     https://stackoverflow.com/questions/8609192/di...\n",
            "                            ...                        \n",
            "95    https://stackoverflow.com/questions/17716624/d...\n",
            "96    https://stackoverflow.com/questions/26697565/d...\n",
            "97    https://stackoverflow.com/questions/6367014/ho...\n",
            "98    https://stackoverflow.com/questions/2201598/ho...\n",
            "99    https://stackoverflow.com/questions/1208067/wh...\n",
            "Name: link, Length: 100, dtype: object\n",
            "\n",
            " Acesso a dados de um link específico\n",
            "--- Link:  https://stackoverflow.com/questions/5100539/django-csrf-check-failing-with-an-ajax-post-request\n",
            "\n",
            "--- Título:  Django CSRF check failing with an Ajax POST request\n",
            "\n",
            "--- Breve Descrição:  \r\n",
            "            I could use some help complying with Django's CSRF protection mechanism via my AJAX post. I've followed the directions here:\n",
            "\n",
            "http://docs.djangoproject.com/en/dev/ref/contrib/csrf/\n",
            "\n",
            "I've copied the ...\r\n",
            "        \n",
            "\n",
            "--- Contagem de votos:  180\n",
            "\n",
            "--- Contagem de visualizações:  151,034 views\n",
            "\n",
            "--- Lista como tags:  ['python', 'ajax', 'django', 'csrf']\n"
          ],
          "name": "stdout"
        }
      ]
    },
    {
      "cell_type": "markdown",
      "metadata": {
        "id": "_rFjl4HKL2is",
        "colab_type": "text"
      },
      "source": [
        "Próximos passos:\n",
        "\n",
        "\n",
        "1.   Enriquecer questions_df com a informação detalhada da pergunta e conteúdo da resposta com melhor avaliação\n",
        "2.   Limpar dados em questions_dic para remover caracteres irrelevantes, como: \\n, \\t, artigos, pronomes\n",
        "\n"
      ]
    },
    {
      "cell_type": "code",
      "metadata": {
        "id": "6I2PouNgMTo-",
        "colab_type": "code",
        "colab": {
          "base_uri": "https://localhost:8080/",
          "height": 279
        },
        "outputId": "f8ff9355-7484-41b5-9b13-4ae7138f767f"
      },
      "source": [
        "questions_df.head()"
      ],
      "execution_count": 126,
      "outputs": [
        {
          "output_type": "execute_result",
          "data": {
            "text/html": [
              "<div>\n",
              "<style scoped>\n",
              "    .dataframe tbody tr th:only-of-type {\n",
              "        vertical-align: middle;\n",
              "    }\n",
              "\n",
              "    .dataframe tbody tr th {\n",
              "        vertical-align: top;\n",
              "    }\n",
              "\n",
              "    .dataframe thead th {\n",
              "        text-align: right;\n",
              "    }\n",
              "</style>\n",
              "<table border=\"1\" class=\"dataframe\">\n",
              "  <thead>\n",
              "    <tr style=\"text-align: right;\">\n",
              "      <th></th>\n",
              "      <th>title</th>\n",
              "      <th>link</th>\n",
              "      <th>summary</th>\n",
              "      <th>vote_count</th>\n",
              "      <th>views</th>\n",
              "      <th>tags</th>\n",
              "      <th>full_question</th>\n",
              "      <th>best_answer</th>\n",
              "    </tr>\n",
              "  </thead>\n",
              "  <tbody>\n",
              "    <tr>\n",
              "      <th>0</th>\n",
              "      <td>'pip' is not recognized as an internal or exte...</td>\n",
              "      <td>https://stackoverflow.com/questions/23708898/p...</td>\n",
              "      <td>\\r\\n            I'm running into a weird error...</td>\n",
              "      <td>338</td>\n",
              "      <td>1,043,690 views</td>\n",
              "      <td>[python, django, windows, pip]</td>\n",
              "      <td></td>\n",
              "      <td></td>\n",
              "    </tr>\n",
              "    <tr>\n",
              "      <th>1</th>\n",
              "      <td>Set up a scheduled job?</td>\n",
              "      <td>https://stackoverflow.com/questions/573618/set...</td>\n",
              "      <td>\\r\\n            I've been working on a web app...</td>\n",
              "      <td>521</td>\n",
              "      <td>169,395 views</td>\n",
              "      <td>[python, django, web-applications, scheduled-t...</td>\n",
              "      <td></td>\n",
              "      <td></td>\n",
              "    </tr>\n",
              "    <tr>\n",
              "      <th>2</th>\n",
              "      <td>Django template how to look up a dictionary va...</td>\n",
              "      <td>https://stackoverflow.com/questions/8000022/dj...</td>\n",
              "      <td>\\r\\n            mydict = {\"key1\":\"value1\", \"ke...</td>\n",
              "      <td>234</td>\n",
              "      <td>142,128 views</td>\n",
              "      <td>[python, django, templates, dictionary]</td>\n",
              "      <td></td>\n",
              "      <td></td>\n",
              "    </tr>\n",
              "    <tr>\n",
              "      <th>3</th>\n",
              "      <td>Django CSRF check failing with an Ajax POST re...</td>\n",
              "      <td>https://stackoverflow.com/questions/5100539/dj...</td>\n",
              "      <td>\\r\\n            I could use some help complyin...</td>\n",
              "      <td>180</td>\n",
              "      <td>151,034 views</td>\n",
              "      <td>[python, ajax, django, csrf]</td>\n",
              "      <td></td>\n",
              "      <td></td>\n",
              "    </tr>\n",
              "    <tr>\n",
              "      <th>4</th>\n",
              "      <td>differentiate null=True, blank=True in django</td>\n",
              "      <td>https://stackoverflow.com/questions/8609192/di...</td>\n",
              "      <td>\\r\\n            When we add a database field i...</td>\n",
              "      <td>917</td>\n",
              "      <td>257,589 views</td>\n",
              "      <td>[python, django, django-models]</td>\n",
              "      <td></td>\n",
              "      <td></td>\n",
              "    </tr>\n",
              "  </tbody>\n",
              "</table>\n",
              "</div>"
            ],
            "text/plain": [
              "                                               title  ... best_answer\n",
              "0  'pip' is not recognized as an internal or exte...  ...            \n",
              "1                            Set up a scheduled job?  ...            \n",
              "2  Django template how to look up a dictionary va...  ...            \n",
              "3  Django CSRF check failing with an Ajax POST re...  ...            \n",
              "4      differentiate null=True, blank=True in django  ...            \n",
              "\n",
              "[5 rows x 8 columns]"
            ]
          },
          "metadata": {
            "tags": []
          },
          "execution_count": 126
        }
      ]
    },
    {
      "cell_type": "code",
      "metadata": {
        "id": "7pncNTKawYOt",
        "colab_type": "code",
        "colab": {}
      },
      "source": [
        "import re\n",
        "def read_question_detail(questions_df):\n",
        "  \n",
        "  idx = 0\n",
        "  for link in questions_df['link']:\n",
        "    question = []\n",
        "    answer = []\n",
        "    try:\n",
        "      request = requests.get(questions_df['link'][0])\n",
        "      request.raise_for_status()\n",
        "      try:\n",
        "        #import urllib.request\n",
        "        #from lxml import html\n",
        "        #page = requests.get('http://econpy.pythonanywhere.com/ex/001.html')\n",
        "        #tree = html.fromstring(page.content)\n",
        "        #prices = tree.xpath('//span[@class=\"item-price\"]/text()')\n",
        "        soup = bs(request.text, 'html.parser')\n",
        "        questions_df['full_question'][idx] = str(soup.select('.question .post-text'))\n",
        "        #answer.append(soup.select_one('.div.answer-body'))\n",
        "        #answer.append(soup.select('div.-summary.answer'))\n",
        "\n",
        "      except: \n",
        "        print (\"Could not transform to soup object by selecting\")\n",
        "        questions_df['full_question'][idx] = \"No Answer :( \"\n",
        "\n",
        "    except HTTPError:\n",
        "      print (\"Could not download page\")\n",
        "\n",
        "    idx += 1\n",
        "\n",
        "    sleep(0.05)\n",
        "\n",
        "  print(questions_df['full_question'][0])\n",
        "\n",
        "  return questions_df\n",
        "\n"
      ],
      "execution_count": 144,
      "outputs": []
    },
    {
      "cell_type": "code",
      "metadata": {
        "id": "SCsMerWlwhjU",
        "colab_type": "code",
        "colab": {
          "base_uri": "https://localhost:8080/",
          "height": 538
        },
        "outputId": "ca1ec92b-1fa9-41ac-bf90-c9e99905c553"
      },
      "source": [
        "questions_df = read_question_detail(questions_df)"
      ],
      "execution_count": 145,
      "outputs": [
        {
          "output_type": "stream",
          "text": [
            "[<div class=\"post-text\" itemprop=\"text\">\n",
            "<p>I'm running into a weird error when trying to install Django on my computer.</p>\n",
            "<p>This is the sequence that I typed into my command line:</p>\n",
            "<pre class=\"lang-none prettyprint-override\"><code>C:\\Python34&gt; python get-pip.py\n",
            "Requirement already up-to-date: pip in c:\\python34\\lib\\site-packages\n",
            "Cleaning up...\n",
            "\n",
            "C:\\Python34&gt; pip install Django\n",
            "'pip' is not recognized as an internal or external command,\n",
            "operable program or batch file.\n",
            "\n",
            "C:\\Python34&gt; lib\\site-packages\\pip install Django\n",
            "'lib\\site-packages\\pip' is not recognized as an internal or external command,\n",
            "operable program or batch file.\n",
            "</code></pre>\n",
            "<p>What could be causing this?</p>\n",
            "<p>This is what I get when I type in <code>echo %PATH%</code>:</p>\n",
            "<pre class=\"lang-none prettyprint-override\"><code>C:\\Python34&gt;echo %PATH%\n",
            "C:\\Program Files\\ImageMagick-6.8.8-Q16;C:\\Program Files (x86)\\Intel\\iCLS Client\\\n",
            ";C:\\Program Files\\Intel\\iCLS Client\\;C:\\Windows\\system32;C:\\Windows;C:\\Windows\\S\n",
            "ystem32\\Wbem;C:\\Windows\\System32\\WindowsPowerShell\\v1.0\\;C:\\Program Files (x86)\\\n",
            "Windows Live\\Shared;C:\\Program Files (x86)\\Intel\\OpenCL SDK\\2.0\\bin\\x86;C:\\Progr\n",
            "am Files (x86)\\Intel\\OpenCL SDK\\2.0\\bin\\x64;C:\\Program Files\\Intel\\Intel(R) Mana\n",
            "gement Engine Components\\DAL;C:\\Program Files\\Intel\\Intel(R) Management Engine C\n",
            "omponents\\IPT;C:\\Program Files (x86)\\Intel\\Intel(R) Management Engine Components\n",
            "\\DAL;C:\\Program Files (x86)\\Intel\\Intel(R) Management Engine Components\\IPT;C:\\P\n",
            "rogram Files (x86)\\nodejs\\;C:\\Program Files (x86)\\Heroku\\bin;C:\\Program Files (x\n",
            "86)\\git\\cmd;C:\\RailsInstaller\\Ruby2.0.0\\bin;C:\\RailsInstaller\\Git\\cmd;C:\\RailsIn\n",
            "staller\\Ruby1.9.3\\bin;C:\\Users\\Javi\\AppData\\Roaming\\npm\n",
            "</code></pre>\n",
            "</div>]\n"
          ],
          "name": "stdout"
        }
      ]
    },
    {
      "cell_type": "code",
      "metadata": {
        "id": "RduKqf0uUpuD",
        "colab_type": "code",
        "colab": {}
      },
      "source": [
        "import re\n",
        "\n",
        "def cleanhtml(raw_html):\n",
        "  cleanr = re.compile('<.*?>|&[.*?]')\n",
        "  cleantext = re.sub(cleanr, '', raw_html)\n",
        "  return cleantext"
      ],
      "execution_count": 151,
      "outputs": []
    },
    {
      "cell_type": "code",
      "metadata": {
        "id": "rJOTYwRONnSu",
        "colab_type": "code",
        "colab": {
          "base_uri": "https://localhost:8080/",
          "height": 538
        },
        "outputId": "efbbcf00-e33f-43c1-debd-30559477de3e"
      },
      "source": [
        "print(cleanhtml(questions_df['full_question'][0]))"
      ],
      "execution_count": 152,
      "outputs": [
        {
          "output_type": "stream",
          "text": [
            "[\n",
            "I'm running into a weird error when trying to install Django on my computer.\n",
            "This is the sequence that I typed into my command line:\n",
            "C:\\Python34&gt; python get-pip.py\n",
            "Requirement already up-to-date: pip in c:\\python34\\lib\\site-packages\n",
            "Cleaning up...\n",
            "\n",
            "C:\\Python34&gt; pip install Django\n",
            "'pip' is not recognized as an internal or external command,\n",
            "operable program or batch file.\n",
            "\n",
            "C:\\Python34&gt; lib\\site-packages\\pip install Django\n",
            "'lib\\site-packages\\pip' is not recognized as an internal or external command,\n",
            "operable program or batch file.\n",
            "\n",
            "What could be causing this?\n",
            "This is what I get when I type in echo %PATH%:\n",
            "C:\\Python34&gt;echo %PATH%\n",
            "C:\\Program Files\\ImageMagick-6.8.8-Q16;C:\\Program Files (x86)\\Intel\\iCLS Client\\\n",
            ";C:\\Program Files\\Intel\\iCLS Client\\;C:\\Windows\\system32;C:\\Windows;C:\\Windows\\S\n",
            "ystem32\\Wbem;C:\\Windows\\System32\\WindowsPowerShell\\v1.0\\;C:\\Program Files (x86)\\\n",
            "Windows Live\\Shared;C:\\Program Files (x86)\\Intel\\OpenCL SDK\\2.0\\bin\\x86;C:\\Progr\n",
            "am Files (x86)\\Intel\\OpenCL SDK\\2.0\\bin\\x64;C:\\Program Files\\Intel\\Intel(R) Mana\n",
            "gement Engine Components\\DAL;C:\\Program Files\\Intel\\Intel(R) Management Engine C\n",
            "omponents\\IPT;C:\\Program Files (x86)\\Intel\\Intel(R) Management Engine Components\n",
            "\\DAL;C:\\Program Files (x86)\\Intel\\Intel(R) Management Engine Components\\IPT;C:\\P\n",
            "rogram Files (x86)\\nodejs\\;C:\\Program Files (x86)\\Heroku\\bin;C:\\Program Files (x\n",
            "86)\\git\\cmd;C:\\RailsInstaller\\Ruby2.0.0\\bin;C:\\RailsInstaller\\Git\\cmd;C:\\RailsIn\n",
            "staller\\Ruby1.9.3\\bin;C:\\Users\\Javi\\AppData\\Roaming\\npm\n",
            "\n",
            "]\n"
          ],
          "name": "stdout"
        }
      ]
    }
  ]
}