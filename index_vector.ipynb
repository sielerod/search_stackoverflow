{
 "metadata": {
  "language_info": {
   "codemirror_mode": {
    "name": "ipython",
    "version": 3
   },
   "file_extension": ".py",
   "mimetype": "text/x-python",
   "name": "python",
   "nbconvert_exporter": "python",
   "pygments_lexer": "ipython3",
   "version": 3
  },
  "orig_nbformat": 2,
  "kernelspec": {
   "name": "python_defaultSpec_1595089002576",
   "display_name": "Python 3.7.3 64-bit ('base': conda)"
  }
 },
 "nbformat": 4,
 "nbformat_minor": 2,
 "cells": [
  {
   "cell_type": "code",
   "execution_count": 13,
   "metadata": {},
   "outputs": [],
   "source": [
    "import string\n",
    "import unidecode\n",
    "\n",
    "import nltk\n",
    "from collections import defaultdict\n",
    "#from nltk.stem.snowball import EnglishStemmer\n",
    "from nltk.stem import SnowballStemmer #Stemming: Porter2 >  more aggressive than the Porter stemmer, Slightly faster, \n",
    "from nltk.tokenize import word_tokenize\n",
    "from nltk.tokenize import RegexpTokenizer\n",
    "from nltk.corpus import stopwords"
   ]
  },
  {
   "cell_type": "code",
   "execution_count": 2,
   "metadata": {},
   "outputs": [],
   "source": [
    "document_1 = \"I love watching movies when it's cold outside\"\n",
    "document_2 = \"Toy Story is the best animation movie ever, I love it!\"\n",
    "document_3 = \"Watching horror movies alone at night is really scary\"\n",
    "document_4 = \"He loves to watch films filled with suspense and unexpected plot twists\"\n",
    "document_5 = \"My mom loves to watch movies. My dad hates movie theaters. My brothers like any kind of movie. And I haven't watched a single movie since I got into college\"\n",
    "\n",
    "documents = [document_1, document_2, document_3, document_4, document_5]\n"
   ]
  },
  {
   "cell_type": "code",
   "execution_count": 11,
   "metadata": {},
   "outputs": [
    {
     "output_type": "execute_result",
     "data": {
      "text/plain": "\"I love watching movies when it's cold outside\""
     },
     "metadata": {},
     "execution_count": 11
    }
   ],
   "source": [
    "documents[0]"
   ]
  },
  {
   "cell_type": "code",
   "execution_count": 9,
   "metadata": {},
   "outputs": [],
   "source": [
    "def clean_text (text):\n",
    "    text = text.translate(str.maketrans('', '', string.punctuation)) #remove all punctuation marks\n",
    "    text = text.replace('\\n',' ').strip()\n",
    "    text = text.lower()\n",
    "    text = unidecode.unidecode(text)\n",
    "    return text"
   ]
  },
  {
   "cell_type": "code",
   "execution_count": 10,
   "metadata": {},
   "outputs": [
    {
     "output_type": "execute_result",
     "data": {
      "text/plain": "'i love watching movies when its cold outside'"
     },
     "metadata": {},
     "execution_count": 10
    }
   ],
   "source": [
    "clean_text(documents[0])"
   ]
  },
  {
   "cell_type": "code",
   "execution_count": 27,
   "metadata": {},
   "outputs": [
    {
     "output_type": "execute_result",
     "data": {
      "text/plain": "[['love', 'watch', 'movi', 'cold', 'outsid'],\n ['toy', 'stori', 'best', 'anim', 'movi', 'ever', 'love'],\n ['watch', 'horror', 'movi', 'alon', 'night', 'realli', 'scari'],\n ['love', 'watch', 'film', 'fill', 'suspens', 'unexpect', 'plot', 'twist'],\n ['mom',\n  'love',\n  'watch',\n  'movi',\n  'dad',\n  'hate',\n  'movi',\n  'theater',\n  'brother',\n  'like',\n  'kind',\n  'movi',\n  'havent',\n  'watch',\n  'singl',\n  'movi',\n  'sinc',\n  'got',\n  'colleg']]"
     },
     "metadata": {},
     "execution_count": 27
    }
   ],
   "source": [
    "set_stem_words"
   ]
  },
  {
   "cell_type": "code",
   "execution_count": 63,
   "metadata": {},
   "outputs": [],
   "source": [
    "#criação do bag of words\n",
    "set_stem_words = []\n",
    "vocabulary = {}\n",
    "stop_words = stopwords.words('english')\n",
    "snowball_stemmer = SnowballStemmer(\"english\")\n",
    "\n",
    "for index in range(len(documents)):\n",
    "    text = documents[index]\n",
    "    tokentext = word_tokenize(clean_text(text))\n",
    "    stem_words  = [snowball_stemmer.stem(word) for word in tokentext if not word in stop_words and len(word) > 2 and word not in string.punctuation]\n",
    "    set_stem_words.append(stem_words)\n",
    "\n",
    "    #Inicializar vocabulário sem repetição de palavras\n",
    "    for word in stem_words:\n",
    "        vocabulary[word] = 0\n",
    "\n",
    "#Contabiliza ocorrência de cada palavra em todos os documentos\n",
    "for words in set_stem_words:\n",
    "    for word in words:\n",
    "        vocabulary[word] += 1"
   ]
  },
  {
   "cell_type": "code",
   "execution_count": 67,
   "metadata": {},
   "outputs": [
    {
     "output_type": "execute_result",
     "data": {
      "text/plain": "{'love': 4,\n 'watch': 5,\n 'movi': 7,\n 'cold': 1,\n 'outsid': 1,\n 'toy': 1,\n 'stori': 1,\n 'best': 1,\n 'anim': 1,\n 'ever': 1,\n 'horror': 1,\n 'alon': 1,\n 'night': 1,\n 'realli': 1,\n 'scari': 1,\n 'film': 1,\n 'fill': 1,\n 'suspens': 1,\n 'unexpect': 1,\n 'plot': 1,\n 'twist': 1,\n 'mom': 1,\n 'dad': 1,\n 'hate': 1,\n 'theater': 1,\n 'brother': 1,\n 'like': 1,\n 'kind': 1,\n 'havent': 1,\n 'singl': 1,\n 'sinc': 1,\n 'got': 1,\n 'colleg': 1}"
     },
     "metadata": {},
     "execution_count": 67
    }
   ],
   "source": [
    "vocabulary"
   ]
  },
  {
   "cell_type": "code",
   "execution_count": 69,
   "metadata": {},
   "outputs": [],
   "source": [
    "#Criar índice invertido\n",
    "invertedList = dict()\n",
    "for term in vocabulary:\n",
    "    invertedList[term] = list()\n",
    "    index = 0\n",
    "    for stem_words in set_stem_words:\n",
    "        frequencia = 0\n",
    "        for word in stem_words:\n",
    "            if word == term:\n",
    "                frequencia += 1\n",
    "        if frequencia > 0:\n",
    "            invertedList[term].append([index, frequencia])\n",
    "        index += 1"
   ]
  },
  {
   "cell_type": "code",
   "execution_count": 70,
   "metadata": {},
   "outputs": [
    {
     "output_type": "execute_result",
     "data": {
      "text/plain": "{'love': [[0, 1], [1, 1], [3, 1], [4, 1]],\n 'watch': [[0, 1], [2, 1], [3, 1], [4, 2]],\n 'movi': [[0, 1], [1, 1], [2, 1], [4, 4]],\n 'cold': [[0, 1]],\n 'outsid': [[0, 1]],\n 'toy': [[1, 1]],\n 'stori': [[1, 1]],\n 'best': [[1, 1]],\n 'anim': [[1, 1]],\n 'ever': [[1, 1]],\n 'horror': [[2, 1]],\n 'alon': [[2, 1]],\n 'night': [[2, 1]],\n 'realli': [[2, 1]],\n 'scari': [[2, 1]],\n 'film': [[3, 1]],\n 'fill': [[3, 1]],\n 'suspens': [[3, 1]],\n 'unexpect': [[3, 1]],\n 'plot': [[3, 1]],\n 'twist': [[3, 1]],\n 'mom': [[4, 1]],\n 'dad': [[4, 1]],\n 'hate': [[4, 1]],\n 'theater': [[4, 1]],\n 'brother': [[4, 1]],\n 'like': [[4, 1]],\n 'kind': [[4, 1]],\n 'havent': [[4, 1]],\n 'singl': [[4, 1]],\n 'sinc': [[4, 1]],\n 'got': [[4, 1]],\n 'colleg': [[4, 1]]}"
     },
     "metadata": {},
     "execution_count": 70
    }
   ],
   "source": [
    "invertedList"
   ]
  },
  {
   "cell_type": "code",
   "execution_count": 71,
   "metadata": {
    "tags": []
   },
   "outputs": [
    {
     "output_type": "stream",
     "name": "stdout",
     "text": "Vocabulary     ni      Inverted Lists\n0       love           4       [[0, 1], [1, 1], [3, 1], [4, 1]]\n1       watch          5       [[0, 1], [2, 1], [3, 1], [4, 2]]\n2       movi           7       [[0, 1], [1, 1], [2, 1], [4, 4]]\n3       cold           1       [[0, 1]]\n4       outsid         1       [[0, 1]]\n5       toy            1       [[1, 1]]\n6       stori          1       [[1, 1]]\n7       best           1       [[1, 1]]\n8       anim           1       [[1, 1]]\n9       ever           1       [[1, 1]]\n10      horror         1       [[2, 1]]\n11      alon           1       [[2, 1]]\n12      night          1       [[2, 1]]\n13      realli         1       [[2, 1]]\n14      scari          1       [[2, 1]]\n15      film           1       [[3, 1]]\n16      fill           1       [[3, 1]]\n17      suspens        1       [[3, 1]]\n18      unexpect       1       [[3, 1]]\n19      plot           1       [[3, 1]]\n20      twist          1       [[3, 1]]\n21      mom            1       [[4, 1]]\n22      dad            1       [[4, 1]]\n23      hate           1       [[4, 1]]\n24      theater        1       [[4, 1]]\n25      brother        1       [[4, 1]]\n26      like           1       [[4, 1]]\n27      kind           1       [[4, 1]]\n28      havent         1       [[4, 1]]\n29      singl          1       [[4, 1]]\n30      sinc           1       [[4, 1]]\n31      got            1       [[4, 1]]\n32      colleg         1       [[4, 1]]\n"
    }
   ],
   "source": [
    "#Exibe os dados formatados\n",
    "fmt = '{:<8}{:<15}{:<8}{}'\n",
    "\n",
    "print(fmt.format('', 'Vocabulary', 'ni', 'Inverted Lists'))\n",
    "for i, (vocab, ni, ocurrencies) in enumerate(zip(vocabulary.keys(), vocabulary.values(), invertedList.values())):\n",
    "    print(fmt.format(i, vocab, ni, ocurrencies))"
   ]
  },
  {
   "cell_type": "markdown",
   "metadata": {},
   "source": [
    "# Realizando Busca"
   ]
  },
  {
   "cell_type": "code",
   "execution_count": null,
   "metadata": {},
   "outputs": [],
   "source": []
  }
 ]
}