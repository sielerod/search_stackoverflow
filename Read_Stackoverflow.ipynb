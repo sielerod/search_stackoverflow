{
  "nbformat": 4,
  "nbformat_minor": 0,
  "metadata": {
    "colab": {
      "name": "Read_Stackoverflow.ipynb",
      "provenance": [],
      "collapsed_sections": [],
      "toc_visible": true,
      "authorship_tag": "ABX9TyMkrwwOmPhm7Z3uMFUJeACW",
      "include_colab_link": true
    },
    "kernelspec": {
      "name": "python3",
      "display_name": "Python 3"
    }
  },
  "cells": [
    {
      "cell_type": "markdown",
      "metadata": {
        "id": "view-in-github",
        "colab_type": "text"
      },
      "source": [
        "<a href=\"https://colab.research.google.com/github/sielerod/search_stackoverflow/blob/master/Read_Stackoverflow.ipynb\" target=\"_parent\"><img src=\"https://colab.research.google.com/assets/colab-badge.svg\" alt=\"Open In Colab\"/></a>"
      ]
    },
    {
      "cell_type": "markdown",
      "metadata": {
        "id": "OhI60Te7lUP1",
        "colab_type": "text"
      },
      "source": [
        "#**Objetivo:**   \n",
        "* Capturar as perguntas mais frequentes sobre Python no stackoverflow\n",
        "* Armazenar para cada pergunta: link, breve descrição da pergunta, quantidade de votos e visualizações, pergunta, respostas com melhor avaliação\n",
        "\n",
        "\n",
        "**Fonte:** https://stackoverflow.com/questions/\n"
      ]
    },
    {
      "cell_type": "code",
      "metadata": {
        "id": "3JZuPTov-ayO",
        "colab_type": "code",
        "colab": {}
      },
      "source": [
        "import requests # Getting Webpage content\n",
        "from requests.exceptions import HTTPError\n",
        "from bs4 import BeautifulSoup as bs # Scraping webpages\n",
        "from time import sleep\n"
      ],
      "execution_count": 103,
      "outputs": []
    },
    {
      "cell_type": "markdown",
      "metadata": {
        "id": "3pe2opv4SYoR",
        "colab_type": "text"
      },
      "source": [
        "#Leitura do dado cru no Stackoverflow\n",
        "**read_stackoverflow_overview(tags=[], tab='Frequent', selector='question-summary', pages)**\n",
        "\n",
        "Leitura do resumo das perguntas mais frequentes no stackoverflow com base em alguns parâmetros de busca. \n",
        "\n",
        "Retorna um objeto requests contendo o resultado de requests.get\n",
        "\n",
        "* tags: argumento opcional com lista  de strings contendo os tipos de pergunta para seleação. Ex.: ['python', 'php', 'javascript']\n",
        ">ex. de URL para página com mais de 1 tag: https://stackoverflow.com/questions/tagged/sql+sql-server?tab=Frequent\n",
        "\n",
        "* tab: string com tipo de ordenação a ser aplicado, pode ser:\n",
        "'Frequent' (opção default), 'Votes', 'Unanswered', 'Bounties', 'Active', 'Newest'\n",
        "\n",
        "* Selector: seleção dos trechos do html a serem retornados. Por default, será question-summary\n",
        "\n",
        "* pages: número de páginas para leitura\n",
        "\n"
      ]
    },
    {
      "cell_type": "code",
      "metadata": {
        "id": "XYnP7RwH0h9O",
        "colab_type": "code",
        "colab": {}
      },
      "source": [
        "def read_stackoverflow_overview(tags=[], tab='Frequent', selector='question-summary', pages=5):\n",
        "  link = 'https://stackoverflow.com/questions'\n",
        "\n",
        "  if tags:\n",
        "    tags_link = '/tagged/'\n",
        "    pre=''\n",
        "    for t in tags:\n",
        "      tags_link += pre + t\n",
        "      pre = '+' \n",
        "    link += tags_link\n",
        "\n",
        "  link += '?tab='+tab\n",
        "\n",
        "  questions_text = ''\n",
        "  soup_selection = []\n",
        "  for page in range(1,pages+1):\n",
        "    page_link = '&page='+str(page)\n",
        "\n",
        "    try:\n",
        "      request = requests.get(link+page_link)\n",
        "      request.raise_for_status()\n",
        "      #questions_text += request.text\n",
        "      try:\n",
        "        soup = bs(request.text, 'html.parser')\n",
        "        soup_selection.append(soup.select('.'+selector))\n",
        "      except: print (\"Could not transform to soup object by selecting \",selector)\n",
        "    except HTTPError:\n",
        "      print (\"Could not download page \", page)\n",
        "\n",
        "    sleep(0.05)\n",
        "\n",
        "  return soup_selection\n"
      ],
      "execution_count": 122,
      "outputs": []
    },
    {
      "cell_type": "code",
      "metadata": {
        "id": "s_R5A2tBAqrW",
        "colab_type": "code",
        "colab": {
          "base_uri": "https://localhost:8080/",
          "height": 34
        },
        "outputId": "85f23f4b-eef5-41ea-b3e5-4421a09a9cd1"
      },
      "source": [
        "questions_overview_raw = read_stackoverflow_overview(tags=['python','django'],tab='Frequent',selector='question-summary', pages=2)\n",
        "type(questions_overview_raw)"
      ],
      "execution_count": 123,
      "outputs": [
        {
          "output_type": "execute_result",
          "data": {
            "text/plain": [
              "list"
            ]
          },
          "metadata": {
            "tags": []
          },
          "execution_count": 123
        }
      ]
    },
    {
      "cell_type": "markdown",
      "metadata": {
        "id": "21u58D6xwFkU",
        "colab_type": "text"
      },
      "source": [
        "#Transformação do dado cru coletado do Stackoverflow em dicionário\n",
        "**questions_overview(questions_overview_raw)**\n",
        "\n",
        "O dicionário deve conter a visão geral das perguntas do stackoverflow, com:\n",
        "\n",
        "* link\n",
        "* brief_description\n",
        "* votes\n",
        "* views"
      ]
    },
    {
      "cell_type": "markdown",
      "metadata": {
        "id": "6Fj83JnZmFtH",
        "colab_type": "text"
      },
      "source": [
        "###Análise do padrão da página HTML para captura de informações relevantes:\n",
        "\n",
        "Em \"question-summary\", temos as seguintes informações relevantes:\n",
        "\n",
        "1.   class = statscontainer, com:\n",
        "*   Número de votos em class=\"vote-count-post \"\n",
        ">```<span class=\"vote-count-post high-scored-post\"><strong>2473</strong></span>```\n",
        "\n",
        "*   Número de respostas aceitas em class=\"status answered-accepted\" \n",
        ">```<div class=\"status answered-accepted\"><strong>23</strong>answers</div>```\n",
        "\n",
        "*   Conteúdo e Title contendo quantidade de views em class=\"views supernova\" \n",
        ">```<div class=\"views supernova\" title=\"307,292 views\">307k views</div>```\n",
        "\n",
        "2.   class = summary, com:\n",
        "* class=\"question-hyperlink\" contendo em *href* parte do link para compor link de acesso à página detalhada da pergunta e Título da pergunta\n",
        ">``` <a href=\"/questions/15112125/how-to-test-multiple-variables-against-a-value\" class=\"question-hyperlink\">How to test multiple variables against a value?</a>```\n",
        "\n",
        "*   Breve resumo em class=\"excerpt\"\n",
        ">```<div class=\"excerpt\"> brief description of the question ...</div>```\n",
        "\n",
        "*   Tags em class=\"post-tag\"\n",
        ">```<a href=\"/questions/tagged/python\" class=\"post-tag\" title=\"show questions tagged 'python'\" rel=\"tag\">python</a>```\n",
        "\n",
        "\n",
        "\n"
      ]
    },
    {
      "cell_type": "code",
      "metadata": {
        "id": "DEQEhGyPCfX2",
        "colab_type": "code",
        "colab": {}
      },
      "source": [
        "def questions_overview(questions_overview_raw):\n",
        "  questions_overview = { \"questions\":[]}\n",
        "  for soups in questions_overview_raw:\n",
        "    for q in soups:\n",
        "      q_title = q.select_one('.question-hyperlink').getText()\n",
        "      q_link = 'https://stackoverflow.com'+q.select_one('.question-hyperlink').get('href')\n",
        "      q_summary = q.select_one('.excerpt').getText()\n",
        "      q_vote_count =  q.select_one('.vote-count-post').getText()\n",
        "      #q_answered_accepted = q.select_one(\".answered-accepted.mini-counts\").getText()\n",
        "      q_views =  q.select_one('.views').attrs['title']\n",
        "      q_tags = []\n",
        "      for tag in q.select('.post-tag'): q_tags.append(tag.getText())\n",
        "\n",
        "      questions_overview['questions'].append({\n",
        "          'title': q_title,\n",
        "          'link': q_link,\n",
        "          'summary': q_summary,\n",
        "          'vote_count': q_vote_count,\n",
        "          'views': q_views,\n",
        "          'tags': q_tags,\n",
        "      })\n",
        "  \n",
        "  return questions_overview"
      ],
      "execution_count": 148,
      "outputs": []
    },
    {
      "cell_type": "code",
      "metadata": {
        "id": "NzPT8KArDl4e",
        "colab_type": "code",
        "colab": {
          "base_uri": "https://localhost:8080/",
          "height": 34
        },
        "outputId": "73569dfc-701f-4dbc-eff2-af0aadefce80"
      },
      "source": [
        "questions_dic = questions_overview(questions_overview_raw)\n",
        "type(questions_dic)"
      ],
      "execution_count": 149,
      "outputs": [
        {
          "output_type": "execute_result",
          "data": {
            "text/plain": [
              "dict"
            ]
          },
          "metadata": {
            "tags": []
          },
          "execution_count": 149
        }
      ]
    },
    {
      "cell_type": "markdown",
      "metadata": {
        "id": "feA0REYGN3cg",
        "colab_type": "text"
      },
      "source": [
        "#Exemplos de como acessar a informação no dicionário:"
      ]
    },
    {
      "cell_type": "code",
      "metadata": {
        "id": "YhPPA_TmYceK",
        "colab_type": "code",
        "colab": {
          "base_uri": "https://localhost:8080/",
          "height": 322
        },
        "outputId": "8669155f-f142-4f54-fdc6-645e352349d6"
      },
      "source": [
        "print('Lista com links: ',[q['link'] for q in questions_dic['questions']])\n",
        "\n",
        "print('\\n Acesso a dados de um link específico\\n--- Link: ',questions_dic['questions'][49]['link'])\n",
        "\n",
        "print('\\n--- Título: ', questions_dic['questions'][49]['title'])\n",
        "\n",
        "print('\\n--- Breve Descrição: ', questions_dic['questions'][49]['summary'])\n",
        "\n",
        "print('\\n--- Contagem de votos: ', questions_dic['questions'][49]['vote_count'])\n",
        "\n",
        "print('\\n--- Contagem de visualizações: ', questions_dic['questions'][49]['views'])\n",
        "\n",
        "print('\\n--- Lista como tags: ', questions_dic['questions'][49]['tags'])\n",
        "\n",
        "len(questions_dic['questions'])"
      ],
      "execution_count": 158,
      "outputs": [
        {
          "output_type": "stream",
          "text": [
            "Lista com links:  ['https://stackoverflow.com/questions/23708898/pip-is-not-recognized-as-an-internal-or-external-command', 'https://stackoverflow.com/questions/573618/set-up-a-scheduled-job', 'https://stackoverflow.com/questions/8000022/django-template-how-to-look-up-a-dictionary-value-with-a-variable', 'https://stackoverflow.com/questions/5100539/django-csrf-check-failing-with-an-ajax-post-request', 'https://stackoverflow.com/questions/8609192/differentiate-null-true-blank-true-in-django', 'https://stackoverflow.com/questions/1156246/having-django-serve-downloadable-files', 'https://stackoverflow.com/questions/2428092/creating-a-json-response-using-django-and-python', 'https://stackoverflow.com/questions/7446187/no-module-named-pkg-resources', 'https://stackoverflow.com/questions/2642613/what-is-related-name-used-for-in-django', 'https://stackoverflow.com/questions/20306981/how-do-i-integrate-ajax-with-django-applications', 'https://stackoverflow.com/questions/629551/how-to-query-as-group-by-in-django', 'https://stackoverflow.com/questions/298772/django-template-variables-and-javascript', 'https://stackoverflow.com/questions/7933596/django-dynamic-model-fields', 'https://stackoverflow.com/questions/1395807/proper-way-to-handle-multiple-forms-on-one-page-in-django', 'https://stackoverflow.com/questions/291945/how-do-i-filter-foreignkey-choices-in-a-django-modelform', 'https://stackoverflow.com/questions/6583877/how-to-override-and-extend-basic-django-admin-templates', 'https://stackoverflow.com/questions/1626326/how-to-manage-local-vs-production-settings-in-django', 'https://stackoverflow.com/questions/4668619/how-do-i-filter-query-objects-by-date-range-in-django', 'https://stackoverflow.com/questions/6791911/execute-code-when-django-starts-once-only', 'https://stackoverflow.com/questions/5895588/django-multivaluedictkeyerror-error-how-do-i-deal-with-it', 'https://stackoverflow.com/questions/38744285/django-urls-typeerror-view-must-be-a-callable-or-a-list-tuple-in-the-case-of-in', 'https://stackoverflow.com/questions/427102/what-is-a-slug-in-django', 'https://stackoverflow.com/questions/13866926/is-there-a-list-of-pytz-timezones', 'https://stackoverflow.com/questions/26646362/numpy-array-is-not-json-serializable', 'https://stackoverflow.com/questions/4581789/how-do-i-get-user-ip-address-in-django', 'https://stackoverflow.com/questions/2170228/iterate-over-model-instance-field-names-and-values-in-template', 'https://stackoverflow.com/questions/29950956/drf-simple-foreign-key-assignment-with-nested-serializers', 'https://stackoverflow.com/questions/454854/no-module-named-mysqldb', 'https://stackoverflow.com/questions/622982/django-passing-custom-form-parameters-to-formset', 'https://stackoverflow.com/questions/35760943/how-can-i-enable-cors-on-django-rest-framework', 'https://stackoverflow.com/questions/21925671/convert-django-model-object-to-dict-with-all-of-the-fields-intact', 'https://stackoverflow.com/questions/3419997/creating-a-dynamic-choice-field', 'https://stackoverflow.com/questions/929029/how-do-i-access-the-child-classes-of-an-object-in-django-without-knowing-the-nam', 'https://stackoverflow.com/questions/4269605/django-override-save-for-model', 'https://stackoverflow.com/questions/886221/does-django-scale', 'https://stackoverflow.com/questions/1118183/how-to-debug-in-django-the-good-way', 'https://stackoverflow.com/questions/1308386/programmatically-saving-image-to-django-imagefield', 'https://stackoverflow.com/questions/1190697/django-filefield-with-upload-to-determined-at-runtime', 'https://stackoverflow.com/questions/604266/django-set-default-form-values', 'https://stackoverflow.com/questions/1275735/how-to-access-a-dictionary-element-in-a-django-template', 'https://stackoverflow.com/questions/8618068/django-filter-queryset-in-for-every-item-in-list', 'https://stackoverflow.com/questions/5074803/retrieving-parameters-from-a-url', 'https://stackoverflow.com/questions/25537905/django-1-7-throws-django-core-exceptions-appregistrynotready-models-arent-load', 'https://stackoverflow.com/questions/1737017/django-auto-now-and-auto-now-add', 'https://stackoverflow.com/questions/38601/using-django-time-date-widgets-in-custom-form', 'https://stackoverflow.com/questions/2546207/does-sqlalchemy-have-an-equivalent-of-djangos-get-or-create', 'https://stackoverflow.com/questions/6578986/how-to-convert-json-data-into-a-python-object', 'https://stackoverflow.com/questions/163823/can-list-display-in-a-django-modeladmin-display-attributes-of-foreignkey-field', 'https://stackoverflow.com/questions/1205375/filter-by-property', 'https://stackoverflow.com/questions/569468/django-multiple-models-in-one-template-using-forms', 'https://stackoverflow.com/questions/6142025/dynamically-add-field-to-a-form', 'https://stackoverflow.com/questions/844746/performing-a-getattr-style-lookup-in-a-django-template', 'https://stackoverflow.com/questions/2268417/expire-a-view-cache-in-django', 'https://stackoverflow.com/questions/31237042/whats-the-difference-between-select-related-and-prefetch-related-in-django-orm', 'https://stackoverflow.com/questions/2223375/multiple-modeladmins-views-for-same-model-in-django-admin', 'https://stackoverflow.com/questions/991926/custom-filter-in-django-admin-on-django-1-3-or-below', 'https://stackoverflow.com/questions/32088702/using-django-for-cli-tool', 'https://stackoverflow.com/questions/310732/in-django-how-does-one-filter-a-queryset-with-dynamic-field-lookups', 'https://stackoverflow.com/questions/852414/how-to-dynamically-compose-an-or-query-filter-in-django', 'https://stackoverflow.com/questions/2459979/how-to-import-csv-data-into-django-models', 'https://stackoverflow.com/questions/9626535/get-protocol-host-name-from-url', 'https://stackoverflow.com/questions/2979369/databaseerror-current-transaction-is-aborted-commands-ignored-until-end-of-tra', 'https://stackoverflow.com/questions/1057252/how-do-i-access-the-request-object-or-any-other-variable-in-a-forms-clean-met', 'https://stackoverflow.com/questions/1479776/too-many-values-to-unpack-exception', 'https://stackoverflow.com/questions/806835/django-redirect-to-previous-page-after-login', 'https://stackoverflow.com/questions/19128540/django-improperlyconfigured-the-secret-key-setting-must-not-be-empty', 'https://stackoverflow.com/questions/42989471/run-debug-a-django-applications-unittests-from-the-mouse-right-click-context', 'https://stackoverflow.com/questions/1377446/render-html-to-pdf-in-django-site', 'https://stackoverflow.com/questions/3287038/cron-and-virtualenv', 'https://stackoverflow.com/questions/15556499/django-db-settings-improperly-configured-error', 'https://stackoverflow.com/questions/962619/how-to-pull-a-random-record-using-djangos-orm', 'https://stackoverflow.com/questions/24022558/differences-between-staticfiles-dir-static-root-and-media-root', 'https://stackoverflow.com/questions/4733609/how-do-i-clone-a-django-model-instance-object-and-save-it-to-the-database', 'https://stackoverflow.com/questions/3346124/how-do-i-force-django-to-ignore-any-caches-and-reload-data', 'https://stackoverflow.com/questions/18156452/django-csrf-token-angularjs', 'https://stackoverflow.com/questions/42708389/how-to-set-environment-variables-in-pycharm', 'https://stackoverflow.com/questions/34114427/django-upgrading-to-1-9-error-appregistrynotready-apps-arent-loaded-yet', 'https://stackoverflow.com/questions/12165636/django-aggregation-summation-of-multiplication-of-two-fields', 'https://stackoverflow.com/questions/12578908/separation-of-business-logic-and-data-access-in-django', 'https://stackoverflow.com/questions/16853649/how-to-execute-a-python-script-from-the-django-shell', 'https://stackoverflow.com/questions/866272/how-can-i-build-multiple-submit-buttons-django-form', 'https://stackoverflow.com/questions/2771676/django-datetime-issues-default-datetime-now', 'https://stackoverflow.com/questions/1393202/django-add-image-in-an-imagefield-from-image-url', 'https://stackoverflow.com/questions/25459386/mac-os-x-environmenterror-mysql-config-not-found', 'https://stackoverflow.com/questions/2770810/multiple-models-in-a-single-django-modelform', 'https://stackoverflow.com/questions/14351048/django-optional-url-parameters', 'https://stackoverflow.com/questions/28036404/django-rest-framework-upload-image-the-submitted-data-was-not-a-file', 'https://stackoverflow.com/questions/2216974/django-modelform-for-many-to-many-fields', 'https://stackoverflow.com/questions/3748295/getting-the-sql-from-a-django-queryset', 'https://stackoverflow.com/questions/908258/generating-file-to-download-with-django', 'https://stackoverflow.com/questions/1317714/how-can-i-filter-a-date-of-a-datetimefield-in-django', 'https://stackoverflow.com/questions/275174/how-do-i-perform-html-decoding-encoding-using-python-django', 'https://stackoverflow.com/questions/2922874/how-to-stream-an-httpresponse-with-django', 'https://stackoverflow.com/questions/7514964/django-how-to-create-a-file-and-save-it-to-a-models-filefield', 'https://stackoverflow.com/questions/4651172/reference-list-item-by-index-within-django-template', 'https://stackoverflow.com/questions/17716624/django-csrf-cookie-not-set', 'https://stackoverflow.com/questions/26697565/django-smtpauthenticationerror', 'https://stackoverflow.com/questions/6367014/how-to-send-email-via-django', 'https://stackoverflow.com/questions/2201598/how-to-define-two-fields-unique-as-couple', 'https://stackoverflow.com/questions/17256724/include-intermediary-through-model-in-responses-in-django-rest-framework']\n",
            "\n",
            " Acesso a dados de um link específico\n",
            "--- Link:  https://stackoverflow.com/questions/569468/django-multiple-models-in-one-template-using-forms\n",
            "\n",
            "--- Título:  Django: multiple models in one template using forms [closed]\n",
            "\n",
            "--- Breve Descrição:  \r\n",
            "            I'm building a support ticket tracking app and have a few models I'd like to create from one page. Tickets belong to a Customer via a ForeignKey. Notes belong to Tickets via a ForeignKey as well. I'd ...\r\n",
            "        \n",
            "\n",
            "--- Contagem de votos:  112\n",
            "\n",
            "--- Contagem de visualizações:  96,235 views\n",
            "\n",
            "--- Lista como tags:  ['python', 'django', 'django-forms']\n"
          ],
          "name": "stdout"
        },
        {
          "output_type": "execute_result",
          "data": {
            "text/plain": [
              "100"
            ]
          },
          "metadata": {
            "tags": []
          },
          "execution_count": 158
        }
      ]
    },
    {
      "cell_type": "markdown",
      "metadata": {
        "id": "_rFjl4HKL2is",
        "colab_type": "text"
      },
      "source": [
        "Próximos passos:\n",
        "\n",
        "\n",
        "1.   Enriquecer questions_dic com a informação detalhada da pergunta e conteúdo da resposta com melhor avaliação\n",
        "2.   Limpar dados em questions_dic para remover caracteres irrelevantes, como: \\n, \\t, artigos, pronomes\n",
        "\n"
      ]
    },
    {
      "cell_type": "code",
      "metadata": {
        "id": "6I2PouNgMTo-",
        "colab_type": "code",
        "colab": {}
      },
      "source": [
        ""
      ],
      "execution_count": null,
      "outputs": []
    }
  ]
}