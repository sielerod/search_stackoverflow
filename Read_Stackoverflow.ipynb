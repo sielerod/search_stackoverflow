{
  "nbformat": 4,
  "nbformat_minor": 0,
  "metadata": {
    "colab": {
      "name": "Read_Stackoverflow.ipynb",
      "provenance": [],
      "collapsed_sections": [],
      "authorship_tag": "ABX9TyOp1rsmiNt3EkR6yHiOixxe",
      "include_colab_link": true
    },
    "kernelspec": {
      "name": "python3",
      "display_name": "Python 3"
    }
  },
  "cells": [
    {
      "cell_type": "markdown",
      "metadata": {
        "id": "view-in-github",
        "colab_type": "text"
      },
      "source": [
        "<a href=\"https://colab.research.google.com/github/sielerod/search_stackoverflow/blob/master/Read_Stackoverflow.ipynb\" target=\"_parent\"><img src=\"https://colab.research.google.com/assets/colab-badge.svg\" alt=\"Open In Colab\"/></a>"
      ]
    },
    {
      "cell_type": "markdown",
      "metadata": {
        "id": "OhI60Te7lUP1",
        "colab_type": "text"
      },
      "source": [
        "#**Objetivo:**   \n",
        "* Capturar as perguntas mais frequentes sobre Python no stackoverflow\n",
        "* Armazenar para cada pergunta: link, breve descrição da pergunta, quantidade de votos e visualizações, pergunta, respostas com melhor avaliação\n",
        "\n",
        "\n",
        "**Fonte:** https://stackoverflow.com/questions/\n"
      ]
    },
    {
      "cell_type": "code",
      "metadata": {
        "id": "3JZuPTov-ayO",
        "colab_type": "code",
        "colab": {}
      },
      "source": [
        "import requests # Getting Webpage content\n",
        "from requests.exceptions import HTTPError\n",
        "from bs4 import BeautifulSoup as bs # Scraping webpages\n",
        "from time import sleep\n"
      ],
      "execution_count": 103,
      "outputs": []
    },
    {
      "cell_type": "markdown",
      "metadata": {
        "id": "3pe2opv4SYoR",
        "colab_type": "text"
      },
      "source": [
        "#Leitura do dado cru no Stackoverflow\n",
        "**read_stackoverflow_overview(tags=[], tab='Frequent', selector='question-summary', pages)**\n",
        "\n",
        "Leitura do resumo das perguntas mais frequentes no stackoverflow com base em alguns parâmetros de busca. \n",
        "\n",
        "Retorna um objeto requests contendo o resultado de requests.get\n",
        "\n",
        "* tags: argumento opcional com lista  de strings contendo os tipos de pergunta para seleação. Ex.: ['python', 'php', 'javascript']\n",
        ">ex. de URL para página com mais de 1 tag: https://stackoverflow.com/questions/tagged/sql+sql-server?tab=Frequent\n",
        "\n",
        "* tab: string com tipo de ordenação a ser aplicado, pode ser:\n",
        "'Frequent' (opção default), 'Votes', 'Unanswered', 'Bounties', 'Active', 'Newest'\n",
        "\n",
        "* Selector: seleção dos trechos do html a serem retornados. Por default, será question-summary\n",
        "\n",
        "* pages: número de páginas para leitura\n",
        "\n"
      ]
    },
    {
      "cell_type": "code",
      "metadata": {
        "id": "XYnP7RwH0h9O",
        "colab_type": "code",
        "colab": {}
      },
      "source": [
        "def read_stackoverflow_overview(tags=[], tab='Frequent', selector='question-summary', pages=5):\n",
        "  link = 'https://stackoverflow.com/questions'\n",
        "\n",
        "  if tags:\n",
        "    tags_link = '/tagged/'\n",
        "    pre=''\n",
        "    for t in tags:\n",
        "      tags_link += pre + t\n",
        "      pre = '+' \n",
        "    link += tags_link\n",
        "\n",
        "  link += '?tab='+tab\n",
        "\n",
        "  questions_text = ''\n",
        "  soup_selection = []\n",
        "  for page in range(1,pages+1):\n",
        "    page_link = '&page='+str(page)\n",
        "\n",
        "    try:\n",
        "      request = requests.get(link+page_link)\n",
        "      request.raise_for_status()\n",
        "      #questions_text += request.text\n",
        "      try:\n",
        "        soup = bs(request.text, 'html.parser')\n",
        "        soup_selection.append(soup.select('.'+selector))\n",
        "      except: print (\"Could not transform to soup object by selecting \",selector)\n",
        "    except HTTPError:\n",
        "      print (\"Could not download page \", page)\n",
        "\n",
        "    sleep(0.05)\n",
        "\n",
        "  return soup_selection\n"
      ],
      "execution_count": 122,
      "outputs": []
    },
    {
      "cell_type": "code",
      "metadata": {
        "id": "s_R5A2tBAqrW",
        "colab_type": "code",
        "colab": {
          "base_uri": "https://localhost:8080/",
          "height": 34
        },
        "outputId": "85f23f4b-eef5-41ea-b3e5-4421a09a9cd1"
      },
      "source": [
        "questions_overview_raw = read_stackoverflow_overview(tags=['python','django'],tab='Frequent',selector='question-summary', pages=2)\n",
        "type(questions_overview_raw)"
      ],
      "execution_count": 123,
      "outputs": [
        {
          "output_type": "execute_result",
          "data": {
            "text/plain": [
              "list"
            ]
          },
          "metadata": {
            "tags": []
          },
          "execution_count": 123
        }
      ]
    },
    {
      "cell_type": "markdown",
      "metadata": {
        "id": "21u58D6xwFkU",
        "colab_type": "text"
      },
      "source": [
        "#Transformação do dado cru coletado do Stackoverflow em dicionário\n",
        "**questions_overview(questions_overview_raw)**\n",
        "\n",
        "O dicionário deve conter a visão geral das perguntas do stackoverflow, com:\n",
        "\n",
        "* link\n",
        "* brief_description\n",
        "* votes\n",
        "* views"
      ]
    },
    {
      "cell_type": "markdown",
      "metadata": {
        "id": "6Fj83JnZmFtH",
        "colab_type": "text"
      },
      "source": [
        "###Análise do padrão da página HTML para captura de informações relevantes:\n",
        "\n",
        "Em \"question-summary\", temos as seguintes informações relevantes:\n",
        "\n",
        "1.   class = statscontainer, com:\n",
        "*   Número de votos em class=\"vote-count-post \"\n",
        ">```<span class=\"vote-count-post high-scored-post\"><strong>2473</strong></span>```\n",
        "\n",
        "*   Número de respostas aceitas em class=\"status answered-accepted\" \n",
        ">```<div class=\"status answered-accepted\"><strong>23</strong>answers</div>```\n",
        "\n",
        "*   Conteúdo e Title contendo quantidade de views em class=\"views supernova\" \n",
        ">```<div class=\"views supernova\" title=\"307,292 views\">307k views</div>```\n",
        "\n",
        "2.   class = summary, com:\n",
        "* class=\"question-hyperlink\" contendo em *href* parte do link para compor link de acesso à página detalhada da pergunta e Título da pergunta\n",
        ">``` <a href=\"/questions/15112125/how-to-test-multiple-variables-against-a-value\" class=\"question-hyperlink\">How to test multiple variables against a value?</a>```\n",
        "\n",
        "*   Breve resumo em class=\"excerpt\"\n",
        ">```<div class=\"excerpt\"> brief description of the question ...</div>```\n",
        "\n",
        "*   Tags em class=\"post-tag\"\n",
        ">```<a href=\"/questions/tagged/python\" class=\"post-tag\" title=\"show questions tagged 'python'\" rel=\"tag\">python</a>```\n",
        "\n",
        "\n",
        "\n"
      ]
    },
    {
      "cell_type": "code",
      "metadata": {
        "id": "DEQEhGyPCfX2",
        "colab_type": "code",
        "colab": {}
      },
      "source": [
        "def questions_overview(questions_overview_raw):\n",
        "  questions_overview = { \"questions\":[]}\n",
        "  for soups in questions_overview_raw:\n",
        "    for q in soups:\n",
        "      q_title = q.select_one('.question-hyperlink').getText()\n",
        "      q_link = 'https://stackoverflow.com'+q.select_one('.question-hyperlink').get('href')\n",
        "      q_summary = q.select_one('.excerpt').getText()\n",
        "      q_vote_count =  q.select_one('.vote-count-post').getText()\n",
        "      #q_answered_accepted = q.select_one(\".answered-accepted.mini-counts\").getText()\n",
        "      q_views =  q.select_one('.views').attrs['title']\n",
        "      q_tags = []\n",
        "      for tag in q.select('.post-tag'): q_tags.append(tag.getText())\n",
        "\n",
        "      questions_overview['questions'].append({\n",
        "          'title': q_title,\n",
        "          'link': q_link,\n",
        "          'summary': q_summary,\n",
        "          'vote_count': q_vote_count,\n",
        "          'views': q_views,\n",
        "          'tags': q_tags,\n",
        "      })\n",
        "  \n",
        "  print(questions_overview)\n",
        "  return questions_overview"
      ],
      "execution_count": 132,
      "outputs": []
    },
    {
      "cell_type": "code",
      "metadata": {
        "id": "NzPT8KArDl4e",
        "colab_type": "code",
        "colab": {
          "base_uri": "https://localhost:8080/",
          "height": 70
        },
        "outputId": "ef3581ea-bf4f-4e30-e8c1-1dbd8057f0f1"
      },
      "source": [
        "questions_dic = questions_overview(questions_overview_raw)\n",
        "type(questions_dic)"
      ],
      "execution_count": 143,
      "outputs": [
        {
          "output_type": "stream",
          "text": [
            "{'questions': [{'title': \"'pip' is not recognized as an internal or external command\", 'link': 'https://stackoverflow.com/questions/23708898/pip-is-not-recognized-as-an-internal-or-external-command', 'summary': \"\\r\\n            I'm running into a weird error when trying to install Django on my computer.\\n\\nThis is the sequence that I typed into my command line:\\n\\nC:\\\\Python34>python get-pip.py\\nRequirement already up-to-date: ...\\r\\n        \", 'vote_count': '337', 'views': '1,026,433 views', 'tags': ['python', 'django', 'windows', 'pip']}, {'title': 'Set up a scheduled job?', 'link': 'https://stackoverflow.com/questions/573618/set-up-a-scheduled-job', 'summary': \"\\r\\n            I've been working on a web app using Django, and I'm curious if there is a way to schedule a job to run periodically. \\n\\nBasically I just want to run through the database and make some calculations/...\\r\\n        \", 'vote_count': '520', 'views': '168,490 views', 'tags': ['python', 'django', 'web-applications', 'scheduled-tasks']}, {'title': 'Django template how to look up a dictionary value with a variable', 'link': 'https://stackoverflow.com/questions/8000022/django-template-how-to-look-up-a-dictionary-value-with-a-variable', 'summary': '\\r\\n            mydict = {\"key1\":\"value1\", \"key2\":\"value2\"}\\r\\nThe regular way to lookup a dictionary value in a Django template is {{ mydict.key1 }},  {{ mydict.key2 }}. What if the key is a loop variable? ie:\\n\\n{% for ...\\r\\n        ', 'vote_count': '234', 'views': '140,922 views', 'tags': ['python', 'django', 'templates', 'dictionary']}, {'title': 'Django CSRF check failing with an Ajax POST request', 'link': 'https://stackoverflow.com/questions/5100539/django-csrf-check-failing-with-an-ajax-post-request', 'summary': \"\\r\\n            I could use some help complying with Django's CSRF protection mechanism via my AJAX post. I've followed the directions here:\\n\\nhttp://docs.djangoproject.com/en/dev/ref/contrib/csrf/\\n\\nI've copied the ...\\r\\n        \", 'vote_count': '179', 'views': '149,854 views', 'tags': ['python', 'ajax', 'django', 'csrf']}, {'title': 'differentiate null=True, blank=True in django', 'link': 'https://stackoverflow.com/questions/8609192/differentiate-null-true-blank-true-in-django', 'summary': '\\r\\n            When we add a database field in django we generally write:\\n\\nmodels.CharField(max_length=100, null=True, blank=True)\\r\\nThe same is done with ForeignKey, DecimalField etc. What is the basic difference in ...\\r\\n        ', 'vote_count': '911', 'views': '254,924 views', 'tags': ['python', 'django', 'django-models']}, {'title': 'Having Django serve downloadable files', 'link': 'https://stackoverflow.com/questions/1156246/having-django-serve-downloadable-files', 'summary': \"\\r\\n            I want users on the site to be able to download files whose paths are obscured so they cannot be directly downloaded.\\n\\nFor instance, I'd like the URL to be something like this: http://example.com/...\\r\\n        \", 'vote_count': '245', 'views': '155,441 views', 'tags': ['python', 'django', 'django-authentication']}, {'title': 'Creating a JSON response using Django and Python', 'link': 'https://stackoverflow.com/questions/2428092/creating-a-json-response-using-django-and-python', 'summary': \"\\r\\n            I'm trying to convert a server side Ajax response script into a Django HttpResponse, but apparently it's not working.\\n\\nThis is the server-side script:\\n\\n/* RECEIVE VALUE */\\n$validateValue=$_POST['...\\r\\n        \", 'vote_count': '454', 'views': '503,523 views', 'tags': ['python', 'django', 'json']}, {'title': 'No module named pkg_resources', 'link': 'https://stackoverflow.com/questions/7446187/no-module-named-pkg-resources', 'summary': '\\r\\n            I\\'m deploying a Django app to a dev server and am hitting this error when I run pip install -r requirements.txt:\\n\\nTraceback (most recent call last):\\n  File \"/var/www/mydir/virtualenvs/dev/bin/pip\", ...\\r\\n        ', 'vote_count': '452', 'views': '486,187 views', 'tags': ['python', 'django', 'virtualenv', 'setuptools', 'pip']}, {'title': 'What is `related_name` used for in Django?', 'link': 'https://stackoverflow.com/questions/2642613/what-is-related-name-used-for-in-django', 'summary': \"\\r\\n            What is the related_name argument useful for on ManyToManyField and ForeignKey fields? For example, given the following code, what is the effect of related_name='maps'?\\n\\nclass Map(db.Model):\\n    ...\\r\\n        \", 'vote_count': '393', 'views': '201,735 views', 'tags': ['python', 'django', 'many-to-many', 'foreign-key-relationship']}, {'title': 'How do I integrate Ajax with Django applications?', 'link': 'https://stackoverflow.com/questions/20306981/how-do-i-integrate-ajax-with-django-applications', 'summary': '\\r\\n            I am new to Django and pretty new to Ajax. I am working on a project where I need to integrate the two. I believe that I understand the principles behind them both, but have not found a good ...\\r\\n        ', 'vote_count': '264', 'views': '92,032 views', 'tags': ['python', 'ajax', 'django']}, {'title': 'How to query as GROUP BY in django?', 'link': 'https://stackoverflow.com/questions/629551/how-to-query-as-group-by-in-django', 'summary': '\\r\\n            I query a model:\\n\\nMembers.objects.all()\\r\\nAnd it returns:\\n\\nEric, Salesman, X-Shop\\nFreddie, Manager, X2-Shop\\nTeddy, Salesman, X2-Shop\\nSean, Manager, X2-Shop\\r\\nWhat I want is to know the best Django way ...\\r\\n        ', 'vote_count': '333', 'views': '294,673 views', 'tags': ['python', 'django', 'django-models']}, {'title': 'Django Template Variables and Javascript', 'link': 'https://stackoverflow.com/questions/298772/django-template-variables-and-javascript', 'summary': '\\r\\n            When I render a page using the Django template renderer, I can pass in a dictionary variable containing various values to manipulate them in the page using {{ myVar }}.\\n\\nIs there a way to access the ...\\r\\n        ', 'vote_count': '219', 'views': '215,896 views', 'tags': ['javascript', 'python', 'django', 'google-app-engine', 'django-templates']}, {'title': 'Django dynamic model fields', 'link': 'https://stackoverflow.com/questions/7933596/django-dynamic-model-fields', 'summary': \"\\r\\n            I'm working on a multi-tenanted application in which some users can define their own data fields (via the admin) to collect additional data in forms and report on the data.  The latter bit makes ...\\r\\n        \", 'vote_count': '161', 'views': '64,165 views', 'tags': ['python', 'django', 'dynamic', 'django-models', 'django-custom-manager']}, {'title': 'Proper way to handle multiple forms on one page in Django', 'link': 'https://stackoverflow.com/questions/1395807/proper-way-to-handle-multiple-forms-on-one-page-in-django', 'summary': \"\\r\\n            I have a template page expecting two forms.  If I just use one form, things are fine as in this typical example:\\n\\nif request.method == 'POST':\\n    form = AuthorForm(request.POST,)\\n    if form.is_valid(...\\r\\n        \", 'vote_count': '200', 'views': '147,915 views', 'tags': ['python', 'django', 'forms']}, {'title': 'How do I filter ForeignKey choices in a Django ModelForm?', 'link': 'https://stackoverflow.com/questions/291945/how-do-i-filter-foreignkey-choices-in-a-django-modelform', 'summary': '\\r\\n            Say I have the following in my models.py:\\n\\nclass Company(models.Model):\\n   name = ...\\n\\nclass Rate(models.Model):\\n   company = models.ForeignKey(Company)\\n   name = ...\\n\\nclass Client(models.Model):\\n   ...\\r\\n        ', 'vote_count': '227', 'views': '137,324 views', 'tags': ['python', 'django', 'django-forms']}, {'title': 'How to override and extend basic Django admin templates?', 'link': 'https://stackoverflow.com/questions/6583877/how-to-override-and-extend-basic-django-admin-templates', 'summary': '\\r\\n            How do I override an admin template (e.g. admin/index.html) while at the same time extending it (see https://docs.djangoproject.com/en/dev/ref/contrib/admin/#overriding-vs-replacing-an-admin-template)?...\\r\\n        ', 'vote_count': '123', 'views': '158,168 views', 'tags': ['python', 'django', 'django-admin']}, {'title': 'How to manage local vs production settings in Django?', 'link': 'https://stackoverflow.com/questions/1626326/how-to-manage-local-vs-production-settings-in-django', 'summary': '\\r\\n            What is the recommended way of handling settings for local development and the production server? Some of them (like constants, etc) can be changed/accessed in both, but some of them (like paths to ...\\r\\n        ', 'vote_count': '298', 'views': '100,908 views', 'tags': ['python', 'django', 'deployment']}, {'title': 'How do I filter query objects by date range in Django?', 'link': 'https://stackoverflow.com/questions/4668619/how-do-i-filter-query-objects-by-date-range-in-django', 'summary': \"\\r\\n            I've got a field in one model like:\\n\\nclass Sample(models.Model):\\n    date = fields.DateField(auto_now=False)\\r\\nNow, I need to filter the objects by a date range.\\n\\nHow do I filter all the objects that ...\\r\\n        \", 'vote_count': '248', 'views': '268,411 views', 'tags': ['python', 'django', 'django-models', 'django-queryset']}, {'title': 'Execute code when Django starts ONCE only?', 'link': 'https://stackoverflow.com/questions/6791911/execute-code-when-django-starts-once-only', 'summary': '\\r\\n            I\\'m writing a Django Middleware class that I want to execute only once at startup, to initialise some other arbritary code. I\\'ve followed the very nice solution posted by sdolan here, but the \"Hello\" ...\\r\\n        ', 'vote_count': '176', 'views': '80,006 views', 'tags': ['python', 'django']}, {'title': 'django MultiValueDictKeyError error, how do I deal with it', 'link': 'https://stackoverflow.com/questions/5895588/django-multivaluedictkeyerror-error-how-do-i-deal-with-it', 'summary': \"\\r\\n            I'm trying to save a object to my database, but it's throwing a MultiValueDictKeyError error.\\n\\nThe problems lies within the form, the is_private is represented by a checkbox. If the check box is NOT ...\\r\\n        \", 'vote_count': '171', 'views': '222,861 views', 'tags': ['python', 'django', 'exception']}, {'title': 'Django URLs TypeError: view must be a callable or a list/tuple in the case of include()', 'link': 'https://stackoverflow.com/questions/38744285/django-urls-typeerror-view-must-be-a-callable-or-a-list-tuple-in-the-case-of-in', 'summary': '\\r\\n            After upgrading to Django 1.10, I get the error:\\n\\nTypeError: view must be a callable or a list/tuple in the case of include().\\r\\nMy urls.py is as follows:\\n\\nfrom django.conf.urls import include, url\\n\\n...\\r\\n        ', 'vote_count': '111', 'views': '91,992 views', 'tags': ['python', 'django', 'django-urls', 'django-1.10']}, {'title': 'What is a “slug” in Django?', 'link': 'https://stackoverflow.com/questions/427102/what-is-a-slug-in-django', 'summary': '\\r\\n            When I read Django code I often see in models what is called a \"slug\". I am not quite sure what this is, but I do know it has something to do with URLs. How and when is this slug-thing supposed to be ...\\r\\n        ', 'vote_count': '591', 'views': '167,414 views', 'tags': ['python', 'django', 'django-models', 'slug']}, {'title': 'Is there a list of Pytz Timezones?', 'link': 'https://stackoverflow.com/questions/13866926/is-there-a-list-of-pytz-timezones', 'summary': '\\r\\n            I would like to know what are all the possible values for the timezone argument in the Python library pytz. How to do it?\\n\\nSOLUTION\\n\\nfor tz in pytz.all_timezones:\\n    print tz\\r\\nAfrica/Abidjan\\nAfrica/...\\r\\n        ', 'vote_count': '666', 'views': '338,389 views', 'tags': ['python', 'django', 'pytz']}, {'title': 'NumPy array is not JSON serializable', 'link': 'https://stackoverflow.com/questions/26646362/numpy-array-is-not-json-serializable', 'summary': '\\r\\n            After creating a NumPy array, and saving it as a Django context variable, I receive the following error when loading the webpage:\\n\\narray([   0,  239,  479,  717,  952, 1192, 1432, 1667], dtype=int64) ...\\r\\n        ', 'vote_count': '246', 'views': '233,106 views', 'tags': ['python', 'json', 'django', 'numpy']}, {'title': 'How do I get user IP address in django?', 'link': 'https://stackoverflow.com/questions/4581789/how-do-i-get-user-ip-address-in-django', 'summary': \"\\r\\n            How do I get user's IP in django?\\n\\nI have a view like this:\\n\\n# Create your views\\nfrom django.contrib.gis.utils import GeoIP\\nfrom django.template import  RequestContext\\nfrom django.shortcuts import ...\\r\\n        \", 'vote_count': '287', 'views': '177,225 views', 'tags': ['python', 'django']}, {'title': 'Iterate over model instance field names and values in template', 'link': 'https://stackoverflow.com/questions/2170228/iterate-over-model-instance-field-names-and-values-in-template', 'summary': \"\\r\\n            I'm trying to create a basic template to display the selected instance's field values, along with their names.  Think of it as just a standard output of the values of that instance in table format, ...\\r\\n        \", 'vote_count': '183', 'views': '166,256 views', 'tags': ['python', 'django', 'django-templates']}, {'title': 'DRF: Simple foreign key assignment with nested serializers?', 'link': 'https://stackoverflow.com/questions/29950956/drf-simple-foreign-key-assignment-with-nested-serializers', 'summary': \"\\r\\n            With Django REST Framework, a standard ModelSerializer will allow ForeignKey model relationships to be assigned or changed by POSTing an ID as an Integer.\\n\\nWhat's the simplest way to get this behavior ...\\r\\n        \", 'vote_count': '64', 'views': '26,058 views', 'tags': ['python', 'django', 'django-rest-framework']}, {'title': 'No module named MySQLdb', 'link': 'https://stackoverflow.com/questions/454854/no-module-named-mysqldb', 'summary': '\\r\\n            I am using Python version 2.5.4 and install MySQL version 5.0 and Django. Django is working fine with Python, but not MySQL. I am using it in Windows Vista.\\r\\n        ', 'vote_count': '402', 'views': '609,299 views', 'tags': ['python', 'django', 'python-2.x']}, {'title': 'Django Passing Custom Form Parameters to Formset', 'link': 'https://stackoverflow.com/questions/622982/django-passing-custom-form-parameters-to-formset', 'summary': '\\r\\n            This was fixed in Django 1.9 with form_kwargs.\\r\\nI have a Django Form that looks like this:\\n\\nclass ServiceForm(forms.Form):\\n    option = forms.ModelChoiceField(queryset=ServiceOption.objects.none())\\n   ...\\r\\n        ', 'vote_count': '149', 'views': '41,997 views', 'tags': ['python', 'django', 'forms', 'django-forms']}, {'title': 'How can I enable CORS on Django REST Framework', 'link': 'https://stackoverflow.com/questions/35760943/how-can-i-enable-cors-on-django-rest-framework', 'summary': \"\\r\\n            How can I enable CORS on my Django REST Framework?\\nthe reference doesn't help much, it says that I can do by a middleware, but how can I do that?\\r\\n        \", 'vote_count': '90', 'views': '84,155 views', 'tags': ['python', 'django', 'cors', 'django-rest-framework', 'middleware']}, {'title': 'Convert Django Model object to dict with all of the fields intact', 'link': 'https://stackoverflow.com/questions/21925671/convert-django-model-object-to-dict-with-all-of-the-fields-intact', 'summary': \"\\r\\n            How does one convert a Django Model object to a dict with all of its fields? All ideally includes foreign keys and fields with editable=False.\\n\\nLet me elaborate. Let's say I have a Django model like ...\\r\\n        \", 'vote_count': '257', 'views': '167,781 views', 'tags': ['python', 'django', 'dictionary', 'django-models']}, {'title': 'Creating a dynamic choice field', 'link': 'https://stackoverflow.com/questions/3419997/creating-a-dynamic-choice-field', 'summary': \"\\r\\n            I'm having some trouble trying to understand how to create a dynamic choice field in django. I have a model set up something like:\\n\\nclass rider(models.Model):\\n     user = models.ForeignKey(User)\\n     ...\\r\\n        \", 'vote_count': '136', 'views': '114,441 views', 'tags': ['python', 'django', 'django-forms', 'django-templates']}, {'title': 'How do I access the child classes of an object in django without knowing the name of the child class?', 'link': 'https://stackoverflow.com/questions/929029/how-do-i-access-the-child-classes-of-an-object-in-django-without-knowing-the-nam', 'summary': '\\r\\n            In Django, when you have a parent class and multiple child classes that inherit from it you would normally access a child through parentclass.childclass1_set or parentclass.childclass2_set, but what ...\\r\\n        ', 'vote_count': '79', 'views': '29,798 views', 'tags': ['python', 'django', 'many-to-many']}, {'title': 'Django. Override save for model', 'link': 'https://stackoverflow.com/questions/4269605/django-override-save-for-model', 'summary': \"\\r\\n            Before saving model I'm re-size a picture. But how can I check if new picture added or just description updated, so I can skip rescaling every time the model is saved?\\n\\nclass Model(model.Model):\\n    ...\\r\\n        \", 'vote_count': '129', 'views': '188,391 views', 'tags': ['python', 'django']}, {'title': 'Does Django scale? [closed]', 'link': 'https://stackoverflow.com/questions/886221/does-django-scale', 'summary': \"\\r\\n            I'm building a web application with Django. The reasons I chose Django were:\\r\\nI wanted to work with free/open-source tools.\\nI like Python and feel it's a long-term language, whereas regarding Ruby I ...\\r\\n        \", 'vote_count': '1139', 'views': '185,278 views', 'tags': ['python', 'django', 'web-applications', 'scalability']}, {'title': 'How to debug in Django, the good way? [closed]', 'link': 'https://stackoverflow.com/questions/1118183/how-to-debug-in-django-the-good-way', 'summary': '\\r\\n            So, I started learning to code in Python and later Django. The first times it was hard looking at tracebacks and actually figure out what I did wrong and where the syntax error was. Some time has ...\\r\\n        ', 'vote_count': '587', 'views': '237,250 views', 'tags': ['python', 'django', 'debugging']}, {'title': 'Programmatically saving image to Django ImageField', 'link': 'https://stackoverflow.com/questions/1308386/programmatically-saving-image-to-django-imagefield', 'summary': \"\\r\\n            Ok, I've tried about near everything and I cannot get this to work.\\r\\nI have a Django model with an ImageField on it\\nI have code that downloads an image via HTTP (tested and works)\\nThe image is saved ...\\r\\n        \", 'vote_count': '202', 'views': '134,814 views', 'tags': ['python', 'django', 'django-models']}, {'title': 'Django FileField with upload_to determined at runtime', 'link': 'https://stackoverflow.com/questions/1190697/django-filefield-with-upload-to-determined-at-runtime', 'summary': \"\\r\\n            I'm trying to set up my uploads so that if user joe uploads a file it goes to MEDIA_ROOT/joe as opposed to having everyone's files go to MEDIA_ROOT. The problem is I don't know how to define this in ...\\r\\n        \", 'vote_count': '130', 'views': '57,695 views', 'tags': ['python', 'django', 'django-models']}, {'title': 'Django set default form values', 'link': 'https://stackoverflow.com/questions/604266/django-set-default-form-values', 'summary': '\\r\\n            I have a Model as follows:\\n\\nclass TankJournal(models.Model):\\n    user = models.ForeignKey(User)\\n    tank = models.ForeignKey(TankProfile)\\n    ts = models.IntegerField(max_length=15)\\n    title = models....\\r\\n        ', 'vote_count': '241', 'views': '238,522 views', 'tags': ['python', 'django', 'django-models', 'django-forms']}, {'title': 'How to access a dictionary element in a Django template?', 'link': 'https://stackoverflow.com/questions/1275735/how-to-access-a-dictionary-element-in-a-django-template', 'summary': '\\r\\n            I would like to print out the number of votes that each choice got. I have this code in a template: \\n\\n{% for choice in choices %}\\n    {{choice.choice}} - {{votes[choice.id]}} <br />\\n{% endfor %}\\r...\\r\\n        ', 'vote_count': '180', 'views': '190,996 views', 'tags': ['python', 'django', 'django-templates']}, {'title': 'Django filter queryset __in for *every* item in list', 'link': 'https://stackoverflow.com/questions/8618068/django-filter-queryset-in-for-every-item-in-list', 'summary': \"\\r\\n            Let's say I have the following models\\n\\nclass Photo(models.Model):\\n    tags = models.ManyToManyField(Tag)\\n\\nclass Tag(models.Model):\\n    name = models.CharField(max_length=50)\\r\\nIn a view I have a list ...\\r\\n        \", 'vote_count': '100', 'views': '78,239 views', 'tags': ['python', 'django', 'filter', 'django-queryset']}, {'title': 'Retrieving parameters from a URL', 'link': 'https://stackoverflow.com/questions/5074803/retrieving-parameters-from-a-url', 'summary': \"\\r\\n            Given a URL like the following, how can I parse the value of the query parameters? For example, in this case I want the value of def.\\n\\n/abc?def='ghi'\\r\\nI am using Django in my environment; is there a ...\\r\\n        \", 'vote_count': '158', 'views': '152,015 views', 'tags': ['python', 'django', 'parsing', 'url']}, {'title': \"Django 1.7 throws django.core.exceptions.AppRegistryNotReady: Models aren't loaded yet\", 'link': 'https://stackoverflow.com/questions/25537905/django-1-7-throws-django-core-exceptions-appregistrynotready-models-arent-load', 'summary': '\\r\\n            This is the traceback on my windows system. \\n\\nTraceback (most recent call last):\\n  File \"D:\\\\AMD\\\\workspace\\\\steelrumors\\\\manage.py\", line 9, in <module>\\n    django.setup()\\n  File \"D:\\\\AMD\\\\Django\\\\...\\r\\n        ', 'vote_count': '166', 'views': '132,280 views', 'tags': ['python', 'django']}, {'title': 'Django auto_now and auto_now_add', 'link': 'https://stackoverflow.com/questions/1737017/django-auto-now-and-auto-now-add', 'summary': '\\r\\n            For Django 1.1.\\n\\nI have this in my models.py:\\n\\nclass User(models.Model):\\n    created = models.DateTimeField(auto_now_add=True)\\n    modified = models.DateTimeField(auto_now=True)\\r\\nWhen updating a row I ...\\r\\n        ', 'vote_count': '272', 'views': '237,864 views', 'tags': ['python', 'django', 'datetime', 'django-models', 'django-admin']}, {'title': 'Using Django time/date widgets in custom form', 'link': 'https://stackoverflow.com/questions/38601/using-django-time-date-widgets-in-custom-form', 'summary': '\\r\\n            How can I use the nifty JavaScript date and time widgets that the default admin uses with my custom view?\\n\\nI have looked through the Django forms documentation, and it briefly mentions django.contrib....\\r\\n        ', 'vote_count': '170', 'views': '116,096 views', 'tags': ['python', 'django']}, {'title': \"Does SQLAlchemy have an equivalent of Django's get_or_create?\", 'link': 'https://stackoverflow.com/questions/2546207/does-sqlalchemy-have-an-equivalent-of-djangos-get-or-create', 'summary': \"\\r\\n            I want to get an object from the database if it already exists (based on provided parameters) or create it if it does not.\\n\\nDjango's get_or_create (or source) does this.  Is there an equivalent ...\\r\\n        \", 'vote_count': '158', 'views': '58,964 views', 'tags': ['python', 'django', 'sqlalchemy']}, {'title': 'How to convert JSON data into a Python object', 'link': 'https://stackoverflow.com/questions/6578986/how-to-convert-json-data-into-a-python-object', 'summary': '\\r\\n            I want to use Python to convert JSON data into a Python object.\\n\\nI receive JSON data objects from the Facebook API, which I want to store in my database.  \\n\\nMy current View in Django (Python) (request....\\r\\n        ', 'vote_count': '281', 'views': '410,495 views', 'tags': ['python', 'json', 'django']}, {'title': 'Can “list_display” in a Django ModelAdmin display attributes of ForeignKey fields?', 'link': 'https://stackoverflow.com/questions/163823/can-list-display-in-a-django-modeladmin-display-attributes-of-foreignkey-field', 'summary': \"\\r\\n            I have a Person model that has a foreign key relationship to Book, which has a number of fields, but I'm most concerned about author (a standard CharField).\\n\\nWith that being said, in my PersonAdmin ...\\r\\n        \", 'vote_count': '296', 'views': '154,231 views', 'tags': ['python', 'django', 'django-models', 'django-admin', 'modeladmin']}, {'title': 'Filter by property', 'link': 'https://stackoverflow.com/questions/1205375/filter-by-property', 'summary': '\\r\\n            Is it possible to filter a Django queryset by model property?\\n\\ni have a method in my model:\\n\\n@property\\ndef myproperty(self):\\n    [..]\\r\\nand now i want to filter by this property like:\\n\\nMyModel.objects....\\r\\n        ', 'vote_count': '93', 'views': '47,909 views', 'tags': ['python', 'django', 'orm']}, {'title': 'Django: multiple models in one template using forms [closed]', 'link': 'https://stackoverflow.com/questions/569468/django-multiple-models-in-one-template-using-forms', 'summary': \"\\r\\n            I'm building a support ticket tracking app and have a few models I'd like to create from one page. Tickets belong to a Customer via a ForeignKey. Notes belong to Tickets via a ForeignKey as well. I'd ...\\r\\n        \", 'vote_count': '112', 'views': '96,235 views', 'tags': ['python', 'django', 'django-forms']}, {'title': 'dynamically add field to a form', 'link': 'https://stackoverflow.com/questions/6142025/dynamically-add-field-to-a-form', 'summary': '\\r\\n            I have 3 fields in my form.\\nI have a submit button and a button to \"Add additional Field\".\\nI understand I can add fields using __init__ method in the form class.\\n\\nI am new to Python and Django and am ...\\r\\n        ', 'vote_count': '61', 'views': '71,632 views', 'tags': ['python', 'django', 'django-forms']}, {'title': 'Performing a getattr() style lookup in a django template', 'link': 'https://stackoverflow.com/questions/844746/performing-a-getattr-style-lookup-in-a-django-template', 'summary': \"\\r\\n            Python's getattr() method is useful when you don't know the name of a certain attribute in advance.\\n\\nThis functionality would also come in handy in templates, but I've never figured out a way to do it....\\r\\n        \", 'vote_count': '45', 'views': '20,897 views', 'tags': ['python', 'django', 'django-templates']}, {'title': 'Expire a view-cache in Django?', 'link': 'https://stackoverflow.com/questions/2268417/expire-a-view-cache-in-django', 'summary': '\\r\\n            The @cache_page decorator is awesome. But for my blog I would like to keep a page in cache until someone comments on a post. This sounds like a great idea as people rarely comment so keeping the pages ...\\r\\n        ', 'vote_count': '50', 'views': '19,240 views', 'tags': ['python', 'django', 'caching']}, {'title': \"What's the difference between select_related and prefetch_related in Django ORM?\", 'link': 'https://stackoverflow.com/questions/31237042/whats-the-difference-between-select-related-and-prefetch-related-in-django-orm', 'summary': '\\r\\n            In Django doc,\\n\\nselect_related() \"follows\" foreign-key relationships, selecting additional related-object data when it executes its query.\\nprefetch_related() does a separate lookup for each ...\\r\\n        ', 'vote_count': '291', 'views': '130,394 views', 'tags': ['python', 'django', 'django-models', 'django-orm']}, {'title': 'Multiple ModelAdmins/views for same model in Django admin', 'link': 'https://stackoverflow.com/questions/2223375/multiple-modeladmins-views-for-same-model-in-django-admin', 'summary': \"\\r\\n            How can I create more than one ModelAdmin for the same model, each customised differently and linked to different URLs?\\n\\nLet's say I have a Django model called Posts. By default, the admin view of ...\\r\\n        \", 'vote_count': '148', 'views': '33,905 views', 'tags': ['python', 'django', 'django-admin']}, {'title': 'Custom Filter in Django Admin on Django 1.3 or below', 'link': 'https://stackoverflow.com/questions/991926/custom-filter-in-django-admin-on-django-1-3-or-below', 'summary': '\\r\\n            How can I add a custom filter to django admin (the filters that appear on the right side of a model dashboard)?  I know its easy to include a filter based on a field of that model, but what about a \"...\\r\\n        ', 'vote_count': '73', 'views': '46,265 views', 'tags': ['python', 'django', 'django-admin']}, {'title': 'Using django for CLI tool', 'link': 'https://stackoverflow.com/questions/32088702/using-django-for-cli-tool', 'summary': \"\\r\\n            Is there any sense in using Django framework for developing Command Line Interface tool? In my case there won't be any graphical interface. What benefits can I get using it? Or maybe you know any ...\\r\\n        \", 'vote_count': '8', 'views': '4,633 views', 'tags': ['python', 'django', 'frameworks', 'command-line-interface']}, {'title': 'In Django, how does one filter a QuerySet with dynamic field lookups?', 'link': 'https://stackoverflow.com/questions/310732/in-django-how-does-one-filter-a-queryset-with-dynamic-field-lookups', 'summary': '\\r\\n            Given a class:\\n\\nfrom django.db import models\\n\\nclass Person(models.Model):\\n    name = models.CharField(max_length=20)\\r\\nIs it possible, and if so how, to have a QuerySet that filters based on dynamic ...\\r\\n        ', 'vote_count': '160', 'views': '56,723 views', 'tags': ['python', 'django', 'django-models']}, {'title': 'How to dynamically compose an OR query filter in Django?', 'link': 'https://stackoverflow.com/questions/852414/how-to-dynamically-compose-an-or-query-filter-in-django', 'summary': '\\r\\n            From an example you can see a multiple OR query filter:\\n\\nArticle.objects.filter(Q(pk=1) | Q(pk=2) | Q(pk=3))\\r\\nFor example, this results in:\\n\\n[<Article: Hello>, <Article: Goodbye>, <...\\r\\n        ', 'vote_count': '99', 'views': '41,682 views', 'tags': ['python', 'django', 'django-q']}, {'title': 'how to import csv data into django models', 'link': 'https://stackoverflow.com/questions/2459979/how-to-import-csv-data-into-django-models', 'summary': '\\r\\n            I have some CSV data and I want to import into django models using the example CSV data:\\n\\n1;\"02-01-101101\";\"Worm Gear HRF 50\";\"Ratio 1 : 10\";\"input shaft, output shaft, direction A, color dark green\";\\n...\\r\\n        ', 'vote_count': '70', 'views': '117,129 views', 'tags': ['python', 'django', 'csv', 'django-models', 'export']}, {'title': 'Get protocol + host name from URL', 'link': 'https://stackoverflow.com/questions/9626535/get-protocol-host-name-from-url', 'summary': \"\\r\\n            In my Django app, I need to get the host name from the referrer in request.META.get('HTTP_REFERER') along with its protocol so that from URLs like:\\r\\nhttps://docs.google.com/spreadsheet/ccc?key=blah-...\\r\\n        \", 'vote_count': '159', 'views': '156,213 views', 'tags': ['python', 'django']}, {'title': 'DatabaseError: current transaction is aborted, commands ignored until end of transaction block?', 'link': 'https://stackoverflow.com/questions/2979369/databaseerror-current-transaction-is-aborted-commands-ignored-until-end-of-tra', 'summary': '\\r\\n            I got a lot of errors with the message :\\n\\n\"DatabaseError: current transaction is aborted, commands ignored until end of transaction block\"\\r\\nafter changed from python-psycopg to python-psycopg2 as ...\\r\\n        ', 'vote_count': '252', 'views': '203,484 views', 'tags': ['python', 'django', 'postgresql', 'psycopg2']}, {'title': \"How do I access the request object or any other variable in a form's clean() method?\", 'link': 'https://stackoverflow.com/questions/1057252/how-do-i-access-the-request-object-or-any-other-variable-in-a-forms-clean-met', 'summary': \"\\r\\n            I am trying to request.user for a form's clean method, but how can I access the request object? Can I modify the clean method to allow variables input?\\r\\n        \", 'vote_count': '97', 'views': '61,845 views', 'tags': ['python', 'django']}, {'title': '“Too many values to unpack” Exception', 'link': 'https://stackoverflow.com/questions/1479776/too-many-values-to-unpack-exception', 'summary': \"\\r\\n            I'm working on a project in Django and I've just started trying to extend the User model in order to make user profiles. \\n\\nUnfortunately, I've run into a problem: Every time I try to get the user's ...\\r\\n        \", 'vote_count': '114', 'views': '362,535 views', 'tags': ['python', 'django']}, {'title': 'Django: Redirect to previous page after login', 'link': 'https://stackoverflow.com/questions/806835/django-redirect-to-previous-page-after-login', 'summary': \"\\r\\n            I'm trying to build a simple website with login functionality very similar to the one here on SO.\\nThe user should be able to browse the site as an anonymous user and there will be a login link on ...\\r\\n        \", 'vote_count': '174', 'views': '99,479 views', 'tags': ['python', 'django']}, {'title': 'Django: ImproperlyConfigured: The SECRET_KEY setting must not be empty', 'link': 'https://stackoverflow.com/questions/19128540/django-improperlyconfigured-the-secret-key-setting-must-not-be-empty', 'summary': '\\r\\n            I am trying to set up multiple setting files (development, production, ..) that include some base settings. Cannot succeed though. When I try to run ./manage.py runserver I am getting the following ...\\r\\n        ', 'vote_count': '94', 'views': '127,077 views', 'tags': ['python', 'django', 'settings']}, {'title': \"Run / Debug a Django application's UnitTests from the mouse right click context menu in PyCharm Community Edition?\", 'link': 'https://stackoverflow.com/questions/42989471/run-debug-a-django-applications-unittests-from-the-mouse-right-click-context', 'summary': \"\\r\\n            I must emphasize on PyCharm Community Edition which does not have any Django integration (v2016.3.2 at question time).\\n\\nI've Googled my problem and (surprisingly,) I did not get any answers, (of ...\\r\\n        \", 'vote_count': '6', 'views': '23,839 views', 'tags': ['python', 'django', 'unit-testing', 'pycharm']}, {'title': 'Render HTML to PDF in Django site', 'link': 'https://stackoverflow.com/questions/1377446/render-html-to-pdf-in-django-site', 'summary': '\\r\\n            For my django powered site, I am looking for an easy solution to convert dynamic html pages to pdf.\\n\\nPages include HTML and charts from Google visualization API (which is javascript based, yet ...\\r\\n        ', 'vote_count': '116', 'views': '92,822 views', 'tags': ['python', 'html', 'django', 'pdf', 'pdf-generation']}, {'title': 'Cron and virtualenv', 'link': 'https://stackoverflow.com/questions/3287038/cron-and-virtualenv', 'summary': '\\r\\n            I am trying to run a Django management command from cron. I am using virtualenv to keep my project sandboxed.\\n\\nI have seen examples here and elsewhere that show running management commands from within ...\\r\\n        ', 'vote_count': '227', 'views': '98,417 views', 'tags': ['python', 'django', 'cron', 'virtualenv']}, {'title': \"Django DB Settings 'Improperly Configured' Error\", 'link': 'https://stackoverflow.com/questions/15556499/django-db-settings-improperly-configured-error', 'summary': \"\\r\\n            Django (1.5) is workin' fine for me, but when I fire up the Python interpreter (Python 3) to check some things, I get the weirdest error when I try importing - from django.contrib.auth.models import ...\\r\\n        \", 'vote_count': '170', 'views': '174,148 views', 'tags': ['python', 'django']}, {'title': \"How to pull a random record using Django's ORM?\", 'link': 'https://stackoverflow.com/questions/962619/how-to-pull-a-random-record-using-djangos-orm', 'summary': \"\\r\\n            I have a model that represents paintings I present on my site. On the main webpage I'd like to show some of them: newest, one that was not visited for most time, most popular one and a random one. \\n\\nI'...\\r\\n        \", 'vote_count': '176', 'views': '80,899 views', 'tags': ['python', 'django', 'django-models']}, {'title': 'Differences between STATICFILES_DIR, STATIC_ROOT and MEDIA_ROOT', 'link': 'https://stackoverflow.com/questions/24022558/differences-between-staticfiles-dir-static-root-and-media-root', 'summary': '\\r\\n            What are the differences of these three static url? \\n\\nI am not sure if I am right, I am using the MEDIA_ROOT to store my uploaded photos (via models.ImageField()) \\n\\nHowever, I created a JS script to ...\\r\\n        ', 'vote_count': '65', 'views': '36,907 views', 'tags': ['python', 'django', 'django-staticfiles', 'django-static']}, {'title': 'How do I clone a Django model instance object and save it to the database?', 'link': 'https://stackoverflow.com/questions/4733609/how-do-i-clone-a-django-model-instance-object-and-save-it-to-the-database', 'summary': '\\r\\n            Foo.objects.get(pk=\"foo\")\\n<Foo: test>\\r\\nIn the database, I want to add another object which is a copy of the object above.\\n\\nSuppose my table has one row. I want to insert the first row object ...\\r\\n        ', 'vote_count': '260', 'views': '123,568 views', 'tags': ['python', 'django', 'django-models']}, {'title': 'How do I force Django to ignore any caches and reload data?', 'link': 'https://stackoverflow.com/questions/3346124/how-do-i-force-django-to-ignore-any-caches-and-reload-data', 'summary': \"\\r\\n            I'm using the Django database models from a process that's not called from an HTTP request.  The process is supposed to poll for new data every few seconds and do some processing on it.   I have a ...\\r\\n        \", 'vote_count': '75', 'views': '36,693 views', 'tags': ['python', 'django', 'caching']}, {'title': 'Django csrf token + Angularjs', 'link': 'https://stackoverflow.com/questions/18156452/django-csrf-token-angularjs', 'summary': '\\r\\n            I have django running on an apache server using mod_wsgi, as well as an angularjs app served directly by apache, not by django. I would like to make POST calls to the django server (running ...\\r\\n        ', 'vote_count': '65', 'views': '33,059 views', 'tags': ['javascript', 'python', 'django', 'angularjs']}, {'title': 'How to set environment variables in PyCharm?', 'link': 'https://stackoverflow.com/questions/42708389/how-to-set-environment-variables-in-pycharm', 'summary': '\\r\\n            I have started to work in a Django project, and I would like to set some environment variables without having to set them manually or having a bash file to source.\\n\\nI would like to set the following ...\\r\\n        ', 'vote_count': '63', 'views': '96,585 views', 'tags': ['python', 'django', 'environment-variables']}, {'title': \"Django upgrading to 1.9 error “AppRegistryNotReady: Apps aren't loaded yet.”\", 'link': 'https://stackoverflow.com/questions/34114427/django-upgrading-to-1-9-error-appregistrynotready-apps-arent-loaded-yet', 'summary': \"\\r\\n            When upgraded to django 1.9 from 1.8 I got this error. I checked answers for similar questions, but I didn't think this is an issue with any 3rd party packages or apps.\\n\\nTraceback (most recent call ...\\r\\n        \", 'vote_count': '82', 'views': '120,933 views', 'tags': ['python', 'django']}, {'title': 'Django Aggregation: Summation of Multiplication of two fields', 'link': 'https://stackoverflow.com/questions/12165636/django-aggregation-summation-of-multiplication-of-two-fields', 'summary': '\\r\\n            I have a model something like this:\\n\\nclass Task(models.Model):\\n    progress = models.PositiveIntegerField()\\n    estimated_days = models.PositiveIntegerField()\\r\\nNow I would like to do a calculation Sum(...\\r\\n        ', 'vote_count': '54', 'views': '33,792 views', 'tags': ['python', 'django', 'django-models', 'django-queryset', 'django-orm']}, {'title': 'Separation of business logic and data access in django', 'link': 'https://stackoverflow.com/questions/12578908/separation-of-business-logic-and-data-access-in-django', 'summary': '\\r\\n            I am writing a project in Django and I see that 80% of the code is in the file models.py. This code is confusing and, after a certain time, I cease to understand what is really happening.\\n\\nHere is ...\\r\\n        ', 'vote_count': '485', 'views': '104,439 views', 'tags': ['python', 'django', 'model-view-controller', 'data-access-layer', 'business-logic-layer']}, {'title': 'How to execute a Python script from the Django shell?', 'link': 'https://stackoverflow.com/questions/16853649/how-to-execute-a-python-script-from-the-django-shell', 'summary': \"\\r\\n            I need to execute a Python script from the Django shell. I tried:\\n\\n./manage.py shell << my_script.py\\r\\nBut it didn't work. It was just waiting for me to write something.\\r\\n        \", 'vote_count': '246', 'views': '208,050 views', 'tags': ['python', 'django', 'django-shell']}, {'title': 'How can I build multiple submit buttons django form?', 'link': 'https://stackoverflow.com/questions/866272/how-can-i-build-multiple-submit-buttons-django-form', 'summary': '\\r\\n            I have form with one input for email and two submit buttons to subscribe and unsubscribe from newsletter:\\n\\n<form action=\"\" method=\"post\">\\n{{ form_newsletter }}\\n<input type=\"submit\" name=\"...\\r\\n        ', 'vote_count': '153', 'views': '106,798 views', 'tags': ['python', 'django', 'button', 'django-forms', 'submit']}, {'title': 'Django datetime issues (default=datetime.now())', 'link': 'https://stackoverflow.com/questions/2771676/django-datetime-issues-default-datetime-now', 'summary': '\\r\\n            I have the below db model:\\n\\nfrom datetime import datetime    \\n\\nclass TermPayment(models.Model):\\n    # I have excluded fields that are irrelevant to the question\\n    date = models.DateTimeField(default=...\\r\\n        ', 'vote_count': '283', 'views': '294,821 views', 'tags': ['python', 'django']}, {'title': 'Django: add image in an ImageField from image url', 'link': 'https://stackoverflow.com/questions/1393202/django-add-image-in-an-imagefield-from-image-url', 'summary': \"\\r\\n            please excuse me for my ugly english ;-)\\n\\nImagine this very simple model :\\n\\nclass Photo(models.Model):\\n    image = models.ImageField('Label', upload_to='path/')\\r\\nI would like to create a Photo from an ...\\r\\n        \", 'vote_count': '84', 'views': '56,785 views', 'tags': ['python', 'django', 'urllib', 'django-models']}, {'title': 'Mac OS X - EnvironmentError: mysql_config not found', 'link': 'https://stackoverflow.com/questions/25459386/mac-os-x-environmenterror-mysql-config-not-found', 'summary': \"\\r\\n            First off, yeah, I've already seen this: \\n\\npip install mysql-python fails with EnvironmentError: mysql_config not found\\n\\nThe problem\\n\\nI am trying to use Django on a Google App Engine project. However, ...\\r\\n        \", 'vote_count': '116', 'views': '132,188 views', 'tags': ['python', 'mysql', 'django', 'macos']}, {'title': 'Multiple Models in a single django ModelForm?', 'link': 'https://stackoverflow.com/questions/2770810/multiple-models-in-a-single-django-modelform', 'summary': '\\r\\n            Is it possible to have multiple models included in a single ModelForm in django?  I am trying to create a profile edit form.  So I need to include some fields from the User model and the UserProfile ...\\r\\n        ', 'vote_count': '93', 'views': '64,257 views', 'tags': ['python', 'django', 'django-forms']}, {'title': 'Django optional url parameters', 'link': 'https://stackoverflow.com/questions/14351048/django-optional-url-parameters', 'summary': \"\\r\\n            I have a Django URL like this:\\n\\nurl(\\n    r'^project_config/(?P<product>\\\\w+)/(?P<project_id>\\\\w+)/$',\\n    'tool.views.ProjectConfig',\\n    name='project_config'\\n),\\r\\nviews.py:\\n\\ndef ...\\r\\n        \", 'vote_count': '161', 'views': '125,042 views', 'tags': ['python', 'django', 'django-views', 'django-urls']}, {'title': 'Django REST Framework upload image: “The submitted data was not a file”', 'link': 'https://stackoverflow.com/questions/28036404/django-rest-framework-upload-image-the-submitted-data-was-not-a-file', 'summary': '\\r\\n            I am leaning how to upload file in Django, and here I encounter a should-be-trivial problem, with the error:\\r\\n  The submitted data was not a file. Check the encoding type on the form.\\r\\nBelow is the ...\\r\\n        ', 'vote_count': '46', 'views': '43,298 views', 'tags': ['python', 'angularjs', 'django', 'django-rest-framework']}, {'title': 'Django ModelForm for Many-to-Many fields', 'link': 'https://stackoverflow.com/questions/2216974/django-modelform-for-many-to-many-fields', 'summary': '\\r\\n            Consider the following models and form:\\n\\nclass Pizza(models.Model):\\n    name = models.CharField(max_length=50)\\n\\nclass Topping(models.Model):\\n    name = models.CharField(max_length=50)\\n    ison = ...\\r\\n        ', 'vote_count': '78', 'views': '70,499 views', 'tags': ['python', 'django', 'django-forms']}, {'title': 'Getting the SQL from a Django QuerySet [duplicate]', 'link': 'https://stackoverflow.com/questions/3748295/getting-the-sql-from-a-django-queryset', 'summary': \"\\r\\n            How do I get the SQL that Django will use on the database from a QuerySet object? I'm trying to debug some strange behavior, but I'm not sure what queries are going to the database. Thanks for your ...\\r\\n        \", 'vote_count': '297', 'views': '157,035 views', 'tags': ['python', 'sql', 'django', 'django-queryset']}, {'title': 'Generating file to download with Django', 'link': 'https://stackoverflow.com/questions/908258/generating-file-to-download-with-django', 'summary': '\\r\\n            Is it possible to make a zip archive and offer it to download, but still not save a file to the hard drive?\\r\\n        ', 'vote_count': '96', 'views': '83,280 views', 'tags': ['python', 'django']}, {'title': 'How can I filter a date of a DateTimeField in Django?', 'link': 'https://stackoverflow.com/questions/1317714/how-can-i-filter-a-date-of-a-datetimefield-in-django', 'summary': '\\r\\n            I am trying to filter a DateTimeField comparing with a date. I mean:\\n\\nMyObject.objects.filter(datetime_attr=datetime.date(2009,8,22))\\r\\nI get an empty queryset list as an answer because (I think) I am ...\\r\\n        ', 'vote_count': '170', 'views': '175,749 views', 'tags': ['python', 'django', 'datetime', 'filter', 'django-queryset']}, {'title': 'How do I perform HTML decoding/encoding using Python/Django?', 'link': 'https://stackoverflow.com/questions/275174/how-do-i-perform-html-decoding-encoding-using-python-django', 'summary': \"\\r\\n            I have a string that is HTML encoded: \\n\\n'''&lt;img class=&quot;size-medium wp-image-113&quot;\\\\\\n style=&quot;margin-left: 15px;&quot; title=&quot;su1&quot;\\\\\\n src=&quot;...\\r\\n        \", 'vote_count': '128', 'views': '172,834 views', 'tags': ['python', 'django', 'html-encode']}, {'title': 'How to stream an HttpResponse with Django', 'link': 'https://stackoverflow.com/questions/2922874/how-to-stream-an-httpresponse-with-django', 'summary': \"\\r\\n            I'm trying to get the 'hello world' of streaming responses working for Django (1.2).  I figured out how to use a generator and the yield function.  But the response still not streaming.  I suspect ...\\r\\n        \", 'vote_count': '56', 'views': '40,214 views', 'tags': ['python', 'django', 'streaming']}, {'title': \"Django - how to create a file and save it to a model's FileField?\", 'link': 'https://stackoverflow.com/questions/7514964/django-how-to-create-a-file-and-save-it-to-a-models-filefield', 'summary': \"\\r\\n            Here's my model.  What I want to do is generate a new file and overwrite the existing one whenever a model instance is saved:\\n\\nclass Kitten(models.Model):\\n    claw_size = ...\\n    license_file = models....\\r\\n        \", 'vote_count': '106', 'views': '88,689 views', 'tags': ['python', 'django', 'django-models']}, {'title': 'Reference list item by index within Django template?', 'link': 'https://stackoverflow.com/questions/4651172/reference-list-item-by-index-within-django-template', 'summary': \"\\r\\n            This may be simple, but I looked around and couldn't find an answer.  What's the best way to reference a single item in a list from a Django template?\\n\\nIn other words how do I do the equivalent of {{ ...\\r\\n        \", 'vote_count': '100', 'views': '91,858 views', 'tags': ['python', 'django', 'django-templates']}, {'title': 'Django CSRF Cookie Not Set', 'link': 'https://stackoverflow.com/questions/17716624/django-csrf-cookie-not-set', 'summary': \"\\r\\n            I have some problem for a while now, I'm experiencing CSRF Cookie not set. Please look at the codes below\\n\\nPython\\n\\ndef deposit(request,account_num):\\nif request.method == 'POST':\\n    account = ...\\r\\n        \", 'vote_count': '80', 'views': '111,235 views', 'tags': ['python', 'django']}, {'title': 'Django SMTPAuthenticationError', 'link': 'https://stackoverflow.com/questions/26697565/django-smtpauthenticationerror', 'summary': '\\r\\n            I am new in django and developing a web application using django. I have successfully set the Signup functionality using Userena in my web application and can Register as a user with Verification ...\\r\\n        ', 'vote_count': '26', 'views': '36,151 views', 'tags': ['python', 'django']}, {'title': 'How to send email via Django?', 'link': 'https://stackoverflow.com/questions/6367014/how-to-send-email-via-django', 'summary': \"\\r\\n            In my settings.py, I have the following: \\n\\nEMAIL_BACKEND = 'django.core.mail.backends.smtp.EmailBackend'\\n\\n# Host for sending e-mail.\\nEMAIL_HOST = 'localhost'\\n\\n# Port for sending e-mail.\\nEMAIL_PORT = ...\\r\\n        \", 'vote_count': '152', 'views': '167,747 views', 'tags': ['python', 'django', 'email', 'smtp']}, {'title': 'How to define two fields “unique” as couple', 'link': 'https://stackoverflow.com/questions/2201598/how-to-define-two-fields-unique-as-couple', 'summary': \"\\r\\n            Is there a way to define a couple of fields as unique in Django?\\n\\nI have a table of volumes (of journals) and I don't want more then one volume number for the same journal.\\n\\nclass Volume(models.Model):...\\r\\n        \", 'vote_count': '389', 'views': '111,937 views', 'tags': ['python', 'django', 'django-models']}, {'title': 'Include intermediary (through model) in responses in Django Rest Framework', 'link': 'https://stackoverflow.com/questions/17256724/include-intermediary-through-model-in-responses-in-django-rest-framework', 'summary': \"\\r\\n            I have a question about dealing with m2m / through models and their presentation in django rest framework. Let's take a classic example:\\n\\nmodels.py:\\n\\nfrom django.db import models\\n\\nclass Member(models....\\r\\n        \", 'vote_count': '106', 'views': '22,472 views', 'tags': ['python', 'django', 'django-rest-framework']}]}\n"
          ],
          "name": "stdout"
        },
        {
          "output_type": "execute_result",
          "data": {
            "text/plain": [
              "dict"
            ]
          },
          "metadata": {
            "tags": []
          },
          "execution_count": 143
        }
      ]
    },
    {
      "cell_type": "code",
      "metadata": {
        "id": "BUr4sfdcJt9e",
        "colab_type": "code",
        "colab": {
          "base_uri": "https://localhost:8080/",
          "height": 54
        },
        "outputId": "9f8aacb2-1473-4bbe-a068-a93753506b3f"
      },
      "source": [
        "print([q['link'] for q in questions_dic['questions']])"
      ],
      "execution_count": 145,
      "outputs": [
        {
          "output_type": "stream",
          "text": [
            "['https://stackoverflow.com/questions/23708898/pip-is-not-recognized-as-an-internal-or-external-command', 'https://stackoverflow.com/questions/573618/set-up-a-scheduled-job', 'https://stackoverflow.com/questions/8000022/django-template-how-to-look-up-a-dictionary-value-with-a-variable', 'https://stackoverflow.com/questions/5100539/django-csrf-check-failing-with-an-ajax-post-request', 'https://stackoverflow.com/questions/8609192/differentiate-null-true-blank-true-in-django', 'https://stackoverflow.com/questions/1156246/having-django-serve-downloadable-files', 'https://stackoverflow.com/questions/2428092/creating-a-json-response-using-django-and-python', 'https://stackoverflow.com/questions/7446187/no-module-named-pkg-resources', 'https://stackoverflow.com/questions/2642613/what-is-related-name-used-for-in-django', 'https://stackoverflow.com/questions/20306981/how-do-i-integrate-ajax-with-django-applications', 'https://stackoverflow.com/questions/629551/how-to-query-as-group-by-in-django', 'https://stackoverflow.com/questions/298772/django-template-variables-and-javascript', 'https://stackoverflow.com/questions/7933596/django-dynamic-model-fields', 'https://stackoverflow.com/questions/1395807/proper-way-to-handle-multiple-forms-on-one-page-in-django', 'https://stackoverflow.com/questions/291945/how-do-i-filter-foreignkey-choices-in-a-django-modelform', 'https://stackoverflow.com/questions/6583877/how-to-override-and-extend-basic-django-admin-templates', 'https://stackoverflow.com/questions/1626326/how-to-manage-local-vs-production-settings-in-django', 'https://stackoverflow.com/questions/4668619/how-do-i-filter-query-objects-by-date-range-in-django', 'https://stackoverflow.com/questions/6791911/execute-code-when-django-starts-once-only', 'https://stackoverflow.com/questions/5895588/django-multivaluedictkeyerror-error-how-do-i-deal-with-it', 'https://stackoverflow.com/questions/38744285/django-urls-typeerror-view-must-be-a-callable-or-a-list-tuple-in-the-case-of-in', 'https://stackoverflow.com/questions/427102/what-is-a-slug-in-django', 'https://stackoverflow.com/questions/13866926/is-there-a-list-of-pytz-timezones', 'https://stackoverflow.com/questions/26646362/numpy-array-is-not-json-serializable', 'https://stackoverflow.com/questions/4581789/how-do-i-get-user-ip-address-in-django', 'https://stackoverflow.com/questions/2170228/iterate-over-model-instance-field-names-and-values-in-template', 'https://stackoverflow.com/questions/29950956/drf-simple-foreign-key-assignment-with-nested-serializers', 'https://stackoverflow.com/questions/454854/no-module-named-mysqldb', 'https://stackoverflow.com/questions/622982/django-passing-custom-form-parameters-to-formset', 'https://stackoverflow.com/questions/35760943/how-can-i-enable-cors-on-django-rest-framework', 'https://stackoverflow.com/questions/21925671/convert-django-model-object-to-dict-with-all-of-the-fields-intact', 'https://stackoverflow.com/questions/3419997/creating-a-dynamic-choice-field', 'https://stackoverflow.com/questions/929029/how-do-i-access-the-child-classes-of-an-object-in-django-without-knowing-the-nam', 'https://stackoverflow.com/questions/4269605/django-override-save-for-model', 'https://stackoverflow.com/questions/886221/does-django-scale', 'https://stackoverflow.com/questions/1118183/how-to-debug-in-django-the-good-way', 'https://stackoverflow.com/questions/1308386/programmatically-saving-image-to-django-imagefield', 'https://stackoverflow.com/questions/1190697/django-filefield-with-upload-to-determined-at-runtime', 'https://stackoverflow.com/questions/604266/django-set-default-form-values', 'https://stackoverflow.com/questions/1275735/how-to-access-a-dictionary-element-in-a-django-template', 'https://stackoverflow.com/questions/8618068/django-filter-queryset-in-for-every-item-in-list', 'https://stackoverflow.com/questions/5074803/retrieving-parameters-from-a-url', 'https://stackoverflow.com/questions/25537905/django-1-7-throws-django-core-exceptions-appregistrynotready-models-arent-load', 'https://stackoverflow.com/questions/1737017/django-auto-now-and-auto-now-add', 'https://stackoverflow.com/questions/38601/using-django-time-date-widgets-in-custom-form', 'https://stackoverflow.com/questions/2546207/does-sqlalchemy-have-an-equivalent-of-djangos-get-or-create', 'https://stackoverflow.com/questions/6578986/how-to-convert-json-data-into-a-python-object', 'https://stackoverflow.com/questions/163823/can-list-display-in-a-django-modeladmin-display-attributes-of-foreignkey-field', 'https://stackoverflow.com/questions/1205375/filter-by-property', 'https://stackoverflow.com/questions/569468/django-multiple-models-in-one-template-using-forms', 'https://stackoverflow.com/questions/6142025/dynamically-add-field-to-a-form', 'https://stackoverflow.com/questions/844746/performing-a-getattr-style-lookup-in-a-django-template', 'https://stackoverflow.com/questions/2268417/expire-a-view-cache-in-django', 'https://stackoverflow.com/questions/31237042/whats-the-difference-between-select-related-and-prefetch-related-in-django-orm', 'https://stackoverflow.com/questions/2223375/multiple-modeladmins-views-for-same-model-in-django-admin', 'https://stackoverflow.com/questions/991926/custom-filter-in-django-admin-on-django-1-3-or-below', 'https://stackoverflow.com/questions/32088702/using-django-for-cli-tool', 'https://stackoverflow.com/questions/310732/in-django-how-does-one-filter-a-queryset-with-dynamic-field-lookups', 'https://stackoverflow.com/questions/852414/how-to-dynamically-compose-an-or-query-filter-in-django', 'https://stackoverflow.com/questions/2459979/how-to-import-csv-data-into-django-models', 'https://stackoverflow.com/questions/9626535/get-protocol-host-name-from-url', 'https://stackoverflow.com/questions/2979369/databaseerror-current-transaction-is-aborted-commands-ignored-until-end-of-tra', 'https://stackoverflow.com/questions/1057252/how-do-i-access-the-request-object-or-any-other-variable-in-a-forms-clean-met', 'https://stackoverflow.com/questions/1479776/too-many-values-to-unpack-exception', 'https://stackoverflow.com/questions/806835/django-redirect-to-previous-page-after-login', 'https://stackoverflow.com/questions/19128540/django-improperlyconfigured-the-secret-key-setting-must-not-be-empty', 'https://stackoverflow.com/questions/42989471/run-debug-a-django-applications-unittests-from-the-mouse-right-click-context', 'https://stackoverflow.com/questions/1377446/render-html-to-pdf-in-django-site', 'https://stackoverflow.com/questions/3287038/cron-and-virtualenv', 'https://stackoverflow.com/questions/15556499/django-db-settings-improperly-configured-error', 'https://stackoverflow.com/questions/962619/how-to-pull-a-random-record-using-djangos-orm', 'https://stackoverflow.com/questions/24022558/differences-between-staticfiles-dir-static-root-and-media-root', 'https://stackoverflow.com/questions/4733609/how-do-i-clone-a-django-model-instance-object-and-save-it-to-the-database', 'https://stackoverflow.com/questions/3346124/how-do-i-force-django-to-ignore-any-caches-and-reload-data', 'https://stackoverflow.com/questions/18156452/django-csrf-token-angularjs', 'https://stackoverflow.com/questions/42708389/how-to-set-environment-variables-in-pycharm', 'https://stackoverflow.com/questions/34114427/django-upgrading-to-1-9-error-appregistrynotready-apps-arent-loaded-yet', 'https://stackoverflow.com/questions/12165636/django-aggregation-summation-of-multiplication-of-two-fields', 'https://stackoverflow.com/questions/12578908/separation-of-business-logic-and-data-access-in-django', 'https://stackoverflow.com/questions/16853649/how-to-execute-a-python-script-from-the-django-shell', 'https://stackoverflow.com/questions/866272/how-can-i-build-multiple-submit-buttons-django-form', 'https://stackoverflow.com/questions/2771676/django-datetime-issues-default-datetime-now', 'https://stackoverflow.com/questions/1393202/django-add-image-in-an-imagefield-from-image-url', 'https://stackoverflow.com/questions/25459386/mac-os-x-environmenterror-mysql-config-not-found', 'https://stackoverflow.com/questions/2770810/multiple-models-in-a-single-django-modelform', 'https://stackoverflow.com/questions/14351048/django-optional-url-parameters', 'https://stackoverflow.com/questions/28036404/django-rest-framework-upload-image-the-submitted-data-was-not-a-file', 'https://stackoverflow.com/questions/2216974/django-modelform-for-many-to-many-fields', 'https://stackoverflow.com/questions/3748295/getting-the-sql-from-a-django-queryset', 'https://stackoverflow.com/questions/908258/generating-file-to-download-with-django', 'https://stackoverflow.com/questions/1317714/how-can-i-filter-a-date-of-a-datetimefield-in-django', 'https://stackoverflow.com/questions/275174/how-do-i-perform-html-decoding-encoding-using-python-django', 'https://stackoverflow.com/questions/2922874/how-to-stream-an-httpresponse-with-django', 'https://stackoverflow.com/questions/7514964/django-how-to-create-a-file-and-save-it-to-a-models-filefield', 'https://stackoverflow.com/questions/4651172/reference-list-item-by-index-within-django-template', 'https://stackoverflow.com/questions/17716624/django-csrf-cookie-not-set', 'https://stackoverflow.com/questions/26697565/django-smtpauthenticationerror', 'https://stackoverflow.com/questions/6367014/how-to-send-email-via-django', 'https://stackoverflow.com/questions/2201598/how-to-define-two-fields-unique-as-couple', 'https://stackoverflow.com/questions/17256724/include-intermediary-through-model-in-responses-in-django-rest-framework']\n"
          ],
          "name": "stdout"
        }
      ]
    },
    {
      "cell_type": "code",
      "metadata": {
        "id": "YhPPA_TmYceK",
        "colab_type": "code",
        "colab": {
          "base_uri": "https://localhost:8080/",
          "height": 34
        },
        "outputId": "39e4cc23-8761-4d6a-d11d-2ace3719e795"
      },
      "source": [
        "questions_dic['questions'][49]['link']"
      ],
      "execution_count": 147,
      "outputs": [
        {
          "output_type": "execute_result",
          "data": {
            "text/plain": [
              "'https://stackoverflow.com/questions/569468/django-multiple-models-in-one-template-using-forms'"
            ]
          },
          "metadata": {
            "tags": []
          },
          "execution_count": 147
        }
      ]
    },
    {
      "cell_type": "code",
      "metadata": {
        "id": "gWBU7VqkB3NK",
        "colab_type": "code",
        "colab": {
          "base_uri": "https://localhost:8080/",
          "height": 34
        },
        "outputId": "42a0e0c6-ff92-4d71-a232-7522bd425614"
      },
      "source": [
        "len(questions_dic['questions'])"
      ],
      "execution_count": 146,
      "outputs": [
        {
          "output_type": "execute_result",
          "data": {
            "text/plain": [
              "100"
            ]
          },
          "metadata": {
            "tags": []
          },
          "execution_count": 146
        }
      ]
    }
  ]
}