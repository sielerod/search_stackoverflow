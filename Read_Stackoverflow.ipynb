{
  "cells": [
    {
      "cell_type": "markdown",
      "metadata": {
        "id": "view-in-github",
        "colab_type": "text"
      },
      "source": [
        "<a href=\"https://colab.research.google.com/github/sielerod/search_stackoverflow/blob/master/Read_Stackoverflow.ipynb\" target=\"_parent\"><img src=\"https://colab.research.google.com/assets/colab-badge.svg\" alt=\"Open In Colab\"/></a>"
      ]
    },
    {
      "cell_type": "markdown",
      "metadata": {
        "id": "OhI60Te7lUP1",
        "colab_type": "text"
      },
      "source": [
        "#**Objetivo:**   \n",
        "* Capturar as perguntas mais frequentes sobre Python no stackoverflow\n",
        "* Armazenar para cada pergunta: link, breve descrição da pergunta, quantidade de votos e visualizações, pergunta, respostas com melhor avaliação\n",
        "\n",
        "\n",
        "**Fonte:** https://stackoverflow.com/questions/\n"
      ]
    },
    {
      "cell_type": "code",
      "metadata": {
        "id": "wTKKIbRrd_fr",
        "colab_type": "code",
        "colab": {},
        "tags": []
      },
      "source": [
        "import requests # Getting Webpage content\n",
        "from requests.exceptions import HTTPError\n",
        "from bs4 import BeautifulSoup as bs # Scraping webpages\n",
        "from time import sleep\n",
        "import pandas as pd\n",
        "\n",
        "import re #biblioteca para trabalhar com regular expressions - regex\n",
        "import string\n",
        "\n",
        "import nltk\n",
        "#nltk.download('punkt')\n",
        "#nltk.download('stopwords')\n",
        "from nltk.stem import RSLPStemmer #Stemming Portugues\n",
        "from nltk.stem import PorterStemmer #Stemming Ingles\n",
        "from nltk.stem import WordNetLemmatizer\n",
        "from nltk.tokenize import word_tokenize\n",
        "from nltk.corpus import stopwords\n",
        "import unidecode\n"
      ],
      "execution_count": 81,
      "outputs": [
        {
          "output_type": "stream",
          "name": "stderr",
          "text": "[nltk_data] Downloading package stopwords to\n[nltk_data]     C:\\Users\\siele\\AppData\\Roaming\\nltk_data...\n[nltk_data]   Unzipping corpora\\stopwords.zip.\n"
        }
      ]
    },
    {
      "cell_type": "markdown",
      "metadata": {
        "id": "3pe2opv4SYoR",
        "colab_type": "text"
      },
      "source": [
        "#Leitura do dado cru no Stackoverflow\n",
        "**read_stackoverflow_overview(tags=[], tab='Frequent', pages)**\n",
        "\n",
        "Leitura do resumo das perguntas mais frequentes no stackoverflow com base em alguns parâmetros de busca. \n",
        "\n",
        "Retorna um objeto requests contendo o resultado de requests.get\n",
        "\n",
        "* tags: argumento opcional com lista  de strings contendo os tipos de pergunta para seleação. Ex.: ['python', 'php', 'javascript']\n",
        ">ex. de URL para página com mais de 1 tag: https://stackoverflow.com/questions/tagged/sql+sql-server?tab=Frequent\n",
        "\n",
        "* tab: string com tipo de ordenação a ser aplicado, pode ser:\n",
        "'Frequent' (opção default), 'Votes', 'Unanswered', 'Bounties', 'Active', 'Newest'\n",
        "\n",
        "* Selector: seleção dos trechos do html a serem retornados. Por default, será question-summary\n",
        "\n",
        "* pages: número de páginas para leitura\n",
        "\n"
      ]
    },
    {
      "cell_type": "code",
      "metadata": {
        "id": "XYnP7RwH0h9O",
        "colab_type": "code",
        "colab": {}
      },
      "source": [
        "def read_stackoverflow_overview(tags=[], tab='Frequent', pages=5):\n",
        "  link = 'https://stackoverflow.com/questions'\n",
        "  selector='question-summary'\n",
        "  \n",
        "  if tags:\n",
        "    tags_link = '/tagged/'\n",
        "    pre=''\n",
        "    for t in tags:\n",
        "      tags_link += pre + t\n",
        "      pre = '+' \n",
        "    link += tags_link\n",
        "\n",
        "  link += '?tab='+tab\n",
        "\n",
        "  questions_text = ''\n",
        "  soup_selection = []\n",
        "  for page in range(1,pages+1):\n",
        "    page_link = '&page='+str(page)\n",
        "\n",
        "    try:\n",
        "      request = requests.get(link+page_link)\n",
        "      request.raise_for_status()\n",
        "      #questions_text += request.text\n",
        "      try:\n",
        "        soup = bs(request.text, 'html.parser')\n",
        "        soup_selection.append(soup.select('.'+selector))\n",
        "      except: print (\"Could not transform to soup object by selecting \",selector)\n",
        "    except HTTPError:\n",
        "      print (\"Could not download page \", page)\n",
        "\n",
        "    sleep(0.05)\n",
        "\n",
        "  return soup_selection\n"
      ],
      "execution_count": 2,
      "outputs": []
    },
    {
      "cell_type": "code",
      "metadata": {
        "id": "s_R5A2tBAqrW",
        "colab_type": "code",
        "colab": {
          "base_uri": "https://localhost:8080/",
          "height": 34
        },
        "outputId": "8619f248-a44d-41b7-8c9f-59fa83a71b87"
      },
      "source": [
        "questions_overview_raw = read_stackoverflow_overview(tags=['python','django'],tab='Frequent',pages=2)\n",
        "type(questions_overview_raw)"
      ],
      "execution_count": 3,
      "outputs": [
        {
          "output_type": "execute_result",
          "data": {
            "text/plain": "list"
          },
          "metadata": {},
          "execution_count": 3
        }
      ]
    },
    {
      "cell_type": "code",
      "metadata": {
        "id": "Dn7tUYRxBHT6",
        "colab_type": "code",
        "colab": {}
      },
      "source": [
        "questions_overview_raw"
      ],
      "execution_count": 4,
      "outputs": [
        {
          "output_type": "execute_result",
          "data": {
            "text/plain": "6</span>\n  </div>\n  <div class=\"user-gravatar32\">\n  <a href=\"/users/2592/josh-hunt\"><div class=\"gravatar-wrapper-32\"><img alt=\"\" class=\"bar-sm\" height=\"32\" src=\"https://www.gravatar.com/avatar/7b101504605f7d8657ad0bbf87d565d0?s=32&amp;d=identicon&amp;r=PG\" width=\"32\"/></div></a>\n  </div>\n  <div class=\"user-details\">\n  <a href=\"/users/2592/josh-hunt\">Josh Hunt</a>\n  <div class=\"-flair\">\n  <span class=\"reputation-score\" dir=\"ltr\" title=\"reputation score 12,175\">12.2k</span><span aria-hidden=\"true\" title=\"24 gold badges\"><span class=\"badge1\"></span><span class=\"badgecount\">24</span></span><span class=\"v-visible-sr\">24 gold badges</span><span aria-hidden=\"true\" title=\"71 silver badges\"><span class=\"badge2\"></span><span class=\"badgecount\">71</span></span><span class=\"v-visible-sr\">71 silver badges</span><span aria-hidden=\"true\" title=\"94 bronze badges\"><span class=\"badge3\"></span><span class=\"badgecount\">94</span></span><span class=\"v-visible-sr\">94 bronze badges</span>\n  </div>\n  </div>\n  </div>\n  </div>\n  </div>\n  </div>, <div class=\"question-summary\" id=\"question-summary-1317714\">\n  <div class=\"statscontainer\">\n  <div class=\"stats\">\n  <div class=\"vote\">\n  <div class=\"votes\">\n  <span class=\"vote-count-post\"><strong>173</strong></span>\n  <div class=\"viewcount\">votes</div>\n  </div>\n  </div>\n  <div class=\"status answered\">\n  <strong>14</strong>answers\n              </div>\n  </div>\n  <div class=\"views supernova\" title=\"177,199 views\">\n      177k views\n  </div>\n  </div>\n  <div class=\"summary\">\n  <h3><a class=\"question-hyperlink\" href=\"/questions/1317714/how-can-i-filter-a-date-of-a-datetimefield-in-django\">How can I filter a date of a DateTimeField in Django?</a></h3>\n  <div class=\"excerpt\">\n              I am trying to filter a DateTimeField comparing with a date. I mean:\n  \n  MyObject.objects.filter(datetime_attr=datetime.date(2009,8,22))\n  I get an empty queryset list as an answer because (I think) I am ...\n          </div>\n  <div class=\"tags t-python t-django t-datetime t-filter t-django-queryset\">\n  <a class=\"post-tag\" href=\"/questions/tagged/python\" rel=\"tag\" title=\"show questions tagged 'python'\">python</a> <a class=\"post-tag\" href=\"/questions/tagged/django\" rel=\"tag\" title=\"show questions tagged 'django'\">django</a> <a class=\"post-tag\" href=\"/questions/tagged/datetime\" rel=\"tag\" title=\"show questions tagged 'datetime'\">datetime</a> <a class=\"post-tag\" href=\"/questions/tagged/filter\" rel=\"tag\" title=\"show questions tagged 'filter'\">filter</a> <a class=\"post-tag\" href=\"/questions/tagged/django-queryset\" rel=\"tag\" title=\"show questions tagged 'django-queryset'\">django-queryset</a>\n  </div>\n  <div class=\"started fr\">\n  <div class=\"user-info\">\n  <div class=\"user-action-time\">\n          asked <span class=\"relativetime\" title=\"2009-08-23 03:52:07Z\">Aug 23 '09 at 3:52</span>\n  </div>\n  <div class=\"user-gravatar32\">\n  <a href=\"/users/153445/xidobix\"><div class=\"gravatar-wrapper-32\"><img alt=\"\" class=\"bar-sm\" height=\"32\" src=\"https://www.gravatar.com/avatar/0fb1bc68e6116cf69286944b9e5a5694?s=32&amp;d=identicon&amp;r=PG\" width=\"32\"/></div></a>\n  </div>\n  <div class=\"user-details\">\n  <a href=\"/users/153445/xidobix\">Xidobix</a>\n  <div class=\"-flair\">\n  <span class=\"reputation-score\" dir=\"ltr\" title=\"reputation score \">2,028</span><span aria-hidden=\"true\" title=\"3 gold badges\"><span class=\"badge1\"></span><span class=\"badgecount\">3</span></span><span class=\"v-visible-sr\">3 gold badges</span><span aria-hidden=\"true\" title=\"15 silver badges\"><span class=\"badge2\"></span><span class=\"badgecount\">15</span></span><span class=\"v-visible-sr\">15 silver badges</span><span aria-hidden=\"true\" title=\"10 bronze badges\"><span class=\"badge3\"></span><span class=\"badgecount\">10</span></span><span class=\"v-visible-sr\">10 bronze badges</span>\n  </div>\n  </div>\n  </div>\n  </div>\n  </div>\n  </div>, <div class=\"question-summary\" id=\"question-summary-275174\">\n  <div class=\"statscontainer\">\n  <div class=\"stats\">\n  <div class=\"vote\">\n  <div class=\"votes\">\n  <span class=\"vote-count-post\"><strong>128</strong></span>\n  <div class=\"viewcount\">votes</div>\n  </div>\n  </div>\n  <div class=\"status answered-accepted\">\n  <strong>15</strong>answers\n              </div>\n  </div>\n  <div class=\"views supernova\" title=\"173,485 views\">\n      173k views\n  </div>\n  </div>\n  <div class=\"summary\">\n  <h3><a class=\"question-hyperlink\" href=\"/questions/275174/how-do-i-perform-html-decoding-encoding-using-python-django\">How do I perform HTML decoding/encoding using Python/Django?</a></h3>\n  <div class=\"excerpt\">\n              I have a string that is HTML encoded: \n  \n  '''&amp;lt;img class=&amp;quot;size-medium wp-image-113&amp;quot;\\\n   style=&amp;quot;margin-left: 15px;&amp;quot; title=&amp;quot;su1&amp;quot;\\\n   src=&amp;quot;...\n          </div>\n  <div class=\"tags t-python t-django t-html-encode\">\n  <a class=\"post-tag\" href=\"/questions/tagged/python\" rel=\"tag\" title=\"show questions tagged 'python'\">python</a> <a class=\"post-tag\" href=\"/questions/tagged/django\" rel=\"tag\" title=\"show questions tagged 'django'\">django</a> <a class=\"post-tag\" href=\"/questions/tagged/html-encode\" rel=\"tag\" title=\"show questions tagged 'html-encode'\">html-encode</a>\n  </div>\n  <div class=\"started fr\">\n  <div class=\"user-info\">\n  <div class=\"user-action-time\">\n          asked <span class=\"relativetime\" title=\"2008-11-08 20:44:30Z\">Nov 8 '08 at 20:44</span>\n  </div>\n  <div class=\"user-gravatar32\">\n  <a href=\"/users/23695/rksprst\"><div class=\"gravatar-wrapper-32\"><img alt=\"\" class=\"bar-sm\" height=\"32\" src=\"https://www.gravatar.com/avatar/0e452395000a93c90a1858f2e791882d?s=32&amp;d=identicon&amp;r=PG\" width=\"32\"/></div></a>\n  </div>\n  <div class=\"user-details\">\n  <a href=\"/users/23695/rksprst\">rksprst</a>\n  <div class=\"-flair\">\n  <span class=\"reputation-score\" dir=\"ltr\" title=\"reputation score \">5,971</span><span aria-hidden=\"true\" title=\"18 gold badges\"><span class=\"badge1\"></span><span class=\"badgecount\">18</span></span><span class=\"v-visible-sr\">18 gold badges</span><span aria-hidden=\"true\" title=\"49 silver badges\"><span class=\"badge2\"></span><span class=\"badgecount\">49</span></span><span class=\"v-visible-sr\">49 silver badges</span><span aria-hidden=\"true\" title=\"79 bronze badges\"><span class=\"badge3\"></span><span class=\"badgecount\">79</span></span><span class=\"v-visible-sr\">79 bronze badges</span>\n  </div>\n  </div>\n  </div>\n  </div>\n  </div>\n  </div>, <div class=\"question-summary\" id=\"question-summary-2922874\">\n  <div class=\"statscontainer\">\n  <div class=\"stats\">\n  <div class=\"vote\">\n  <div class=\"votes\">\n  <span class=\"vote-count-post\"><strong>56</strong></span>\n  <div class=\"viewcount\">votes</div>\n  </div>\n  </div>\n  <div class=\"status answered-accepted\">\n  <strong>2</strong>answers\n              </div>\n  </div>\n  <div class=\"views hot\" title=\"40,374 views\">\n      40k views\n  </div>\n  </div>\n  <div class=\"summary\">\n  <h3><a class=\"question-hyperlink\" href=\"/questions/2922874/how-to-stream-an-httpresponse-with-django\">How to stream an HttpResponse with Django</a></h3>\n  <div class=\"excerpt\">\n              I'm trying to get the 'hello world' of streaming responses working for Django (1.2).  I figured out how to use a generator and the yield function.  But the response still not streaming.  I suspect ...\n          </div>\n  <div class=\"tags t-python t-django t-streaming\">\n  <a class=\"post-tag\" href=\"/questions/tagged/python\" rel=\"tag\" title=\"show questions tagged 'python'\">python</a> <a class=\"post-tag\" href=\"/questions/tagged/django\" rel=\"tag\" title=\"show questions tagged 'django'\">django</a> <a class=\"post-tag\" href=\"/questions/tagged/streaming\" rel=\"tag\" title=\"show questions tagged 'streaming'\">streaming</a>\n  </div>\n  <div class=\"started fr\">\n  <div class=\"user-info user-hover\">\n  <div class=\"user-action-time\">\n          asked <span class=\"relativetime\" title=\"2010-05-27 16:21:20Z\">May 27 '10 at 16:21</span>\n  </div>\n  <div class=\"user-gravatar32\">\n  <a href=\"/users/288843/muudscope\"><div class=\"gravatar-wrapper-32\"><img alt=\"\" class=\"bar-sm\" height=\"32\" src=\"https://www.gravatar.com/avatar/b26ee05a6a9da528a55da851e726d950?s=32&amp;d=identicon&amp;r=PG\" width=\"32\"/></div></a>\n  </div>\n  <div class=\"user-details\">\n  <a href=\"/users/288843/muudscope\">muudscope</a>\n  <div class=\"-flair\">\n  <span class=\"reputation-score\" dir=\"ltr\" title=\"reputation score \">5,626</span><span aria-hidden=\"true\" title=\"4 gold badges\"><span class=\"badge1\"></span><span class=\"badgecount\">4</span></span><span class=\"v-visible-sr\">4 gold badges</span><span aria-hidden=\"true\" title=\"17 silver badges\"><span class=\"badge2\"></span><span class=\"badgecount\">17</span></span><span class=\"v-visible-sr\">17 silver badges</span><span aria-hidden=\"true\" title=\"19 bronze badges\"><span class=\"badge3\"></span><span class=\"badgecount\">19</span></span><span class=\"v-visible-sr\">19 bronze badges</span>\n  </div>\n  </div>\n  </div>\n  </div>\n  </div>\n  </div>, <div class=\"question-summary\" id=\"question-summary-17716624\">\n  <div class=\"statscontainer\">\n  <div class=\"stats\">\n  <div class=\"vote\">\n  <div class=\"votes\">\n  <span class=\"vote-count-post\"><strong>81</strong></span>\n  <div class=\"viewcount\">votes</div>\n  </div>\n  </div>\n  <div class=\"status answered-accepted\">\n  <strong>18</strong>answers\n              </div>\n  </div>\n  <div class=\"views supernova\" title=\"112,929 views\">\n      113k views\n  </div>\n  </div>\n  <div class=\"summary\">\n  <h3><a class=\"question-hyperlink\" href=\"/questions/17716624/django-csrf-cookie-not-set\">Django CSRF Cookie Not Set</a></h3>\n  <div class=\"excerpt\">\n              I have some problem for a while now, I'm experiencing CSRF Cookie not set. Please look at the codes below\n  \n  Python\n  \n  def deposit(request,account_num):\n  if request.method == 'POST':\n      account = ...\n          </div>\n  <div class=\"tags t-python t-django\">\n  <a class=\"post-tag\" href=\"/questions/tagged/python\" rel=\"tag\" title=\"show questions tagged 'python'\">python</a> <a class=\"post-tag\" href=\"/questions/tagged/django\" rel=\"tag\" title=\"show questions tagged 'django'\">django</a>\n  </div>\n  <div class=\"started fr\">\n  <div class=\"user-info\">\n  <div class=\"user-action-time\">\n          asked <span class=\"relativetime\" title=\"2013-07-18 06:58:55Z\">Jul 18 '13 at 6:58</span>\n  </div>\n  <div class=\"user-gravatar32\">\n  <span class=\"anonymous-gravatar\"></span>\n  </div>\n  <div class=\"user-details\">\n          user2389182\n          <div class=\"-flair\">\n  </div>\n  </div>\n  </div>\n  </div>\n  </div>\n  </div>, <div class=\"question-summary\" id=\"question-summary-26697565\">\n  <div class=\"statscontainer\">\n  <div class=\"stats\">\n  <div class=\"vote\">\n  <div class=\"votes\">\n  <span class=\"vote-count-post\"><strong>27</strong></span>\n  <div class=\"viewcount\">votes</div>\n  </div>\n  </div>\n  <div class=\"status answered-accepted\">\n  <strong>11</strong>answers\n              </div>\n  </div>\n  <div class=\"views hot\" title=\"36,751 views\">\n      37k views\n  </div>\n  </div>\n  <div class=\"summary\">\n  <h3><a class=\"question-hyperlink\" href=\"/questions/26697565/django-smtpauthenticationerror\">Django SMTPAuthenticationError</a></h3>\n  <div class=\"excerpt\">\n              I am new in django and developing a web application using django. I have successfully set the Signup functionality using Userena in my web application and can Register as a user with Verification ...\n          </div>\n  <div class=\"tags t-python t-django\">\n  <a class=\"post-tag\" href=\"/questions/tagged/python\" rel=\"tag\" title=\"show questions tagged 'python'\">python</a> <a class=\"post-tag\" href=\"/questions/tagged/django\" rel=\"tag\" title=\"show questions tagged 'django'\">django</a>\n  </div>\n  <div class=\"started fr\">\n  <div class=\"user-info user-hover\">\n  <div class=\"user-action-time\">\n          asked <span class=\"relativetime\" title=\"2014-11-02 08:46:33Z\">Nov 2 '14 at 8:46</span>\n  </div>\n  <div class=\"user-gravatar32\">\n  <a href=\"/users/2971215/md-tanvir-raihan\"><div class=\"gravatar-wrapper-32\"><img alt=\"\" class=\"bar-sm\" height=\"32\" src=\"https://www.gravatar.com/avatar/daebe0c7b2a5dc4b08ffb87bd92fbead?s=32&amp;d=identicon&amp;r=PG&amp;f=1\" width=\"32\"/></div></a>\n  </div>\n  <div class=\"user-details\">\n  <a href=\"/users/2971215/md-tanvir-raihan\">Md. Tanvir Raihan</a>\n  <div class=\"-flair\">\n  <span class=\"reputation-score\" dir=\"ltr\" title=\"reputation score \">2,720</span><span aria-hidden=\"true\" title=\"5 gold badges\"><span class=\"badge1\"></span><span class=\"badgecount\">5</span></span><span class=\"v-visible-sr\">5 gold badges</span><span aria-hidden=\"true\" title=\"27 silver badges\"><span class=\"badge2\"></span><span class=\"badgecount\">27</span></span><span class=\"v-visible-sr\">27 silver badges</span><span aria-hidden=\"true\" title=\"53 bronze badges\"><span class=\"badge3\"></span><span class=\"badgecount\">53</span></span><span class=\"v-visible-sr\">53 bronze badges</span>\n  </div>\n  </div>\n  </div>\n  </div>\n  </div>\n  </div>, <div class=\"question-summary\" id=\"question-summary-6367014\">\n  <div class=\"statscontainer\">\n  <div class=\"stats\">\n  <div class=\"vote\">\n  <div class=\"votes\">\n  <span class=\"vote-count-post\"><strong>153</strong></span>\n  <div class=\"viewcount\">votes</div>\n  </div>\n  </div>\n  <div class=\"status answered-accepted\">\n  <strong>11</strong>answers\n              </div>\n  </div>\n  <div class=\"views supernova\" title=\"168,548 views\">\n      169k views\n  </div>\n  </div>\n  <div class=\"summary\">\n  <h3><a class=\"question-hyperlink\" href=\"/questions/6367014/how-to-send-email-via-django\">How to send email via Django?</a></h3>\n  <div class=\"excerpt\">\n              In my settings.py, I have the following: \n  \n  EMAIL_BACKEND = 'django.core.mail.backends.smtp.EmailBackend'\n  \n  # Host for sending e-mail.\n  EMAIL_HOST = 'localhost'\n  \n  # Port for sending e-mail.\n  EMAIL_PORT = ...\n          </div>\n  <div class=\"tags t-python t-django t-email t-smtp\">\n  <a class=\"post-tag\" href=\"/questions/tagged/python\" rel=\"tag\" title=\"show questions tagged 'python'\">python</a> <a class=\"post-tag\" href=\"/questions/tagged/django\" rel=\"tag\" title=\"show questions tagged 'django'\">django</a> <a class=\"post-tag\" href=\"/questions/tagged/email\" rel=\"tag\" title=\"show questions tagged 'email'\">email</a> <a class=\"post-tag\" href=\"/questions/tagged/smtp\" rel=\"tag\" title=\"show questions tagged 'smtp'\">smtp</a>\n  </div>\n  <div class=\"started fr\">\n  <div class=\"user-info\">\n  <div class=\"user-action-time\">\n          asked <span class=\"relativetime\" title=\"2011-06-16 04:11:12Z\">Jun 16 '11 at 4:11</span>\n  </div>\n  <div class=\"user-gravatar32\">\n  <a href=\"/users/749477/derek\"><div class=\"gravatar-wrapper-32\"><img alt=\"\" class=\"bar-sm\" height=\"32\" src=\"https://www.gravatar.com/avatar/6845c6b2318e02258cc1dc56fe620482?s=32&amp;d=identicon&amp;r=PG\" width=\"32\"/></div></a>\n  </div>\n  <div class=\"user-details\">\n  <a href=\"/users/749477/derek\">Derek</a>\n  <div class=\"-flair\">\n  <span class=\"reputation-score\" dir=\"ltr\" title=\"reputation score 10,226\">10.2k</span><span aria-hidden=\"true\" title=\"23 gold badges\"><span class=\"badge1\"></span><span class=\"badgecount\">23</span></span><span class=\"v-visible-sr\">23 gold badges</span><span aria-hidden=\"true\" title=\"86 silver badges\"><span class=\"badge2\"></span><span class=\"badgecount\">86</span></span><span class=\"v-visible-sr\">86 silver badges</span><span aria-hidden=\"true\" title=\"144 bronze badges\"><span class=\"badge3\"></span><span class=\"badgecount\">144</span></span><span class=\"v-visible-sr\">144 bronze badges</span>\n  </div>\n  </div>\n  </div>\n  </div>\n  </div>\n  </div>, <div class=\"question-summary\" id=\"question-summary-2201598\">\n  <div class=\"statscontainer\">\n  <div class=\"stats\">\n  <div class=\"vote\">\n  <div class=\"votes\">\n  <span class=\"vote-count-post\"><strong>391</strong></span>\n  <div class=\"viewcount\">votes</div>\n  </div>\n  </div>\n  <div class=\"status answered-accepted\">\n  <strong>2</strong>answers\n              </div>\n  </div>\n  <div class=\"views supernova\" title=\"113,337 views\">\n      113k views\n  </div>\n  </div>\n  <div class=\"summary\">\n  <h3><a class=\"question-hyperlink\" href=\"/questions/2201598/how-to-define-two-fields-unique-as-couple\">How to define two fields “unique” as couple</a></h3>\n  <div class=\"excerpt\">\n              Is there a way to define a couple of fields as unique in Django?\n  \n  I have a table of volumes (of journals) and I don't want more then one volume number for the same journal.\n  \n  class Volume(models.Model):...\n          </div>\n  <div class=\"tags t-python t-django t-django-models\">\n  <a class=\"post-tag\" href=\"/questions/tagged/python\" rel=\"tag\" title=\"show questions tagged 'python'\">python</a> <a class=\"post-tag\" href=\"/questions/tagged/django\" rel=\"tag\" title=\"show questions tagged 'django'\">django</a> <a class=\"post-tag\" href=\"/questions/tagged/django-models\" rel=\"tag\" title=\"show questions tagged 'django-models'\">django-models</a>\n  </div>\n  <div class=\"started fr\">\n  <div class=\"user-info\">\n  <div class=\"user-action-time\">\n          asked <span class=\"relativetime\" title=\"2010-02-04 17:04:30Z\">Feb 4 '10 at 17:04</span>\n  </div>\n  <div class=\"user-gravatar32\">\n  <a href=\"/users/257092/giovanni-di-milia\"><div class=\"gravatar-wrapper-32\"><img alt=\"\" class=\"bar-sm\" height=\"32\" src=\"https://www.gravatar.com/avatar/5abf82f5bdad70b7e9d977dccb55bd80?s=32&amp;d=identicon&amp;r=PG\" width=\"32\"/></div></a>\n  </div>\n  <div class=\"user-details\">\n  <a href=\"/users/257092/giovanni-di-milia\">Giovanni Di Milia</a>\n  <div class=\"-flair\">\n  <span class=\"reputation-score\" dir=\"ltr\" title=\"reputation score 10,162\">10.2k</span><span aria-hidden=\"true\" title=\"11 gold badges\"><span class=\"badge1\"></span><span class=\"badgecount\">11</span></span><span class=\"v-visible-sr\">11 gold badges</span><span aria-hidden=\"true\" title=\"44 silver badges\"><span class=\"badge2\"></span><span class=\"badgecount\">44</span></span><span class=\"v-visible-sr\">44 silver badges</span><span aria-hidden=\"true\" title=\"65 bronze badges\"><span class=\"badge3\"></span><span class=\"badgecount\">65</span></span><span class=\"v-visible-sr\">65 bronze badges</span>\n  </div>\n  </div>\n  </div>\n  </div>\n  </div>\n  </div>, <div class=\"question-summary\" id=\"question-summary-1208067\">\n  <div class=\"statscontainer\">\n  <div class=\"stats\">\n  <div class=\"vote\">\n  <div class=\"votes\">\n  <span class=\"vote-count-post\"><strong>160</strong></span>\n  <div class=\"viewcount\">votes</div>\n  </div>\n  </div>\n  <div class=\"status answered-accepted\">\n  <strong>12</strong>answers\n              </div>\n  </div>\n  <div class=\"views supernova\" title=\"181,867 views\">\n      182k views\n  </div>\n  </div>\n  <div class=\"summary\">\n  <h3><a class=\"question-hyperlink\" href=\"/questions/1208067/wheres-my-json-data-in-my-incoming-django-request\">Where's my JSON data in my incoming Django request?</a></h3>\n  <div class=\"excerpt\">\n              I'm trying to process incoming JSON/Ajax requests with Django/Python.\n  \n  request.is_ajax() is True on the request, but I have no idea where the payload is with the JSON data.\n  \n  request.POST.dir contains ...\n          </div>\n  <div class=\"tags t-python t-ajax t-json t-django t-content-type\">\n  <a class=\"post-tag\" href=\"/questions/tagged/python\" rel=\"tag\" title=\"show questions tagged 'python'\">python</a> <a class=\"post-tag\" href=\"/questions/tagged/ajax\" rel=\"tag\" title=\"show questions tagged 'ajax'\">ajax</a> <a class=\"post-tag\" href=\"/questions/tagged/json\" rel=\"tag\" title=\"show questions tagged 'json'\">json</a> <a class=\"post-tag\" href=\"/questions/tagged/django\" rel=\"tag\" title=\"show questions tagged 'django'\">django</a> <a class=\"post-tag\" href=\"/questions/tagged/content-type\" rel=\"tag\" title=\"show questions tagged 'content-type'\">content-type</a>\n  </div>\n  <div class=\"started fr\">\n  <div class=\"user-info\">\n  <div class=\"user-action-time\">\n          asked <span class=\"relativetime\" title=\"2009-07-30 17:22:53Z\">Jul 30 '09 at 17:22</span>\n  </div>\n  <div class=\"user-gravatar32\">\n  <span class=\"anonymous-gravatar\"></span>\n  </div>\n  <div class=\"user-details\">\n          user122299\n          <div class=\"-flair\">\n  </div>\n  </div>\n  </div>\n  </div>\n  </div>\n  </div>]]"
          },
          "metadata": {},
          "execution_count": 4
        }
      ]
    },
    {
      "cell_type": "markdown",
      "metadata": {
        "id": "21u58D6xwFkU",
        "colab_type": "text"
      },
      "source": [
        "#Transformação do dado cru coletado do Stackoverflow em dicionário\n",
        "**questions_overview(questions_overview_raw)**\n",
        "\n",
        "O dicionário deve conter a visão geral das perguntas do stackoverflow, com:\n",
        "\n",
        "* link\n",
        "* brief_description\n",
        "* votes\n",
        "* views"
      ]
    },
    {
      "cell_type": "markdown",
      "metadata": {
        "id": "6Fj83JnZmFtH",
        "colab_type": "text"
      },
      "source": [
        "###Análise do padrão da página HTML para captura de informações relevantes:\n",
        "\n",
        "Em \"question-summary\", temos as seguintes informações relevantes:\n",
        "\n",
        "1.   class = statscontainer, com:\n",
        "*   Número de votos em class=\"vote-count-post \"\n",
        ">```<span class=\"vote-count-post high-scored-post\"><strong>2473</strong></span>```\n",
        "\n",
        "*   Número de respostas aceitas em class=\"status answered-accepted\" \n",
        ">```<div class=\"status answered-accepted\"><strong>23</strong>answers</div>```\n",
        "\n",
        "*   Conteúdo e Title contendo quantidade de views em class=\"views supernova\" \n",
        ">```<div class=\"views supernova\" title=\"307,292 views\">307k views</div>```\n",
        "\n",
        "2.   class = summary, com:\n",
        "* class=\"question-hyperlink\" contendo em *href* parte do link para compor link de acesso à página detalhada da pergunta e Título da pergunta\n",
        ">``` <a href=\"/questions/15112125/how-to-test-multiple-variables-against-a-value\" class=\"question-hyperlink\">How to test multiple variables against a value?</a>```\n",
        "\n",
        "*   Breve resumo em class=\"excerpt\"\n",
        ">```<div class=\"excerpt\"> brief description of the question ...</div>```\n",
        "\n",
        "*   Tags em class=\"post-tag\"\n",
        ">```<a href=\"/questions/tagged/python\" class=\"post-tag\" title=\"show questions tagged 'python'\" rel=\"tag\">python</a>```\n",
        "\n",
        "\n",
        "\n"
      ]
    },
    {
      "cell_type": "code",
      "execution_count": 65,
      "metadata": {},
      "outputs": [],
      "source": [
        "def clean_text (text):\n",
        "    text = text.translate(str.maketrans('', '', string.punctuation))\n",
        "    text = text.replace('\\n',' ').strip()\n",
        "    text = text.lower()\n",
        "    text = unidecode.unidecode(text)\n",
        "    return text"
      ]
    },
    {
      "cell_type": "markdown",
      "metadata": {},
      "source": [
        "Teste do funcionamento da biblioteca re no tratamento de regular expressions:"
      ]
    },
    {
      "cell_type": "code",
      "execution_count": 43,
      "metadata": {},
      "outputs": [
        {
          "output_type": "execute_result",
          "data": {
            "text/plain": "0"
          },
          "metadata": {},
          "execution_count": 43
        }
      ],
      "source": [
        "answers_count = '0answer'\n",
        "int(re.sub('answer*','',answers_count))"
      ]
    },
    {
      "cell_type": "markdown",
      "metadata": {},
      "source": [
        "Teste do funcionamento da biblioteca beautifulsoup"
      ]
    },
    {
      "cell_type": "code",
      "execution_count": 5,
      "metadata": {
        "tags": []
      },
      "outputs": [
        {
          "output_type": "stream",
          "name": "stdout",
          "text": "12\n"
        }
      ],
      "source": [
        "rel_soup = bs('<div class=\"status answered-accepted\"><strong>12</strong>answers</div>')\n",
        "rel_soup = int(rel_soup.select_one('.answered-accepted').next_element.getText())\n",
        "\n",
        "print(rel_soup)"
      ]
    },
    {
      "cell_type": "code",
      "metadata": {
        "id": "DEQEhGyPCfX2",
        "colab_type": "code",
        "colab": {}
      },
      "source": [
        "def questions_overview(questions_overview_raw):\n",
        "  questions_overview = { 'questions':[]}\n",
        "\n",
        "  for soups in questions_overview_raw:\n",
        "    for soup in soups:\n",
        "      title = soup.select_one('.question-hyperlink').getText()\n",
        "      link = 'https://stackoverflow.com'+soup.select_one('.question-hyperlink').get('href')\n",
        "      summary = soup.select_one('.excerpt').getText()\n",
        "      vote_count =  soup.select_one('.vote-count-post').getText()\n",
        "      answers_count = soup.select_one('.answered-accepted')\n",
        "      answers_count = re.sub('\\D','',answers_count.getText('')) if answers_count else '0'\n",
        "      views =  re.sub('views','',soup.select_one('.views').attrs['title'])\n",
        "      views = re.sub(',','',views)\n",
        "      tags = []\n",
        "      for tag in soup.select('.post-tag'): tags.append(tag.getText())\n",
        "\n",
        "      questions_overview['questions'].append({\n",
        "          'title': clean_text(title),\n",
        "          'link': link,\n",
        "          'summary': clean_text(summary),\n",
        "          'vote_count': int(vote_count),\n",
        "          'answers_count': int(answers_count),\n",
        "          'views': int(views),\n",
        "          'tags': tags,\n",
        "          'full_question': '',\n",
        "          'best_answer': '',\n",
        "           'search_vector': '', #unificar vetor com pergunta e resposta\n",
        "      })\n",
        "\n",
        "  questions_df = pd.DataFrame(questions_overview['questions'])\n",
        "  \n",
        "  return questions_df"
      ],
      "execution_count": 53,
      "outputs": []
    },
    {
      "cell_type": "markdown",
      "metadata": {
        "id": "2u-c-nhmVWvv",
        "colab_type": "text"
      },
      "source": [
        "#Trasformação de dicionário em dataframe"
      ]
    },
    {
      "cell_type": "code",
      "metadata": {
        "id": "NzPT8KArDl4e",
        "colab_type": "code",
        "colab": {
          "base_uri": "https://localhost:8080/",
          "height": 34
        },
        "outputId": "f9dc45e4-1fdd-4a17-e462-6cbc70c598a9",
        "tags": []
      },
      "source": [
        "questions_df = questions_overview(questions_overview_raw)\n",
        "type(questions_df)"
      ],
      "execution_count": 54,
      "outputs": [
        {
          "output_type": "execute_result",
          "data": {
            "text/plain": "pandas.core.frame.DataFrame"
          },
          "metadata": {},
          "execution_count": 54
        }
      ]
    },
    {
      "cell_type": "markdown",
      "metadata": {
        "id": "feA0REYGN3cg",
        "colab_type": "text"
      },
      "source": [
        "#Exemplos de como acessar a informação no dataframe:"
      ]
    },
    {
      "cell_type": "code",
      "metadata": {
        "id": "YhPPA_TmYceK",
        "colab_type": "code",
        "colab": {
          "base_uri": "https://localhost:8080/",
          "height": 554
        },
        "outputId": "5495d8d7-1bef-407f-c954-26d4c19ca3a9",
        "tags": []
      },
      "source": [
        "print('Lista com links:\\n',questions_df['link'])\n",
        "\n",
        "print('\\n Acesso a dados de um link específico\\n--- Link: ',questions_df['link'][0])\n",
        "\n",
        "print('\\n--- Título: ', questions_df['title'][0])\n",
        "\n",
        "print('\\n--- Breve Descrição: ', questions_df['summary'][0])\n",
        "\n",
        "print('\\n--- Contagem de votos: ', questions_df['vote_count'][0])\n",
        "\n",
        "print('\\n--- Contagem de respostas: ', questions_df['answers_count'][0])\n",
        "\n",
        "print('\\n--- Contagem de visualizações: ', questions_df['views'][0])\n",
        "\n",
        "print('\\n--- Lista como tags: ', questions_df['tags'][0])\n"
      ],
      "execution_count": 55,
      "outputs": [
        {
          "output_type": "stream",
          "name": "stdout",
          "text": "Lista com links:\n 0     https://stackoverflow.com/questions/23708898/p...\n1     https://stackoverflow.com/questions/573618/set...\n2     https://stackoverflow.com/questions/8000022/dj...\n3     https://stackoverflow.com/questions/5100539/dj...\n4     https://stackoverflow.com/questions/8609192/di...\n5     https://stackoverflow.com/questions/1156246/ha...\n6     https://stackoverflow.com/questions/2428092/cr...\n7     https://stackoverflow.com/questions/7446187/no...\n8     https://stackoverflow.com/questions/2642613/wh...\n9     https://stackoverflow.com/questions/629551/how...\n10    https://stackoverflow.com/questions/20306981/h...\n11    https://stackoverflow.com/questions/298772/dja...\n12    https://stackoverflow.com/questions/7933596/dj...\n13    https://stackoverflow.com/questions/1395807/pr...\n14    https://stackoverflow.com/questions/291945/how...\n15    https://stackoverflow.com/questions/1626326/ho...\n16    https://stackoverflow.com/questions/4668619/ho...\n17    https://stackoverflow.com/questions/6583877/ho...\n18    https://stackoverflow.com/questions/6791911/ex...\n19    https://stackoverflow.com/questions/5895588/dj...\n20    https://stackoverflow.com/questions/38744285/d...\n21    https://stackoverflow.com/questions/427102/wha...\n22    https://stackoverflow.com/questions/13866926/i...\n23    https://stackoverflow.com/questions/26646362/n...\n24    https://stackoverflow.com/questions/4581789/ho...\n25    https://stackoverflow.com/questions/2170228/it...\n26    https://stackoverflow.com/questions/29950956/d...\n27    https://stackoverflow.com/questions/454854/no-...\n28    https://stackoverflow.com/questions/35760943/h...\n29    https://stackoverflow.com/questions/622982/dja...\n                            ...                        \n70    https://stackoverflow.com/questions/15556499/d...\n71    https://stackoverflow.com/questions/962619/how...\n72    https://stackoverflow.com/questions/4733609/ho...\n73    https://stackoverflow.com/questions/53939751/p...\n74    https://stackoverflow.com/questions/3346124/ho...\n75    https://stackoverflow.com/questions/18156452/d...\n76    https://stackoverflow.com/questions/42708389/h...\n77    https://stackoverflow.com/questions/34114427/d...\n78    https://stackoverflow.com/questions/12165636/d...\n79    https://stackoverflow.com/questions/12578908/s...\n80    https://stackoverflow.com/questions/16853649/h...\n81    https://stackoverflow.com/questions/866272/how...\n82    https://stackoverflow.com/questions/2771676/dj...\n83    https://stackoverflow.com/questions/1393202/dj...\n84    https://stackoverflow.com/questions/25459386/m...\n85    https://stackoverflow.com/questions/2770810/mu...\n86    https://stackoverflow.com/questions/14351048/d...\n87    https://stackoverflow.com/questions/4651172/re...\n88    https://stackoverflow.com/questions/28036404/d...\n89    https://stackoverflow.com/questions/2216974/dj...\n90    https://stackoverflow.com/questions/3748295/ge...\n91    https://stackoverflow.com/questions/908258/gen...\n92    https://stackoverflow.com/questions/1317714/ho...\n93    https://stackoverflow.com/questions/275174/how...\n94    https://stackoverflow.com/questions/2922874/ho...\n95    https://stackoverflow.com/questions/17716624/d...\n96    https://stackoverflow.com/questions/26697565/d...\n97    https://stackoverflow.com/questions/6367014/ho...\n98    https://stackoverflow.com/questions/2201598/ho...\n99    https://stackoverflow.com/questions/1208067/wh...\nName: link, Length: 100, dtype: object\n\n Acesso a dados de um link específico\n--- Link:  https://stackoverflow.com/questions/23708898/pip-is-not-recognized-as-an-internal-or-external-command\n\n--- Título:  pip is not recognized as an internal or external command\n\n--- Breve Descrição:  Im running into a weird error when trying to install Django on my computer This is the sequence that I typed into my command line CPython34 python getpippy Requirement already uptodate\n\n--- Contagem de votos:  338\n\n--- Contagem de respostas:  32\n\n--- Contagem de visualizações:  1045040\n\n--- Lista como tags:  ['python', 'django', 'windows', 'pip']\n"
        }
      ]
    },
    {
      "cell_type": "markdown",
      "metadata": {
        "id": "_rFjl4HKL2is",
        "colab_type": "text"
      },
      "source": [
        "Próximos passos:\n",
        "\n",
        "\n",
        "1.   Enriquecer questions_df com a informação detalhada da pergunta e conteúdo da resposta com melhor avaliação\n",
        "2.   Limpar dados em questions_dic para remover caracteres irrelevantes, como: \\n, \\t, artigos, pronomes\n",
        "\n"
      ]
    },
    {
      "cell_type": "code",
      "metadata": {
        "id": "6I2PouNgMTo-",
        "colab_type": "code",
        "colab": {
          "base_uri": "https://localhost:8080/",
          "height": 279
        },
        "outputId": "f8ff9355-7484-41b5-9b13-4ae7138f767f"
      },
      "source": [
        "questions_df.head()"
      ],
      "execution_count": 9,
      "outputs": [
        {
          "output_type": "execute_result",
          "data": {
            "text/plain": "   answers_count best_answer full_question  \\\n0             32                             \n1             24                             \n2              8                             \n3             18                             \n4             17                             \n\n                                                link  \\\n0  https://stackoverflow.com/questions/23708898/p...   \n1  https://stackoverflow.com/questions/573618/set...   \n2  https://stackoverflow.com/questions/8000022/dj...   \n3  https://stackoverflow.com/questions/5100539/dj...   \n4  https://stackoverflow.com/questions/8609192/di...   \n\n                                             summary  \\\n0  \\r\\n            I'm running into a weird error...   \n1  \\r\\n            I've been working on a web app...   \n2  \\r\\n            mydict = {\"key1\":\"value1\", \"ke...   \n3  \\r\\n            I could use some help complyin...   \n4  \\r\\n            When we add a database field i...   \n\n                                                tags  \\\n0                     [python, django, windows, pip]   \n1  [python, django, web-applications, scheduled-t...   \n2            [python, django, templates, dictionary]   \n3                       [python, ajax, django, csrf]   \n4                    [python, django, django-models]   \n\n                                               title    views  vote_count  \n0  'pip' is not recognized as an internal or exte...  1045040         338  \n1                            Set up a scheduled job?   169474         521  \n2  Django template how to look up a dictionary va...   142226         234  \n3  Django CSRF check failing with an Ajax POST re...   151126         180  \n4      differentiate null=True, blank=True in django   257805         917  ",
            "text/html": "<div>\n<style scoped>\n    .dataframe tbody tr th:only-of-type {\n        vertical-align: middle;\n    }\n\n    .dataframe tbody tr th {\n        vertical-align: top;\n    }\n\n    .dataframe thead th {\n        text-align: right;\n    }\n</style>\n<table border=\"1\" class=\"dataframe\">\n  <thead>\n    <tr style=\"text-align: right;\">\n      <th></th>\n      <th>answers_count</th>\n      <th>best_answer</th>\n      <th>full_question</th>\n      <th>link</th>\n      <th>summary</th>\n      <th>tags</th>\n      <th>title</th>\n      <th>views</th>\n      <th>vote_count</th>\n    </tr>\n  </thead>\n  <tbody>\n    <tr>\n      <th>0</th>\n      <td>32</td>\n      <td></td>\n      <td></td>\n      <td>https://stackoverflow.com/questions/23708898/p...</td>\n      <td>\\r\\n            I'm running into a weird error...</td>\n      <td>[python, django, windows, pip]</td>\n      <td>'pip' is not recognized as an internal or exte...</td>\n      <td>1045040</td>\n      <td>338</td>\n    </tr>\n    <tr>\n      <th>1</th>\n      <td>24</td>\n      <td></td>\n      <td></td>\n      <td>https://stackoverflow.com/questions/573618/set...</td>\n      <td>\\r\\n            I've been working on a web app...</td>\n      <td>[python, django, web-applications, scheduled-t...</td>\n      <td>Set up a scheduled job?</td>\n      <td>169474</td>\n      <td>521</td>\n    </tr>\n    <tr>\n      <th>2</th>\n      <td>8</td>\n      <td></td>\n      <td></td>\n      <td>https://stackoverflow.com/questions/8000022/dj...</td>\n      <td>\\r\\n            mydict = {\"key1\":\"value1\", \"ke...</td>\n      <td>[python, django, templates, dictionary]</td>\n      <td>Django template how to look up a dictionary va...</td>\n      <td>142226</td>\n      <td>234</td>\n    </tr>\n    <tr>\n      <th>3</th>\n      <td>18</td>\n      <td></td>\n      <td></td>\n      <td>https://stackoverflow.com/questions/5100539/dj...</td>\n      <td>\\r\\n            I could use some help complyin...</td>\n      <td>[python, ajax, django, csrf]</td>\n      <td>Django CSRF check failing with an Ajax POST re...</td>\n      <td>151126</td>\n      <td>180</td>\n    </tr>\n    <tr>\n      <th>4</th>\n      <td>17</td>\n      <td></td>\n      <td></td>\n      <td>https://stackoverflow.com/questions/8609192/di...</td>\n      <td>\\r\\n            When we add a database field i...</td>\n      <td>[python, django, django-models]</td>\n      <td>differentiate null=True, blank=True in django</td>\n      <td>257805</td>\n      <td>917</td>\n    </tr>\n  </tbody>\n</table>\n</div>"
          },
          "metadata": {},
          "execution_count": 9
        }
      ]
    },
    {
      "cell_type": "code",
      "metadata": {
        "id": "7pncNTKawYOt",
        "colab_type": "code",
        "colab": {}
      },
      "source": [
        "\n",
        "def read_question_detail(questions_df):\n",
        "  \n",
        "  idx = 0\n",
        "  for link in questions_df['link']:\n",
        "    question = []\n",
        "    answer = []\n",
        "    try:\n",
        "      request = requests.get(link)\n",
        "      request.raise_for_status()\n",
        "      try:\n",
        "        #import urllib.request\n",
        "        #from lxml import html\n",
        "        #page = requests.get('http://econpy.pythonanywhere.com/ex/001.html')\n",
        "        #tree = html.fromstring(page.content)\n",
        "        #prices = tree.xpath('//span[@class=\"item-price\"]/text()')\n",
        "        soup = bs(request.text, 'html.parser')\n",
        "        questions_df['full_question'][idx] = clean_text(soup.find(\"div\", {\"id\": \"question\"}).select_one('.post-text').getText())\n",
        "        questions_df['best_answer'][idx] = clean_text(soup.find(\"div\", {\"id\": \"answers\"}).select_one('.post-text').getText())\n",
        "        #answer.append(soup.select_one('.div.answer-body'))\n",
        "        #answer.append(soup.select('div.-summary.answer'))\n",
        "\n",
        "      except: \n",
        "        print (\"Could not transform to soup object by selecting\")\n",
        "        questions_df['full_question'][idx] = \"No Question :( \"\n",
        "        questions_df['best_answer'][idx] = \"No Answer :( \"\n",
        "\n",
        "    except HTTPError:\n",
        "      print (\"Could not download page\")\n",
        "\n",
        "    idx += 1\n",
        "\n",
        "    sleep(0.05)\n",
        "\n",
        "  print(questions_df['best_answer'][0])\n",
        "\n",
        "  return questions_df\n",
        "\n"
      ],
      "execution_count": 57,
      "outputs": []
    },
    {
      "cell_type": "markdown",
      "metadata": {},
      "source": [
        "Testes:"
      ]
    },
    {
      "cell_type": "code",
      "execution_count": 27,
      "metadata": {
        "tags": []
      },
      "outputs": [
        {
          "output_type": "stream",
          "name": "stdout",
          "text": "\nI'm running into a weird error when trying to install Django on my computer.\nThis is the sequence that I typed into my command line:\nC:\\Python34> python get-pip.py\nRequirement already up-to-date: pip in c:\\python34\\lib\\site-packages\nCleaning up...\n\nC:\\Python34> pip install Django\n'pip' is not recognized as an internal or external command,\noperable program or batch file.\n\nC:\\Python34> lib\\site-packages\\pip install Django\n'lib\\site-packages\\pip' is not recognized as an internal or external command,\noperable program or batch file.\n\nWhat could be causing this?\nThis is what I get when I type in echo %PATH%:\nC:\\Python34>echo %PATH%\nC:\\Program Files\\ImageMagick-6.8.8-Q16;C:\\Program Files (x86)\\Intel\\iCLS Client\\\n;C:\\Program Files\\Intel\\iCLS Client\\;C:\\Windows\\system32;C:\\Windows;C:\\Windows\\S\nystem32\\Wbem;C:\\Windows\\System32\\WindowsPowerShell\\v1.0\\;C:\\Program Files (x86)\\\nWindows Live\\Shared;C:\\Program Files (x86)\\Intel\\OpenCL SDK\\2.0\\bin\\x86;C:\\Progr\nam Files (x86)\\Intel\\OpenCL SDK\\2.0\\bin\\x64;C:\\Program Files\\Intel\\Intel(R) Mana\ngement Engine Components\\DAL;C:\\Program Files\\Intel\\Intel(R) Management Engine C\nomponents\\IPT;C:\\Program Files (x86)\\Intel\\Intel(R) Management Engine Components\n\\DAL;C:\\Program Files (x86)\\Intel\\Intel(R) Management Engine Components\\IPT;C:\\P\nrogram Files (x86)\\nodejs\\;C:\\Program Files (x86)\\Heroku\\bin;C:\\Program Files (x\n86)\\git\\cmd;C:\\RailsInstaller\\Ruby2.0.0\\bin;C:\\RailsInstaller\\Git\\cmd;C:\\RailsIn\nstaller\\Ruby1.9.3\\bin;C:\\Users\\Javi\\AppData\\Roaming\\npm\n\n\n"
        }
      ],
      "source": [
        "request = requests.get('https://stackoverflow.com/questions/23708898/pip-is-not-recognized-as-an-internal-or-external-command')\n",
        "request.raise_for_status()\n",
        "rel_soup = bs(request.text, 'html.parser')\n",
        "#rel_soup = rel_soup.find(\"div\", {\"id\": \"answers\"}).select_one('.post-text').getText()\n",
        "rel_soup = rel_soup.find(\"div\", {\"id\": \"question\"}).select_one('.post-text').getText()\n",
        "\n",
        "print(rel_soup)"
      ]
    },
    {
      "cell_type": "markdown",
      "metadata": {},
      "source": [
        "Testes - clean Text:"
      ]
    },
    {
      "cell_type": "code",
      "execution_count": 71,
      "metadata": {
        "tags": []
      },
      "outputs": [
        {
          "output_type": "stream",
          "name": "stdout",
          "text": "i am facing some issues with nonascii chars in c i have one file containg nonascii chars which i am reading in c via file handling after reading the filesay 1txt i am storing the data into string stream and writing it into another filesay 2txt assume 1txt contains acao  in 2txt i should get same ouyput but nonascii chars are printed as their hex value in 2txt also i am quite sure that c is handling ascii chars as ascii only  please help on how to print these chars correctly in 2txt edit firstly psuedocode for whole process 1shell script to read from db one value and stores in 11txt 2cpp codeacpp reading 11txt and writing to ftxt  data present in db which is being read instalacao file 11txt contains instalaaSSaPSo file ftxt contains instalaaSSaPSo ouput of acpp on screen instalacao acpp include iterator include iostream include algorithm include sstream includefstream include iomanip  using namespace std int main      ifstream myreadfile     ofstream f2     myreadfileopen11txt     f2openf2txt     string output     if myreadfileisopen               while myreadfileeof                      myreadfile  output                 coutoutput              coutn              stdstringstream tempdummylineitem             tempdummylineitem output             couttempdummylineitemstr             f2tempdummylineitemstr                   myreadfileclose     return 0   locale says this langenusutf8 lcctypeenusutf8 lcnumericenusutf8 lctimeenusutf8 lccollateenusutf8 lcmonetaryenusutf8 lcmessagesenusutf8 lcpaperenusutf8 lcnameenusutf8 lcaddressenusutf8 lctelephoneenusutf8 lcmeasurementenusutf8 lcidentificationenusutf8 lcall\n"
        }
      ],
      "source": [
        "request = requests.get('https://stackoverflow.com/questions/17648966/handling-non-ascii-chars-in-c')\n",
        "request.raise_for_status()\n",
        "rel_soup = bs(request.text, 'html.parser')\n",
        "#rel_soup = rel_soup.find(\"div\", {\"id\": \"answers\"}).select_one('.post-text').getText()\n",
        "rel_soup = rel_soup.find(\"div\", {\"id\": \"question\"}).select_one('.post-text').getText()\n",
        "\n",
        "print(clean_text(rel_soup))"
      ]
    },
    {
      "cell_type": "code",
      "metadata": {
        "id": "SCsMerWlwhjU",
        "colab_type": "code",
        "colab": {
          "base_uri": "https://localhost:8080/",
          "height": 538
        },
        "outputId": "ca1ec92b-1fa9-41ac-bf90-c9e99905c553",
        "tags": []
      },
      "source": [
        "questions_df = read_question_detail(questions_df)"
      ],
      "execution_count": 58,
      "outputs": [
        {
          "output_type": "stream",
          "name": "stdout",
          "text": "You need to add the path of your pip installation to your PATH system variable By default pip is installed to CPython34Scriptspip pip now comes bundled with new versions of python so the path CPython34Scripts needs to be added to your PATH variable To check if it is already in your PATH variable type echo PATH at the CMD prompt To add the path of your pip installation to your PATH variable you can use the Control Panel or the setx command For example setx PATH PATHCPython34Scripts   Note According to the official documentation variables set with setx variables are available in future command windows only not in the current command window In particular you will need to start a new cmdexe instance after entering the above command in order to utilize the new environment variable  Thanks to Scott Bartell for pointing this out\n"
        }
      ]
    },
    {
      "cell_type": "code",
      "metadata": {
        "id": "RduKqf0uUpuD",
        "colab_type": "code",
        "colab": {}
      },
      "source": [
        "def cleanhtml(raw_html):\n",
        "  cleanr = re.compile('<.*?>|&[.*?]')\n",
        "  cleantext = re.sub(cleanr, '', raw_html)\n",
        "  return cleantext"
      ],
      "execution_count": 151,
      "outputs": []
    },
    {
      "cell_type": "code",
      "execution_count": 46,
      "metadata": {},
      "outputs": [],
      "source": []
    },
    {
      "cell_type": "code",
      "execution_count": 73,
      "metadata": {
        "tags": []
      },
      "outputs": [
        {
          "output_type": "stream",
          "name": "stdout",
          "text": "Im running into a weird error when trying to install Django on my computer This is the sequence that I typed into my command line CPython34 python getpippy Requirement already uptodate pip in cpython34libsitepackages Cleaning up  CPython34 pip install Django pip is not recognized as an internal or external command operable program or batch file  CPython34 libsitepackagespip install Django libsitepackagespip is not recognized as an internal or external command operable program or batch file  What could be causing this This is what I get when I type in echo PATH CPython34echo PATH CProgram FilesImageMagick688Q16CProgram Files x86InteliCLS Client CProgram FilesInteliCLS ClientCWindowssystem32CWindowsCWindowsS ystem32WbemCWindowsSystem32WindowsPowerShellv10CProgram Files x86 Windows LiveSharedCProgram Files x86IntelOpenCL SDK20binx86CProgr am Files x86IntelOpenCL SDK20binx64CProgram FilesIntelIntelR Mana gement Engine ComponentsDALCProgram FilesIntelIntelR Management Engine C omponentsIPTCProgram Files x86IntelIntelR Management Engine Components DALCProgram Files x86IntelIntelR Management Engine ComponentsIPTCP rogram Files x86nodejsCProgram Files x86HerokubinCProgram Files x 86gitcmdCRailsInstallerRuby200binCRailsInstallerGitcmdCRailsIn stallerRuby193binCUsersJaviAppDataRoamingnpm\n"
        }
      ],
      "source": [
        "print(questions_df['full_question'][0])\n"
      ]
    },
    {
      "cell_type": "code",
      "execution_count": 91,
      "metadata": {
        "tags": []
      },
      "outputs": [
        {
          "output_type": "stream",
          "name": "stdout",
          "text": "['run', 'weird', 'error', 'tri', 'instal', 'django', 'comput', 'thi', 'sequenc', 'type', 'command', 'line', 'cpython34', 'python', 'getpippi', 'requir', 'alreadi', 'uptod', 'pip', 'cpython34libsitepackag', 'clean', 'cpython34', 'pip', 'instal', 'django', 'pip', 'recogn', 'intern', 'extern', 'command', 'oper', 'program', 'batch', 'file', 'cpython34', 'libsitepackagespip', 'instal', 'django', 'libsitepackagespip', 'recogn', 'intern', 'extern', 'command', 'oper', 'program', 'batch', 'file', 'what', 'could', 'caus', 'thi', 'get', 'type', 'echo', 'path', 'cpython34echo', 'path', 'cprogram', 'filesimagemagick688q16cprogram', 'file', 'x86intelicl', 'client', 'cprogram', 'filesintelicl', 'clientcwindowssystem32cwindowscwindowss', 'ystem32wbemcwindowssystem32windowspowershellv10cprogram', 'file', 'x86', 'window', 'livesharedcprogram', 'file', 'x86intelopencl', 'sdk20binx86cprogr', 'file', 'x86intelopencl', 'sdk20binx64cprogram', 'filesintelintelr', 'mana', 'gement', 'engin', 'componentsdalcprogram', 'filesintelintelr', 'manag', 'engin', 'omponentsiptcprogram', 'file', 'x86intelintelr', 'manag', 'engin', 'compon', 'dalcprogram', 'file', 'x86intelintelr', 'manag', 'engin', 'componentsiptcp', 'rogram', 'file', 'x86nodejscprogram', 'file', 'x86herokubincprogram', 'file', '86gitcmdcrailsinstallerruby200bincrailsinstallergitcmdcrailsin', 'stallerruby193bincusersjaviappdataroamingnpmsuccess', 'success', 'success']\n"
        }
      ],
      "source": [
        "stemmer = PorterStemmer()\n",
        "#The word_tokenize() function will break our text phrases into #individual words\n",
        "tokens = word_tokenize(questions_df['full_question'][0]+ \"success success success\")\n",
        "#We initialize the stopwords variable\n",
        "stop_words = stopwords.words('english')\n",
        "keywords    = [word for word in tokens if not word in stop_words and len(word) > 2 and word not in string.punctuation]\n",
        "stem_words  = [stemmer.stem(word) for word in tokens if not word in stop_words and len(word) > 2 and word not in string.punctuation]\n",
        "\n",
        "print(stem_words)"
      ]
    },
    {
      "cell_type": "code",
      "execution_count": 92,
      "metadata": {
        "tags": []
      },
      "outputs": [
        {
          "output_type": "stream",
          "name": "stdout",
          "text": "['running', 'weird', 'error', 'trying', 'install', 'Django', 'computer', 'This', 'sequence', 'typed', 'command', 'line', 'CPython34', 'python', 'getpippy', 'Requirement', 'already', 'uptodate', 'pip', 'cpython34libsitepackages', 'Cleaning', 'CPython34', 'pip', 'install', 'Django', 'pip', 'recognized', 'internal', 'external', 'command', 'operable', 'program', 'batch', 'file', 'CPython34', 'libsitepackagespip', 'install', 'Django', 'libsitepackagespip', 'recognized', 'internal', 'external', 'command', 'operable', 'program', 'batch', 'file', 'What', 'could', 'causing', 'This', 'get', 'type', 'echo', 'PATH', 'CPython34echo', 'PATH', 'CProgram', 'FilesImageMagick688Q16CProgram', 'Files', 'x86InteliCLS', 'Client', 'CProgram', 'FilesInteliCLS', 'ClientCWindowssystem32CWindowsCWindowsS', 'ystem32WbemCWindowsSystem32WindowsPowerShellv10CProgram', 'Files', 'x86', 'Windows', 'LiveSharedCProgram', 'Files', 'x86IntelOpenCL', 'SDK20binx86CProgr', 'Files', 'x86IntelOpenCL', 'SDK20binx64CProgram', 'FilesIntelIntelR', 'Mana', 'gement', 'Engine', 'ComponentsDALCProgram', 'FilesIntelIntelR', 'Management', 'Engine', 'omponentsIPTCProgram', 'Files', 'x86IntelIntelR', 'Management', 'Engine', 'Components', 'DALCProgram', 'Files', 'x86IntelIntelR', 'Management', 'Engine', 'ComponentsIPTCP', 'rogram', 'Files', 'x86nodejsCProgram', 'Files', 'x86HerokubinCProgram', 'Files', '86gitcmdCRailsInstallerRuby200binCRailsInstallerGitcmdCRailsIn', 'stallerRuby193binCUsersJaviAppDataRoamingnpmsuccess', 'success', 'success']\n"
        }
      ],
      "source": [
        "print(keywords)"
      ]
    },
    {
      "cell_type": "code",
      "execution_count": 93,
      "metadata": {
        "tags": []
      },
      "outputs": [
        {
          "output_type": "stream",
          "name": "stdout",
          "text": "running weird error trying install Django computer This sequence typed command line CPython34 python getpippy Requirement already uptodate pip cpython34libsitepackages Cleaning CPython34 pip install Django pip recognized internal external command operable program batch file CPython34 libsitepackagespip install Django libsitepackagespip recognized internal external command operable program batch file What could causing This get type echo PATH CPython34echo PATH CProgram FilesImageMagick688Q16CProgram Files x86InteliCLS Client CProgram FilesInteliCLS ClientCWindowssystem32CWindowsCWindowsS ystem32WbemCWindowsSystem32WindowsPowerShellv10CProgram Files x86 Windows LiveSharedCProgram Files x86IntelOpenCL SDK20binx86CProgr Files x86IntelOpenCL SDK20binx64CProgram FilesIntelIntelR Mana gement Engine ComponentsDALCProgram FilesIntelIntelR Management Engine omponentsIPTCProgram Files x86IntelIntelR Management Engine Components DALCProgram Files x86IntelIntelR Management Engine ComponentsIPTCP rogram Files x86nodejsCProgram Files x86HerokubinCProgram Files 86gitcmdCRailsInstallerRuby200binCRailsInstallerGitcmdCRailsIn stallerRuby193binCUsersJaviAppDataRoamingnpmsuccess success success\n"
        }
      ],
      "source": [
        "from sklearn.feature_extraction.text import CountVectorizer #TF\n",
        "\n",
        "text = ' '.join([word for word in keywords])\n",
        "print(text)\n",
        "\n"
      ]
    },
    {
      "cell_type": "code",
      "execution_count": 94,
      "metadata": {
        "tags": []
      },
      "outputs": [
        {
          "output_type": "stream",
          "name": "stdout",
          "text": "(1, 68)\n<class 'scipy.sparse.csr.csr_matrix'>\n[[1 1 2 1 1 1 1 3 1 1 1 1 1 2 3 1 1 1 3 1 4 1 2 2 9 1 1 2 1 1 1 3 2 2 1 1\n  1 3 1 2 2 3 2 1 2 1 1 1 1 1 1 1 2 2 1 1 1 1 1 1 1 1 1 1 2 2 1 1]]\n"
        }
      ],
      "source": [
        "vectorizer = CountVectorizer()\n",
        "vectorizer.fit([text])\n",
        "vector = vectorizer.transform([text])\n",
        "# summarize encoded vector\n",
        "print(vector.shape)\n",
        "print(type(vector))\n",
        "print(vector.toarray())"
      ]
    },
    {
      "cell_type": "code",
      "execution_count": 95,
      "metadata": {
        "tags": []
      },
      "outputs": [
        {
          "output_type": "stream",
          "name": "stdout",
          "text": "[[0 0 0 0 0 0 0 0 0 0 0 0 0 0 0 0 0 0 4 0 0 0 0 0 0 0 0 0 0 0 0 5 0 0 0 0\n  0 0 0 0 0 0 0 0 0 0 0 0 0 0 0 0 3 0 0 0 0 0 0 0 0 0 0 0 0 0 0 0]]\n"
        }
      ],
      "source": [
        "\n",
        "#Vetoriza um texto novo\n",
        "text2 = [\"How can I install install install install  install Django? No success success success with django so far... django django\"]\n",
        "vector2 = vectorizer.transform(text2)\n",
        "print(vector2.toarray())"
      ]
    },
    {
      "cell_type": "code",
      "execution_count": null,
      "metadata": {},
      "outputs": [],
      "source": []
    }
  ],
  "metadata": {
    "colab": {
      "name": "Read_Stackoverflow.ipynb",
      "provenance": [],
      "collapsed_sections": [],
      "authorship_tag": "ABX9TyNmUrBHkx90se+IXEtbfA+9",
      "include_colab_link": true
    },
    "kernelspec": {
      "name": "python3",
      "display_name": "Python 3"
    }
  },
  "nbformat": 4,
  "nbformat_minor": 0
}