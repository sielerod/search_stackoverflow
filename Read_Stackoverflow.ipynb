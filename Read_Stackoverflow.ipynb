{
  "nbformat": 4,
  "nbformat_minor": 0,
  "metadata": {
    "colab": {
      "name": "Read_Stackoverflow.ipynb",
      "provenance": [],
      "collapsed_sections": [],
      "authorship_tag": "ABX9TyMDTZy6/GcaUTkC+41NBPdH",
      "include_colab_link": true
    },
    "kernelspec": {
      "name": "python3",
      "display_name": "Python 3"
    }
  },
  "cells": [
    {
      "cell_type": "markdown",
      "metadata": {
        "id": "view-in-github",
        "colab_type": "text"
      },
      "source": [
        "<a href=\"https://colab.research.google.com/github/sielerod/search_stackoverflow/blob/master/Read_Stackoverflow.ipynb\" target=\"_parent\"><img src=\"https://colab.research.google.com/assets/colab-badge.svg\" alt=\"Open In Colab\"/></a>"
      ]
    },
    {
      "cell_type": "markdown",
      "metadata": {
        "id": "OhI60Te7lUP1",
        "colab_type": "text"
      },
      "source": [
        "#**Objetivo:**   \n",
        "* Capturar as perguntas mais frequentes sobre Python no stackoverflow\n",
        "* Armazenar para cada pergunta: link, breve descrição da pergunta, quantidade de votos e visualizações, pergunta, respostas com melhor avaliação\n",
        "\n",
        "\n",
        "**Fonte:** https://stackoverflow.com/questions/\n"
      ]
    },
    {
      "cell_type": "code",
      "metadata": {
        "id": "3JZuPTov-ayO",
        "colab_type": "code",
        "colab": {}
      },
      "source": [
        "import requests # Getting Webpage content\n",
        "from requests.exceptions import HTTPError\n",
        "from bs4 import BeautifulSoup as bs # Scraping webpages\n",
        "from time import sleep\n",
        "import pandas as pd"
      ],
      "execution_count": 159,
      "outputs": []
    },
    {
      "cell_type": "markdown",
      "metadata": {
        "id": "3pe2opv4SYoR",
        "colab_type": "text"
      },
      "source": [
        "#Leitura do dado cru no Stackoverflow\n",
        "**read_stackoverflow_overview(tags=[], tab='Frequent', selector='question-summary', pages)**\n",
        "\n",
        "Leitura do resumo das perguntas mais frequentes no stackoverflow com base em alguns parâmetros de busca. \n",
        "\n",
        "Retorna um objeto requests contendo o resultado de requests.get\n",
        "\n",
        "* tags: argumento opcional com lista  de strings contendo os tipos de pergunta para seleação. Ex.: ['python', 'php', 'javascript']\n",
        ">ex. de URL para página com mais de 1 tag: https://stackoverflow.com/questions/tagged/sql+sql-server?tab=Frequent\n",
        "\n",
        "* tab: string com tipo de ordenação a ser aplicado, pode ser:\n",
        "'Frequent' (opção default), 'Votes', 'Unanswered', 'Bounties', 'Active', 'Newest'\n",
        "\n",
        "* Selector: seleção dos trechos do html a serem retornados. Por default, será question-summary\n",
        "\n",
        "* pages: número de páginas para leitura\n",
        "\n"
      ]
    },
    {
      "cell_type": "code",
      "metadata": {
        "id": "XYnP7RwH0h9O",
        "colab_type": "code",
        "colab": {}
      },
      "source": [
        "def read_stackoverflow_overview(tags=[], tab='Frequent', selector='question-summary', pages=5):\n",
        "  link = 'https://stackoverflow.com/questions'\n",
        "\n",
        "  if tags:\n",
        "    tags_link = '/tagged/'\n",
        "    pre=''\n",
        "    for t in tags:\n",
        "      tags_link += pre + t\n",
        "      pre = '+' \n",
        "    link += tags_link\n",
        "\n",
        "  link += '?tab='+tab\n",
        "\n",
        "  questions_text = ''\n",
        "  soup_selection = []\n",
        "  for page in range(1,pages+1):\n",
        "    page_link = '&page='+str(page)\n",
        "\n",
        "    try:\n",
        "      request = requests.get(link+page_link)\n",
        "      request.raise_for_status()\n",
        "      #questions_text += request.text\n",
        "      try:\n",
        "        soup = bs(request.text, 'html.parser')\n",
        "        soup_selection.append(soup.select('.'+selector))\n",
        "      except: print (\"Could not transform to soup object by selecting \",selector)\n",
        "    except HTTPError:\n",
        "      print (\"Could not download page \", page)\n",
        "\n",
        "    sleep(0.05)\n",
        "\n",
        "  return soup_selection\n"
      ],
      "execution_count": 160,
      "outputs": []
    },
    {
      "cell_type": "code",
      "metadata": {
        "id": "s_R5A2tBAqrW",
        "colab_type": "code",
        "colab": {
          "base_uri": "https://localhost:8080/",
          "height": 34
        },
        "outputId": "7e795613-be8a-4f69-a5fa-e0fb0a832ac2"
      },
      "source": [
        "questions_overview_raw = read_stackoverflow_overview(tags=['python','django'],tab='Frequent',selector='question-summary', pages=2)\n",
        "type(questions_overview_raw)"
      ],
      "execution_count": 161,
      "outputs": [
        {
          "output_type": "execute_result",
          "data": {
            "text/plain": [
              "list"
            ]
          },
          "metadata": {
            "tags": []
          },
          "execution_count": 161
        }
      ]
    },
    {
      "cell_type": "markdown",
      "metadata": {
        "id": "21u58D6xwFkU",
        "colab_type": "text"
      },
      "source": [
        "#Transformação do dado cru coletado do Stackoverflow em dicionário\n",
        "**questions_overview(questions_overview_raw)**\n",
        "\n",
        "O dicionário deve conter a visão geral das perguntas do stackoverflow, com:\n",
        "\n",
        "* link\n",
        "* brief_description\n",
        "* votes\n",
        "* views"
      ]
    },
    {
      "cell_type": "markdown",
      "metadata": {
        "id": "6Fj83JnZmFtH",
        "colab_type": "text"
      },
      "source": [
        "###Análise do padrão da página HTML para captura de informações relevantes:\n",
        "\n",
        "Em \"question-summary\", temos as seguintes informações relevantes:\n",
        "\n",
        "1.   class = statscontainer, com:\n",
        "*   Número de votos em class=\"vote-count-post \"\n",
        ">```<span class=\"vote-count-post high-scored-post\"><strong>2473</strong></span>```\n",
        "\n",
        "*   Número de respostas aceitas em class=\"status answered-accepted\" \n",
        ">```<div class=\"status answered-accepted\"><strong>23</strong>answers</div>```\n",
        "\n",
        "*   Conteúdo e Title contendo quantidade de views em class=\"views supernova\" \n",
        ">```<div class=\"views supernova\" title=\"307,292 views\">307k views</div>```\n",
        "\n",
        "2.   class = summary, com:\n",
        "* class=\"question-hyperlink\" contendo em *href* parte do link para compor link de acesso à página detalhada da pergunta e Título da pergunta\n",
        ">``` <a href=\"/questions/15112125/how-to-test-multiple-variables-against-a-value\" class=\"question-hyperlink\">How to test multiple variables against a value?</a>```\n",
        "\n",
        "*   Breve resumo em class=\"excerpt\"\n",
        ">```<div class=\"excerpt\"> brief description of the question ...</div>```\n",
        "\n",
        "*   Tags em class=\"post-tag\"\n",
        ">```<a href=\"/questions/tagged/python\" class=\"post-tag\" title=\"show questions tagged 'python'\" rel=\"tag\">python</a>```\n",
        "\n",
        "\n",
        "\n"
      ]
    },
    {
      "cell_type": "code",
      "metadata": {
        "id": "DEQEhGyPCfX2",
        "colab_type": "code",
        "colab": {}
      },
      "source": [
        "def questions_overview(questions_overview_raw):\n",
        "  #questions_overview = pd.DataFrame({'questions':[]})\n",
        "  questions_overview = { 'questions':[]}\n",
        "  for soups in questions_overview_raw:\n",
        "    for q in soups:\n",
        "      q_title = q.select_one('.question-hyperlink').getText()\n",
        "      q_link = 'https://stackoverflow.com'+q.select_one('.question-hyperlink').get('href')\n",
        "      q_summary = q.select_one('.excerpt').getText()\n",
        "      q_vote_count =  q.select_one('.vote-count-post').getText()\n",
        "      #q_answered_accepted = q.select_one(\".answered-accepted.mini-counts\").getText()\n",
        "      q_views =  q.select_one('.views').attrs['title']\n",
        "      q_tags = []\n",
        "      for tag in q.select('.post-tag'): q_tags.append(tag.getText())\n",
        "\n",
        "      questions_overview['questions'].append({\n",
        "          'title': q_title,\n",
        "          'link': q_link,\n",
        "          'summary': q_summary,\n",
        "          'vote_count': q_vote_count,\n",
        "          'views': q_views,\n",
        "          'tags': q_tags,\n",
        "      })\n",
        "  \n",
        "  return questions_overview"
      ],
      "execution_count": 162,
      "outputs": []
    },
    {
      "cell_type": "markdown",
      "metadata": {
        "id": "2u-c-nhmVWvv",
        "colab_type": "text"
      },
      "source": [
        "#Trasformação de dicionário em dataframe"
      ]
    },
    {
      "cell_type": "code",
      "metadata": {
        "id": "NzPT8KArDl4e",
        "colab_type": "code",
        "colab": {
          "base_uri": "https://localhost:8080/",
          "height": 34
        },
        "outputId": "25551764-c283-4f6d-9f03-eaa6635f4932"
      },
      "source": [
        "questions_df = pd.DataFrame(questions_overview(questions_overview_raw)['questions'])\n",
        "type(questions_df)"
      ],
      "execution_count": 163,
      "outputs": [
        {
          "output_type": "execute_result",
          "data": {
            "text/plain": [
              "pandas.core.frame.DataFrame"
            ]
          },
          "metadata": {
            "tags": []
          },
          "execution_count": 163
        }
      ]
    },
    {
      "cell_type": "markdown",
      "metadata": {
        "id": "feA0REYGN3cg",
        "colab_type": "text"
      },
      "source": [
        "#Exemplos de como acessar a informação no dataframe:"
      ]
    },
    {
      "cell_type": "code",
      "metadata": {
        "id": "YhPPA_TmYceK",
        "colab_type": "code",
        "colab": {
          "base_uri": "https://localhost:8080/",
          "height": 554
        },
        "outputId": "09dea60f-e0a6-49b5-bc79-1c5f2c0a9614"
      },
      "source": [
        "print('Lista com links:\\n',questions_df['link'])\n",
        "\n",
        "print('\\n Acesso a dados de um link específico\\n--- Link: ',questions_df['link'][3])\n",
        "\n",
        "print('\\n--- Título: ', questions_df['title'][3])\n",
        "\n",
        "print('\\n--- Breve Descrição: ', questions_df['summary'][3])\n",
        "\n",
        "print('\\n--- Contagem de votos: ', questions_df['vote_count'][3])\n",
        "\n",
        "print('\\n--- Contagem de visualizações: ', questions_df['views'][3])\n",
        "\n",
        "print('\\n--- Lista como tags: ', questions_df['tags'][3])\n"
      ],
      "execution_count": 164,
      "outputs": [
        {
          "output_type": "stream",
          "text": [
            "Lista com links:\n",
            " 0     https://stackoverflow.com/questions/23708898/p...\n",
            "1     https://stackoverflow.com/questions/573618/set...\n",
            "2     https://stackoverflow.com/questions/8000022/dj...\n",
            "3     https://stackoverflow.com/questions/5100539/dj...\n",
            "4     https://stackoverflow.com/questions/8609192/di...\n",
            "                            ...                        \n",
            "95    https://stackoverflow.com/questions/17716624/d...\n",
            "96    https://stackoverflow.com/questions/26697565/d...\n",
            "97    https://stackoverflow.com/questions/6367014/ho...\n",
            "98    https://stackoverflow.com/questions/2201598/ho...\n",
            "99    https://stackoverflow.com/questions/17256724/i...\n",
            "Name: link, Length: 100, dtype: object\n",
            "\n",
            " Acesso a dados de um link específico\n",
            "--- Link:  https://stackoverflow.com/questions/5100539/django-csrf-check-failing-with-an-ajax-post-request\n",
            "\n",
            "--- Título:  Django CSRF check failing with an Ajax POST request\n",
            "\n",
            "--- Breve Descrição:  \r\n",
            "            I could use some help complying with Django's CSRF protection mechanism via my AJAX post. I've followed the directions here:\n",
            "\n",
            "http://docs.djangoproject.com/en/dev/ref/contrib/csrf/\n",
            "\n",
            "I've copied the ...\r\n",
            "        \n",
            "\n",
            "--- Contagem de votos:  179\n",
            "\n",
            "--- Contagem de visualizações:  149,857 views\n",
            "\n",
            "--- Lista como tags:  ['python', 'ajax', 'django', 'csrf']\n"
          ],
          "name": "stdout"
        }
      ]
    },
    {
      "cell_type": "markdown",
      "metadata": {
        "id": "_rFjl4HKL2is",
        "colab_type": "text"
      },
      "source": [
        "Próximos passos:\n",
        "\n",
        "\n",
        "1.   Enriquecer questions_df com a informação detalhada da pergunta e conteúdo da resposta com melhor avaliação\n",
        "2.   Limpar dados em questions_dic para remover caracteres irrelevantes, como: \\n, \\t, artigos, pronomes\n",
        "\n"
      ]
    },
    {
      "cell_type": "code",
      "metadata": {
        "id": "6I2PouNgMTo-",
        "colab_type": "code",
        "colab": {}
      },
      "source": [
        ""
      ],
      "execution_count": null,
      "outputs": []
    }
  ]
}